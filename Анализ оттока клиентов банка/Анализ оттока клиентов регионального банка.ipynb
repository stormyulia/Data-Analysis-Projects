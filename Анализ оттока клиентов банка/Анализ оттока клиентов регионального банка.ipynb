{
 "cells": [
  {
   "cell_type": "markdown",
   "metadata": {},
   "source": [
    "# Анализ оттока клиентов регионального банка"
   ]
  },
  {
   "cell_type": "markdown",
   "metadata": {
    "toc": true
   },
   "source": [
    "<h1>Содержание<span class=\"tocSkip\"></span></h1>\n",
    "<div class=\"toc\"><ul class=\"toc-item\"><li><span><a href=\"#Загрузка-данных\" data-toc-modified-id=\"Загрузка-данных-1\"><span class=\"toc-item-num\">1&nbsp;&nbsp;</span>Загрузка данных</a></span></li><li><span><a href=\"#Предобработка-данных\" data-toc-modified-id=\"Предобработка-данных-2\"><span class=\"toc-item-num\">2&nbsp;&nbsp;</span>Предобработка данных</a></span><ul class=\"toc-item\"><li><span><a href=\"#Приводим-данные-к-единому-виду\" data-toc-modified-id=\"Приводим-данные-к-единому-виду-2.1\"><span class=\"toc-item-num\">2.1&nbsp;&nbsp;</span>Приводим данные к единому виду</a></span></li><li><span><a href=\"#Проверяем-корректность-типов-данных\" data-toc-modified-id=\"Проверяем-корректность-типов-данных-2.2\"><span class=\"toc-item-num\">2.2&nbsp;&nbsp;</span>Проверяем корректность типов данных</a></span></li><li><span><a href=\"#Проверка-данных-на-пропуски\" data-toc-modified-id=\"Проверка-данных-на-пропуски-2.3\"><span class=\"toc-item-num\">2.3&nbsp;&nbsp;</span>Проверка данных на пропуски</a></span></li><li><span><a href=\"#Проверка-данных-на-дубликаты\" data-toc-modified-id=\"Проверка-данных-на-дубликаты-2.4\"><span class=\"toc-item-num\">2.4&nbsp;&nbsp;</span>Проверка данных на дубликаты</a></span></li><li><span><a href=\"#Проверка-данных-на-аномалии\" data-toc-modified-id=\"Проверка-данных-на-аномалии-2.5\"><span class=\"toc-item-num\">2.5&nbsp;&nbsp;</span>Проверка данных на аномалии</a></span></li><li><span><a href=\"#Выводы\" data-toc-modified-id=\"Выводы-2.6\"><span class=\"toc-item-num\">2.6&nbsp;&nbsp;</span>Выводы</a></span></li></ul></li><li><span><a href=\"#Исследовательский-анализ-данных\" data-toc-modified-id=\"Исследовательский-анализ-данных-3\"><span class=\"toc-item-num\">3&nbsp;&nbsp;</span>Исследовательский анализ данных</a></span><ul class=\"toc-item\"><li><span><a href=\"#Критерии-для-анализа-оттока\" data-toc-modified-id=\"Критерии-для-анализа-оттока-3.1\"><span class=\"toc-item-num\">3.1&nbsp;&nbsp;</span>Критерии для анализа оттока</a></span></li><li><span><a href=\"#Анализ-оттока-клиентов-по-каждому-признаку\" data-toc-modified-id=\"Анализ-оттока-клиентов-по-каждому-признаку-3.2\"><span class=\"toc-item-num\">3.2&nbsp;&nbsp;</span>Анализ оттока клиентов по каждому признаку</a></span></li><li><span><a href=\"#Исследование-корреляций\" data-toc-modified-id=\"Исследование-корреляций-3.3\"><span class=\"toc-item-num\">3.3&nbsp;&nbsp;</span>Исследование корреляций</a></span></li><li><span><a href=\"#Вывод\" data-toc-modified-id=\"Вывод-3.4\"><span class=\"toc-item-num\">3.4&nbsp;&nbsp;</span>Вывод</a></span></li></ul></li><li><span><a href=\"#Сегментирование-клиентов-банка\" data-toc-modified-id=\"Сегментирование-клиентов-банка-4\"><span class=\"toc-item-num\">4&nbsp;&nbsp;</span>Сегментирование клиентов банка</a></span><ul class=\"toc-item\"><li><span><a href=\"#Выделение-сегментов\" data-toc-modified-id=\"Выделение-сегментов-4.1\"><span class=\"toc-item-num\">4.1&nbsp;&nbsp;</span>Выделение сегментов</a></span></li><li><span><a href=\"#Вывод\" data-toc-modified-id=\"Вывод-4.2\"><span class=\"toc-item-num\">4.2&nbsp;&nbsp;</span>Вывод</a></span></li></ul></li><li><span><a href=\"#Проверка-гипотез\" data-toc-modified-id=\"Проверка-гипотез-5\"><span class=\"toc-item-num\">5&nbsp;&nbsp;</span>Проверка гипотез</a></span><ul class=\"toc-item\"><li><span><a href=\"#Формулируем-и-проверяем-гипотезы\" data-toc-modified-id=\"Формулируем-и-проверяем-гипотезы-5.1\"><span class=\"toc-item-num\">5.1&nbsp;&nbsp;</span>Формулируем и проверяем гипотезы</a></span></li><li><span><a href=\"#Вывод\" data-toc-modified-id=\"Вывод-5.2\"><span class=\"toc-item-num\">5.2&nbsp;&nbsp;</span>Вывод</a></span></li></ul></li><li><span><a href=\"#Выводы-и-рекомендации\" data-toc-modified-id=\"Выводы-и-рекомендации-6\"><span class=\"toc-item-num\">6&nbsp;&nbsp;</span>Выводы и рекомендации</a></span><ul class=\"toc-item\"><li><span><a href=\"#Выводы-о-проделанной-работе\" data-toc-modified-id=\"Выводы-о-проделанной-работе-6.1\"><span class=\"toc-item-num\">6.1&nbsp;&nbsp;</span>Выводы о проделанной работе</a></span><ul class=\"toc-item\"><li><span><a href=\"#Загрузка-данных\" data-toc-modified-id=\"Загрузка-данных-6.1.1\"><span class=\"toc-item-num\">6.1.1&nbsp;&nbsp;</span>Загрузка данных</a></span></li><li><span><a href=\"#Предобработка-данных\" data-toc-modified-id=\"Предобработка-данных-6.1.2\"><span class=\"toc-item-num\">6.1.2&nbsp;&nbsp;</span>Предобработка данных</a></span></li><li><span><a href=\"#Исследовательский-анализ-данных\" data-toc-modified-id=\"Исследовательский-анализ-данных-6.1.3\"><span class=\"toc-item-num\">6.1.3&nbsp;&nbsp;</span>Исследовательский анализ данных</a></span></li><li><span><a href=\"#Сегментирование-клиентов-банка\" data-toc-modified-id=\"Сегментирование-клиентов-банка-6.1.4\"><span class=\"toc-item-num\">6.1.4&nbsp;&nbsp;</span>Сегментирование клиентов банка</a></span></li><li><span><a href=\"#Проверка-гипотез\" data-toc-modified-id=\"Проверка-гипотез-6.1.5\"><span class=\"toc-item-num\">6.1.5&nbsp;&nbsp;</span>Проверка гипотез</a></span></li></ul></li><li><span><a href=\"#Рекомендации-для-отдела-маркетинга\" data-toc-modified-id=\"Рекомендации-для-отдела-маркетинга-6.2\"><span class=\"toc-item-num\">6.2&nbsp;&nbsp;</span>Рекомендации для отдела маркетинга</a></span></li></ul></li></ul></div>"
   ]
  },
  {
   "cell_type": "markdown",
   "metadata": {},
   "source": [
    "# Презентация: \n",
    "https://drive.google.com/file/d/1mc1KhAXtSTxQYhM5RSevhLHdc2xC68a3/view?usp=sharing"
   ]
  },
  {
   "cell_type": "markdown",
   "metadata": {},
   "source": [
    "**Дано:** \n",
    "\n",
    "В региональном банке зафиксирован большой отток клиентов, который угрожает существованию банка. Необходимо провести исследование оттока клиентов для отдела маркетинга, чтобы выделить сегменты клиентов, склонных уходить из банка. Анализ проводится, чтобы кастомизировать продукты банка под каждый сегмент клиентов и повлиять на отток.\n",
    "\n",
    "**Цель исследования:** \n",
    "\n",
    "Проанализировать клиентов банка и выделить сегменты клиентов, которые склонны уходить из банка. Дать рекомендации отделу маркетинга по продуктам.\n",
    "\n",
    "**Ход исследования:**\n",
    "1. Загрузка данных:\n",
    "  * загружаем библиотеки, необходимые для работы;\n",
    "  * загружаем данные в переменную;\n",
    "  * изучаем информацию о датасете.\n",
    "2. Предобработка данных:\n",
    "  * приводим данные к единому виду;\n",
    "  * проверка корректности типов данных;  \n",
    "  * проверка данных на пропуски;\n",
    "  * проверка данных на дубликаты;\n",
    "  * проверка данных на аномалии;\n",
    "  * тезисные выводы о проделанной работе.\n",
    "3. Исследовательский анализ данных:\n",
    "  * выделение критериев, по которым будем анализировать отток клиентов;\n",
    "  * изучение отточности клиентов по выделенным признакам с помощью гистограмм, выводы по каждому признаку;\n",
    "  * исследование корреляций;\n",
    "  * вывод.\n",
    "4. Сегментирование клиентов банка:\n",
    "  * выделение сегментов клиентов банка путем комбинации критериев оттока;\n",
    "  * проверка отточности каждого сегмента;\n",
    "  * краткое описание и выводы по каждому сегменту.\n",
    "5. Проверка гипотез:\n",
    "  * формулируем гипотезы;\n",
    "  * проверка гипотез;\n",
    "  * выводы.\n",
    "6. Выводы и рекомендации:\n",
    "  * тезисные выводы о проделанной работе;\n",
    "  * рекомендации по выделенным сегментам для отдела маркетинга."
   ]
  },
  {
   "cell_type": "markdown",
   "metadata": {},
   "source": [
    "**Структура данных:**\n",
    "* user_id - идентификатор пользователя;\n",
    "* score -баллы кредитного скоринга;\n",
    "* city - город;\n",
    "* gender - пол;\n",
    "* age - возраст;\n",
    "* equity - количество баллов собственности;\n",
    "* balance - баланс на счете;\n",
    "* products - количество продуктов, которыми пользуется клиент;\n",
    "* credit_card - есть ли кредитная карта;\n",
    "* last_activity - активный клиент;\n",
    "* total_income - оценочных доход клиента;\n",
    "* churn - признак оттока."
   ]
  },
  {
   "cell_type": "markdown",
   "metadata": {},
   "source": [
    "## Загрузка данных"
   ]
  },
  {
   "cell_type": "markdown",
   "metadata": {},
   "source": [
    "Импортируем необходимые для работы библиотеки и загружаем данные в переменную"
   ]
  },
  {
   "cell_type": "code",
   "execution_count": 1,
   "metadata": {},
   "outputs": [
    {
     "name": "stdout",
     "output_type": "stream",
     "text": [
      "Requirement already satisfied: phik in /opt/conda/lib/python3.9/site-packages (0.10.0)\n",
      "Requirement already satisfied: matplotlib>=2.2.3 in /opt/conda/lib/python3.9/site-packages (from phik) (3.3.4)\n",
      "Requirement already satisfied: numba>=0.38.1 in /opt/conda/lib/python3.9/site-packages (from phik) (0.56.0)\n",
      "Requirement already satisfied: pandas>=0.23.4 in /opt/conda/lib/python3.9/site-packages (from phik) (1.2.4)\n",
      "Requirement already satisfied: numpy>=1.15.4 in /opt/conda/lib/python3.9/site-packages (from phik) (1.21.1)\n",
      "Requirement already satisfied: joblib>=0.14.1 in /opt/conda/lib/python3.9/site-packages (from phik) (1.4.0)\n",
      "Requirement already satisfied: scipy>=1.1.0 in /opt/conda/lib/python3.9/site-packages (from phik) (1.9.1)\n",
      "Requirement already satisfied: pillow>=6.2.0 in /opt/conda/lib/python3.9/site-packages (from matplotlib>=2.2.3->phik) (8.4.0)\n",
      "Requirement already satisfied: python-dateutil>=2.1 in /opt/conda/lib/python3.9/site-packages (from matplotlib>=2.2.3->phik) (2.8.1)\n",
      "Requirement already satisfied: cycler>=0.10 in /opt/conda/lib/python3.9/site-packages (from matplotlib>=2.2.3->phik) (0.11.0)\n",
      "Requirement already satisfied: kiwisolver>=1.0.1 in /opt/conda/lib/python3.9/site-packages (from matplotlib>=2.2.3->phik) (1.4.4)\n",
      "Requirement already satisfied: pyparsing!=2.0.4,!=2.1.2,!=2.1.6,>=2.0.3 in /opt/conda/lib/python3.9/site-packages (from matplotlib>=2.2.3->phik) (2.4.7)\n",
      "Requirement already satisfied: llvmlite<0.40,>=0.39.0dev0 in /opt/conda/lib/python3.9/site-packages (from numba>=0.38.1->phik) (0.39.0)\n",
      "Requirement already satisfied: setuptools in /opt/conda/lib/python3.9/site-packages (from numba>=0.38.1->phik) (49.6.0.post20210108)\n",
      "Requirement already satisfied: pytz>=2017.3 in /opt/conda/lib/python3.9/site-packages (from pandas>=0.23.4->phik) (2021.1)\n",
      "Requirement already satisfied: six>=1.5 in /opt/conda/lib/python3.9/site-packages (from python-dateutil>=2.1->matplotlib>=2.2.3->phik) (1.16.0)\n",
      "Note: you may need to restart the kernel to use updated packages.\n"
     ]
    }
   ],
   "source": [
    "pip install phik"
   ]
  },
  {
   "cell_type": "code",
   "execution_count": 2,
   "metadata": {},
   "outputs": [],
   "source": [
    "import pandas as pd\n",
    "import matplotlib.pyplot as plt\n",
    "import seaborn as sns\n",
    "from datetime import datetime, timedelta\n",
    "import math as mth\n",
    "from math import sqrt\n",
    "from scipy import stats as st\n",
    "import phik\n",
    "from phik.report import plot_correlation_matrix\n",
    "from phik import report\n",
    "from itertools import chain, combinations"
   ]
  },
  {
   "cell_type": "code",
   "execution_count": 3,
   "metadata": {},
   "outputs": [],
   "source": [
    "df = pd.read_csv('https://code.s3.yandex.net/datasets/bank_scrooge.csv')\n",
    "\n",
    "# загружаем данные в переменную"
   ]
  },
  {
   "cell_type": "code",
   "execution_count": 4,
   "metadata": {
    "scrolled": true
   },
   "outputs": [
    {
     "data": {
      "text/html": [
       "<div>\n",
       "<style scoped>\n",
       "    .dataframe tbody tr th:only-of-type {\n",
       "        vertical-align: middle;\n",
       "    }\n",
       "\n",
       "    .dataframe tbody tr th {\n",
       "        vertical-align: top;\n",
       "    }\n",
       "\n",
       "    .dataframe thead th {\n",
       "        text-align: right;\n",
       "    }\n",
       "</style>\n",
       "<table border=\"1\" class=\"dataframe\">\n",
       "  <thead>\n",
       "    <tr style=\"text-align: right;\">\n",
       "      <th></th>\n",
       "      <th>USERID</th>\n",
       "      <th>score</th>\n",
       "      <th>city</th>\n",
       "      <th>gender</th>\n",
       "      <th>age</th>\n",
       "      <th>equity</th>\n",
       "      <th>balance</th>\n",
       "      <th>products</th>\n",
       "      <th>credit_card</th>\n",
       "      <th>last_activity</th>\n",
       "      <th>EST_SALARY</th>\n",
       "      <th>churn</th>\n",
       "    </tr>\n",
       "  </thead>\n",
       "  <tbody>\n",
       "    <tr>\n",
       "      <th>3639</th>\n",
       "      <td>135969</td>\n",
       "      <td>812.0</td>\n",
       "      <td>Ярославль</td>\n",
       "      <td>М</td>\n",
       "      <td>43.0</td>\n",
       "      <td>2</td>\n",
       "      <td>1090732.82</td>\n",
       "      <td>1</td>\n",
       "      <td>1</td>\n",
       "      <td>1</td>\n",
       "      <td>204568.35</td>\n",
       "      <td>0</td>\n",
       "    </tr>\n",
       "    <tr>\n",
       "      <th>3891</th>\n",
       "      <td>218592</td>\n",
       "      <td>879.0</td>\n",
       "      <td>Ярославль</td>\n",
       "      <td>Ж</td>\n",
       "      <td>29.0</td>\n",
       "      <td>3</td>\n",
       "      <td>237478.75</td>\n",
       "      <td>1</td>\n",
       "      <td>1</td>\n",
       "      <td>0</td>\n",
       "      <td>48011.66</td>\n",
       "      <td>0</td>\n",
       "    </tr>\n",
       "    <tr>\n",
       "      <th>9114</th>\n",
       "      <td>127323</td>\n",
       "      <td>889.0</td>\n",
       "      <td>Ярославль</td>\n",
       "      <td>М</td>\n",
       "      <td>37.0</td>\n",
       "      <td>0</td>\n",
       "      <td>NaN</td>\n",
       "      <td>1</td>\n",
       "      <td>1</td>\n",
       "      <td>1</td>\n",
       "      <td>174743.53</td>\n",
       "      <td>0</td>\n",
       "    </tr>\n",
       "    <tr>\n",
       "      <th>606</th>\n",
       "      <td>122492</td>\n",
       "      <td>724.0</td>\n",
       "      <td>Ярославль</td>\n",
       "      <td>М</td>\n",
       "      <td>48.0</td>\n",
       "      <td>0</td>\n",
       "      <td>NaN</td>\n",
       "      <td>1</td>\n",
       "      <td>1</td>\n",
       "      <td>1</td>\n",
       "      <td>202488.09</td>\n",
       "      <td>0</td>\n",
       "    </tr>\n",
       "    <tr>\n",
       "      <th>3806</th>\n",
       "      <td>209582</td>\n",
       "      <td>787.0</td>\n",
       "      <td>Ярославль</td>\n",
       "      <td>М</td>\n",
       "      <td>58.0</td>\n",
       "      <td>2</td>\n",
       "      <td>269923.23</td>\n",
       "      <td>2</td>\n",
       "      <td>1</td>\n",
       "      <td>1</td>\n",
       "      <td>70408.39</td>\n",
       "      <td>1</td>\n",
       "    </tr>\n",
       "    <tr>\n",
       "      <th>6750</th>\n",
       "      <td>224506</td>\n",
       "      <td>844.0</td>\n",
       "      <td>Ростов</td>\n",
       "      <td>М</td>\n",
       "      <td>31.0</td>\n",
       "      <td>4</td>\n",
       "      <td>288952.06</td>\n",
       "      <td>2</td>\n",
       "      <td>1</td>\n",
       "      <td>0</td>\n",
       "      <td>74857.55</td>\n",
       "      <td>0</td>\n",
       "    </tr>\n",
       "    <tr>\n",
       "      <th>6564</th>\n",
       "      <td>197447</td>\n",
       "      <td>864.0</td>\n",
       "      <td>Рыбинск</td>\n",
       "      <td>М</td>\n",
       "      <td>28.0</td>\n",
       "      <td>4</td>\n",
       "      <td>587130.13</td>\n",
       "      <td>2</td>\n",
       "      <td>1</td>\n",
       "      <td>1</td>\n",
       "      <td>83030.40</td>\n",
       "      <td>1</td>\n",
       "    </tr>\n",
       "    <tr>\n",
       "      <th>3734</th>\n",
       "      <td>217599</td>\n",
       "      <td>855.0</td>\n",
       "      <td>Рыбинск</td>\n",
       "      <td>Ж</td>\n",
       "      <td>65.0</td>\n",
       "      <td>6</td>\n",
       "      <td>835662.27</td>\n",
       "      <td>2</td>\n",
       "      <td>0</td>\n",
       "      <td>1</td>\n",
       "      <td>89252.04</td>\n",
       "      <td>0</td>\n",
       "    </tr>\n",
       "    <tr>\n",
       "      <th>1203</th>\n",
       "      <td>196146</td>\n",
       "      <td>794.0</td>\n",
       "      <td>Ростов</td>\n",
       "      <td>Ж</td>\n",
       "      <td>51.0</td>\n",
       "      <td>2</td>\n",
       "      <td>352198.05</td>\n",
       "      <td>2</td>\n",
       "      <td>0</td>\n",
       "      <td>0</td>\n",
       "      <td>75251.54</td>\n",
       "      <td>0</td>\n",
       "    </tr>\n",
       "    <tr>\n",
       "      <th>6275</th>\n",
       "      <td>168111</td>\n",
       "      <td>876.0</td>\n",
       "      <td>Ярославль</td>\n",
       "      <td>Ж</td>\n",
       "      <td>42.0</td>\n",
       "      <td>4</td>\n",
       "      <td>1154603.33</td>\n",
       "      <td>2</td>\n",
       "      <td>0</td>\n",
       "      <td>0</td>\n",
       "      <td>285447.17</td>\n",
       "      <td>0</td>\n",
       "    </tr>\n",
       "  </tbody>\n",
       "</table>\n",
       "</div>"
      ],
      "text/plain": [
       "      USERID  score       city gender   age  equity     balance  products  \\\n",
       "3639  135969  812.0  Ярославль      М  43.0       2  1090732.82         1   \n",
       "3891  218592  879.0  Ярославль      Ж  29.0       3   237478.75         1   \n",
       "9114  127323  889.0  Ярославль      М  37.0       0         NaN         1   \n",
       "606   122492  724.0  Ярославль      М  48.0       0         NaN         1   \n",
       "3806  209582  787.0  Ярославль      М  58.0       2   269923.23         2   \n",
       "6750  224506  844.0     Ростов      М  31.0       4   288952.06         2   \n",
       "6564  197447  864.0    Рыбинск      М  28.0       4   587130.13         2   \n",
       "3734  217599  855.0    Рыбинск      Ж  65.0       6   835662.27         2   \n",
       "1203  196146  794.0     Ростов      Ж  51.0       2   352198.05         2   \n",
       "6275  168111  876.0  Ярославль      Ж  42.0       4  1154603.33         2   \n",
       "\n",
       "      credit_card  last_activity  EST_SALARY  churn  \n",
       "3639            1              1   204568.35      0  \n",
       "3891            1              0    48011.66      0  \n",
       "9114            1              1   174743.53      0  \n",
       "606             1              1   202488.09      0  \n",
       "3806            1              1    70408.39      1  \n",
       "6750            1              0    74857.55      0  \n",
       "6564            1              1    83030.40      1  \n",
       "3734            0              1    89252.04      0  \n",
       "1203            0              0    75251.54      0  \n",
       "6275            0              0   285447.17      0  "
      ]
     },
     "execution_count": 4,
     "metadata": {},
     "output_type": "execute_result"
    }
   ],
   "source": [
    "df.sample(10)\n",
    "\n",
    "# изучаем 10 рандомных строк из нашего датафрейма"
   ]
  },
  {
   "cell_type": "code",
   "execution_count": 5,
   "metadata": {},
   "outputs": [
    {
     "name": "stdout",
     "output_type": "stream",
     "text": [
      "<class 'pandas.core.frame.DataFrame'>\n",
      "RangeIndex: 10000 entries, 0 to 9999\n",
      "Data columns (total 12 columns):\n",
      " #   Column         Non-Null Count  Dtype  \n",
      "---  ------         --------------  -----  \n",
      " 0   USERID         10000 non-null  int64  \n",
      " 1   score          10000 non-null  float64\n",
      " 2   city           10000 non-null  object \n",
      " 3   gender         10000 non-null  object \n",
      " 4   age            9974 non-null   float64\n",
      " 5   equity         10000 non-null  int64  \n",
      " 6   balance        7705 non-null   float64\n",
      " 7   products       10000 non-null  int64  \n",
      " 8   credit_card    10000 non-null  int64  \n",
      " 9   last_activity  10000 non-null  int64  \n",
      " 10  EST_SALARY     10000 non-null  float64\n",
      " 11  churn          10000 non-null  int64  \n",
      "dtypes: float64(4), int64(6), object(2)\n",
      "memory usage: 937.6+ KB\n"
     ]
    }
   ],
   "source": [
    "df.info()\n",
    "\n",
    "# изучаем общую информацию о датафрейме"
   ]
  },
  {
   "cell_type": "markdown",
   "metadata": {},
   "source": [
    "**Вывод:** \n",
    "\n",
    "* импортировали библиотеки, необходимые для работы;\n",
    "* загрузили данные в переменную;\n",
    "* изучили общую информацию о датасете, мы располагаем данными о 10 тыс. клиентов."
   ]
  },
  {
   "cell_type": "markdown",
   "metadata": {},
   "source": [
    "## Предобработка данных"
   ]
  },
  {
   "cell_type": "markdown",
   "metadata": {},
   "source": [
    "### Приводим данные к единому виду"
   ]
  },
  {
   "cell_type": "code",
   "execution_count": 6,
   "metadata": {},
   "outputs": [],
   "source": [
    "df.columns = df.columns.str.lower()\n",
    "\n",
    "# приводим все названия столбцов к нижнему регистру"
   ]
  },
  {
   "cell_type": "code",
   "execution_count": 7,
   "metadata": {},
   "outputs": [],
   "source": [
    "df = df.rename(columns={'userid':'user_id', 'est_salary':'total_income'})\n",
    "\n",
    "# переименовываем столбцы для более удобной работы"
   ]
  },
  {
   "cell_type": "code",
   "execution_count": 8,
   "metadata": {},
   "outputs": [
    {
     "data": {
      "text/html": [
       "<div>\n",
       "<style scoped>\n",
       "    .dataframe tbody tr th:only-of-type {\n",
       "        vertical-align: middle;\n",
       "    }\n",
       "\n",
       "    .dataframe tbody tr th {\n",
       "        vertical-align: top;\n",
       "    }\n",
       "\n",
       "    .dataframe thead th {\n",
       "        text-align: right;\n",
       "    }\n",
       "</style>\n",
       "<table border=\"1\" class=\"dataframe\">\n",
       "  <thead>\n",
       "    <tr style=\"text-align: right;\">\n",
       "      <th></th>\n",
       "      <th>user_id</th>\n",
       "      <th>score</th>\n",
       "      <th>city</th>\n",
       "      <th>gender</th>\n",
       "      <th>age</th>\n",
       "      <th>equity</th>\n",
       "      <th>balance</th>\n",
       "      <th>products</th>\n",
       "      <th>credit_card</th>\n",
       "      <th>last_activity</th>\n",
       "      <th>total_income</th>\n",
       "      <th>churn</th>\n",
       "    </tr>\n",
       "  </thead>\n",
       "  <tbody>\n",
       "    <tr>\n",
       "      <th>0</th>\n",
       "      <td>183012</td>\n",
       "      <td>850.0</td>\n",
       "      <td>Рыбинск</td>\n",
       "      <td>Ж</td>\n",
       "      <td>25.0</td>\n",
       "      <td>1</td>\n",
       "      <td>59214.82</td>\n",
       "      <td>2</td>\n",
       "      <td>0</td>\n",
       "      <td>1</td>\n",
       "      <td>75719.14</td>\n",
       "      <td>1</td>\n",
       "    </tr>\n",
       "    <tr>\n",
       "      <th>1</th>\n",
       "      <td>146556</td>\n",
       "      <td>861.0</td>\n",
       "      <td>Рыбинск</td>\n",
       "      <td>Ж</td>\n",
       "      <td>37.0</td>\n",
       "      <td>5</td>\n",
       "      <td>850594.33</td>\n",
       "      <td>3</td>\n",
       "      <td>1</td>\n",
       "      <td>0</td>\n",
       "      <td>86621.77</td>\n",
       "      <td>0</td>\n",
       "    </tr>\n",
       "    <tr>\n",
       "      <th>2</th>\n",
       "      <td>120722</td>\n",
       "      <td>892.0</td>\n",
       "      <td>Рыбинск</td>\n",
       "      <td>Ж</td>\n",
       "      <td>30.0</td>\n",
       "      <td>0</td>\n",
       "      <td>NaN</td>\n",
       "      <td>1</td>\n",
       "      <td>1</td>\n",
       "      <td>1</td>\n",
       "      <td>107683.34</td>\n",
       "      <td>0</td>\n",
       "    </tr>\n",
       "    <tr>\n",
       "      <th>3</th>\n",
       "      <td>225363</td>\n",
       "      <td>866.0</td>\n",
       "      <td>Ярославль</td>\n",
       "      <td>Ж</td>\n",
       "      <td>51.0</td>\n",
       "      <td>5</td>\n",
       "      <td>1524746.26</td>\n",
       "      <td>2</td>\n",
       "      <td>0</td>\n",
       "      <td>1</td>\n",
       "      <td>174423.53</td>\n",
       "      <td>1</td>\n",
       "    </tr>\n",
       "    <tr>\n",
       "      <th>4</th>\n",
       "      <td>157978</td>\n",
       "      <td>730.0</td>\n",
       "      <td>Ярославль</td>\n",
       "      <td>М</td>\n",
       "      <td>34.0</td>\n",
       "      <td>5</td>\n",
       "      <td>174.00</td>\n",
       "      <td>1</td>\n",
       "      <td>1</td>\n",
       "      <td>0</td>\n",
       "      <td>67353.16</td>\n",
       "      <td>1</td>\n",
       "    </tr>\n",
       "  </tbody>\n",
       "</table>\n",
       "</div>"
      ],
      "text/plain": [
       "   user_id  score       city gender   age  equity     balance  products  \\\n",
       "0   183012  850.0    Рыбинск      Ж  25.0       1    59214.82         2   \n",
       "1   146556  861.0    Рыбинск      Ж  37.0       5   850594.33         3   \n",
       "2   120722  892.0    Рыбинск      Ж  30.0       0         NaN         1   \n",
       "3   225363  866.0  Ярославль      Ж  51.0       5  1524746.26         2   \n",
       "4   157978  730.0  Ярославль      М  34.0       5      174.00         1   \n",
       "\n",
       "   credit_card  last_activity  total_income  churn  \n",
       "0            0              1      75719.14      1  \n",
       "1            1              0      86621.77      0  \n",
       "2            1              1     107683.34      0  \n",
       "3            0              1     174423.53      1  \n",
       "4            1              0      67353.16      1  "
      ]
     },
     "execution_count": 8,
     "metadata": {},
     "output_type": "execute_result"
    }
   ],
   "source": [
    "df.head()\n",
    "\n",
    "# проверяем изменения"
   ]
  },
  {
   "cell_type": "markdown",
   "metadata": {},
   "source": [
    "### Проверяем корректность типов данных"
   ]
  },
  {
   "cell_type": "code",
   "execution_count": 9,
   "metadata": {},
   "outputs": [
    {
     "name": "stdout",
     "output_type": "stream",
     "text": [
      "<class 'pandas.core.frame.DataFrame'>\n",
      "RangeIndex: 10000 entries, 0 to 9999\n",
      "Data columns (total 12 columns):\n",
      " #   Column         Non-Null Count  Dtype  \n",
      "---  ------         --------------  -----  \n",
      " 0   user_id        10000 non-null  int64  \n",
      " 1   score          10000 non-null  float64\n",
      " 2   city           10000 non-null  object \n",
      " 3   gender         10000 non-null  object \n",
      " 4   age            9974 non-null   float64\n",
      " 5   equity         10000 non-null  int64  \n",
      " 6   balance        7705 non-null   float64\n",
      " 7   products       10000 non-null  int64  \n",
      " 8   credit_card    10000 non-null  int64  \n",
      " 9   last_activity  10000 non-null  int64  \n",
      " 10  total_income   10000 non-null  float64\n",
      " 11  churn          10000 non-null  int64  \n",
      "dtypes: float64(4), int64(6), object(2)\n",
      "memory usage: 937.6+ KB\n"
     ]
    }
   ],
   "source": [
    "df.info()\n",
    "\n",
    "# изучаем, к какому типу данных относятся значения в каждом столбце"
   ]
  },
  {
   "cell_type": "markdown",
   "metadata": {},
   "source": [
    "Все значения в столбцах соответствуют своим типам данных, кроме столбца \"Возраст\". Изменим тип данных в этом столбце на цельночисленный, для этого проверим, присутствуют ли в нем пропущенные значения."
   ]
  },
  {
   "cell_type": "code",
   "execution_count": 10,
   "metadata": {},
   "outputs": [
    {
     "data": {
      "text/plain": [
       "26"
      ]
     },
     "execution_count": 10,
     "metadata": {},
     "output_type": "execute_result"
    }
   ],
   "source": [
    "len(df[df['age'].isnull()])\n",
    "\n",
    "# смотрим, сколько незаполненных значений есть в столбце age"
   ]
  },
  {
   "cell_type": "markdown",
   "metadata": {},
   "source": [
    "В столбце age 26 незаполненных значений, это мешает нам изменить тип данных на цельночисленный. Чтобы это исправить, удалим пропуски и изменим тип данных. Отметим, что пропуски составляют 0,26% от общего числа данных, что является допустимым для удаления."
   ]
  },
  {
   "cell_type": "code",
   "execution_count": 11,
   "metadata": {},
   "outputs": [],
   "source": [
    "df = df.dropna(subset=['age'])\n",
    "df['age'] = df['age'].astype('int64')\n",
    "\n",
    "# удаляем пропуски и меняем тип данных на цельночисленный "
   ]
  },
  {
   "cell_type": "code",
   "execution_count": 12,
   "metadata": {},
   "outputs": [
    {
     "name": "stdout",
     "output_type": "stream",
     "text": [
      "<class 'pandas.core.frame.DataFrame'>\n",
      "Int64Index: 9974 entries, 0 to 9999\n",
      "Data columns (total 12 columns):\n",
      " #   Column         Non-Null Count  Dtype  \n",
      "---  ------         --------------  -----  \n",
      " 0   user_id        9974 non-null   int64  \n",
      " 1   score          9974 non-null   float64\n",
      " 2   city           9974 non-null   object \n",
      " 3   gender         9974 non-null   object \n",
      " 4   age            9974 non-null   int64  \n",
      " 5   equity         9974 non-null   int64  \n",
      " 6   balance        7695 non-null   float64\n",
      " 7   products       9974 non-null   int64  \n",
      " 8   credit_card    9974 non-null   int64  \n",
      " 9   last_activity  9974 non-null   int64  \n",
      " 10  total_income   9974 non-null   float64\n",
      " 11  churn          9974 non-null   int64  \n",
      "dtypes: float64(3), int64(7), object(2)\n",
      "memory usage: 1013.0+ KB\n"
     ]
    }
   ],
   "source": [
    "df.info()\n",
    "\n",
    "# проверяем изменения"
   ]
  },
  {
   "cell_type": "markdown",
   "metadata": {},
   "source": [
    "### Проверка данных на пропуски"
   ]
  },
  {
   "cell_type": "code",
   "execution_count": 13,
   "metadata": {},
   "outputs": [
    {
     "data": {
      "text/plain": [
       "user_id             0\n",
       "score               0\n",
       "city                0\n",
       "gender              0\n",
       "age                 0\n",
       "equity              0\n",
       "balance          2279\n",
       "products            0\n",
       "credit_card         0\n",
       "last_activity       0\n",
       "total_income        0\n",
       "churn               0\n",
       "dtype: int64"
      ]
     },
     "execution_count": 13,
     "metadata": {},
     "output_type": "execute_result"
    }
   ],
   "source": [
    "df.isna().sum()\n",
    "\n",
    "# проверяем данные на пропуски"
   ]
  },
  {
   "cell_type": "markdown",
   "metadata": {},
   "source": [
    "В столбце баланс на счете обнаружено 2295 пропущенных значений. Это могут быть клиенты, покинувшие банк, проверим, так ли это.\n",
    "Так же на этапе изменения типа данных было обнаружено 26 клиентов, у которых не указан возраст, было принято решение удалить эти данные из датасета, так как они составляли 0,26% от общего количества."
   ]
  },
  {
   "cell_type": "code",
   "execution_count": 14,
   "metadata": {},
   "outputs": [
    {
     "data": {
      "text/html": [
       "<div>\n",
       "<style scoped>\n",
       "    .dataframe tbody tr th:only-of-type {\n",
       "        vertical-align: middle;\n",
       "    }\n",
       "\n",
       "    .dataframe tbody tr th {\n",
       "        vertical-align: top;\n",
       "    }\n",
       "\n",
       "    .dataframe thead th {\n",
       "        text-align: right;\n",
       "    }\n",
       "</style>\n",
       "<table border=\"1\" class=\"dataframe\">\n",
       "  <thead>\n",
       "    <tr style=\"text-align: right;\">\n",
       "      <th></th>\n",
       "      <th>user_id</th>\n",
       "      <th>score</th>\n",
       "      <th>city</th>\n",
       "      <th>gender</th>\n",
       "      <th>age</th>\n",
       "      <th>equity</th>\n",
       "      <th>balance</th>\n",
       "      <th>products</th>\n",
       "      <th>credit_card</th>\n",
       "      <th>last_activity</th>\n",
       "      <th>total_income</th>\n",
       "      <th>churn</th>\n",
       "    </tr>\n",
       "  </thead>\n",
       "  <tbody>\n",
       "    <tr>\n",
       "      <th>6753</th>\n",
       "      <td>202395</td>\n",
       "      <td>920.0</td>\n",
       "      <td>Ярославль</td>\n",
       "      <td>М</td>\n",
       "      <td>36</td>\n",
       "      <td>0</td>\n",
       "      <td>NaN</td>\n",
       "      <td>1</td>\n",
       "      <td>1</td>\n",
       "      <td>1</td>\n",
       "      <td>221644.45</td>\n",
       "      <td>0</td>\n",
       "    </tr>\n",
       "    <tr>\n",
       "      <th>270</th>\n",
       "      <td>196630</td>\n",
       "      <td>934.0</td>\n",
       "      <td>Ярославль</td>\n",
       "      <td>Ж</td>\n",
       "      <td>30</td>\n",
       "      <td>0</td>\n",
       "      <td>NaN</td>\n",
       "      <td>1</td>\n",
       "      <td>1</td>\n",
       "      <td>1</td>\n",
       "      <td>116867.74</td>\n",
       "      <td>0</td>\n",
       "    </tr>\n",
       "    <tr>\n",
       "      <th>1493</th>\n",
       "      <td>164003</td>\n",
       "      <td>902.0</td>\n",
       "      <td>Ярославль</td>\n",
       "      <td>Ж</td>\n",
       "      <td>64</td>\n",
       "      <td>1</td>\n",
       "      <td>NaN</td>\n",
       "      <td>1</td>\n",
       "      <td>1</td>\n",
       "      <td>0</td>\n",
       "      <td>77069.58</td>\n",
       "      <td>0</td>\n",
       "    </tr>\n",
       "    <tr>\n",
       "      <th>260</th>\n",
       "      <td>118397</td>\n",
       "      <td>705.0</td>\n",
       "      <td>Ярославль</td>\n",
       "      <td>М</td>\n",
       "      <td>35</td>\n",
       "      <td>0</td>\n",
       "      <td>NaN</td>\n",
       "      <td>1</td>\n",
       "      <td>1</td>\n",
       "      <td>0</td>\n",
       "      <td>248714.69</td>\n",
       "      <td>0</td>\n",
       "    </tr>\n",
       "    <tr>\n",
       "      <th>9314</th>\n",
       "      <td>172768</td>\n",
       "      <td>883.0</td>\n",
       "      <td>Рыбинск</td>\n",
       "      <td>Ж</td>\n",
       "      <td>28</td>\n",
       "      <td>0</td>\n",
       "      <td>NaN</td>\n",
       "      <td>1</td>\n",
       "      <td>1</td>\n",
       "      <td>1</td>\n",
       "      <td>71189.64</td>\n",
       "      <td>0</td>\n",
       "    </tr>\n",
       "  </tbody>\n",
       "</table>\n",
       "</div>"
      ],
      "text/plain": [
       "      user_id  score       city gender  age  equity  balance  products  \\\n",
       "6753   202395  920.0  Ярославль      М   36       0      NaN         1   \n",
       "270    196630  934.0  Ярославль      Ж   30       0      NaN         1   \n",
       "1493   164003  902.0  Ярославль      Ж   64       1      NaN         1   \n",
       "260    118397  705.0  Ярославль      М   35       0      NaN         1   \n",
       "9314   172768  883.0    Рыбинск      Ж   28       0      NaN         1   \n",
       "\n",
       "      credit_card  last_activity  total_income  churn  \n",
       "6753            1              1     221644.45      0  \n",
       "270             1              1     116867.74      0  \n",
       "1493            1              0      77069.58      0  \n",
       "260             1              0     248714.69      0  \n",
       "9314            1              1      71189.64      0  "
      ]
     },
     "execution_count": 14,
     "metadata": {},
     "output_type": "execute_result"
    }
   ],
   "source": [
    "df[df['balance'].isnull()].sample(5)\n",
    "\n",
    "# фильтруем датафрейм, оставляем только пользователей с неизвестным балансом на счете\n",
    "# выводим на экран 5 рандомных строк"
   ]
  },
  {
   "cell_type": "code",
   "execution_count": 15,
   "metadata": {},
   "outputs": [
    {
     "name": "stdout",
     "output_type": "stream",
     "text": [
      "Клиентов с неизвестным балансом покинуло банк:  13\n"
     ]
    }
   ],
   "source": [
    "unknown_balance = df[df['balance'].isnull()]\n",
    "print('Клиентов с неизвестным балансом покинуло банк: ', unknown_balance['churn'].sum())\n",
    "\n",
    "# счиатем, сколько клиентов с неизвестным балансом покинуло банк"
   ]
  },
  {
   "cell_type": "markdown",
   "metadata": {},
   "source": [
    "Теория не подтвердилась, из 2295 клиентов, у которых не заполнена графа баланс на счете, только 13 человек покинули банк как клиенты. Так как это активные клиенты, у них есть продукты банка и даже кредитные карты, маловероятно, что их баланс равен нолю. На данном этапе оставим пропуски в графе баланс, чтобы не искажать общую картину."
   ]
  },
  {
   "cell_type": "markdown",
   "metadata": {},
   "source": [
    "### Проверка данных на дубликаты"
   ]
  },
  {
   "cell_type": "code",
   "execution_count": 16,
   "metadata": {},
   "outputs": [
    {
     "name": "stdout",
     "output_type": "stream",
     "text": [
      "Полных дубликатов: 0\n"
     ]
    }
   ],
   "source": [
    "print('Полных дубликатов:', df.duplicated().sum())\n",
    "\n",
    "# проверяем данные на полные дубликаты"
   ]
  },
  {
   "cell_type": "markdown",
   "metadata": {},
   "source": [
    "Полные дубликаты отсутствуют, проверим данные на дубликаты по идентификаторам пользователей."
   ]
  },
  {
   "cell_type": "code",
   "execution_count": 17,
   "metadata": {},
   "outputs": [
    {
     "name": "stdout",
     "output_type": "stream",
     "text": [
      "Дубликатов по идентификаторам пользователей: 50\n"
     ]
    }
   ],
   "source": [
    "print('Дубликатов по идентификаторам пользователей:', df.duplicated(subset=['user_id']).sum())\n",
    "\n",
    "# считаем количество дубликатов по идентификаторам пользователей"
   ]
  },
  {
   "cell_type": "code",
   "execution_count": 18,
   "metadata": {},
   "outputs": [
    {
     "data": {
      "text/plain": [
       "120258    2\n",
       "217643    2\n",
       "199312    2\n",
       "170312    2\n",
       "200863    2\n",
       "         ..\n",
       "181682    1\n",
       "179637    1\n",
       "173494    1\n",
       "175543    1\n",
       "215039    1\n",
       "Name: user_id, Length: 9924, dtype: int64"
      ]
     },
     "execution_count": 18,
     "metadata": {},
     "output_type": "execute_result"
    }
   ],
   "source": [
    "df['user_id'].value_counts()\n",
    "\n",
    "# изучаем, как много дубликатов приходится на каждый идентификатор пользователя"
   ]
  },
  {
   "cell_type": "markdown",
   "metadata": {},
   "source": [
    "Обнаружено 50 дубликатов по идентификаторам пользователей, каждый дублируюющийся идентификатор встречается максимум два раза. Выведем на экран первые три идентификатора, чтобы рассмотреть поближе информацию об этих пользователях."
   ]
  },
  {
   "cell_type": "code",
   "execution_count": 19,
   "metadata": {},
   "outputs": [
    {
     "data": {
      "text/html": [
       "<div>\n",
       "<style scoped>\n",
       "    .dataframe tbody tr th:only-of-type {\n",
       "        vertical-align: middle;\n",
       "    }\n",
       "\n",
       "    .dataframe tbody tr th {\n",
       "        vertical-align: top;\n",
       "    }\n",
       "\n",
       "    .dataframe thead th {\n",
       "        text-align: right;\n",
       "    }\n",
       "</style>\n",
       "<table border=\"1\" class=\"dataframe\">\n",
       "  <thead>\n",
       "    <tr style=\"text-align: right;\">\n",
       "      <th></th>\n",
       "      <th>user_id</th>\n",
       "      <th>score</th>\n",
       "      <th>city</th>\n",
       "      <th>gender</th>\n",
       "      <th>age</th>\n",
       "      <th>equity</th>\n",
       "      <th>balance</th>\n",
       "      <th>products</th>\n",
       "      <th>credit_card</th>\n",
       "      <th>last_activity</th>\n",
       "      <th>total_income</th>\n",
       "      <th>churn</th>\n",
       "    </tr>\n",
       "  </thead>\n",
       "  <tbody>\n",
       "    <tr>\n",
       "      <th>1970</th>\n",
       "      <td>217643</td>\n",
       "      <td>845.0</td>\n",
       "      <td>Ярославль</td>\n",
       "      <td>М</td>\n",
       "      <td>29</td>\n",
       "      <td>5</td>\n",
       "      <td>733098.45</td>\n",
       "      <td>4</td>\n",
       "      <td>1</td>\n",
       "      <td>1</td>\n",
       "      <td>41443.01</td>\n",
       "      <td>1</td>\n",
       "    </tr>\n",
       "    <tr>\n",
       "      <th>2499</th>\n",
       "      <td>199312</td>\n",
       "      <td>948.0</td>\n",
       "      <td>Ярославль</td>\n",
       "      <td>М</td>\n",
       "      <td>41</td>\n",
       "      <td>5</td>\n",
       "      <td>3095721.85</td>\n",
       "      <td>4</td>\n",
       "      <td>1</td>\n",
       "      <td>1</td>\n",
       "      <td>307234.69</td>\n",
       "      <td>1</td>\n",
       "    </tr>\n",
       "    <tr>\n",
       "      <th>4186</th>\n",
       "      <td>217643</td>\n",
       "      <td>804.0</td>\n",
       "      <td>Рыбинск</td>\n",
       "      <td>Ж</td>\n",
       "      <td>40</td>\n",
       "      <td>2</td>\n",
       "      <td>301836.65</td>\n",
       "      <td>2</td>\n",
       "      <td>1</td>\n",
       "      <td>1</td>\n",
       "      <td>81137.22</td>\n",
       "      <td>0</td>\n",
       "    </tr>\n",
       "    <tr>\n",
       "      <th>5863</th>\n",
       "      <td>120258</td>\n",
       "      <td>908.0</td>\n",
       "      <td>Рыбинск</td>\n",
       "      <td>Ж</td>\n",
       "      <td>38</td>\n",
       "      <td>4</td>\n",
       "      <td>2213581.63</td>\n",
       "      <td>2</td>\n",
       "      <td>0</td>\n",
       "      <td>1</td>\n",
       "      <td>160327.77</td>\n",
       "      <td>1</td>\n",
       "    </tr>\n",
       "    <tr>\n",
       "      <th>5896</th>\n",
       "      <td>120258</td>\n",
       "      <td>905.0</td>\n",
       "      <td>Ярославль</td>\n",
       "      <td>М</td>\n",
       "      <td>30</td>\n",
       "      <td>0</td>\n",
       "      <td>NaN</td>\n",
       "      <td>1</td>\n",
       "      <td>1</td>\n",
       "      <td>1</td>\n",
       "      <td>146427.96</td>\n",
       "      <td>0</td>\n",
       "    </tr>\n",
       "    <tr>\n",
       "      <th>8822</th>\n",
       "      <td>199312</td>\n",
       "      <td>911.0</td>\n",
       "      <td>Рыбинск</td>\n",
       "      <td>Ж</td>\n",
       "      <td>43</td>\n",
       "      <td>0</td>\n",
       "      <td>NaN</td>\n",
       "      <td>2</td>\n",
       "      <td>1</td>\n",
       "      <td>1</td>\n",
       "      <td>152189.72</td>\n",
       "      <td>0</td>\n",
       "    </tr>\n",
       "  </tbody>\n",
       "</table>\n",
       "</div>"
      ],
      "text/plain": [
       "      user_id  score       city gender  age  equity     balance  products  \\\n",
       "1970   217643  845.0  Ярославль      М   29       5   733098.45         4   \n",
       "2499   199312  948.0  Ярославль      М   41       5  3095721.85         4   \n",
       "4186   217643  804.0    Рыбинск      Ж   40       2   301836.65         2   \n",
       "5863   120258  908.0    Рыбинск      Ж   38       4  2213581.63         2   \n",
       "5896   120258  905.0  Ярославль      М   30       0         NaN         1   \n",
       "8822   199312  911.0    Рыбинск      Ж   43       0         NaN         2   \n",
       "\n",
       "      credit_card  last_activity  total_income  churn  \n",
       "1970            1              1      41443.01      1  \n",
       "2499            1              1     307234.69      1  \n",
       "4186            1              1      81137.22      0  \n",
       "5863            0              1     160327.77      1  \n",
       "5896            1              1     146427.96      0  \n",
       "8822            1              1     152189.72      0  "
      ]
     },
     "execution_count": 19,
     "metadata": {},
     "output_type": "execute_result"
    }
   ],
   "source": [
    "df.query('user_id == [120258, 217643, 199312]')\n",
    "\n",
    "# выводим на экран трех пользователей, у которых дважды дублируются идентификаторы"
   ]
  },
  {
   "cell_type": "markdown",
   "metadata": {},
   "source": [
    "Судя по таблице, идентификаторы повторяются у пользователей, которые являются клиентами банка в разных городах. Возможно, раньше у каждого отделения была своя база данных, которые в последствии объединили, из-за чего часть идентификаторов пользователей стали дублироваться. У дублирующихся клиентов также разные возраст и пол. \n",
    "\n",
    "Проверим данные на дубликаты по нескольким параметрам: идентификатор пользователя, город и пол клиента."
   ]
  },
  {
   "cell_type": "code",
   "execution_count": 20,
   "metadata": {},
   "outputs": [
    {
     "name": "stdout",
     "output_type": "stream",
     "text": [
      "Дубликатов по идентификатору, городу и полу: 0\n"
     ]
    }
   ],
   "source": [
    "print('Дубликатов по идентификатору, городу и полу:', df.duplicated(subset=['user_id', 'city', 'gender']).sum())"
   ]
  },
  {
   "cell_type": "markdown",
   "metadata": {},
   "source": [
    "Наша теория подтвердилась, под дублями идентификаторов скрываются разные пользователи. Такие дубликаты не будем удалять."
   ]
  },
  {
   "cell_type": "markdown",
   "metadata": {},
   "source": [
    "### Проверка данных на аномалии"
   ]
  },
  {
   "cell_type": "markdown",
   "metadata": {},
   "source": [
    "Аномалии могут появиться в некатегориальных и категориальных небинарных данных. К таким относятся столбцы с информацией о баллах кредитного скоринга, возрасте, баллах собственности, балансе на счете, количестве банковских продуктов и общем доходе клиента. Предварительно изучим распределение данных в этих категориях с помощью метода describe()."
   ]
  },
  {
   "cell_type": "code",
   "execution_count": 21,
   "metadata": {},
   "outputs": [
    {
     "data": {
      "text/html": [
       "<div>\n",
       "<style scoped>\n",
       "    .dataframe tbody tr th:only-of-type {\n",
       "        vertical-align: middle;\n",
       "    }\n",
       "\n",
       "    .dataframe tbody tr th {\n",
       "        vertical-align: top;\n",
       "    }\n",
       "\n",
       "    .dataframe thead th {\n",
       "        text-align: right;\n",
       "    }\n",
       "</style>\n",
       "<table border=\"1\" class=\"dataframe\">\n",
       "  <thead>\n",
       "    <tr style=\"text-align: right;\">\n",
       "      <th></th>\n",
       "      <th>score</th>\n",
       "      <th>age</th>\n",
       "      <th>equity</th>\n",
       "      <th>balance</th>\n",
       "      <th>products</th>\n",
       "      <th>total_income</th>\n",
       "    </tr>\n",
       "  </thead>\n",
       "  <tbody>\n",
       "    <tr>\n",
       "      <th>count</th>\n",
       "      <td>9974.000000</td>\n",
       "      <td>9974.000000</td>\n",
       "      <td>9974.000000</td>\n",
       "      <td>7.695000e+03</td>\n",
       "      <td>9974.000000</td>\n",
       "      <td>9.974000e+03</td>\n",
       "    </tr>\n",
       "    <tr>\n",
       "      <th>mean</th>\n",
       "      <td>848.682575</td>\n",
       "      <td>42.734409</td>\n",
       "      <td>2.630840</td>\n",
       "      <td>8.272456e+05</td>\n",
       "      <td>1.871466</td>\n",
       "      <td>1.477868e+05</td>\n",
       "    </tr>\n",
       "    <tr>\n",
       "      <th>std</th>\n",
       "      <td>65.399720</td>\n",
       "      <td>12.179971</td>\n",
       "      <td>1.979965</td>\n",
       "      <td>1.980327e+06</td>\n",
       "      <td>0.792729</td>\n",
       "      <td>1.392855e+05</td>\n",
       "    </tr>\n",
       "    <tr>\n",
       "      <th>min</th>\n",
       "      <td>642.000000</td>\n",
       "      <td>18.000000</td>\n",
       "      <td>0.000000</td>\n",
       "      <td>0.000000e+00</td>\n",
       "      <td>0.000000</td>\n",
       "      <td>2.546300e+03</td>\n",
       "    </tr>\n",
       "    <tr>\n",
       "      <th>25%</th>\n",
       "      <td>802.000000</td>\n",
       "      <td>33.000000</td>\n",
       "      <td>0.000000</td>\n",
       "      <td>2.956987e+05</td>\n",
       "      <td>1.000000</td>\n",
       "      <td>7.525166e+04</td>\n",
       "    </tr>\n",
       "    <tr>\n",
       "      <th>50%</th>\n",
       "      <td>853.000000</td>\n",
       "      <td>40.000000</td>\n",
       "      <td>3.000000</td>\n",
       "      <td>5.242953e+05</td>\n",
       "      <td>2.000000</td>\n",
       "      <td>1.196268e+05</td>\n",
       "    </tr>\n",
       "    <tr>\n",
       "      <th>75%</th>\n",
       "      <td>900.000000</td>\n",
       "      <td>51.000000</td>\n",
       "      <td>4.000000</td>\n",
       "      <td>9.800512e+05</td>\n",
       "      <td>2.000000</td>\n",
       "      <td>1.744998e+05</td>\n",
       "    </tr>\n",
       "    <tr>\n",
       "      <th>max</th>\n",
       "      <td>1000.000000</td>\n",
       "      <td>86.000000</td>\n",
       "      <td>9.000000</td>\n",
       "      <td>1.191136e+08</td>\n",
       "      <td>5.000000</td>\n",
       "      <td>1.395064e+06</td>\n",
       "    </tr>\n",
       "  </tbody>\n",
       "</table>\n",
       "</div>"
      ],
      "text/plain": [
       "             score          age       equity       balance     products  \\\n",
       "count  9974.000000  9974.000000  9974.000000  7.695000e+03  9974.000000   \n",
       "mean    848.682575    42.734409     2.630840  8.272456e+05     1.871466   \n",
       "std      65.399720    12.179971     1.979965  1.980327e+06     0.792729   \n",
       "min     642.000000    18.000000     0.000000  0.000000e+00     0.000000   \n",
       "25%     802.000000    33.000000     0.000000  2.956987e+05     1.000000   \n",
       "50%     853.000000    40.000000     3.000000  5.242953e+05     2.000000   \n",
       "75%     900.000000    51.000000     4.000000  9.800512e+05     2.000000   \n",
       "max    1000.000000    86.000000     9.000000  1.191136e+08     5.000000   \n",
       "\n",
       "       total_income  \n",
       "count  9.974000e+03  \n",
       "mean   1.477868e+05  \n",
       "std    1.392855e+05  \n",
       "min    2.546300e+03  \n",
       "25%    7.525166e+04  \n",
       "50%    1.196268e+05  \n",
       "75%    1.744998e+05  \n",
       "max    1.395064e+06  "
      ]
     },
     "execution_count": 21,
     "metadata": {},
     "output_type": "execute_result"
    }
   ],
   "source": [
    "df_short = df[['score', 'age', 'equity', 'balance', 'products', 'total_income']]\n",
    "df_short.describe()"
   ]
  },
  {
   "cell_type": "code",
   "execution_count": 22,
   "metadata": {
    "scrolled": true
   },
   "outputs": [
    {
     "data": {
      "image/png": "[encoded data removed]",
      "text/plain": [
       "<Figure size 504x288 with 1 Axes>"
      ]
     },
     "metadata": {},
     "output_type": "display_data"
    }
   ],
   "source": [
    "sns.set_style('whitegrid')\n",
    "sns.set_palette('deep') \n",
    "\n",
    "plt.figure(figsize=(7, 4))\n",
    "sns.histplot(df['score'], bins=20)\n",
    "\n",
    "plt.title('Распределение баллов кредитного скоринга')\n",
    "plt.xlabel('Количество баллов')\n",
    "plt.ylabel('Количество клиентов')\n",
    "\n",
    "plt.show()\n",
    "\n",
    "# строим гистограмму для распределения баллов кредитного скоринга"
   ]
  },
  {
   "cell_type": "markdown",
   "metadata": {},
   "source": [
    "Распределение баллов кредитного скоринга выглядит нормальным, большинство клиентов имеют колличество баллов от 770 до 930."
   ]
  },
  {
   "cell_type": "code",
   "execution_count": 23,
   "metadata": {
    "scrolled": true
   },
   "outputs": [
    {
     "data": {
      "image/png": "[encoded data removed]",
      "text/plain": [
       "<Figure size 504x288 with 1 Axes>"
      ]
     },
     "metadata": {},
     "output_type": "display_data"
    }
   ],
   "source": [
    "plt.figure(figsize=(7, 4))\n",
    "sns.histplot(df['age'], bins=15)\n",
    "\n",
    "plt.title('Распределение возраста клиентов')\n",
    "plt.xlabel('Возраст')\n",
    "plt.ylabel('Количество клиентов')\n",
    "\n",
    "plt.show()\n",
    "\n",
    "# строим гистограмму распределения возрастов клиентов"
   ]
  },
  {
   "cell_type": "markdown",
   "metadata": {},
   "source": [
    "Распределение возраста клиентов выглядит нормальным, больше всего клиентов в возрасте от 33 до 45 лет."
   ]
  },
  {
   "cell_type": "code",
   "execution_count": 24,
   "metadata": {},
   "outputs": [
    {
     "data": {
      "image/png": "[encoded data removed]",
      "text/plain": [
       "<Figure size 504x288 with 1 Axes>"
      ]
     },
     "metadata": {},
     "output_type": "display_data"
    }
   ],
   "source": [
    "plt.figure(figsize=(7, 4))\n",
    "sns.histplot(df['equity'], bins=10)\n",
    "\n",
    "plt.title('Распределение баллов собственности')\n",
    "plt.xlabel('Баллы')\n",
    "plt.ylabel('Количество клиентов')\n",
    "\n",
    "plt.show()\n",
    "\n",
    "# строим гистограмму распределения баллов собственности"
   ]
  },
  {
   "cell_type": "markdown",
   "metadata": {},
   "source": [
    "Распределение собственности выглядит нормальным, у четверти клиентов отсутсвует какая либо собственность - их балл равен 0."
   ]
  },
  {
   "cell_type": "code",
   "execution_count": 25,
   "metadata": {},
   "outputs": [
    {
     "data": {
      "image/png": "[encoded data removed]",
      "text/plain": [
       "<Figure size 504x288 with 1 Axes>"
      ]
     },
     "metadata": {},
     "output_type": "display_data"
    }
   ],
   "source": [
    "fig, ax = plt.subplots(figsize=(7, 4))\n",
    "ax.scatter(x = df['user_id'], y = df['balance'])\n",
    "plt.title('Распределение баланса на счетах клиентов')\n",
    "plt.xlabel('Клиенты')\n",
    "plt.ylabel('Баланс')\n",
    "\n",
    "plt.show()\n",
    "\n",
    "# строим диаграмму рассеяния для распределения баланса на счетах клиентов"
   ]
  },
  {
   "cell_type": "code",
   "execution_count": 26,
   "metadata": {},
   "outputs": [
    {
     "name": "stdout",
     "output_type": "stream",
     "text": [
      "Сумма денег на всех клиентских счетах банка:  6365654795.93\n"
     ]
    }
   ],
   "source": [
    "balance_total = df['balance'].sum()\n",
    "print('Сумма денег на всех клиентских счетах банка: ', balance_total)"
   ]
  },
  {
   "cell_type": "code",
   "execution_count": 27,
   "metadata": {},
   "outputs": [
    {
     "name": "stdout",
     "output_type": "stream",
     "text": [
      "Сумма счетов, баланс которых составляет более 10 млн.: 589954464.45\n"
     ]
    }
   ],
   "source": [
    "df_unique_balance = df.query('balance > 10000000')\n",
    "df_unique_balance = df_unique_balance['balance'].sum()\n",
    "\n",
    "print('Сумма счетов, баланс которых составляет более 10 млн.:', df_unique_balance)"
   ]
  },
  {
   "cell_type": "code",
   "execution_count": 28,
   "metadata": {},
   "outputs": [
    {
     "name": "stdout",
     "output_type": "stream",
     "text": [
      "Счета с балансом более 10 млн. составляют 9.27 % от общих активов банка\n"
     ]
    }
   ],
   "source": [
    "print('Счета с балансом более 10 млн. составляют', \\\n",
    "      round((df_unique_balance / df['balance'].sum()) * 100, 2), \\\n",
    "      '% от общих активов банка')"
   ]
  },
  {
   "cell_type": "markdown",
   "metadata": {},
   "source": [
    "1. Минимальный баланс на счету - 0, максимальный баланс на счету - 119 113 552 рублей. \n",
    "2. На графиках бы можем наблюдать выбросы, к ним можно отнести все суммы более 10 млн. рублей. Но если мы удалим эти выбросы, мы избавимся от 9.27% активов банка, что недопустимо. Таким образом принято решение не удалять выбросы, иначе мы потеряем очень много данных."
   ]
  },
  {
   "cell_type": "code",
   "execution_count": 29,
   "metadata": {},
   "outputs": [
    {
     "data": {
      "image/png": "[encoded data removed]",
      "text/plain": [
       "<Figure size 504x288 with 1 Axes>"
      ]
     },
     "metadata": {},
     "output_type": "display_data"
    }
   ],
   "source": [
    "plt.figure(figsize=(7, 4))\n",
    "sns.histplot(df['products'], bins=5)\n",
    "\n",
    "plt.title('Распределение количества банковских продуктов на клиента')\n",
    "plt.xlabel('Количество банковских продуктов')\n",
    "plt.ylabel('Количество клиентов')\n",
    "\n",
    "plt.show()\n",
    "\n",
    "# строим гистограмму распределения количества банковских продуктов у одного клиента"
   ]
  },
  {
   "cell_type": "markdown",
   "metadata": {},
   "source": [
    "Гистограмма распределение банковских продуктов выглядит нормальной, большинство клиентов имеют 2 продукта банка."
   ]
  },
  {
   "cell_type": "code",
   "execution_count": 30,
   "metadata": {},
   "outputs": [
    {
     "data": {
      "image/png": "[encoded data removed]",
      "text/plain": [
       "<Figure size 504x288 with 1 Axes>"
      ]
     },
     "metadata": {},
     "output_type": "display_data"
    }
   ],
   "source": [
    "fig, ax = plt.subplots(figsize=(7, 4))\n",
    "ax.scatter(x = df['user_id'], y = df['total_income'])\n",
    "plt.title('Распределение оценочного дохода клиентов')\n",
    "plt.xlabel('Клиенты')\n",
    "plt.ylabel('Доход')\n",
    "\n",
    "plt.show()\n",
    "\n",
    "# строим диаграмму рассеяния для распределения оценочного дохода клиентов"
   ]
  },
  {
   "cell_type": "markdown",
   "metadata": {},
   "source": [
    "75% клиентов имеют доход не более 200 000 рублей, минимальный оценочный доход - 2 546, максимальный - 1 395 064 рублей. Принято решение оставить выбросы, иначе мы избавиимся от слишком большого количества данных."
   ]
  },
  {
   "cell_type": "markdown",
   "metadata": {},
   "source": [
    "### Выводы"
   ]
  },
  {
   "cell_type": "markdown",
   "metadata": {},
   "source": [
    "1. Привели все названия столбцов к единому виду, переименовали несколько столбцов для удобства работы.\n",
    "2. Изучили, к какому типу данных относятся значения в каждом столбце. В столбце \"возраст\" изменили тип данных на цельночисленный. \n",
    "3. Проверили данные на пропуски:\n",
    "  * В столбце баланс на счете было обнаружено 2295 пропущенных значений. Проверили теорию, что это клиенты, покинувшие банк, теория не подтвердилась. Из 2295 клиентов, у которых не заполнена графа баланс на счете, только 13 человек покинули банк. Было принято решение не заполнять пропуски, так как это активные клиенты, у которых есть разное количество продуктов банка и кредитные карты;\n",
    "  * На этапе изменения типа данных было обнаружено 26 клиентов, у которых не указан возраст, было принято решение удалить эти данные из датасета, так как они составляли 0,26% от общего количества.\n",
    "4. Проверили данные на на дубликаты:\n",
    "  * По результатам проверки полные дубликаты отсутствуют;\n",
    "  * Было обнаружено 50 дубликатов по идентификаторам пользователей. Изучив данные, определили, что идентификаторы повторяются у пользователей, которые являются клиентами банка в разных городах. Возможно, раньше у каждого отделения была своя база данных, которые в последствии объединили, из-за чего часть идентификаторов пользователей стали дублироваться;\n",
    "  * Проверили данные на дубликаты по нескольким параметрам: идентификатор пользователя, город и пол клиента, дубликатов обнаружено не было. Наша теория подтвердилась, под одинаковыми идентификаторами скрываются разные клиенты банка.\n",
    "5. Проверили данные на аномалии:\n",
    "  * Аномалии могут появиться в некатегориальных и категориальных небинарных данных. К таким относятся столбцы с информацией о баллах кредитного скоринга, возрасте, баллах собственности, балансе на счете, количестве банковских продуктов и общем доходе клиента; \n",
    "  * Распределение баллов кредитного скоринга выглядит нормальным, большинство клиентов имеют колличество баллов от 770 до 930;\n",
    "  * Распределение возраста клиентов выглядит нормальным, больше всего клиентов в возрасте от 33 до 45 лет;\n",
    "  * Распределение собственности выглядит нормальным, у 25% клиентов отсутсвует какая либо собственность - их балл равен 0;\n",
    "  * Минимальный баланс на счету - 0, максимальный баланс на счету - 119 113 552 рублей. На графиках бы можем наблюдать выбросы, к ним можно отнести все суммы более 10 млн. рублей. Но если мы удалим эти выбросы, мы избавимся от 9.27% активов банка, что недопустимо. Таким образом принято решение не удалять выбросы, иначе мы потеряем очень много данных;\n",
    "  * Гистограмма распределение банковских продуктов выглядит нормальной, большинство клиентов имеют 2 продукта банка;\n",
    "  * 75% клиентов имеют доход не более 200 000 рублей, минимальный оценочный доход - 2 546, максимальный - 1 395 064 рублей. Принято решение оставить выбросы, иначе мы избавиимся от слишком большого количества данных."
   ]
  },
  {
   "cell_type": "markdown",
   "metadata": {},
   "source": [
    "## Исследовательский анализ данных"
   ]
  },
  {
   "cell_type": "code",
   "execution_count": 31,
   "metadata": {},
   "outputs": [
    {
     "name": "stdout",
     "output_type": "stream",
     "text": [
      "Количество клиентов в банке: 9974\n"
     ]
    }
   ],
   "source": [
    "print('Количество клиентов в банке:', df['churn'].count())\n",
    "\n",
    "# считаем количество клиентов в банке, которое у нас осталось после предобработки"
   ]
  },
  {
   "cell_type": "code",
   "execution_count": 32,
   "metadata": {},
   "outputs": [
    {
     "name": "stdout",
     "output_type": "stream",
     "text": [
      "Количество клиентов, ушедших из банка: 1819\n"
     ]
    }
   ],
   "source": [
    "print('Количество клиентов, ушедших из банка:', df['churn'].sum())\n",
    "\n",
    "# считаем количество клиентов, ушедших из банка"
   ]
  },
  {
   "cell_type": "code",
   "execution_count": 33,
   "metadata": {},
   "outputs": [
    {
     "name": "stdout",
     "output_type": "stream",
     "text": [
      "Процент оттока составляет: 18.24\n"
     ]
    }
   ],
   "source": [
    "print('Процент оттока составляет:', round((df['churn'].sum() / df['churn'].count()) * 100, 2))\n",
    "\n",
    "# считаем процент оттока клиентов"
   ]
  },
  {
   "cell_type": "markdown",
   "metadata": {},
   "source": [
    "### Критерии для анализа оттока"
   ]
  },
  {
   "cell_type": "markdown",
   "metadata": {},
   "source": [
    "**Критерии, по которым будем анализировать отток клиентов:**\n",
    "* score -баллы кредитного скоринга;\n",
    "* city - город;\n",
    "* gender - пол;\n",
    "* age - возраст;\n",
    "* equity - количество баллов собственности;\n",
    "* balance - баланс на счете;\n",
    "* products - количество продуктов, которыми пользуется клиент;\n",
    "* credit_card - есть ли кредитная карта;\n",
    "* last_activity - активный клиент;\n",
    "* total_income - оценочных доход клиента."
   ]
  },
  {
   "cell_type": "markdown",
   "metadata": {},
   "source": [
    "### Анализ оттока клиентов по каждому признаку"
   ]
  },
  {
   "cell_type": "code",
   "execution_count": 34,
   "metadata": {},
   "outputs": [
    {
     "data": {
      "image/png": "[encoded data removed]",
      "text/plain": [
       "<Figure size 720x432 with 1 Axes>"
      ]
     },
     "metadata": {},
     "output_type": "display_data"
    }
   ],
   "source": [
    "sns.set_style('darkgrid') \n",
    "\n",
    "plt.figure(figsize=(10, 6))\n",
    "sns.histplot(data=df, \n",
    "             hue='churn', \n",
    "             x='score', \n",
    "             stat='density', \n",
    "             common_norm=False,\n",
    "             palette='flag')\n",
    "\n",
    "plt.title('Гистограмма отточности клиентов по признаку баллов кредитного скоринга')\n",
    "plt.xlabel('Баллы кредитного скоринга')\n",
    "plt.ylabel('Вероятность оттока')\n",
    "plt.legend(labels=['ушли', 'остались'])\n",
    "\n",
    "plt.show()"
   ]
  },
  {
   "cell_type": "markdown",
   "metadata": {},
   "source": [
    "Исходя из гистограммы отточносити клиентов по признаку баллов кредитного скоринга, можем отметить:\n",
    "* уходят клиенты, имеющие баллы в диапазоне от 825 до 940;\n",
    "* клиенты с баллами до 825 и выше 940 не уходят из банка."
   ]
  },
  {
   "cell_type": "code",
   "execution_count": 35,
   "metadata": {},
   "outputs": [
    {
     "data": {
      "image/png": "[encoded data removed]",
      "text/plain": [
       "<Figure size 720x432 with 1 Axes>"
      ]
     },
     "metadata": {},
     "output_type": "display_data"
    }
   ],
   "source": [
    "plt.figure(figsize=(10, 6))\n",
    "sns.histplot(data=df, \n",
    "             hue='churn', \n",
    "             x='city', \n",
    "             stat='density', \n",
    "             common_norm=False,\n",
    "             palette='flag')\n",
    "\n",
    "plt.title('Гистограмма отточности клиентов по признаку города')\n",
    "plt.xlabel('Город')\n",
    "plt.ylabel('Вероятность оттока')\n",
    "plt.legend(labels=['ушли', 'остались'])\n",
    "\n",
    "plt.show()"
   ]
  },
  {
   "cell_type": "markdown",
   "metadata": {},
   "source": [
    "Исходя из гистограммы отточносити клиентов по признаку города, можем отметить:\n",
    "\n",
    "* уходят клиенты из Ярославля и очень небольшой процент из Ростова;\n",
    "* клиенты из Рыбинска не уходят из банка."
   ]
  },
  {
   "cell_type": "code",
   "execution_count": 36,
   "metadata": {},
   "outputs": [
    {
     "data": {
      "image/png": "[encoded data removed]",
      "text/plain": [
       "<Figure size 720x432 with 1 Axes>"
      ]
     },
     "metadata": {},
     "output_type": "display_data"
    }
   ],
   "source": [
    "plt.figure(figsize=(10, 6))\n",
    "sns.histplot(data=df, \n",
    "             hue='churn', \n",
    "             x='gender', \n",
    "             stat='density', \n",
    "             common_norm=False,\n",
    "             palette='flag')\n",
    "\n",
    "plt.title('Гистограмма отточности клиентов по признаку пола')\n",
    "plt.xlabel('Пол')\n",
    "plt.ylabel('Вероятность оттока')\n",
    "plt.legend(labels=['ушли', 'остались'])\n",
    "\n",
    "plt.show()"
   ]
  },
  {
   "cell_type": "markdown",
   "metadata": {},
   "source": [
    "Исходя из гистограммы отточносити клиентов по признаку пола, можем отметить:\n",
    "\n",
    "* уходят преимущественно клиенты мужского пола;\n",
    "* оттока у клиентов женского пола не отмечено."
   ]
  },
  {
   "cell_type": "code",
   "execution_count": 37,
   "metadata": {},
   "outputs": [
    {
     "data": {
      "image/png": "[encoded data removed]",
      "text/plain": [
       "<Figure size 720x432 with 1 Axes>"
      ]
     },
     "metadata": {},
     "output_type": "display_data"
    }
   ],
   "source": [
    "plt.figure(figsize=(10, 6))\n",
    "sns.histplot(data=df, \n",
    "             hue='churn', \n",
    "             x='age', \n",
    "             stat='density', \n",
    "             common_norm=False,\n",
    "             palette='flag')\n",
    "\n",
    "plt.title('Гистограмма отточности клиентов по признаку возраста')\n",
    "plt.xlabel('Возраст')\n",
    "plt.ylabel('Вероятность оттока')\n",
    "plt.legend(labels=['ушли', 'остались'])\n",
    "\n",
    "plt.show()"
   ]
  },
  {
   "cell_type": "markdown",
   "metadata": {},
   "source": [
    "Исходя из гистограммы отточносити клиентов по признаку возраста, можем отметить:\n",
    "\n",
    "* уходят клиенты в возрасте от 25 до 37 лет;\n",
    "* уходят клиенты в возрасте от 50 до 60 лет."
   ]
  },
  {
   "cell_type": "code",
   "execution_count": 38,
   "metadata": {},
   "outputs": [
    {
     "data": {
      "image/png": "[encoded data removed]",
      "text/plain": [
       "<Figure size 720x432 with 1 Axes>"
      ]
     },
     "metadata": {},
     "output_type": "display_data"
    }
   ],
   "source": [
    "plt.figure(figsize=(10, 6))\n",
    "sns.histplot(data=df, \n",
    "             hue='churn', \n",
    "             x='equity', \n",
    "             stat='density', \n",
    "             common_norm=False,\n",
    "             palette='flag')\n",
    "\n",
    "plt.title('Гистограмма отточности клиентов по признаку количества баллов собственности')\n",
    "plt.xlabel('Колличество баллов собственности')\n",
    "plt.ylabel('Вероятность оттока')\n",
    "plt.legend(labels=['ушли', 'остались'])\n",
    "\n",
    "plt.show()"
   ]
  },
  {
   "cell_type": "markdown",
   "metadata": {},
   "source": [
    "Исходя из гистограммы отточносити клиентов по признаку баллов собственности, можем отметить:\n",
    "\n",
    "* уходят клиенты с количеством баллов собственности от 3 до 9;\n",
    "* клиенты с количеством баллов собственности от 0 до 3 остаются."
   ]
  },
  {
   "cell_type": "code",
   "execution_count": 39,
   "metadata": {},
   "outputs": [
    {
     "data": {
      "image/png": "[encoded data removed]",
      "text/plain": [
       "<Figure size 720x432 with 1 Axes>"
      ]
     },
     "metadata": {},
     "output_type": "display_data"
    }
   ],
   "source": [
    "plt.figure(figsize=(10, 6))\n",
    "sns.histplot(data=df, \n",
    "             hue='churn', \n",
    "             x='balance', \n",
    "             stat='density', \n",
    "             common_norm=False,\n",
    "             palette='flag')\n",
    "\n",
    "plt.title('Гистограмма отточности клиентов по признаку баланса на счете')\n",
    "plt.xlabel('Баланс')\n",
    "plt.ylabel('Вероятность оттока')\n",
    "plt.legend(labels=['ушли', 'остались'])\n",
    "plt.xlim(0, 10000000) \n",
    "\n",
    "plt.show()"
   ]
  },
  {
   "cell_type": "markdown",
   "metadata": {},
   "source": [
    "Исходя из гистограммы отточносити клиентов по признаку баланса, можем отметить:\n",
    "\n",
    "* уходят клиенты с балансом на счету более 100 тысяч;\n",
    "* клиенты с балансом на счету менее 100 тысяч остаются."
   ]
  },
  {
   "cell_type": "code",
   "execution_count": 40,
   "metadata": {},
   "outputs": [
    {
     "data": {
      "image/png": "[encoded data removed]",
      "text/plain": [
       "<Figure size 720x432 with 1 Axes>"
      ]
     },
     "metadata": {},
     "output_type": "display_data"
    }
   ],
   "source": [
    "plt.figure(figsize=(10, 6))\n",
    "sns.histplot(data=df, \n",
    "             hue='churn', \n",
    "             x='products', \n",
    "             stat='density', \n",
    "             common_norm=False,\n",
    "             palette='flag')\n",
    "\n",
    "plt.title('Гистограмма отточности клиентов по признаку количества продуктов у клиента')\n",
    "plt.xlabel('Количество продуктов')\n",
    "plt.ylabel('Вероятность оттока')\n",
    "plt.legend(labels=['ушли', 'остались'])\n",
    "\n",
    "plt.show()"
   ]
  },
  {
   "cell_type": "markdown",
   "metadata": {},
   "source": [
    "Исходя из гистограммы отточносити клиентов по признаку количества продуктов банка, можем отметить:\n",
    "\n",
    "* уходят клиенты, которые пользуются 2 и более продуктами банка;\n",
    "* клиенты с 1-2 продуктами чаще остаются."
   ]
  },
  {
   "cell_type": "code",
   "execution_count": 41,
   "metadata": {},
   "outputs": [
    {
     "data": {
      "image/png": "[encoded data removed]",
      "text/plain": [
       "<Figure size 720x432 with 1 Axes>"
      ]
     },
     "metadata": {},
     "output_type": "display_data"
    }
   ],
   "source": [
    "plt.figure(figsize=(10, 6))\n",
    "sns.histplot(data=df, \n",
    "             hue='churn', \n",
    "             x='credit_card', \n",
    "             stat='density', \n",
    "             common_norm=False,\n",
    "             palette='flag')\n",
    "\n",
    "plt.title('Гистограмма отточности клиентов по признаку наличия кредитной карты')\n",
    "plt.xlabel('Есть ли кредитная карта')\n",
    "plt.ylabel('Вероятность оттока')\n",
    "plt.legend(labels=['ушли', 'остались'])\n",
    "\n",
    "plt.show()"
   ]
  },
  {
   "cell_type": "markdown",
   "metadata": {},
   "source": [
    "Исходя из гистограммы отточносити клиентов по признаку наличия кредитной карты, можем отметить:\n",
    "\n",
    "* 0 - нет кредитной карты, 1 - есть кредитная карта;\n",
    "* вероятность оттока у клиентов без кредитной карты значительно выше."
   ]
  },
  {
   "cell_type": "code",
   "execution_count": 42,
   "metadata": {},
   "outputs": [
    {
     "data": {
      "image/png": "[encoded data removed]",
      "text/plain": [
       "<Figure size 720x432 with 1 Axes>"
      ]
     },
     "metadata": {},
     "output_type": "display_data"
    }
   ],
   "source": [
    "plt.figure(figsize=(10, 6))\n",
    "sns.histplot(data=df, \n",
    "             hue='churn', \n",
    "             x='last_activity', \n",
    "             stat='density', \n",
    "             common_norm=False,\n",
    "             palette='flag')\n",
    "\n",
    "plt.title('Гистограмма отточности клиентов по признаку активности за последние 6 месяцев')\n",
    "plt.xlabel('Активен ли клиент')\n",
    "plt.ylabel('Вероятность оттока')\n",
    "plt.legend(labels=['ушли', 'остались'])\n",
    "\n",
    "plt.show()"
   ]
  },
  {
   "cell_type": "markdown",
   "metadata": {},
   "source": [
    "Исходя из гистограммы отточносити клиентов по признаку активности, можем отметить:\n",
    "\n",
    "* 0 - клиент не активен, 1 - клиент активен;\n",
    "* вероятность оттока у активных клиентов значительно выше."
   ]
  },
  {
   "cell_type": "code",
   "execution_count": 43,
   "metadata": {},
   "outputs": [
    {
     "data": {
      "image/png": "[encoded data removed]",
      "text/plain": [
       "<Figure size 720x432 with 1 Axes>"
      ]
     },
     "metadata": {},
     "output_type": "display_data"
    }
   ],
   "source": [
    "plt.figure(figsize=(10, 6))\n",
    "sns.histplot(data=df, \n",
    "             hue='churn', \n",
    "             x='total_income', \n",
    "             stat='density', \n",
    "             common_norm=False,\n",
    "             palette='flag')\n",
    "\n",
    "plt.title('Гистограмма отточности клиентов по признаку оценочного дохода клиента')\n",
    "plt.xlabel('Оценочных доход клиента')\n",
    "plt.ylabel('Вероятность оттока')\n",
    "plt.legend(labels=['ушли', 'остались'])\n",
    "plt.xlim(0, 1000000) \n",
    "\n",
    "plt.show()"
   ]
  },
  {
   "cell_type": "markdown",
   "metadata": {},
   "source": [
    "Исходя из гистограммы отточносити клиентов по признаку оценочного дохода, можем отметить:\n",
    "\n",
    "* уходят клиенты с оценочным доходом более 100 тысяч в месяц;\n",
    "* клиенты с доходом менее 100 тысяч остаются."
   ]
  },
  {
   "cell_type": "markdown",
   "metadata": {},
   "source": [
    "### Исследование корреляций"
   ]
  },
  {
   "cell_type": "code",
   "execution_count": 44,
   "metadata": {},
   "outputs": [],
   "source": [
    "df_corr = df[['score', 'city', 'gender', 'age', 'equity', 'balance', \\\n",
    "             'products', 'credit_card', 'last_activity', 'total_income', 'churn']]\n",
    "\n",
    "# готовим данные для анализа корреляции"
   ]
  },
  {
   "cell_type": "code",
   "execution_count": 45,
   "metadata": {},
   "outputs": [
    {
     "name": "stdout",
     "output_type": "stream",
     "text": [
      "interval columns not set, guessing: ['score', 'age', 'equity', 'balance', 'products', 'credit_card', 'last_activity', 'total_income', 'churn']\n"
     ]
    },
    {
     "data": {
      "text/html": [
       "<div>\n",
       "<style scoped>\n",
       "    .dataframe tbody tr th:only-of-type {\n",
       "        vertical-align: middle;\n",
       "    }\n",
       "\n",
       "    .dataframe tbody tr th {\n",
       "        vertical-align: top;\n",
       "    }\n",
       "\n",
       "    .dataframe thead th {\n",
       "        text-align: right;\n",
       "    }\n",
       "</style>\n",
       "<table border=\"1\" class=\"dataframe\">\n",
       "  <thead>\n",
       "    <tr style=\"text-align: right;\">\n",
       "      <th></th>\n",
       "      <th>score</th>\n",
       "      <th>city</th>\n",
       "      <th>gender</th>\n",
       "      <th>age</th>\n",
       "      <th>equity</th>\n",
       "      <th>balance</th>\n",
       "      <th>products</th>\n",
       "      <th>credit_card</th>\n",
       "      <th>last_activity</th>\n",
       "      <th>total_income</th>\n",
       "      <th>churn</th>\n",
       "    </tr>\n",
       "  </thead>\n",
       "  <tbody>\n",
       "    <tr>\n",
       "      <th>score</th>\n",
       "      <td>1.00</td>\n",
       "      <td>0.09</td>\n",
       "      <td>0.07</td>\n",
       "      <td>0.04</td>\n",
       "      <td>0.53</td>\n",
       "      <td>0.17</td>\n",
       "      <td>0.31</td>\n",
       "      <td>0.21</td>\n",
       "      <td>0.05</td>\n",
       "      <td>0.40</td>\n",
       "      <td>0.23</td>\n",
       "    </tr>\n",
       "    <tr>\n",
       "      <th>city</th>\n",
       "      <td>0.09</td>\n",
       "      <td>1.00</td>\n",
       "      <td>0.01</td>\n",
       "      <td>0.09</td>\n",
       "      <td>0.06</td>\n",
       "      <td>0.04</td>\n",
       "      <td>0.22</td>\n",
       "      <td>0.07</td>\n",
       "      <td>0.03</td>\n",
       "      <td>0.17</td>\n",
       "      <td>0.02</td>\n",
       "    </tr>\n",
       "    <tr>\n",
       "      <th>gender</th>\n",
       "      <td>0.07</td>\n",
       "      <td>0.01</td>\n",
       "      <td>1.00</td>\n",
       "      <td>0.29</td>\n",
       "      <td>0.06</td>\n",
       "      <td>0.05</td>\n",
       "      <td>0.12</td>\n",
       "      <td>0.20</td>\n",
       "      <td>0.01</td>\n",
       "      <td>0.14</td>\n",
       "      <td>0.22</td>\n",
       "    </tr>\n",
       "    <tr>\n",
       "      <th>age</th>\n",
       "      <td>0.04</td>\n",
       "      <td>0.09</td>\n",
       "      <td>0.29</td>\n",
       "      <td>1.00</td>\n",
       "      <td>0.04</td>\n",
       "      <td>0.02</td>\n",
       "      <td>0.13</td>\n",
       "      <td>0.16</td>\n",
       "      <td>0.09</td>\n",
       "      <td>0.36</td>\n",
       "      <td>0.18</td>\n",
       "    </tr>\n",
       "    <tr>\n",
       "      <th>equity</th>\n",
       "      <td>0.53</td>\n",
       "      <td>0.06</td>\n",
       "      <td>0.06</td>\n",
       "      <td>0.04</td>\n",
       "      <td>1.00</td>\n",
       "      <td>0.00</td>\n",
       "      <td>0.44</td>\n",
       "      <td>0.22</td>\n",
       "      <td>0.05</td>\n",
       "      <td>0.29</td>\n",
       "      <td>0.35</td>\n",
       "    </tr>\n",
       "    <tr>\n",
       "      <th>balance</th>\n",
       "      <td>0.17</td>\n",
       "      <td>0.04</td>\n",
       "      <td>0.05</td>\n",
       "      <td>0.02</td>\n",
       "      <td>0.00</td>\n",
       "      <td>1.00</td>\n",
       "      <td>0.00</td>\n",
       "      <td>0.00</td>\n",
       "      <td>0.00</td>\n",
       "      <td>0.37</td>\n",
       "      <td>0.02</td>\n",
       "    </tr>\n",
       "    <tr>\n",
       "      <th>products</th>\n",
       "      <td>0.31</td>\n",
       "      <td>0.22</td>\n",
       "      <td>0.12</td>\n",
       "      <td>0.13</td>\n",
       "      <td>0.44</td>\n",
       "      <td>0.00</td>\n",
       "      <td>1.00</td>\n",
       "      <td>0.46</td>\n",
       "      <td>0.19</td>\n",
       "      <td>0.16</td>\n",
       "      <td>0.44</td>\n",
       "    </tr>\n",
       "    <tr>\n",
       "      <th>credit_card</th>\n",
       "      <td>0.21</td>\n",
       "      <td>0.07</td>\n",
       "      <td>0.20</td>\n",
       "      <td>0.16</td>\n",
       "      <td>0.22</td>\n",
       "      <td>0.00</td>\n",
       "      <td>0.46</td>\n",
       "      <td>1.00</td>\n",
       "      <td>0.05</td>\n",
       "      <td>0.04</td>\n",
       "      <td>0.20</td>\n",
       "    </tr>\n",
       "    <tr>\n",
       "      <th>last_activity</th>\n",
       "      <td>0.05</td>\n",
       "      <td>0.03</td>\n",
       "      <td>0.01</td>\n",
       "      <td>0.09</td>\n",
       "      <td>0.05</td>\n",
       "      <td>0.00</td>\n",
       "      <td>0.19</td>\n",
       "      <td>0.05</td>\n",
       "      <td>1.00</td>\n",
       "      <td>0.04</td>\n",
       "      <td>0.26</td>\n",
       "    </tr>\n",
       "    <tr>\n",
       "      <th>total_income</th>\n",
       "      <td>0.40</td>\n",
       "      <td>0.17</td>\n",
       "      <td>0.14</td>\n",
       "      <td>0.36</td>\n",
       "      <td>0.29</td>\n",
       "      <td>0.37</td>\n",
       "      <td>0.16</td>\n",
       "      <td>0.04</td>\n",
       "      <td>0.04</td>\n",
       "      <td>1.00</td>\n",
       "      <td>0.05</td>\n",
       "    </tr>\n",
       "    <tr>\n",
       "      <th>churn</th>\n",
       "      <td>0.23</td>\n",
       "      <td>0.02</td>\n",
       "      <td>0.22</td>\n",
       "      <td>0.18</td>\n",
       "      <td>0.35</td>\n",
       "      <td>0.02</td>\n",
       "      <td>0.44</td>\n",
       "      <td>0.20</td>\n",
       "      <td>0.26</td>\n",
       "      <td>0.05</td>\n",
       "      <td>1.00</td>\n",
       "    </tr>\n",
       "  </tbody>\n",
       "</table>\n",
       "</div>"
      ],
      "text/plain": [
       "               score  city  gender   age  equity  balance  products  \\\n",
       "score           1.00  0.09    0.07  0.04    0.53     0.17      0.31   \n",
       "city            0.09  1.00    0.01  0.09    0.06     0.04      0.22   \n",
       "gender          0.07  0.01    1.00  0.29    0.06     0.05      0.12   \n",
       "age             0.04  0.09    0.29  1.00    0.04     0.02      0.13   \n",
       "equity          0.53  0.06    0.06  0.04    1.00     0.00      0.44   \n",
       "balance         0.17  0.04    0.05  0.02    0.00     1.00      0.00   \n",
       "products        0.31  0.22    0.12  0.13    0.44     0.00      1.00   \n",
       "credit_card     0.21  0.07    0.20  0.16    0.22     0.00      0.46   \n",
       "last_activity   0.05  0.03    0.01  0.09    0.05     0.00      0.19   \n",
       "total_income    0.40  0.17    0.14  0.36    0.29     0.37      0.16   \n",
       "churn           0.23  0.02    0.22  0.18    0.35     0.02      0.44   \n",
       "\n",
       "               credit_card  last_activity  total_income  churn  \n",
       "score                 0.21           0.05          0.40   0.23  \n",
       "city                  0.07           0.03          0.17   0.02  \n",
       "gender                0.20           0.01          0.14   0.22  \n",
       "age                   0.16           0.09          0.36   0.18  \n",
       "equity                0.22           0.05          0.29   0.35  \n",
       "balance               0.00           0.00          0.37   0.02  \n",
       "products              0.46           0.19          0.16   0.44  \n",
       "credit_card           1.00           0.05          0.04   0.20  \n",
       "last_activity         0.05           1.00          0.04   0.26  \n",
       "total_income          0.04           0.04          1.00   0.05  \n",
       "churn                 0.20           0.26          0.05   1.00  "
      ]
     },
     "execution_count": 45,
     "metadata": {},
     "output_type": "execute_result"
    }
   ],
   "source": [
    "phik_overview = df_corr.phik_matrix()\n",
    "phik_overview.round(2)\n",
    "\n",
    "# считаем коэфициенты корреляции с помощью метода phik_matrix()\n",
    "# округляем до двух знаков после запятой и выводим на экран"
   ]
  },
  {
   "cell_type": "code",
   "execution_count": 46,
   "metadata": {},
   "outputs": [],
   "source": [
    "interval_cols = ['score', 'age', 'equity', 'balance', 'products', 'total_income']\n",
    "phik_overview = df_corr.phik_matrix(interval_cols=interval_cols)\n",
    "\n",
    "# отдельно выделяем непрерывные переменные"
   ]
  },
  {
   "cell_type": "code",
   "execution_count": 47,
   "metadata": {},
   "outputs": [
    {
     "data": {
      "image/png": "[encoded data removed]",
      "text/plain": [
       "<Figure size 720x576 with 2 Axes>"
      ]
     },
     "metadata": {},
     "output_type": "display_data"
    }
   ],
   "source": [
    "plot_correlation_matrix(phik_overview.values, \n",
    "                        x_labels=phik_overview.columns, \n",
    "                        y_labels=phik_overview.index, \n",
    "                        vmin=0, vmax=1, color_map=\"Greens\", \n",
    "                        title=r\"Корреляция $\\phi_K$\", \n",
    "                        fontsize_factor=1.5, \n",
    "                        figsize=(10, 8))\n",
    "plt.tight_layout()\n",
    "\n",
    "# строим хитмэп корреляции phik"
   ]
  },
  {
   "cell_type": "code",
   "execution_count": 48,
   "metadata": {},
   "outputs": [
    {
     "data": {
      "image/png": "[encoded data removed]",
      "text/plain": [
       "<Figure size 1008x720 with 2 Axes>"
      ]
     },
     "metadata": {},
     "output_type": "display_data"
    }
   ],
   "source": [
    "significance_overview = df_corr.significance_matrix(interval_cols=interval_cols)\n",
    "plot_correlation_matrix(significance_overview.fillna(0).values, \n",
    "                        x_labels=significance_overview.columns, \n",
    "                        y_labels=significance_overview.index, \n",
    "                        vmin=-5, vmax=5, title=\"Матрица статистической значимости коэфициентов\", \n",
    "                        usetex=False, fontsize_factor=1.5, figsize=(14, 10))\n",
    "\n",
    "plt.tight_layout()\n",
    "\n",
    "# строим матрицу статистической значимости коэфициентов"
   ]
  },
  {
   "cell_type": "code",
   "execution_count": 49,
   "metadata": {},
   "outputs": [
    {
     "data": {
      "image/png": "[encoded data removed]",
      "text/plain": [
       "<Figure size 252x288 with 2 Axes>"
      ]
     },
     "metadata": {},
     "output_type": "display_data"
    }
   ],
   "source": [
    "global_correlation, global_labels = df_corr.global_phik(interval_cols=interval_cols)\n",
    "\n",
    "plot_correlation_matrix(global_correlation, \n",
    "                        x_labels=[''], y_labels=global_labels, \n",
    "                        vmin=0, vmax=1, figsize=(3.5,4),\n",
    "                        color_map=\"Greens\", title=r\"$g_k$\",\n",
    "                        fontsize_factor=1.5)\n",
    "plt.tight_layout()\n",
    "\n",
    "# строим карту глобальной корреляции каждого признака"
   ]
  },
  {
   "cell_type": "markdown",
   "metadata": {},
   "source": [
    "Исходя из корреляции Phik, где 0 - это отсутствие связи, а 1 - максимальная взаимосвязь, наибольшую связь с оттоком клиентов имеют следующие признаки: \n",
    "* активный клиент - 0,26;\n",
    "* есть ли кредитная карта - 0,2;\n",
    "* количество продуктов, которыми пользуется клиент - 0,44;\n",
    "* количество баллов собственности - 0,35;\n",
    "* возраст - 0,19;\n",
    "* пол - 0,22;\n",
    "* количество баллов кредитного скоринга - 0,23.\n",
    "\n",
    "Почти отсутствует связь у оттока клиентов со следующими признаками:\n",
    "* оценочный доход - 0,05;\n",
    "* баланс на счете клиента - 0,02;\n",
    "* город - 0,02;\n",
    "\n",
    "Матрица статистической значимости коэффициентов подтверждает наши выводы."
   ]
  },
  {
   "cell_type": "markdown",
   "metadata": {},
   "source": [
    "### Вывод"
   ]
  },
  {
   "cell_type": "markdown",
   "metadata": {},
   "source": [
    "1. Количество клиентов в банке - 9974, количество клиентов, ушедших из банка - 1819. Процент оттока по банку составляет 18.24%.\n",
    " \n",
    " \n",
    "2. Критерии, по которым анализировали отток клиентов:\n",
    "* score -баллы кредитного скоринга;\n",
    "* city - город;\n",
    "* gender - пол;\n",
    "* age - возраст;\n",
    "* equity - количество баллов собственности;\n",
    "* balance - баланс на счете;\n",
    "* products - количество продуктов, которыми пользуется клиент;\n",
    "* credit_card - есть ли кредитная карта;\n",
    "* last_activity - активный клиент;\n",
    "* total_income - оценочных доход клиента.\n",
    "\n",
    "\n",
    "3. Анализ оттока клиентнов по каждому признаку:\n",
    "* по признаку баллов кредитного скоринга: уходят клиенты, имеющие баллы в диапозоне от 825 до 940 баллов;\n",
    "* по признаку города: уходят клиенты из Ярославля и очень небольшой процент из Ростова;\n",
    "* по признаку пола: уходят клиенты мужского пола;\n",
    "* по признаку возраста: уходят клиенты в возрасте от 25 до 37 лет и в возрасте от 50 до 60 лет;\n",
    "* по признаку баллов собственности: уходят клиенты с колличеством баллов собственности от 3 до 9;\n",
    "* по признаку баланса счета: уходят клиенты с балансом на счету более 100 тысяч;\n",
    "* по признаку количества продуктов банка: уходят клиенты, которые пользуются 2 и более продуктами банка;\n",
    "* по признаку наличия кредитной карты: вероятность оттока у клиентов без кредитной карты значительно выше;\n",
    "* по признаку активности клиента: вероятность оттока у активных клиентов значительно выше;\n",
    "* по признаку оценочного дохода: уходят клиенты с оценочным доходом более 100 тысяч в месяц.\n",
    "\n",
    "\n",
    "\n",
    "4. Исходя из корреляции Phik, где 0 - это отсутствие свзяи, а 1 - максимальная взаимосвзяь, наибольшую связь с оттоком клиентов имеют следующие признаки:\n",
    "* активный клиент - 0,26;\n",
    "* есть ли кредитная карта - 0,2;\n",
    "* количество продуктов, которыми пользуется клиент - 0,44;\n",
    "* колличество баллов собственности - 0,35;\n",
    "* возраст - 0,19;\n",
    "* пол - 0,22;\n",
    "* количество баллов кредитного скоринга - 0,23.\n",
    "\n",
    "5. Почти отсутствует связь у оттока клиентов со следующими признаками:\n",
    "* оценочный доход - 0,05;\n",
    "* баланс на счете клиента - 0,02;\n",
    "* город - 0,02;\n",
    "\n",
    "Матрица статистической значимости коэфициентов подтверждает наши выводы."
   ]
  },
  {
   "cell_type": "markdown",
   "metadata": {},
   "source": [
    "## Сегментирование клиентов банка"
   ]
  },
  {
   "cell_type": "markdown",
   "metadata": {},
   "source": [
    "### Выделение сегментов"
   ]
  },
  {
   "cell_type": "code",
   "execution_count": 50,
   "metadata": {},
   "outputs": [],
   "source": [
    "score = df.query('score > 825 & score < 940')\n",
    "city = df.query('city == \"Ярославль\"')\n",
    "gender = df.query('gender == \"М\"')\n",
    "age_young = df.query('age >= 25 & age <= 37')\n",
    "age_middle = df.query('age >= 50 & age <= 60')\n",
    "equity = df.query('equity >= 3')\n",
    "balance = df.query('balance >= 100000')\n",
    "products = df.query('products >= 2')\n",
    "credit_card = df.query('credit_card == 0')\n",
    "last_activity = df.query('last_activity == 1')\n",
    "total_income = df.query('total_income >= 100000')\n",
    "\n",
    "# фиксируем срезы, по которым будем выделять сегменты "
   ]
  },
  {
   "cell_type": "markdown",
   "metadata": {},
   "source": [
    "Далее методом подбора комбинаций отточных признаков опредеяем наиболее высокотточные сегменты клиентов банка.\n",
    "Так как средний отток по банку 18,24%, примем за высокоотточный сегмент отток более 30%."
   ]
  },
  {
   "cell_type": "code",
   "execution_count": 51,
   "metadata": {},
   "outputs": [
    {
     "data": {
      "text/plain": [
       "count    1759.000000\n",
       "sum       880.000000\n",
       "mean        0.500284\n",
       "Name: churn, dtype: float64"
      ]
     },
     "execution_count": 51,
     "metadata": {},
     "output_type": "execute_result"
    }
   ],
   "source": [
    "segment_1 = df.query('score > 825 & score < 940 & equity >= 3 & last_activity == 1')\n",
    "segment_1['churn'].agg(['count', 'sum', 'mean'])"
   ]
  },
  {
   "cell_type": "markdown",
   "metadata": {},
   "source": [
    "Сегмент 1 - отток 50,02%: \n",
    "\n",
    "Баллы кредитного скоринга у клиентов составляют 825-940, значит, эти люди берут кредиты, раз их кредитный рейтинг выше среднего. Количество баллов собственности более 3, значит, у них есть недвижимость. Так же они являются активными клиентами банка."
   ]
  },
  {
   "cell_type": "code",
   "execution_count": 52,
   "metadata": {},
   "outputs": [
    {
     "data": {
      "text/plain": [
       "count    1627.000000\n",
       "sum       654.000000\n",
       "mean        0.401967\n",
       "Name: churn, dtype: float64"
      ]
     },
     "execution_count": 52,
     "metadata": {},
     "output_type": "execute_result"
    }
   ],
   "source": [
    "segment_2 = df.query('gender == \"М\" & equity >= 3 & balance >= 100000 & total_income >= 100000')\n",
    "segment_2['churn'].agg(['count', 'sum', 'mean'])"
   ]
  },
  {
   "cell_type": "markdown",
   "metadata": {},
   "source": [
    "Сегмент 2 - отток 40,19%:\n",
    "\n",
    "Клиенты мужского пола, количество баллов недвижимости более 3. Баланс и ежемесячный оценочных доход составляют более 100 000 рублей."
   ]
  },
  {
   "cell_type": "code",
   "execution_count": 53,
   "metadata": {},
   "outputs": [
    {
     "data": {
      "text/plain": [
       "count    1172.000000\n",
       "sum       568.000000\n",
       "mean        0.484642\n",
       "Name: churn, dtype: float64"
      ]
     },
     "execution_count": 53,
     "metadata": {},
     "output_type": "execute_result"
    }
   ],
   "source": [
    "segment_3 = df.query('gender == \"М\" & equity >= 3 & products >= 2 & last_activity == 1')\n",
    "segment_3['churn'].agg(['count', 'sum', 'mean'])"
   ]
  },
  {
   "cell_type": "markdown",
   "metadata": {},
   "source": [
    "Сегмент 3 - отток 48,46%:\n",
    "\n",
    "Клиенты мужского пола, количество баллов недвижимости более 3. Активные пользователи, которые имеют более 2 продуктов банка."
   ]
  },
  {
   "cell_type": "code",
   "execution_count": 54,
   "metadata": {},
   "outputs": [
    {
     "data": {
      "text/plain": [
       "count    1046.000000\n",
       "sum       346.000000\n",
       "mean        0.330784\n",
       "Name: churn, dtype: float64"
      ]
     },
     "execution_count": 54,
     "metadata": {},
     "output_type": "execute_result"
    }
   ],
   "source": [
    "segment_4 = df.query('age >= 25 & age <= 37 & credit_card == 0')\n",
    "segment_4['churn'].agg(['count', 'sum', 'mean'])"
   ]
  },
  {
   "cell_type": "markdown",
   "metadata": {},
   "source": [
    "Сегмент 4 - отток 33,07%: \n",
    "\n",
    "Клиенты в возрасте от 25 до 37 лет, у которых отсутствует кредитная карта."
   ]
  },
  {
   "cell_type": "code",
   "execution_count": 55,
   "metadata": {},
   "outputs": [
    {
     "data": {
      "text/plain": [
       "count    1032.000000\n",
       "sum       369.000000\n",
       "mean        0.357558\n",
       "Name: churn, dtype: float64"
      ]
     },
     "execution_count": 55,
     "metadata": {},
     "output_type": "execute_result"
    }
   ],
   "source": [
    "segment_5 = df.query('age >= 50 & age <= 60 & equity >= 3')\n",
    "segment_5['churn'].agg(['count', 'sum', 'mean'])"
   ]
  },
  {
   "cell_type": "markdown",
   "metadata": {},
   "source": [
    "Сегмент 5 - отток 35,75%:\n",
    "\n",
    "Клиенты в возрасте от 50 до 60 лет, у которых количество баллов собственности больше или равно 3."
   ]
  },
  {
   "cell_type": "markdown",
   "metadata": {},
   "source": [
    "### Вывод"
   ]
  },
  {
   "cell_type": "markdown",
   "metadata": {},
   "source": [
    "Наиболее высокоотточые сегменты, на которые стоит обратить внимание отделу маркетинга:\n",
    "* **Сегмент 1** - отток 50,02%:\n",
    "Баллы кредитного скоринга у клиентов составляют 825-940, значит, эти люди берут кредиты, раз их кредитный рейтинг выше среднего. Количество баллов собственности более 3, значит, у них есть недвижимость. Так же они являются активными клиентами банка.\n",
    "\n",
    "* **Сегмент 2** - отток 40,19%:\n",
    "Клиенты мужского пола, количество баллов недвижимости более 3. Баланс и ежемесячный оценочных доход составляют более 100 000 рублей.\n",
    "\n",
    "* **Сегмент 3** - отток 48,46%:\n",
    "Клиенты мужского пола, количество баллов недвижимости более 3. Активные пользователи, которые имеют более 2 продуктов банка.\n",
    "\n",
    "* **Сегмент 4** - отток 33,07%:\n",
    "Клиенты в возрасте от 25 до 37 лет, у которых отсутствует кредитная карта.\n",
    "\n",
    "* **Сегмент 5** - отток 35,75%:\n",
    "Клиенты в возрасте от 50 до 60 лет, у которых количество баллов собственности больше или равно 3.\n",
    "    "
   ]
  },
  {
   "cell_type": "markdown",
   "metadata": {},
   "source": [
    "## Проверка гипотез"
   ]
  },
  {
   "cell_type": "markdown",
   "metadata": {},
   "source": [
    "### Формулируем и проверяем гипотезы"
   ]
  },
  {
   "cell_type": "markdown",
   "metadata": {},
   "source": [
    "**Гипотеза 1**\n",
    "\n",
    "* H0: средний доход клиентов, которые ушли, равен среднему доходу клиентов, которые остались.\n",
    "* H1: средний доход клиентов, которые ушли, не равен среднему доходу клиентов, которые остались.\n"
   ]
  },
  {
   "cell_type": "code",
   "execution_count": 56,
   "metadata": {},
   "outputs": [
    {
     "name": "stdout",
     "output_type": "stream",
     "text": [
      "p-значение: 0.8647861589211189\n",
      "Не получилось отвергнуть нулевую гипотезу\n"
     ]
    }
   ],
   "source": [
    "churn_false_i = df.query('churn == 0')['total_income']\n",
    "churn_true_i = df.query('churn == 1')['total_income']\n",
    "\n",
    "alpha = 0.05 # уровень статистической значимости\n",
    "# если p-value окажется меньше него, отвергнем гипотезу\n",
    "\n",
    "results = st.ttest_ind(churn_false_i, churn_true_i)\n",
    "\n",
    "print('p-значение:', results.pvalue)\n",
    "\n",
    "if results.pvalue < alpha:\n",
    "    print('Отвергаем нулевую гипотезу')\n",
    "else:\n",
    "    print('Не получилось отвергнуть нулевую гипотезу') "
   ]
  },
  {
   "cell_type": "markdown",
   "metadata": {},
   "source": [
    "Не получилось отвергнуть нулевую гипотезу: средний доход клиентов, которые ушли из банка, равен среднему доходу клиентов, которые остались. Гипотеза подтвердила вывод полученный ранее при исследовании корреляции, доход не влияет на уход клиентов из банка."
   ]
  },
  {
   "cell_type": "markdown",
   "metadata": {},
   "source": [
    "**Гипотеза 2**\n",
    "\n",
    "* H0: среднее количество продуктов банка у клиентов, которые ушли, равно среднему количеству продуктов у клиентов, которые остались.\n",
    "* H1: среднее количество продуктов банка у клиентов, которые ушли, не равно среднему количеству продуктов у клиентов, которые остались."
   ]
  },
  {
   "cell_type": "code",
   "execution_count": 57,
   "metadata": {},
   "outputs": [
    {
     "name": "stdout",
     "output_type": "stream",
     "text": [
      "p-значение: 2.0765646697701624e-207\n",
      "Отвергаем нулевую гипотезу\n"
     ]
    }
   ],
   "source": [
    "churn_false_p = df.query('churn == 0')['products']\n",
    "churn_true_p = df.query('churn == 1')['products']\n",
    "\n",
    "alpha = 0.05 # уровень статистической значимости\n",
    "# если p-value окажется меньше него, отвергнем гипотезу\n",
    "\n",
    "results = st.ttest_ind(churn_false_p, churn_true_p)\n",
    "\n",
    "print('p-значение:', results.pvalue)\n",
    "\n",
    "if results.pvalue < alpha:\n",
    "    print('Отвергаем нулевую гипотезу')\n",
    "else:\n",
    "    print('Не получилось отвергнуть нулевую гипотезу') "
   ]
  },
  {
   "cell_type": "markdown",
   "metadata": {},
   "source": [
    "По результатам теста отвергаем нулевую гипотезу, значит, среднее количество продуктов банка у клиентов, которые ушли, не равно среднему количеству продуктов у клиентов, которые остались. Количество продуктов влияет на уход клиентов из банка, что так же подтверждает корреляция Phik."
   ]
  },
  {
   "cell_type": "markdown",
   "metadata": {},
   "source": [
    "### Вывод"
   ]
  },
  {
   "cell_type": "markdown",
   "metadata": {},
   "source": [
    "**Гипотеза 1**\n",
    "* H0: средний доход клиентов, которые ушли, равен среднему доходу клиентов, которые остались.\n",
    "* H1: средний доход клиентов, которые ушли, не равен среднему доходу клиентов, которые остались.\n",
    "\n",
    "По результатам теста не получилось отвергнуть нулевую гипотезу: средний доход клиентов, которые ушли из банка, равен среднему доходу клиентов, которые остались. Гипотеза подтвердила вывод полученный ранее при исследовании корреляции, доход не влияет на уход клиентов из банка.\n",
    "\n",
    "**Гипотеза 2**\n",
    "* H0: среднее количество продуктов банка у клиентов, которые ушли, равно среднему количеству продуктов у клиентов, которые остались.\n",
    "* H1: среднее количество продуктов банка у клиентов, которые ушли, не равно среднему количеству продуктов у клиентов, которые остались.\n",
    "\n",
    "По результатам теста отвергаем нулевую гипотезу, значит, среднее количество продуктов банка у клиентов, которые ушли, не равно среднему количеству продуктов у клиентов, которые остались. Количество продуктов влияет на уход клиентов из банка."
   ]
  },
  {
   "cell_type": "markdown",
   "metadata": {},
   "source": [
    "## Выводы и рекомендации"
   ]
  },
  {
   "cell_type": "markdown",
   "metadata": {},
   "source": [
    "### Выводы о проделанной работе"
   ]
  },
  {
   "cell_type": "markdown",
   "metadata": {},
   "source": [
    "#### Загрузка данных\n",
    "  * импортировали библиотеки, необходимые для работы;\n",
    "  * загрузили данные в переменную;\n",
    "  * изучили общую информацию о датасете, мы располагаем данными о 10 тыс. клиентов."
   ]
  },
  {
   "cell_type": "markdown",
   "metadata": {},
   "source": [
    "#### Предобработка данных\n",
    "1. Привели все названия столбцов к единому виду, переименовали несколько столбцов для удобства работы.\n",
    "2. Изучили, к какому типу данных относятся значения в каждом столбце. В столбце \"возраст\" изменили тип данных на цельночисленный. \n",
    "3. Проверили данные на пропуски:\n",
    "  * В столбце баланс на счете было обнаружено 2295 пропущенных значений. Проверили теорию, что это клиенты, покинувшие банк, теория не подтвердилась. Из 2295 клиентов, у которых не заполнена графа баланс на счете, только 13 человек покинули банк. Было принято решение не заполнять пропуски, так как это активные клиенты, у которых есть разное количество продуктов банка и кредитные карты;\n",
    "  * На этапе изменения типа данных было обнаружено 26 клиентов, у которых не указан возраст, было принято решение удалить эти данные из датасета, так как они составляли 0,26% от общего количества.\n",
    "4. Проверили данные на на дубликаты:\n",
    "  * По результатам проверки полные дубликаты отсутствуют;\n",
    "  * Было обнаружено 50 дубликатов по идентификаторам пользователей. Изучив данные, определили, что идентификаторы повторяются у пользователей, которые являются клиентами банка в разных городах. Возможно, раньше у каждого отделения была своя база данных, которые в последствии объединили, из-за чего часть идентификаторов пользователей стали дублироваться;\n",
    "  * Проверили данные на дубликаты по нескольким параметрам: идентификатор пользователя, город и пол клиента, дубликатов обнаружено не было. Наша теория подтвердилась, под одинаковыми идентификаторами скрываются разные клиенты банка.\n",
    "5. Проверили данные на аномалии:\n",
    "  * Аномалии могут появиться в некатегориальных и категориальных небинарных данных. К таким относятся столбцы с информацией о баллах кредитного скоринга, возрасте, баллах собственности, балансе на счете, количестве банковских продуктов и общем доходе клиента; \n",
    "  * Распределение баллов кредитного скоринга выглядит нормальным, большинство клиентов имеют колличество баллов от 770 до 930;\n",
    "  * Распределение возраста клиентов выглядит нормальным, больше всего клиентов в возрасте от 33 до 45 лет;\n",
    "  * Распределение собственности выглядит нормальным, у 25% клиентов отсутсвует какая либо собственность - их балл равен 0;\n",
    "  * Минимальный баланс на счету - 0, максимальный баланс на счету - 119 113 552 рублей. На графиках бы можем наблюдать выбросы, к ним можно отнести все суммы более 10 млн. рублей. Но если мы удалим эти выбросы, мы избавимся от 9.27% активов банка, что недопустимо. Таким образом принято решение не удалять выбросы, иначе мы потеряем очень много данных;\n",
    "  * Гистограмма распределение банковских продуктов выглядит нормальной, большинство клиентов имеют 2 продукта банка;\n",
    "  * 75% клиентов имеют доход не более 200 000 рублей, минимальный оценочный доход - 2 546, максимальный - 1 395 064 рублей. Принято решение оставить выбросы, иначе мы избавиимся от слишком большого количества данных."
   ]
  },
  {
   "cell_type": "markdown",
   "metadata": {},
   "source": [
    "#### Исследовательский анализ данных\n",
    "1. Количество клиентов в банке - 9974, количество клиентов, ушедших из банка - 1819. Процент оттока по банку составляет 18.24%.\n",
    " \n",
    " \n",
    "2. Критерии, по которым анализировали отток клиентов:\n",
    "* score -баллы кредитного скоринга;\n",
    "* city - город;\n",
    "* gender - пол;\n",
    "* age - возраст;\n",
    "* equity - количество баллов собственности;\n",
    "* balance - баланс на счете;\n",
    "* products - количество продуктов, которыми пользуется клиент;\n",
    "* credit_card - есть ли кредитная карта;\n",
    "* last_activity - активный клиент;\n",
    "* total_income - оценочных доход клиента.\n",
    "\n",
    "\n",
    "3. Анализ оттока клиентнов по каждому признаку:\n",
    "* по признаку баллов кредитного скоринга: уходят клиенты, имеющие баллы в диапозоне от 825 до 940 баллов;\n",
    "* по признаку города: уходят клиенты из Ярославля и очень небольшой процент из Ростова;\n",
    "* по признаку пола: уходят клиенты мужского пола;\n",
    "* по признаку возраста: уходят клиенты в возрасте от 25 до 37 лет и в возрасте от 50 до 60 лет;\n",
    "* по признаку баллов собственности: уходят клиенты с колличеством баллов собственности от 3 до 9;\n",
    "* по признаку баланса счета: уходят клиенты с балансом на счету более 100 тысяч;\n",
    "* по признаку количества продуктов банка: уходят клиенты, которые пользуются 2 и более продуктами банка;\n",
    "* по признаку наличия кредитной карты: вероятность оттока у клиентов без кредитной карты значительно выше;\n",
    "* по признаку активности клиента: вероятность оттока у активных клиентов значительно выше;\n",
    "* по признаку оценочного дохода: уходят клиенты с оценочным доходом более 100 тысяч в месяц.\n",
    "\n",
    "\n",
    "\n",
    "4. Исходя из корреляции Phik, где 0 - это отсутствие свзяи, а 1 - максимальная взаимосвзяь, наибольшую связь с оттоком клиентов имеют следующие признаки:\n",
    "* активный клиент - 0,26;\n",
    "* есть ли кредитная карта - 0,2;\n",
    "* количество продуктов, которыми пользуется клиент - 0,44;\n",
    "* колличество баллов собственности - 0,35;\n",
    "* возраст - 0,19;\n",
    "* пол - 0,22;\n",
    "* количество баллов кредитного скоринга - 0,23.\n",
    "\n",
    "5. Почти отсутствует связь у оттока клиентов со следующими признаками:\n",
    "* оценочный доход - 0,05;\n",
    "* баланс на счете клиента - 0,02;\n",
    "* город - 0,02;\n",
    "\n",
    "Матрица статистической значимости коэфициентов подтверждает наши выводы."
   ]
  },
  {
   "cell_type": "markdown",
   "metadata": {},
   "source": [
    "#### Сегментирование клиентов банка\n",
    "\n",
    "Наиболее высокоотточые сегменты, на которые стоит обратить внимание отделу маркетинга:\n",
    "* **Сегмент 1** - отток 50,02%:\n",
    "Баллы кредитного скоринга у клиентов составляют 825-940, значит, эти люди берут кредиты, раз их кредитный рейтинг выше среднего. Количество баллов собственности более 3, значит, у них есть недвижимость. Так же они являются активными клиентами банка.\n",
    "\n",
    "* **Сегмент 2** - отток 40,19%:\n",
    "Клиенты мужского пола, количество баллов недвижимости более 3. Баланс и ежемесячный оценочных доход составляют более 100 000 рублей.\n",
    "\n",
    "* **Сегмент 3** - отток 48,46%:\n",
    "Клиенты мужского пола, количество баллов недвижимости более 3. Активные пользователи, которые имеют более 2 продуктов банка.\n",
    "\n",
    "* **Сегмент 4** - отток 33,07%:\n",
    "Клиенты в возрасте от 25 до 37 лет, у которых отсутствует кредитная карта.\n",
    "\n",
    "* **Сегмент 5** - отток 35,75%:\n",
    "Клиенты в возрасте от 50 до 60 лет, у которых количество баллов собственности больше или равно 3.\n",
    "    "
   ]
  },
  {
   "cell_type": "markdown",
   "metadata": {},
   "source": [
    "#### Проверка гипотез\n",
    "**Гипотеза 1**\n",
    "* H0: средний доход клиентов, которые ушли, равен среднему доходу клиентов, которые остались.\n",
    "* H1: средний доход клиентов, которые ушли, не равен среднему доходу клиентов, которые остались.\n",
    "\n",
    "По результатам теста не получилось отвергнуть нулевую гипотезу: средний доход клиентов, которые ушли из банка, равен среднему доходу клиентов, которые остались. Гипотеза подтвердила вывод полученный ранее при исследовании корреляции, доход не влияет на уход клиентов из банка.\n",
    "\n",
    "**Гипотеза 2**\n",
    "* H0: среднее количество продуктов банка у клиентов, которые ушли, равно среднему количеству продуктов у клиентов, которые остались.\n",
    "* H1: среднее количество продуктов банка у клиентов, которые ушли, не равно среднему количеству продуктов у клиентов, которые остались.\n",
    "\n",
    "По результатам теста отвергаем нулевую гипотезу, значит, среднее количество продуктов банка у клиентов, которые ушли, не равно среднему количеству продуктов у клиентов, которые остались. Количество продуктов влияет на уход клиентов из банка."
   ]
  },
  {
   "cell_type": "markdown",
   "metadata": {},
   "source": [
    "### Рекомендации для отдела маркетинга"
   ]
  },
  {
   "cell_type": "markdown",
   "metadata": {},
   "source": [
    "**Сегмент 1** - отток 50,02%: Баллы кредитного скоринга у клиентов составляют 825-940, значит, эти люди берут кредиты, раз их кредитный рейтинг выше среднего. Количество баллов собственности более 3, значит, у них есть недвижимость. Так же они являются активными клиентами банка.\n",
    "\n",
    "* таких клиентов могут заинтересовать такие продукты как кредиты и кредитные карты, ведь исходя из их кредитного рейтинга, они часто пользуются подобными продуктами и выплачивают всё в срок; \n",
    "* у клиентов имеется недвижимость, можно предложить индивидуальные условия страхования недвижимости."
   ]
  },
  {
   "cell_type": "markdown",
   "metadata": {},
   "source": [
    "**Сегмент 2** - отток 40,19%: Клиенты мужского пола, количество баллов недвижимости более 3. Баланс и ежемесячный оценочных доход составляют более 100 000 рублей.\n",
    "\n",
    "**Сегмент 3** - отток 48,46%: Клиенты мужского пола, количество баллов недвижимости более 3. Активные пользователи, которые имеют более 2 продуктов банка.\n",
    "\n",
    "* для клиентов со стабильным и высоким доходом можно предложить индивидуального менеджера по клиентскому обслуживанию;\n",
    "* консьерж-сервисы по бронированию и оплате такси, отелей и авиабилетов;\n",
    "* золотые карты для vip клиентов с увлеличенными лимитами трат, переводов и снятия наличных;\n",
    "* индивидуальные условия страхования жизни, недвижимости, здоровья."
   ]
  },
  {
   "cell_type": "markdown",
   "metadata": {},
   "source": [
    "**Сегмент 4** - отток 33,07%: Клиенты в возрасте от 25 до 37 лет, у которых отсутствует кредитная карта.\n",
    "\n",
    "* партнерские программы с сервисами по бронированию билетов, привязанными к кредитным картам, повышенные мили за оплату билетов кредитной картой;\n",
    "* партнерские программы с магазинами одежды и косметики, повышенный кэшбек на кредитную карту;\n",
    "* повышенный кэшбек для дебетовых карт на разные категориии трат, которые банк предлагает выбирать ежемесячно."
   ]
  },
  {
   "cell_type": "markdown",
   "metadata": {},
   "source": [
    "**Сегмент 5** - отток 35,75%: Клиенты в возрасте от 50 до 60 лет, у которых количество баллов собственности больше или равно 3.\n",
    "\n",
    "* индивидуальные программы по страхованию недвижимости, жизни, здоровья;\n",
    "* ДМС (добровольное медицинское страхование) от банка со скидкой на первый месяц обслуживания."
   ]
  }
 ],
 "metadata": {
  "ExecuteTimeLog": [
   {
    "duration": 410,
    "start_time": "2024-04-08T20:22:36.789Z"
   },
   {
    "duration": 121,
    "start_time": "2024-04-08T20:22:37.201Z"
   },
   {
    "duration": 68,
    "start_time": "2024-04-08T20:22:50.235Z"
   },
   {
    "duration": 6,
    "start_time": "2024-04-08T20:23:04.016Z"
   },
   {
    "duration": 10,
    "start_time": "2024-04-08T20:23:19.726Z"
   },
   {
    "duration": 8,
    "start_time": "2024-04-08T20:23:32.143Z"
   },
   {
    "duration": 19,
    "start_time": "2024-04-08T20:23:38.997Z"
   },
   {
    "duration": 17,
    "start_time": "2024-04-08T20:24:19.770Z"
   },
   {
    "duration": 12,
    "start_time": "2024-04-08T20:24:35.971Z"
   },
   {
    "duration": 13,
    "start_time": "2024-04-08T20:25:12.095Z"
   },
   {
    "duration": 15,
    "start_time": "2024-04-08T20:25:19.628Z"
   },
   {
    "duration": 13,
    "start_time": "2024-04-08T20:25:52.465Z"
   },
   {
    "duration": 3,
    "start_time": "2024-04-08T20:26:18.650Z"
   },
   {
    "duration": 13,
    "start_time": "2024-04-08T20:27:16.530Z"
   },
   {
    "duration": 892,
    "start_time": "2024-04-08T20:46:05.417Z"
   },
   {
    "duration": 54,
    "start_time": "2024-04-08T22:36:58.468Z"
   },
   {
    "duration": 13,
    "start_time": "2024-04-08T22:37:46.215Z"
   },
   {
    "duration": 1240,
    "start_time": "2024-04-08T22:38:23.267Z"
   },
   {
    "duration": 117,
    "start_time": "2024-04-08T22:38:24.509Z"
   },
   {
    "duration": 19,
    "start_time": "2024-04-08T22:38:24.628Z"
   },
   {
    "duration": 14,
    "start_time": "2024-04-08T22:38:24.649Z"
   },
   {
    "duration": 101,
    "start_time": "2024-04-08T22:38:24.665Z"
   },
   {
    "duration": 17,
    "start_time": "2024-04-08T22:38:41.065Z"
   },
   {
    "duration": 14,
    "start_time": "2024-04-08T22:38:58.190Z"
   },
   {
    "duration": 13,
    "start_time": "2024-04-08T22:39:03.341Z"
   },
   {
    "duration": 13,
    "start_time": "2024-04-08T22:40:01.571Z"
   },
   {
    "duration": 13,
    "start_time": "2024-04-08T22:41:05.749Z"
   },
   {
    "duration": 13,
    "start_time": "2024-04-08T22:41:12.427Z"
   },
   {
    "duration": 6,
    "start_time": "2024-04-08T22:44:16.049Z"
   },
   {
    "duration": 10,
    "start_time": "2024-04-08T22:44:42.925Z"
   },
   {
    "duration": 5,
    "start_time": "2024-04-08T22:45:18.423Z"
   },
   {
    "duration": 11,
    "start_time": "2024-04-08T22:46:30.701Z"
   },
   {
    "duration": 3,
    "start_time": "2024-04-08T22:47:06.289Z"
   },
   {
    "duration": 4,
    "start_time": "2024-04-08T22:47:36.031Z"
   },
   {
    "duration": 4,
    "start_time": "2024-04-08T22:49:58.006Z"
   },
   {
    "duration": 13,
    "start_time": "2024-04-08T22:50:20.007Z"
   },
   {
    "duration": 13,
    "start_time": "2024-04-08T22:52:47.077Z"
   },
   {
    "duration": 14,
    "start_time": "2024-04-08T22:56:06.388Z"
   },
   {
    "duration": 11,
    "start_time": "2024-04-08T22:59:35.568Z"
   },
   {
    "duration": 4,
    "start_time": "2024-04-08T23:03:06.745Z"
   },
   {
    "duration": 5,
    "start_time": "2024-04-08T23:03:17.762Z"
   },
   {
    "duration": 4,
    "start_time": "2024-04-08T23:03:52.700Z"
   },
   {
    "duration": 6,
    "start_time": "2024-04-08T23:07:36.860Z"
   },
   {
    "duration": 5,
    "start_time": "2024-04-08T23:08:55.298Z"
   },
   {
    "duration": 18,
    "start_time": "2024-04-08T23:09:04.755Z"
   },
   {
    "duration": 11,
    "start_time": "2024-04-08T23:09:21.447Z"
   },
   {
    "duration": 18,
    "start_time": "2024-04-08T23:11:14.591Z"
   },
   {
    "duration": 53,
    "start_time": "2024-04-09T10:10:04.790Z"
   },
   {
    "duration": 1339,
    "start_time": "2024-04-09T10:10:14.661Z"
   },
   {
    "duration": 61,
    "start_time": "2024-04-09T10:10:16.002Z"
   },
   {
    "duration": 18,
    "start_time": "2024-04-09T10:10:16.064Z"
   },
   {
    "duration": 12,
    "start_time": "2024-04-09T10:10:16.083Z"
   },
   {
    "duration": 2,
    "start_time": "2024-04-09T10:10:16.097Z"
   },
   {
    "duration": 14,
    "start_time": "2024-04-09T10:10:16.101Z"
   },
   {
    "duration": 38,
    "start_time": "2024-04-09T10:10:16.116Z"
   },
   {
    "duration": 33,
    "start_time": "2024-04-09T10:10:16.156Z"
   },
   {
    "duration": 3,
    "start_time": "2024-04-09T10:10:16.191Z"
   },
   {
    "duration": 7,
    "start_time": "2024-04-09T10:10:16.196Z"
   },
   {
    "duration": 15,
    "start_time": "2024-04-09T10:10:16.204Z"
   },
   {
    "duration": 7,
    "start_time": "2024-04-09T10:10:16.220Z"
   },
   {
    "duration": 123,
    "start_time": "2024-04-09T10:10:16.228Z"
   },
   {
    "duration": 27,
    "start_time": "2024-04-09T10:10:31.915Z"
   },
   {
    "duration": 26,
    "start_time": "2024-04-09T10:12:42.864Z"
   },
   {
    "duration": 3,
    "start_time": "2024-04-09T10:13:49.158Z"
   },
   {
    "duration": 4,
    "start_time": "2024-04-09T10:13:52.741Z"
   },
   {
    "duration": 17,
    "start_time": "2024-04-09T10:14:03.220Z"
   },
   {
    "duration": 13,
    "start_time": "2024-04-09T10:14:38.321Z"
   },
   {
    "duration": 15,
    "start_time": "2024-04-09T10:15:06.722Z"
   },
   {
    "duration": 5,
    "start_time": "2024-04-09T10:20:04.648Z"
   },
   {
    "duration": 13,
    "start_time": "2024-04-09T10:20:17.390Z"
   },
   {
    "duration": 11,
    "start_time": "2024-04-09T10:37:26.154Z"
   },
   {
    "duration": 9,
    "start_time": "2024-04-09T10:40:04.971Z"
   },
   {
    "duration": 6,
    "start_time": "2024-04-09T10:41:01.952Z"
   },
   {
    "duration": 6,
    "start_time": "2024-04-09T10:42:28.595Z"
   },
   {
    "duration": 7,
    "start_time": "2024-04-09T10:49:44.393Z"
   },
   {
    "duration": 11,
    "start_time": "2024-04-09T10:49:45.099Z"
   },
   {
    "duration": 1129,
    "start_time": "2024-04-09T10:50:09.103Z"
   },
   {
    "duration": 61,
    "start_time": "2024-04-09T10:50:10.234Z"
   },
   {
    "duration": 18,
    "start_time": "2024-04-09T10:50:10.297Z"
   },
   {
    "duration": 12,
    "start_time": "2024-04-09T10:50:10.316Z"
   },
   {
    "duration": 7,
    "start_time": "2024-04-09T10:50:10.330Z"
   },
   {
    "duration": 8,
    "start_time": "2024-04-09T10:50:10.338Z"
   },
   {
    "duration": 21,
    "start_time": "2024-04-09T10:50:10.347Z"
   },
   {
    "duration": 36,
    "start_time": "2024-04-09T10:50:10.370Z"
   },
   {
    "duration": 34,
    "start_time": "2024-04-09T10:50:10.408Z"
   },
   {
    "duration": 8,
    "start_time": "2024-04-09T10:50:10.443Z"
   },
   {
    "duration": 20,
    "start_time": "2024-04-09T10:50:10.453Z"
   },
   {
    "duration": 7,
    "start_time": "2024-04-09T10:50:10.475Z"
   },
   {
    "duration": 14,
    "start_time": "2024-04-09T10:50:10.484Z"
   },
   {
    "duration": 4,
    "start_time": "2024-04-09T10:50:10.501Z"
   },
   {
    "duration": 10,
    "start_time": "2024-04-09T10:50:10.507Z"
   },
   {
    "duration": 7,
    "start_time": "2024-04-09T10:50:10.518Z"
   },
   {
    "duration": 38,
    "start_time": "2024-04-09T10:50:10.527Z"
   },
   {
    "duration": 12,
    "start_time": "2024-04-09T10:51:29.746Z"
   },
   {
    "duration": 7,
    "start_time": "2024-04-09T10:51:35.657Z"
   },
   {
    "duration": 9,
    "start_time": "2024-04-09T10:51:41.487Z"
   },
   {
    "duration": 5,
    "start_time": "2024-04-09T10:51:43.257Z"
   },
   {
    "duration": 7,
    "start_time": "2024-04-09T10:53:51.424Z"
   },
   {
    "duration": 6,
    "start_time": "2024-04-09T10:54:03.416Z"
   },
   {
    "duration": 6,
    "start_time": "2024-04-09T10:54:20.223Z"
   },
   {
    "duration": 9,
    "start_time": "2024-04-09T10:58:05.935Z"
   },
   {
    "duration": 8,
    "start_time": "2024-04-09T10:59:08.848Z"
   },
   {
    "duration": 96,
    "start_time": "2024-04-09T11:01:59.827Z"
   },
   {
    "duration": 8,
    "start_time": "2024-04-09T11:02:33.198Z"
   },
   {
    "duration": 7,
    "start_time": "2024-04-09T11:03:04.140Z"
   },
   {
    "duration": 26,
    "start_time": "2024-04-09T11:03:37.923Z"
   },
   {
    "duration": 15,
    "start_time": "2024-04-09T11:03:51.336Z"
   },
   {
    "duration": 16,
    "start_time": "2024-04-09T11:04:00.949Z"
   },
   {
    "duration": 21,
    "start_time": "2024-04-09T11:06:29.383Z"
   },
   {
    "duration": 8,
    "start_time": "2024-04-09T11:19:33.915Z"
   },
   {
    "duration": 5,
    "start_time": "2024-04-09T11:21:51.643Z"
   },
   {
    "duration": 7,
    "start_time": "2024-04-09T11:22:08.746Z"
   },
   {
    "duration": 6,
    "start_time": "2024-04-09T11:22:40.539Z"
   },
   {
    "duration": 14,
    "start_time": "2024-04-09T11:41:26.449Z"
   },
   {
    "duration": 14,
    "start_time": "2024-04-09T11:42:40.550Z"
   },
   {
    "duration": 4,
    "start_time": "2024-04-09T11:43:04.229Z"
   },
   {
    "duration": 1125,
    "start_time": "2024-04-09T11:43:11.610Z"
   },
   {
    "duration": 110,
    "start_time": "2024-04-09T11:43:12.737Z"
   },
   {
    "duration": 19,
    "start_time": "2024-04-09T11:43:12.848Z"
   },
   {
    "duration": 15,
    "start_time": "2024-04-09T11:43:12.868Z"
   },
   {
    "duration": 3,
    "start_time": "2024-04-09T11:43:12.885Z"
   },
   {
    "duration": 10,
    "start_time": "2024-04-09T11:43:12.890Z"
   },
   {
    "duration": 19,
    "start_time": "2024-04-09T11:43:12.901Z"
   },
   {
    "duration": 11,
    "start_time": "2024-04-09T11:43:12.922Z"
   },
   {
    "duration": 5,
    "start_time": "2024-04-09T11:43:12.935Z"
   },
   {
    "duration": 28,
    "start_time": "2024-04-09T11:43:12.942Z"
   },
   {
    "duration": 12,
    "start_time": "2024-04-09T11:43:12.971Z"
   },
   {
    "duration": 8,
    "start_time": "2024-04-09T11:43:12.985Z"
   },
   {
    "duration": 12,
    "start_time": "2024-04-09T11:43:12.995Z"
   },
   {
    "duration": 4,
    "start_time": "2024-04-09T11:43:13.009Z"
   },
   {
    "duration": 13,
    "start_time": "2024-04-09T11:43:13.015Z"
   },
   {
    "duration": 5,
    "start_time": "2024-04-09T11:43:13.066Z"
   },
   {
    "duration": 15,
    "start_time": "2024-04-09T11:43:13.072Z"
   },
   {
    "duration": 17,
    "start_time": "2024-04-09T11:43:13.088Z"
   },
   {
    "duration": 5,
    "start_time": "2024-04-09T11:43:13.107Z"
   },
   {
    "duration": 13,
    "start_time": "2024-04-09T11:43:13.114Z"
   },
   {
    "duration": 5,
    "start_time": "2024-04-09T11:44:34.960Z"
   },
   {
    "duration": 6,
    "start_time": "2024-04-09T11:45:24.433Z"
   },
   {
    "duration": 13,
    "start_time": "2024-04-09T11:46:31.548Z"
   },
   {
    "duration": 14,
    "start_time": "2024-04-09T11:46:46.362Z"
   },
   {
    "duration": 36,
    "start_time": "2024-04-09T11:47:30.466Z"
   },
   {
    "duration": 1252,
    "start_time": "2024-04-09T11:50:29.085Z"
   },
   {
    "duration": 26,
    "start_time": "2024-04-09T11:51:08.279Z"
   },
   {
    "duration": 4,
    "start_time": "2024-04-09T11:51:55.836Z"
   },
   {
    "duration": 10,
    "start_time": "2024-04-09T11:52:20.819Z"
   },
   {
    "duration": 5,
    "start_time": "2024-04-09T11:52:32.851Z"
   },
   {
    "duration": 4,
    "start_time": "2024-04-09T11:53:30.119Z"
   },
   {
    "duration": 4,
    "start_time": "2024-04-09T11:53:34.864Z"
   },
   {
    "duration": 5,
    "start_time": "2024-04-09T12:09:55.424Z"
   },
   {
    "duration": 6,
    "start_time": "2024-04-09T13:22:28.462Z"
   },
   {
    "duration": 203,
    "start_time": "2024-04-09T13:26:53.680Z"
   },
   {
    "duration": 139,
    "start_time": "2024-04-09T13:27:20.501Z"
   },
   {
    "duration": 21,
    "start_time": "2024-04-09T13:29:26.467Z"
   },
   {
    "duration": 1162,
    "start_time": "2024-04-09T13:32:05.046Z"
   },
   {
    "duration": 178,
    "start_time": "2024-04-09T13:32:06.209Z"
   },
   {
    "duration": 18,
    "start_time": "2024-04-09T13:32:06.388Z"
   },
   {
    "duration": 11,
    "start_time": "2024-04-09T13:32:06.408Z"
   },
   {
    "duration": 11,
    "start_time": "2024-04-09T13:32:06.420Z"
   },
   {
    "duration": 21,
    "start_time": "2024-04-09T13:32:06.433Z"
   },
   {
    "duration": 11,
    "start_time": "2024-04-09T13:32:06.456Z"
   },
   {
    "duration": 13,
    "start_time": "2024-04-09T13:32:06.468Z"
   },
   {
    "duration": 4,
    "start_time": "2024-04-09T13:32:06.483Z"
   },
   {
    "duration": 25,
    "start_time": "2024-04-09T13:32:06.490Z"
   },
   {
    "duration": 11,
    "start_time": "2024-04-09T13:32:06.517Z"
   },
   {
    "duration": 7,
    "start_time": "2024-04-09T13:32:06.529Z"
   },
   {
    "duration": 29,
    "start_time": "2024-04-09T13:32:06.537Z"
   },
   {
    "duration": 5,
    "start_time": "2024-04-09T13:32:06.568Z"
   },
   {
    "duration": 11,
    "start_time": "2024-04-09T13:32:06.575Z"
   },
   {
    "duration": 5,
    "start_time": "2024-04-09T13:32:06.587Z"
   },
   {
    "duration": 12,
    "start_time": "2024-04-09T13:32:06.593Z"
   },
   {
    "duration": 17,
    "start_time": "2024-04-09T13:32:06.607Z"
   },
   {
    "duration": 9,
    "start_time": "2024-04-09T13:32:06.626Z"
   },
   {
    "duration": 53,
    "start_time": "2024-04-09T13:32:06.636Z"
   },
   {
    "duration": 4,
    "start_time": "2024-04-09T13:32:06.691Z"
   },
   {
    "duration": 112,
    "start_time": "2024-04-09T13:32:06.696Z"
   },
   {
    "duration": 8,
    "start_time": "2024-04-09T13:33:40.010Z"
   },
   {
    "duration": 8,
    "start_time": "2024-04-09T13:33:48.697Z"
   },
   {
    "duration": 1143,
    "start_time": "2024-04-09T13:37:29.831Z"
   },
   {
    "duration": 65,
    "start_time": "2024-04-09T13:37:30.976Z"
   },
   {
    "duration": 27,
    "start_time": "2024-04-09T13:37:31.042Z"
   },
   {
    "duration": 40,
    "start_time": "2024-04-09T13:37:31.071Z"
   },
   {
    "duration": 43,
    "start_time": "2024-04-09T13:37:31.113Z"
   },
   {
    "duration": 40,
    "start_time": "2024-04-09T13:37:31.158Z"
   },
   {
    "duration": 36,
    "start_time": "2024-04-09T13:37:31.200Z"
   },
   {
    "duration": 53,
    "start_time": "2024-04-09T13:37:31.237Z"
   },
   {
    "duration": 26,
    "start_time": "2024-04-09T13:37:31.292Z"
   },
   {
    "duration": 40,
    "start_time": "2024-04-09T13:37:31.321Z"
   },
   {
    "duration": 23,
    "start_time": "2024-04-09T13:37:31.363Z"
   },
   {
    "duration": 20,
    "start_time": "2024-04-09T13:37:31.388Z"
   },
   {
    "duration": 41,
    "start_time": "2024-04-09T13:37:31.410Z"
   },
   {
    "duration": 26,
    "start_time": "2024-04-09T13:37:31.453Z"
   },
   {
    "duration": 56,
    "start_time": "2024-04-09T13:37:31.481Z"
   },
   {
    "duration": 17,
    "start_time": "2024-04-09T13:37:31.538Z"
   },
   {
    "duration": 40,
    "start_time": "2024-04-09T13:37:31.556Z"
   },
   {
    "duration": 59,
    "start_time": "2024-04-09T13:37:31.597Z"
   },
   {
    "duration": 94,
    "start_time": "2024-04-09T13:37:31.658Z"
   },
   {
    "duration": 62,
    "start_time": "2024-04-09T13:37:31.753Z"
   },
   {
    "duration": 102,
    "start_time": "2024-04-09T13:37:31.817Z"
   },
   {
    "duration": 8,
    "start_time": "2024-04-09T13:38:01.409Z"
   },
   {
    "duration": 8,
    "start_time": "2024-04-09T13:38:04.723Z"
   },
   {
    "duration": 193,
    "start_time": "2024-04-09T13:38:15.448Z"
   },
   {
    "duration": 197,
    "start_time": "2024-04-09T13:38:31.741Z"
   },
   {
    "duration": 179,
    "start_time": "2024-04-09T13:38:37.263Z"
   },
   {
    "duration": 32,
    "start_time": "2024-04-09T13:41:09.440Z"
   },
   {
    "duration": 873,
    "start_time": "2024-04-09T13:42:28.603Z"
   },
   {
    "duration": 176,
    "start_time": "2024-04-09T13:43:06.176Z"
   },
   {
    "duration": 297,
    "start_time": "2024-04-09T13:44:16.451Z"
   },
   {
    "duration": 234,
    "start_time": "2024-04-09T13:46:19.461Z"
   },
   {
    "duration": 219,
    "start_time": "2024-04-09T13:46:25.289Z"
   },
   {
    "duration": 224,
    "start_time": "2024-04-09T13:46:30.700Z"
   },
   {
    "duration": 301,
    "start_time": "2024-04-09T13:49:12.160Z"
   },
   {
    "duration": 14,
    "start_time": "2024-04-09T13:49:37.832Z"
   },
   {
    "duration": 309,
    "start_time": "2024-04-09T13:49:43.426Z"
   },
   {
    "duration": 288,
    "start_time": "2024-04-09T13:50:01.197Z"
   },
   {
    "duration": 228,
    "start_time": "2024-04-09T13:50:08.407Z"
   },
   {
    "duration": 303,
    "start_time": "2024-04-09T13:50:22.397Z"
   },
   {
    "duration": 219,
    "start_time": "2024-04-09T13:51:54.895Z"
   },
   {
    "duration": 188,
    "start_time": "2024-04-09T13:52:04.352Z"
   },
   {
    "duration": 196,
    "start_time": "2024-04-09T13:52:45.193Z"
   },
   {
    "duration": 190,
    "start_time": "2024-04-09T13:56:08.236Z"
   },
   {
    "duration": 187,
    "start_time": "2024-04-09T13:56:36.181Z"
   },
   {
    "duration": 256,
    "start_time": "2024-04-09T13:56:44.141Z"
   },
   {
    "duration": 187,
    "start_time": "2024-04-09T13:56:50.428Z"
   },
   {
    "duration": 183,
    "start_time": "2024-04-09T13:56:58.217Z"
   },
   {
    "duration": 198,
    "start_time": "2024-04-09T13:57:05.159Z"
   },
   {
    "duration": 129,
    "start_time": "2024-04-09T13:58:07.053Z"
   },
   {
    "duration": 20,
    "start_time": "2024-04-09T13:58:15.235Z"
   },
   {
    "duration": 19,
    "start_time": "2024-04-09T13:58:30.159Z"
   },
   {
    "duration": 225,
    "start_time": "2024-04-09T13:59:04.900Z"
   },
   {
    "duration": 290,
    "start_time": "2024-04-09T14:00:24.053Z"
   },
   {
    "duration": 183,
    "start_time": "2024-04-09T14:00:30.852Z"
   },
   {
    "duration": 195,
    "start_time": "2024-04-09T14:00:34.332Z"
   },
   {
    "duration": 173,
    "start_time": "2024-04-09T14:02:30.695Z"
   },
   {
    "duration": 203,
    "start_time": "2024-04-09T14:07:13.405Z"
   },
   {
    "duration": 208,
    "start_time": "2024-04-09T14:07:35.953Z"
   },
   {
    "duration": 201,
    "start_time": "2024-04-09T14:07:46.209Z"
   },
   {
    "duration": 201,
    "start_time": "2024-04-09T14:07:50.292Z"
   },
   {
    "duration": 197,
    "start_time": "2024-04-09T14:07:57.212Z"
   },
   {
    "duration": 220,
    "start_time": "2024-04-09T14:08:15.711Z"
   },
   {
    "duration": 192,
    "start_time": "2024-04-09T14:08:16.160Z"
   },
   {
    "duration": 164,
    "start_time": "2024-04-09T14:08:16.893Z"
   },
   {
    "duration": 10,
    "start_time": "2024-04-09T14:11:28.570Z"
   },
   {
    "duration": 94,
    "start_time": "2024-04-09T14:11:45.004Z"
   },
   {
    "duration": 98,
    "start_time": "2024-04-09T14:14:04.251Z"
   },
   {
    "duration": 12,
    "start_time": "2024-04-09T14:14:09.876Z"
   },
   {
    "duration": 205,
    "start_time": "2024-04-09T14:14:20.494Z"
   },
   {
    "duration": 158,
    "start_time": "2024-04-09T14:14:24.891Z"
   },
   {
    "duration": 220,
    "start_time": "2024-04-09T14:14:45.598Z"
   },
   {
    "duration": 170,
    "start_time": "2024-04-09T14:14:52.885Z"
   },
   {
    "duration": 200,
    "start_time": "2024-04-09T14:15:38.341Z"
   },
   {
    "duration": 1113,
    "start_time": "2024-04-09T14:16:18.088Z"
   },
   {
    "duration": 81,
    "start_time": "2024-04-09T14:16:19.203Z"
   },
   {
    "duration": 19,
    "start_time": "2024-04-09T14:16:19.285Z"
   },
   {
    "duration": 20,
    "start_time": "2024-04-09T14:16:19.305Z"
   },
   {
    "duration": 2,
    "start_time": "2024-04-09T14:16:19.327Z"
   },
   {
    "duration": 7,
    "start_time": "2024-04-09T14:16:19.331Z"
   },
   {
    "duration": 46,
    "start_time": "2024-04-09T14:16:19.339Z"
   },
   {
    "duration": 28,
    "start_time": "2024-04-09T14:16:19.386Z"
   },
   {
    "duration": 12,
    "start_time": "2024-04-09T14:16:19.416Z"
   },
   {
    "duration": 7,
    "start_time": "2024-04-09T14:16:19.430Z"
   },
   {
    "duration": 11,
    "start_time": "2024-04-09T14:16:19.438Z"
   },
   {
    "duration": 7,
    "start_time": "2024-04-09T14:16:19.450Z"
   },
   {
    "duration": 15,
    "start_time": "2024-04-09T14:16:19.458Z"
   },
   {
    "duration": 5,
    "start_time": "2024-04-09T14:16:19.475Z"
   },
   {
    "duration": 10,
    "start_time": "2024-04-09T14:16:19.481Z"
   },
   {
    "duration": 4,
    "start_time": "2024-04-09T14:16:19.492Z"
   },
   {
    "duration": 8,
    "start_time": "2024-04-09T14:16:19.498Z"
   },
   {
    "duration": 16,
    "start_time": "2024-04-09T14:16:19.507Z"
   },
   {
    "duration": 23,
    "start_time": "2024-04-09T14:16:19.524Z"
   },
   {
    "duration": 41,
    "start_time": "2024-04-09T14:16:19.549Z"
   },
   {
    "duration": 252,
    "start_time": "2024-04-09T14:16:19.591Z"
   },
   {
    "duration": 204,
    "start_time": "2024-04-09T14:16:19.845Z"
   },
   {
    "duration": 168,
    "start_time": "2024-04-09T14:16:20.050Z"
   },
   {
    "duration": 293,
    "start_time": "2024-04-09T14:16:20.219Z"
   },
   {
    "duration": 164,
    "start_time": "2024-04-09T14:16:42.045Z"
   },
   {
    "duration": 103,
    "start_time": "2024-04-09T14:16:57.869Z"
   },
   {
    "duration": 157,
    "start_time": "2024-04-09T14:18:20.192Z"
   },
   {
    "duration": 1155,
    "start_time": "2024-04-09T14:25:17.882Z"
   },
   {
    "duration": 71,
    "start_time": "2024-04-09T14:25:19.039Z"
   },
   {
    "duration": 19,
    "start_time": "2024-04-09T14:25:19.112Z"
   },
   {
    "duration": 12,
    "start_time": "2024-04-09T14:25:19.132Z"
   },
   {
    "duration": 3,
    "start_time": "2024-04-09T14:25:19.147Z"
   },
   {
    "duration": 6,
    "start_time": "2024-04-09T14:25:19.151Z"
   },
   {
    "duration": 17,
    "start_time": "2024-04-09T14:25:19.159Z"
   },
   {
    "duration": 13,
    "start_time": "2024-04-09T14:25:19.177Z"
   },
   {
    "duration": 4,
    "start_time": "2024-04-09T14:25:19.192Z"
   },
   {
    "duration": 6,
    "start_time": "2024-04-09T14:25:19.198Z"
   },
   {
    "duration": 10,
    "start_time": "2024-04-09T14:25:19.206Z"
   },
   {
    "duration": 6,
    "start_time": "2024-04-09T14:25:19.217Z"
   },
   {
    "duration": 42,
    "start_time": "2024-04-09T14:25:19.224Z"
   },
   {
    "duration": 5,
    "start_time": "2024-04-09T14:25:19.268Z"
   },
   {
    "duration": 10,
    "start_time": "2024-04-09T14:25:19.275Z"
   },
   {
    "duration": 4,
    "start_time": "2024-04-09T14:25:19.286Z"
   },
   {
    "duration": 9,
    "start_time": "2024-04-09T14:25:19.292Z"
   },
   {
    "duration": 13,
    "start_time": "2024-04-09T14:25:19.303Z"
   },
   {
    "duration": 15,
    "start_time": "2024-04-09T14:25:19.317Z"
   },
   {
    "duration": 55,
    "start_time": "2024-04-09T14:25:19.333Z"
   },
   {
    "duration": 218,
    "start_time": "2024-04-09T14:25:19.389Z"
   },
   {
    "duration": 218,
    "start_time": "2024-04-09T14:25:19.609Z"
   },
   {
    "duration": 191,
    "start_time": "2024-04-09T14:25:19.829Z"
   },
   {
    "duration": 106,
    "start_time": "2024-04-09T14:25:20.021Z"
   },
   {
    "duration": 10,
    "start_time": "2024-04-09T14:25:34.516Z"
   },
   {
    "duration": 305,
    "start_time": "2024-04-09T14:25:48.912Z"
   },
   {
    "duration": 130,
    "start_time": "2024-04-09T14:26:16.684Z"
   },
   {
    "duration": 11,
    "start_time": "2024-04-09T14:26:26.837Z"
   },
   {
    "duration": 249,
    "start_time": "2024-04-09T14:27:13.369Z"
   },
   {
    "duration": 259,
    "start_time": "2024-04-09T14:27:21.345Z"
   },
   {
    "duration": 185,
    "start_time": "2024-04-09T14:29:10.007Z"
   },
   {
    "duration": 328628,
    "start_time": "2024-04-09T14:38:40.328Z"
   },
   {
    "duration": 1138,
    "start_time": "2024-04-09T14:52:03.730Z"
   },
   {
    "duration": 141,
    "start_time": "2024-04-09T14:52:04.870Z"
   },
   {
    "duration": 19,
    "start_time": "2024-04-09T14:52:05.012Z"
   },
   {
    "duration": 31,
    "start_time": "2024-04-09T14:52:05.032Z"
   },
   {
    "duration": 22,
    "start_time": "2024-04-09T14:52:05.065Z"
   },
   {
    "duration": 39,
    "start_time": "2024-04-09T14:52:05.088Z"
   },
   {
    "duration": 41,
    "start_time": "2024-04-09T14:52:05.129Z"
   },
   {
    "duration": 28,
    "start_time": "2024-04-09T14:52:05.171Z"
   },
   {
    "duration": 24,
    "start_time": "2024-04-09T14:52:05.201Z"
   },
   {
    "duration": 31,
    "start_time": "2024-04-09T14:52:05.227Z"
   },
   {
    "duration": 39,
    "start_time": "2024-04-09T14:52:05.259Z"
   },
   {
    "duration": 23,
    "start_time": "2024-04-09T14:52:05.301Z"
   },
   {
    "duration": 35,
    "start_time": "2024-04-09T14:52:05.325Z"
   },
   {
    "duration": 6,
    "start_time": "2024-04-09T14:52:05.362Z"
   },
   {
    "duration": 75,
    "start_time": "2024-04-09T14:52:05.369Z"
   },
   {
    "duration": 28,
    "start_time": "2024-04-09T14:52:05.446Z"
   },
   {
    "duration": 21,
    "start_time": "2024-04-09T14:52:05.476Z"
   },
   {
    "duration": 31,
    "start_time": "2024-04-09T14:52:05.499Z"
   },
   {
    "duration": 14,
    "start_time": "2024-04-09T14:52:05.532Z"
   },
   {
    "duration": 50,
    "start_time": "2024-04-09T14:52:05.548Z"
   },
   {
    "duration": 229,
    "start_time": "2024-04-09T14:52:05.600Z"
   },
   {
    "duration": 197,
    "start_time": "2024-04-09T14:52:05.831Z"
   },
   {
    "duration": 164,
    "start_time": "2024-04-09T14:52:06.030Z"
   },
   {
    "duration": 369459,
    "start_time": "2024-04-09T14:52:06.196Z"
   },
   {
    "duration": 17,
    "start_time": "2024-04-09T15:26:23.994Z"
   },
   {
    "duration": 131,
    "start_time": "2024-04-09T15:26:53.225Z"
   },
   {
    "duration": 15,
    "start_time": "2024-04-09T15:27:40.993Z"
   },
   {
    "duration": 1232,
    "start_time": "2024-04-09T15:30:52.342Z"
   },
   {
    "duration": 64,
    "start_time": "2024-04-09T15:30:53.575Z"
   },
   {
    "duration": 18,
    "start_time": "2024-04-09T15:30:53.641Z"
   },
   {
    "duration": 12,
    "start_time": "2024-04-09T15:30:53.661Z"
   },
   {
    "duration": 3,
    "start_time": "2024-04-09T15:30:53.675Z"
   },
   {
    "duration": 5,
    "start_time": "2024-04-09T15:30:53.680Z"
   },
   {
    "duration": 12,
    "start_time": "2024-04-09T15:30:53.686Z"
   },
   {
    "duration": 13,
    "start_time": "2024-04-09T15:30:53.699Z"
   },
   {
    "duration": 7,
    "start_time": "2024-04-09T15:30:53.714Z"
   },
   {
    "duration": 9,
    "start_time": "2024-04-09T15:30:53.722Z"
   },
   {
    "duration": 40,
    "start_time": "2024-04-09T15:30:53.732Z"
   },
   {
    "duration": 6,
    "start_time": "2024-04-09T15:30:53.774Z"
   },
   {
    "duration": 22,
    "start_time": "2024-04-09T15:30:53.782Z"
   },
   {
    "duration": 5,
    "start_time": "2024-04-09T15:30:53.807Z"
   },
   {
    "duration": 13,
    "start_time": "2024-04-09T15:30:53.814Z"
   },
   {
    "duration": 4,
    "start_time": "2024-04-09T15:30:53.829Z"
   },
   {
    "duration": 31,
    "start_time": "2024-04-09T15:30:53.835Z"
   },
   {
    "duration": 15,
    "start_time": "2024-04-09T15:30:53.868Z"
   },
   {
    "duration": 8,
    "start_time": "2024-04-09T15:30:53.885Z"
   },
   {
    "duration": 27,
    "start_time": "2024-04-09T15:30:53.895Z"
   },
   {
    "duration": 256,
    "start_time": "2024-04-09T15:30:53.924Z"
   },
   {
    "duration": 218,
    "start_time": "2024-04-09T15:30:54.181Z"
   },
   {
    "duration": 170,
    "start_time": "2024-04-09T15:30:54.401Z"
   },
   {
    "duration": 194,
    "start_time": "2024-04-09T15:30:54.572Z"
   },
   {
    "duration": 197,
    "start_time": "2024-04-09T15:31:05.937Z"
   },
   {
    "duration": 214,
    "start_time": "2024-04-09T15:31:11.742Z"
   },
   {
    "duration": 215,
    "start_time": "2024-04-09T15:32:42.602Z"
   },
   {
    "duration": 227,
    "start_time": "2024-04-09T15:32:47.999Z"
   },
   {
    "duration": 11,
    "start_time": "2024-04-09T15:33:28.902Z"
   },
   {
    "duration": 6,
    "start_time": "2024-04-09T15:34:21.674Z"
   },
   {
    "duration": 15,
    "start_time": "2024-04-09T15:34:29.765Z"
   },
   {
    "duration": 5,
    "start_time": "2024-04-09T15:41:16.977Z"
   },
   {
    "duration": 13,
    "start_time": "2024-04-09T15:41:17.356Z"
   },
   {
    "duration": 6,
    "start_time": "2024-04-09T15:41:24.034Z"
   },
   {
    "duration": 11,
    "start_time": "2024-04-09T15:41:24.784Z"
   },
   {
    "duration": 5,
    "start_time": "2024-04-09T15:41:37.012Z"
   },
   {
    "duration": 12,
    "start_time": "2024-04-09T15:41:39.263Z"
   },
   {
    "duration": 1069,
    "start_time": "2024-04-09T15:41:46.288Z"
   },
   {
    "duration": 65,
    "start_time": "2024-04-09T15:41:47.358Z"
   },
   {
    "duration": 17,
    "start_time": "2024-04-09T15:41:47.424Z"
   },
   {
    "duration": 10,
    "start_time": "2024-04-09T15:41:47.442Z"
   },
   {
    "duration": 3,
    "start_time": "2024-04-09T15:41:47.454Z"
   },
   {
    "duration": 8,
    "start_time": "2024-04-09T15:41:47.459Z"
   },
   {
    "duration": 17,
    "start_time": "2024-04-09T15:41:47.468Z"
   },
   {
    "duration": 12,
    "start_time": "2024-04-09T15:41:47.486Z"
   },
   {
    "duration": 4,
    "start_time": "2024-04-09T15:41:47.500Z"
   },
   {
    "duration": 7,
    "start_time": "2024-04-09T15:41:47.506Z"
   },
   {
    "duration": 19,
    "start_time": "2024-04-09T15:41:47.514Z"
   },
   {
    "duration": 6,
    "start_time": "2024-04-09T15:41:47.534Z"
   },
   {
    "duration": 27,
    "start_time": "2024-04-09T15:41:47.542Z"
   },
   {
    "duration": 5,
    "start_time": "2024-04-09T15:41:47.572Z"
   },
   {
    "duration": 13,
    "start_time": "2024-04-09T15:41:47.578Z"
   },
   {
    "duration": 12,
    "start_time": "2024-04-09T15:41:47.592Z"
   },
   {
    "duration": 19,
    "start_time": "2024-04-09T15:41:47.605Z"
   },
   {
    "duration": 25,
    "start_time": "2024-04-09T15:41:47.626Z"
   },
   {
    "duration": 19,
    "start_time": "2024-04-09T15:41:47.653Z"
   },
   {
    "duration": 29,
    "start_time": "2024-04-09T15:41:47.674Z"
   },
   {
    "duration": 258,
    "start_time": "2024-04-09T15:41:47.705Z"
   },
   {
    "duration": 209,
    "start_time": "2024-04-09T15:41:47.964Z"
   },
   {
    "duration": 169,
    "start_time": "2024-04-09T15:41:48.174Z"
   },
   {
    "duration": 249,
    "start_time": "2024-04-09T15:41:48.344Z"
   },
   {
    "duration": 5,
    "start_time": "2024-04-09T15:41:48.595Z"
   },
   {
    "duration": 11,
    "start_time": "2024-04-09T15:41:48.602Z"
   },
   {
    "duration": 1090,
    "start_time": "2024-04-09T15:42:04.884Z"
   },
   {
    "duration": 55,
    "start_time": "2024-04-09T15:42:05.976Z"
   },
   {
    "duration": 17,
    "start_time": "2024-04-09T15:42:06.034Z"
   },
   {
    "duration": 11,
    "start_time": "2024-04-09T15:42:06.053Z"
   },
   {
    "duration": 3,
    "start_time": "2024-04-09T15:42:06.065Z"
   },
   {
    "duration": 14,
    "start_time": "2024-04-09T15:42:06.069Z"
   },
   {
    "duration": 12,
    "start_time": "2024-04-09T15:42:06.085Z"
   },
   {
    "duration": 13,
    "start_time": "2024-04-09T15:42:06.098Z"
   },
   {
    "duration": 4,
    "start_time": "2024-04-09T15:42:06.113Z"
   },
   {
    "duration": 7,
    "start_time": "2024-04-09T15:42:06.118Z"
   },
   {
    "duration": 16,
    "start_time": "2024-04-09T15:42:06.126Z"
   },
   {
    "duration": 24,
    "start_time": "2024-04-09T15:42:06.144Z"
   },
   {
    "duration": 12,
    "start_time": "2024-04-09T15:42:06.171Z"
   },
   {
    "duration": 6,
    "start_time": "2024-04-09T15:42:06.184Z"
   },
   {
    "duration": 10,
    "start_time": "2024-04-09T15:42:06.191Z"
   },
   {
    "duration": 4,
    "start_time": "2024-04-09T15:42:06.202Z"
   },
   {
    "duration": 8,
    "start_time": "2024-04-09T15:42:06.208Z"
   },
   {
    "duration": 25,
    "start_time": "2024-04-09T15:42:06.217Z"
   },
   {
    "duration": 6,
    "start_time": "2024-04-09T15:42:06.265Z"
   },
   {
    "duration": 26,
    "start_time": "2024-04-09T15:42:06.272Z"
   },
   {
    "duration": 219,
    "start_time": "2024-04-09T15:42:06.299Z"
   },
   {
    "duration": 195,
    "start_time": "2024-04-09T15:42:06.519Z"
   },
   {
    "duration": 171,
    "start_time": "2024-04-09T15:42:06.716Z"
   },
   {
    "duration": 241,
    "start_time": "2024-04-09T15:42:06.888Z"
   },
   {
    "duration": 12,
    "start_time": "2024-04-09T15:42:26.245Z"
   },
   {
    "duration": 192,
    "start_time": "2024-04-09T15:45:28.980Z"
   },
   {
    "duration": 197,
    "start_time": "2024-04-09T16:04:51.668Z"
   },
   {
    "duration": 205,
    "start_time": "2024-04-09T16:05:02.455Z"
   },
   {
    "duration": 196,
    "start_time": "2024-04-09T16:05:11.757Z"
   },
   {
    "duration": 287,
    "start_time": "2024-04-09T17:01:50.289Z"
   },
   {
    "duration": 163,
    "start_time": "2024-04-09T17:02:44.472Z"
   },
   {
    "duration": 179,
    "start_time": "2024-04-09T17:02:52.795Z"
   },
   {
    "duration": 104,
    "start_time": "2024-04-09T17:03:56.672Z"
   },
   {
    "duration": 10,
    "start_time": "2024-04-09T17:04:04.477Z"
   },
   {
    "duration": 10,
    "start_time": "2024-04-09T17:04:27.177Z"
   },
   {
    "duration": 203,
    "start_time": "2024-04-09T17:04:38.913Z"
   },
   {
    "duration": 166,
    "start_time": "2024-04-09T17:05:10.553Z"
   },
   {
    "duration": 202,
    "start_time": "2024-04-09T17:05:20.620Z"
   },
   {
    "duration": 187,
    "start_time": "2024-04-09T17:05:53.511Z"
   },
   {
    "duration": 191,
    "start_time": "2024-04-09T17:06:41.582Z"
   },
   {
    "duration": 5,
    "start_time": "2024-04-09T17:07:25.159Z"
   },
   {
    "duration": 35,
    "start_time": "2024-04-09T17:08:50.306Z"
   },
   {
    "duration": 33,
    "start_time": "2024-04-09T17:08:58.344Z"
   },
   {
    "duration": 20,
    "start_time": "2024-04-09T17:09:04.499Z"
   },
   {
    "duration": 4,
    "start_time": "2024-04-09T17:24:54.806Z"
   },
   {
    "duration": 4,
    "start_time": "2024-04-09T17:25:16.246Z"
   },
   {
    "duration": 4,
    "start_time": "2024-04-09T17:27:34.147Z"
   },
   {
    "duration": 4,
    "start_time": "2024-04-09T17:28:32.731Z"
   },
   {
    "duration": 3,
    "start_time": "2024-04-09T17:28:51.471Z"
   },
   {
    "duration": 5,
    "start_time": "2024-04-09T17:29:28.924Z"
   },
   {
    "duration": 3,
    "start_time": "2024-04-09T17:30:14.190Z"
   },
   {
    "duration": 4,
    "start_time": "2024-04-09T17:31:07.899Z"
   },
   {
    "duration": 4,
    "start_time": "2024-04-09T17:32:04.545Z"
   },
   {
    "duration": 4,
    "start_time": "2024-04-09T17:32:28.503Z"
   },
   {
    "duration": 4,
    "start_time": "2024-04-09T17:32:47.141Z"
   },
   {
    "duration": 65,
    "start_time": "2024-04-09T17:33:38.407Z"
   },
   {
    "duration": 4,
    "start_time": "2024-04-09T17:33:44.095Z"
   },
   {
    "duration": 4,
    "start_time": "2024-04-09T17:34:14.670Z"
   },
   {
    "duration": 4,
    "start_time": "2024-04-09T17:34:25.869Z"
   },
   {
    "duration": 4,
    "start_time": "2024-04-09T17:34:38.528Z"
   },
   {
    "duration": 4,
    "start_time": "2024-04-09T17:34:42.200Z"
   },
   {
    "duration": 6,
    "start_time": "2024-04-09T17:37:04.564Z"
   },
   {
    "duration": 22,
    "start_time": "2024-04-09T17:37:21.620Z"
   },
   {
    "duration": 17,
    "start_time": "2024-04-09T17:37:31.013Z"
   },
   {
    "duration": 6,
    "start_time": "2024-04-09T17:38:32.488Z"
   },
   {
    "duration": 6,
    "start_time": "2024-04-09T17:38:40.748Z"
   },
   {
    "duration": 7,
    "start_time": "2024-04-09T17:39:07.750Z"
   },
   {
    "duration": 3,
    "start_time": "2024-04-09T17:39:13.132Z"
   },
   {
    "duration": 5,
    "start_time": "2024-04-09T17:39:40.807Z"
   },
   {
    "duration": 6,
    "start_time": "2024-04-09T17:45:43.902Z"
   },
   {
    "duration": 3,
    "start_time": "2024-04-09T17:45:47.207Z"
   },
   {
    "duration": 4,
    "start_time": "2024-04-09T17:49:11.634Z"
   },
   {
    "duration": 4,
    "start_time": "2024-04-09T17:49:27.105Z"
   },
   {
    "duration": 10,
    "start_time": "2024-04-09T17:51:17.844Z"
   },
   {
    "duration": 3,
    "start_time": "2024-04-09T17:51:27.333Z"
   },
   {
    "duration": 4,
    "start_time": "2024-04-09T17:52:47.300Z"
   },
   {
    "duration": 4,
    "start_time": "2024-04-09T17:52:54.908Z"
   },
   {
    "duration": 5,
    "start_time": "2024-04-09T17:54:12.263Z"
   },
   {
    "duration": 4,
    "start_time": "2024-04-09T17:54:18.270Z"
   },
   {
    "duration": 4,
    "start_time": "2024-04-09T17:54:37.383Z"
   },
   {
    "duration": 4,
    "start_time": "2024-04-09T17:55:59.986Z"
   },
   {
    "duration": 4,
    "start_time": "2024-04-09T17:56:58.820Z"
   },
   {
    "duration": 6,
    "start_time": "2024-04-09T18:02:37.392Z"
   },
   {
    "duration": 4,
    "start_time": "2024-04-09T18:02:51.339Z"
   },
   {
    "duration": 6,
    "start_time": "2024-04-09T18:04:44.252Z"
   },
   {
    "duration": 4,
    "start_time": "2024-04-09T18:04:45.404Z"
   },
   {
    "duration": 7,
    "start_time": "2024-04-09T18:05:21.039Z"
   },
   {
    "duration": 5,
    "start_time": "2024-04-09T18:05:24.680Z"
   },
   {
    "duration": 4,
    "start_time": "2024-04-09T18:05:31.419Z"
   },
   {
    "duration": 183,
    "start_time": "2024-04-09T18:08:03.154Z"
   },
   {
    "duration": 47,
    "start_time": "2024-04-14T12:06:43.852Z"
   },
   {
    "duration": 1295,
    "start_time": "2024-04-14T12:06:49.336Z"
   },
   {
    "duration": 103,
    "start_time": "2024-04-14T12:06:50.633Z"
   },
   {
    "duration": 27,
    "start_time": "2024-04-14T12:06:50.739Z"
   },
   {
    "duration": 15,
    "start_time": "2024-04-14T12:06:50.768Z"
   },
   {
    "duration": 3,
    "start_time": "2024-04-14T12:06:50.785Z"
   },
   {
    "duration": 25,
    "start_time": "2024-04-14T12:06:50.789Z"
   },
   {
    "duration": 20,
    "start_time": "2024-04-14T12:06:50.816Z"
   },
   {
    "duration": 18,
    "start_time": "2024-04-14T12:06:50.837Z"
   },
   {
    "duration": 23,
    "start_time": "2024-04-14T12:06:50.857Z"
   },
   {
    "duration": 17,
    "start_time": "2024-04-14T12:06:50.883Z"
   },
   {
    "duration": 24,
    "start_time": "2024-04-14T12:06:50.902Z"
   },
   {
    "duration": 20,
    "start_time": "2024-04-14T12:06:50.928Z"
   },
   {
    "duration": 27,
    "start_time": "2024-04-14T12:06:50.950Z"
   },
   {
    "duration": 4,
    "start_time": "2024-04-14T12:06:50.979Z"
   },
   {
    "duration": 28,
    "start_time": "2024-04-14T12:06:50.985Z"
   },
   {
    "duration": 5,
    "start_time": "2024-04-14T12:06:51.015Z"
   },
   {
    "duration": 13,
    "start_time": "2024-04-14T12:06:51.022Z"
   },
   {
    "duration": 16,
    "start_time": "2024-04-14T12:06:51.037Z"
   },
   {
    "duration": 7,
    "start_time": "2024-04-14T12:06:51.055Z"
   },
   {
    "duration": 40,
    "start_time": "2024-04-14T12:06:51.064Z"
   },
   {
    "duration": 220,
    "start_time": "2024-04-14T12:06:51.105Z"
   },
   {
    "duration": 203,
    "start_time": "2024-04-14T12:06:51.327Z"
   },
   {
    "duration": 177,
    "start_time": "2024-04-14T12:06:51.531Z"
   },
   {
    "duration": 249,
    "start_time": "2024-04-14T12:06:51.709Z"
   },
   {
    "duration": 244,
    "start_time": "2024-04-14T12:06:51.960Z"
   },
   {
    "duration": 5,
    "start_time": "2024-04-14T12:06:52.205Z"
   },
   {
    "duration": 23,
    "start_time": "2024-04-14T12:06:52.211Z"
   },
   {
    "duration": 12,
    "start_time": "2024-04-14T12:06:52.237Z"
   },
   {
    "duration": 6,
    "start_time": "2024-04-14T12:06:52.251Z"
   },
   {
    "duration": 4,
    "start_time": "2024-04-14T12:07:04.645Z"
   },
   {
    "duration": 175,
    "start_time": "2024-04-14T12:07:16.702Z"
   },
   {
    "duration": 1223,
    "start_time": "2024-04-14T12:08:57.539Z"
   },
   {
    "duration": 84,
    "start_time": "2024-04-14T12:08:58.764Z"
   },
   {
    "duration": 24,
    "start_time": "2024-04-14T12:08:58.850Z"
   },
   {
    "duration": 17,
    "start_time": "2024-04-14T12:08:58.876Z"
   },
   {
    "duration": 4,
    "start_time": "2024-04-14T12:08:58.895Z"
   },
   {
    "duration": 6,
    "start_time": "2024-04-14T12:08:58.901Z"
   },
   {
    "duration": 21,
    "start_time": "2024-04-14T12:08:58.908Z"
   },
   {
    "duration": 25,
    "start_time": "2024-04-14T12:08:58.930Z"
   },
   {
    "duration": 4,
    "start_time": "2024-04-14T12:08:58.957Z"
   },
   {
    "duration": 23,
    "start_time": "2024-04-14T12:08:58.963Z"
   },
   {
    "duration": 15,
    "start_time": "2024-04-14T12:08:58.988Z"
   },
   {
    "duration": 12,
    "start_time": "2024-04-14T12:08:59.005Z"
   },
   {
    "duration": 20,
    "start_time": "2024-04-14T12:08:59.019Z"
   },
   {
    "duration": 37,
    "start_time": "2024-04-14T12:08:59.043Z"
   },
   {
    "duration": 12,
    "start_time": "2024-04-14T12:08:59.082Z"
   },
   {
    "duration": 6,
    "start_time": "2024-04-14T12:08:59.095Z"
   },
   {
    "duration": 9,
    "start_time": "2024-04-14T12:08:59.102Z"
   },
   {
    "duration": 16,
    "start_time": "2024-04-14T12:08:59.112Z"
   },
   {
    "duration": 12,
    "start_time": "2024-04-14T12:08:59.130Z"
   },
   {
    "duration": 60,
    "start_time": "2024-04-14T12:08:59.144Z"
   },
   {
    "duration": 237,
    "start_time": "2024-04-14T12:08:59.206Z"
   },
   {
    "duration": 214,
    "start_time": "2024-04-14T12:08:59.444Z"
   },
   {
    "duration": 178,
    "start_time": "2024-04-14T12:08:59.660Z"
   },
   {
    "duration": 261,
    "start_time": "2024-04-14T12:08:59.839Z"
   },
   {
    "duration": 205,
    "start_time": "2024-04-14T12:09:00.102Z"
   },
   {
    "duration": 4,
    "start_time": "2024-04-14T12:09:00.308Z"
   },
   {
    "duration": 284,
    "start_time": "2024-04-14T12:09:00.314Z"
   },
   {
    "duration": 58,
    "start_time": "2024-04-14T12:09:00.600Z"
   },
   {
    "duration": 99,
    "start_time": "2024-04-14T12:09:00.660Z"
   },
   {
    "duration": 47,
    "start_time": "2024-04-14T12:09:00.761Z"
   },
   {
    "duration": 245,
    "start_time": "2024-04-14T12:09:00.810Z"
   },
   {
    "duration": 7,
    "start_time": "2024-04-14T12:10:07.329Z"
   },
   {
    "duration": 4,
    "start_time": "2024-04-14T12:10:10.711Z"
   },
   {
    "duration": 4,
    "start_time": "2024-04-14T12:11:08.848Z"
   },
   {
    "duration": 4,
    "start_time": "2024-04-14T12:11:39.095Z"
   },
   {
    "duration": 4,
    "start_time": "2024-04-14T12:12:25.683Z"
   },
   {
    "duration": 4,
    "start_time": "2024-04-14T12:15:17.165Z"
   },
   {
    "duration": 4,
    "start_time": "2024-04-14T12:15:24.757Z"
   },
   {
    "duration": 5,
    "start_time": "2024-04-14T12:15:35.832Z"
   },
   {
    "duration": 4,
    "start_time": "2024-04-14T12:15:49.444Z"
   },
   {
    "duration": 4,
    "start_time": "2024-04-14T12:15:59.842Z"
   },
   {
    "duration": 5,
    "start_time": "2024-04-14T12:16:20.918Z"
   },
   {
    "duration": 4,
    "start_time": "2024-04-14T12:17:23.214Z"
   },
   {
    "duration": 4,
    "start_time": "2024-04-14T12:18:17.185Z"
   },
   {
    "duration": 177,
    "start_time": "2024-04-14T12:20:31.610Z"
   },
   {
    "duration": 201,
    "start_time": "2024-04-14T12:29:07.861Z"
   },
   {
    "duration": 271,
    "start_time": "2024-04-14T12:30:38.286Z"
   },
   {
    "duration": 198,
    "start_time": "2024-04-14T12:30:48.139Z"
   },
   {
    "duration": 192,
    "start_time": "2024-04-14T12:30:54.899Z"
   },
   {
    "duration": 12,
    "start_time": "2024-04-14T12:32:38.856Z"
   },
   {
    "duration": 6,
    "start_time": "2024-04-14T12:34:45.995Z"
   },
   {
    "duration": 4,
    "start_time": "2024-04-14T12:34:48.562Z"
   },
   {
    "duration": 167,
    "start_time": "2024-04-14T12:34:51.239Z"
   },
   {
    "duration": 4,
    "start_time": "2024-04-14T12:34:56.313Z"
   },
   {
    "duration": 1168,
    "start_time": "2024-04-14T12:35:15.747Z"
   },
   {
    "duration": 81,
    "start_time": "2024-04-14T12:35:16.917Z"
   },
   {
    "duration": 22,
    "start_time": "2024-04-14T12:35:17.000Z"
   },
   {
    "duration": 14,
    "start_time": "2024-04-14T12:35:17.025Z"
   },
   {
    "duration": 3,
    "start_time": "2024-04-14T12:35:17.041Z"
   },
   {
    "duration": 34,
    "start_time": "2024-04-14T12:35:17.046Z"
   },
   {
    "duration": 15,
    "start_time": "2024-04-14T12:35:17.082Z"
   },
   {
    "duration": 44,
    "start_time": "2024-04-14T12:35:17.099Z"
   },
   {
    "duration": 16,
    "start_time": "2024-04-14T12:35:17.145Z"
   },
   {
    "duration": 11,
    "start_time": "2024-04-14T12:35:17.165Z"
   },
   {
    "duration": 15,
    "start_time": "2024-04-14T12:35:17.178Z"
   },
   {
    "duration": 10,
    "start_time": "2024-04-14T12:35:17.195Z"
   },
   {
    "duration": 20,
    "start_time": "2024-04-14T12:35:17.207Z"
   },
   {
    "duration": 5,
    "start_time": "2024-04-14T12:35:17.228Z"
   },
   {
    "duration": 33,
    "start_time": "2024-04-14T12:35:17.235Z"
   },
   {
    "duration": 13,
    "start_time": "2024-04-14T12:35:17.270Z"
   },
   {
    "duration": 7,
    "start_time": "2024-04-14T12:35:17.284Z"
   },
   {
    "duration": 21,
    "start_time": "2024-04-14T12:35:17.293Z"
   },
   {
    "duration": 6,
    "start_time": "2024-04-14T12:35:17.316Z"
   },
   {
    "duration": 27,
    "start_time": "2024-04-14T12:35:17.323Z"
   },
   {
    "duration": 258,
    "start_time": "2024-04-14T12:35:17.351Z"
   },
   {
    "duration": 254,
    "start_time": "2024-04-14T12:35:17.611Z"
   },
   {
    "duration": 183,
    "start_time": "2024-04-14T12:35:17.867Z"
   },
   {
    "duration": 208,
    "start_time": "2024-04-14T12:35:18.051Z"
   },
   {
    "duration": 4,
    "start_time": "2024-04-14T12:35:18.260Z"
   },
   {
    "duration": 16,
    "start_time": "2024-04-14T12:35:18.266Z"
   },
   {
    "duration": 4,
    "start_time": "2024-04-14T12:35:18.284Z"
   },
   {
    "duration": 7,
    "start_time": "2024-04-14T12:35:18.291Z"
   },
   {
    "duration": 11,
    "start_time": "2024-04-14T12:35:18.299Z"
   },
   {
    "duration": 205,
    "start_time": "2024-04-14T12:35:18.312Z"
   },
   {
    "duration": 5,
    "start_time": "2024-04-14T12:35:18.518Z"
   },
   {
    "duration": 39,
    "start_time": "2024-04-14T12:35:18.524Z"
   },
   {
    "duration": 220,
    "start_time": "2024-04-14T12:35:18.565Z"
   },
   {
    "duration": 1222,
    "start_time": "2024-04-14T12:35:46.680Z"
   },
   {
    "duration": 68,
    "start_time": "2024-04-14T12:35:47.904Z"
   },
   {
    "duration": 19,
    "start_time": "2024-04-14T12:35:47.974Z"
   },
   {
    "duration": 15,
    "start_time": "2024-04-14T12:35:47.994Z"
   },
   {
    "duration": 5,
    "start_time": "2024-04-14T12:35:48.011Z"
   },
   {
    "duration": 7,
    "start_time": "2024-04-14T12:35:48.018Z"
   },
   {
    "duration": 14,
    "start_time": "2024-04-14T12:35:48.027Z"
   },
   {
    "duration": 15,
    "start_time": "2024-04-14T12:35:48.042Z"
   },
   {
    "duration": 4,
    "start_time": "2024-04-14T12:35:48.058Z"
   },
   {
    "duration": 8,
    "start_time": "2024-04-14T12:35:48.080Z"
   },
   {
    "duration": 12,
    "start_time": "2024-04-14T12:35:48.089Z"
   },
   {
    "duration": 7,
    "start_time": "2024-04-14T12:35:48.102Z"
   },
   {
    "duration": 14,
    "start_time": "2024-04-14T12:35:48.110Z"
   },
   {
    "duration": 5,
    "start_time": "2024-04-14T12:35:48.126Z"
   },
   {
    "duration": 47,
    "start_time": "2024-04-14T12:35:48.133Z"
   },
   {
    "duration": 5,
    "start_time": "2024-04-14T12:35:48.182Z"
   },
   {
    "duration": 10,
    "start_time": "2024-04-14T12:35:48.189Z"
   },
   {
    "duration": 15,
    "start_time": "2024-04-14T12:35:48.200Z"
   },
   {
    "duration": 7,
    "start_time": "2024-04-14T12:35:48.217Z"
   },
   {
    "duration": 55,
    "start_time": "2024-04-14T12:35:48.226Z"
   },
   {
    "duration": 232,
    "start_time": "2024-04-14T12:35:48.282Z"
   },
   {
    "duration": 278,
    "start_time": "2024-04-14T12:35:48.515Z"
   },
   {
    "duration": 196,
    "start_time": "2024-04-14T12:35:48.795Z"
   },
   {
    "duration": 217,
    "start_time": "2024-04-14T12:35:48.993Z"
   },
   {
    "duration": 5,
    "start_time": "2024-04-14T12:35:49.211Z"
   },
   {
    "duration": 9,
    "start_time": "2024-04-14T12:35:49.218Z"
   },
   {
    "duration": 4,
    "start_time": "2024-04-14T12:35:49.229Z"
   },
   {
    "duration": 4,
    "start_time": "2024-04-14T12:35:49.234Z"
   },
   {
    "duration": 228,
    "start_time": "2024-04-14T12:35:49.240Z"
   },
   {
    "duration": 17,
    "start_time": "2024-04-14T12:35:49.470Z"
   },
   {
    "duration": 196,
    "start_time": "2024-04-14T12:35:49.489Z"
   },
   {
    "duration": 8,
    "start_time": "2024-04-14T12:36:16.151Z"
   },
   {
    "duration": 4,
    "start_time": "2024-04-14T12:36:22.932Z"
   },
   {
    "duration": 185,
    "start_time": "2024-04-14T12:36:23.339Z"
   },
   {
    "duration": 4,
    "start_time": "2024-04-14T12:36:39.047Z"
   },
   {
    "duration": 12,
    "start_time": "2024-04-14T12:36:40.802Z"
   },
   {
    "duration": 205,
    "start_time": "2024-04-14T12:39:12.371Z"
   },
   {
    "duration": 255,
    "start_time": "2024-04-14T12:39:29.186Z"
   },
   {
    "duration": 201,
    "start_time": "2024-04-14T12:39:39.629Z"
   },
   {
    "duration": 212,
    "start_time": "2024-04-14T12:42:15.445Z"
   },
   {
    "duration": 5,
    "start_time": "2024-04-14T12:46:16.194Z"
   },
   {
    "duration": 5,
    "start_time": "2024-04-14T12:46:29.049Z"
   },
   {
    "duration": 5,
    "start_time": "2024-04-14T12:46:43.727Z"
   },
   {
    "duration": 222,
    "start_time": "2024-04-14T12:47:16.289Z"
   },
   {
    "duration": 5,
    "start_time": "2024-04-14T12:49:15.479Z"
   },
   {
    "duration": 6,
    "start_time": "2024-04-14T12:51:05.315Z"
   },
   {
    "duration": 115,
    "start_time": "2024-04-14T15:14:58.576Z"
   },
   {
    "duration": 4,
    "start_time": "2024-04-14T15:15:06.866Z"
   },
   {
    "duration": 1218,
    "start_time": "2024-04-14T15:15:17.302Z"
   },
   {
    "duration": 151,
    "start_time": "2024-04-14T15:15:18.522Z"
   },
   {
    "duration": 20,
    "start_time": "2024-04-14T15:15:18.674Z"
   },
   {
    "duration": 17,
    "start_time": "2024-04-14T15:15:18.696Z"
   },
   {
    "duration": 4,
    "start_time": "2024-04-14T15:15:18.714Z"
   },
   {
    "duration": 5,
    "start_time": "2024-04-14T15:15:18.720Z"
   },
   {
    "duration": 16,
    "start_time": "2024-04-14T15:15:18.727Z"
   },
   {
    "duration": 40,
    "start_time": "2024-04-14T15:15:18.744Z"
   },
   {
    "duration": 5,
    "start_time": "2024-04-14T15:15:18.786Z"
   },
   {
    "duration": 9,
    "start_time": "2024-04-14T15:15:18.794Z"
   },
   {
    "duration": 13,
    "start_time": "2024-04-14T15:15:18.804Z"
   },
   {
    "duration": 8,
    "start_time": "2024-04-14T15:15:18.819Z"
   },
   {
    "duration": 52,
    "start_time": "2024-04-14T15:15:18.829Z"
   },
   {
    "duration": 5,
    "start_time": "2024-04-14T15:15:18.883Z"
   },
   {
    "duration": 11,
    "start_time": "2024-04-14T15:15:18.890Z"
   },
   {
    "duration": 11,
    "start_time": "2024-04-14T15:15:18.903Z"
   },
   {
    "duration": 7,
    "start_time": "2024-04-14T15:15:18.916Z"
   },
   {
    "duration": 16,
    "start_time": "2024-04-14T15:15:18.925Z"
   },
   {
    "duration": 38,
    "start_time": "2024-04-14T15:15:18.942Z"
   },
   {
    "duration": 31,
    "start_time": "2024-04-14T15:15:18.982Z"
   },
   {
    "duration": 239,
    "start_time": "2024-04-14T15:15:19.014Z"
   },
   {
    "duration": 240,
    "start_time": "2024-04-14T15:15:19.255Z"
   },
   {
    "duration": 196,
    "start_time": "2024-04-14T15:15:19.496Z"
   },
   {
    "duration": 206,
    "start_time": "2024-04-14T15:15:19.694Z"
   },
   {
    "duration": 5,
    "start_time": "2024-04-14T15:15:19.901Z"
   },
   {
    "duration": 10,
    "start_time": "2024-04-14T15:15:19.907Z"
   },
   {
    "duration": 8,
    "start_time": "2024-04-14T15:15:19.919Z"
   },
   {
    "duration": 206,
    "start_time": "2024-04-14T15:15:19.929Z"
   },
   {
    "duration": 220,
    "start_time": "2024-04-14T15:15:20.137Z"
   },
   {
    "duration": 5,
    "start_time": "2024-04-14T15:15:20.358Z"
   },
   {
    "duration": 4,
    "start_time": "2024-04-14T15:16:52.349Z"
   },
   {
    "duration": 5,
    "start_time": "2024-04-14T15:18:08.757Z"
   },
   {
    "duration": 5,
    "start_time": "2024-04-14T15:18:29.706Z"
   },
   {
    "duration": 86,
    "start_time": "2024-04-14T15:18:48.278Z"
   },
   {
    "duration": 5,
    "start_time": "2024-04-14T15:18:56.215Z"
   },
   {
    "duration": 4,
    "start_time": "2024-04-14T15:19:17.257Z"
   },
   {
    "duration": 109,
    "start_time": "2024-04-14T15:22:13.511Z"
   },
   {
    "duration": 15,
    "start_time": "2024-04-14T15:33:59.978Z"
   },
   {
    "duration": 170,
    "start_time": "2024-04-14T15:38:35.280Z"
   },
   {
    "duration": 35,
    "start_time": "2024-04-14T15:38:57.815Z"
   },
   {
    "duration": 11,
    "start_time": "2024-04-14T15:39:02.521Z"
   },
   {
    "duration": 175,
    "start_time": "2024-04-14T15:42:07.125Z"
   },
   {
    "duration": 779,
    "start_time": "2024-04-14T15:42:32.793Z"
   },
   {
    "duration": 9,
    "start_time": "2024-04-14T15:42:48.118Z"
   },
   {
    "duration": 176,
    "start_time": "2024-04-14T15:42:53.342Z"
   },
   {
    "duration": 874,
    "start_time": "2024-04-14T15:43:01.866Z"
   },
   {
    "duration": 708,
    "start_time": "2024-04-14T15:46:07.460Z"
   },
   {
    "duration": 797,
    "start_time": "2024-04-14T15:46:30.244Z"
   },
   {
    "duration": 700,
    "start_time": "2024-04-14T15:46:38.700Z"
   },
   {
    "duration": 765,
    "start_time": "2024-04-14T15:48:41.564Z"
   },
   {
    "duration": 874,
    "start_time": "2024-04-14T15:48:52.520Z"
   },
   {
    "duration": 215,
    "start_time": "2024-04-14T15:49:42.980Z"
   },
   {
    "duration": 342,
    "start_time": "2024-04-14T15:56:13.909Z"
   },
   {
    "duration": 366,
    "start_time": "2024-04-14T15:58:11.008Z"
   },
   {
    "duration": 26,
    "start_time": "2024-04-14T16:02:12.170Z"
   },
   {
    "duration": 23,
    "start_time": "2024-04-14T16:02:16.789Z"
   },
   {
    "duration": 532,
    "start_time": "2024-04-14T16:02:39.036Z"
   },
   {
    "duration": 366,
    "start_time": "2024-04-14T16:02:48.967Z"
   },
   {
    "duration": 339,
    "start_time": "2024-04-14T16:02:56.045Z"
   },
   {
    "duration": 12,
    "start_time": "2024-04-14T16:04:03.118Z"
   },
   {
    "duration": 10,
    "start_time": "2024-04-14T16:04:19.530Z"
   },
   {
    "duration": 229,
    "start_time": "2024-04-14T16:04:27.952Z"
   },
   {
    "duration": 11,
    "start_time": "2024-04-14T16:04:34.994Z"
   },
   {
    "duration": 370,
    "start_time": "2024-04-14T16:04:41.648Z"
   },
   {
    "duration": 357,
    "start_time": "2024-04-14T16:06:11.589Z"
   },
   {
    "duration": 370,
    "start_time": "2024-04-14T16:08:00.592Z"
   },
   {
    "duration": 548,
    "start_time": "2024-04-14T16:09:11.653Z"
   },
   {
    "duration": 384,
    "start_time": "2024-04-14T16:09:21.441Z"
   },
   {
    "duration": 355,
    "start_time": "2024-04-14T16:09:43.664Z"
   },
   {
    "duration": 365,
    "start_time": "2024-04-14T16:09:50.342Z"
   },
   {
    "duration": 374,
    "start_time": "2024-04-14T16:10:02.976Z"
   },
   {
    "duration": 361,
    "start_time": "2024-04-14T16:10:15.685Z"
   },
   {
    "duration": 351,
    "start_time": "2024-04-14T16:15:19.422Z"
   },
   {
    "duration": 490,
    "start_time": "2024-04-14T16:15:55.670Z"
   },
   {
    "duration": 363,
    "start_time": "2024-04-14T16:16:10.239Z"
   },
   {
    "duration": 365,
    "start_time": "2024-04-14T16:16:43.329Z"
   },
   {
    "duration": 349,
    "start_time": "2024-04-14T16:17:00.933Z"
   },
   {
    "duration": 378,
    "start_time": "2024-04-14T16:17:24.359Z"
   },
   {
    "duration": 378,
    "start_time": "2024-04-14T16:17:40.578Z"
   },
   {
    "duration": 205,
    "start_time": "2024-04-14T16:22:08.161Z"
   },
   {
    "duration": 194,
    "start_time": "2024-04-14T16:22:23.660Z"
   },
   {
    "duration": 218,
    "start_time": "2024-04-14T16:23:14.891Z"
   },
   {
    "duration": 189,
    "start_time": "2024-04-14T16:25:43.670Z"
   },
   {
    "duration": 642,
    "start_time": "2024-04-14T16:32:02.542Z"
   },
   {
    "duration": 186,
    "start_time": "2024-04-14T16:32:08.959Z"
   },
   {
    "duration": 184,
    "start_time": "2024-04-14T16:32:27.215Z"
   },
   {
    "duration": 361,
    "start_time": "2024-04-14T16:36:03.561Z"
   },
   {
    "duration": 169,
    "start_time": "2024-04-14T16:36:13.292Z"
   },
   {
    "duration": 266,
    "start_time": "2024-04-14T16:36:41.645Z"
   },
   {
    "duration": 6124,
    "start_time": "2024-04-14T16:39:16.968Z"
   },
   {
    "duration": 6293,
    "start_time": "2024-04-14T16:42:06.288Z"
   },
   {
    "duration": 6366,
    "start_time": "2024-04-14T16:42:24.130Z"
   },
   {
    "duration": 6401,
    "start_time": "2024-04-14T16:42:44.772Z"
   },
   {
    "duration": 6355,
    "start_time": "2024-04-14T16:42:58.372Z"
   },
   {
    "duration": 6454,
    "start_time": "2024-04-14T16:43:26.262Z"
   },
   {
    "duration": 6134,
    "start_time": "2024-04-14T16:43:48.774Z"
   },
   {
    "duration": 6440,
    "start_time": "2024-04-14T16:44:05.079Z"
   },
   {
    "duration": 6283,
    "start_time": "2024-04-14T16:44:24.370Z"
   },
   {
    "duration": 6397,
    "start_time": "2024-04-14T16:45:14.104Z"
   },
   {
    "duration": 393,
    "start_time": "2024-04-14T16:48:39.881Z"
   },
   {
    "duration": 110,
    "start_time": "2024-04-14T16:51:28.206Z"
   },
   {
    "duration": 271,
    "start_time": "2024-04-14T16:51:36.419Z"
   },
   {
    "duration": 13,
    "start_time": "2024-04-14T16:51:59.596Z"
   },
   {
    "duration": 262,
    "start_time": "2024-04-14T16:52:04.001Z"
   },
   {
    "duration": 224,
    "start_time": "2024-04-14T16:52:13.238Z"
   },
   {
    "duration": 253,
    "start_time": "2024-04-14T16:53:16.318Z"
   },
   {
    "duration": 5,
    "start_time": "2024-04-14T16:57:53.372Z"
   },
   {
    "duration": 278,
    "start_time": "2024-04-14T17:13:23.002Z"
   },
   {
    "duration": 728,
    "start_time": "2024-04-14T17:19:54.995Z"
   },
   {
    "duration": 776,
    "start_time": "2024-04-14T17:21:08.247Z"
   },
   {
    "duration": 1290,
    "start_time": "2024-04-14T17:21:14.619Z"
   },
   {
    "duration": 698,
    "start_time": "2024-04-14T17:21:34.618Z"
   },
   {
    "duration": 85,
    "start_time": "2024-04-14T18:13:20.958Z"
   },
   {
    "duration": 81,
    "start_time": "2024-04-14T18:13:31.538Z"
   },
   {
    "duration": 14,
    "start_time": "2024-04-14T18:13:38.334Z"
   },
   {
    "duration": 103,
    "start_time": "2024-04-14T18:13:46.502Z"
   },
   {
    "duration": 3651,
    "start_time": "2024-04-14T18:17:02.425Z"
   },
   {
    "duration": 65,
    "start_time": "2024-04-14T18:17:06.078Z"
   },
   {
    "duration": 2503,
    "start_time": "2024-04-14T18:18:44.679Z"
   },
   {
    "duration": 1231,
    "start_time": "2024-04-14T18:18:47.184Z"
   },
   {
    "duration": 133,
    "start_time": "2024-04-14T18:18:48.416Z"
   },
   {
    "duration": 25,
    "start_time": "2024-04-14T18:18:48.551Z"
   },
   {
    "duration": 12,
    "start_time": "2024-04-14T18:18:48.578Z"
   },
   {
    "duration": 3,
    "start_time": "2024-04-14T18:18:48.592Z"
   },
   {
    "duration": 5,
    "start_time": "2024-04-14T18:18:48.597Z"
   },
   {
    "duration": 14,
    "start_time": "2024-04-14T18:18:48.603Z"
   },
   {
    "duration": 23,
    "start_time": "2024-04-14T18:18:48.619Z"
   },
   {
    "duration": 4,
    "start_time": "2024-04-14T18:18:48.644Z"
   },
   {
    "duration": 7,
    "start_time": "2024-04-14T18:18:48.650Z"
   },
   {
    "duration": 29,
    "start_time": "2024-04-14T18:18:48.659Z"
   },
   {
    "duration": 6,
    "start_time": "2024-04-14T18:18:48.689Z"
   },
   {
    "duration": 16,
    "start_time": "2024-04-14T18:18:48.696Z"
   },
   {
    "duration": 5,
    "start_time": "2024-04-14T18:18:48.713Z"
   },
   {
    "duration": 10,
    "start_time": "2024-04-14T18:18:48.720Z"
   },
   {
    "duration": 5,
    "start_time": "2024-04-14T18:18:48.731Z"
   },
   {
    "duration": 43,
    "start_time": "2024-04-14T18:18:48.738Z"
   },
   {
    "duration": 13,
    "start_time": "2024-04-14T18:18:48.783Z"
   },
   {
    "duration": 5,
    "start_time": "2024-04-14T18:18:48.798Z"
   },
   {
    "duration": 26,
    "start_time": "2024-04-14T18:18:48.805Z"
   },
   {
    "duration": 237,
    "start_time": "2024-04-14T18:18:48.833Z"
   },
   {
    "duration": 194,
    "start_time": "2024-04-14T18:18:49.072Z"
   },
   {
    "duration": 180,
    "start_time": "2024-04-14T18:18:49.268Z"
   },
   {
    "duration": 186,
    "start_time": "2024-04-14T18:18:49.449Z"
   },
   {
    "duration": 4,
    "start_time": "2024-04-14T18:18:49.636Z"
   },
   {
    "duration": 7,
    "start_time": "2024-04-14T18:18:49.641Z"
   },
   {
    "duration": 3,
    "start_time": "2024-04-14T18:18:49.652Z"
   },
   {
    "duration": 198,
    "start_time": "2024-04-14T18:18:49.657Z"
   },
   {
    "duration": 199,
    "start_time": "2024-04-14T18:18:49.857Z"
   },
   {
    "duration": 3,
    "start_time": "2024-04-14T18:18:50.058Z"
   },
   {
    "duration": 21,
    "start_time": "2024-04-14T18:18:50.063Z"
   },
   {
    "duration": 5,
    "start_time": "2024-04-14T18:18:50.086Z"
   },
   {
    "duration": 452,
    "start_time": "2024-04-14T18:18:50.092Z"
   },
   {
    "duration": 186,
    "start_time": "2024-04-14T18:18:50.545Z"
   },
   {
    "duration": 176,
    "start_time": "2024-04-14T18:18:50.733Z"
   },
   {
    "duration": 333,
    "start_time": "2024-04-14T18:18:50.911Z"
   },
   {
    "duration": 282,
    "start_time": "2024-04-14T18:18:51.246Z"
   },
   {
    "duration": 5842,
    "start_time": "2024-04-14T18:18:51.529Z"
   },
   {
    "duration": 386,
    "start_time": "2024-04-14T18:18:57.380Z"
   },
   {
    "duration": 272,
    "start_time": "2024-04-14T18:18:57.768Z"
   },
   {
    "duration": 624,
    "start_time": "2024-04-14T18:18:58.042Z"
   },
   {
    "duration": 693,
    "start_time": "2024-04-14T18:18:58.668Z"
   },
   {
    "duration": 3,
    "start_time": "2024-04-14T18:19:28.084Z"
   },
   {
    "duration": 1189,
    "start_time": "2024-04-14T18:19:47.799Z"
   },
   {
    "duration": 66,
    "start_time": "2024-04-14T18:19:48.990Z"
   },
   {
    "duration": 18,
    "start_time": "2024-04-14T18:19:49.057Z"
   },
   {
    "duration": 22,
    "start_time": "2024-04-14T18:19:49.077Z"
   },
   {
    "duration": 7,
    "start_time": "2024-04-14T18:19:49.101Z"
   },
   {
    "duration": 13,
    "start_time": "2024-04-14T18:19:49.110Z"
   },
   {
    "duration": 22,
    "start_time": "2024-04-14T18:19:49.125Z"
   },
   {
    "duration": 12,
    "start_time": "2024-04-14T18:19:49.148Z"
   },
   {
    "duration": 5,
    "start_time": "2024-04-14T18:19:49.161Z"
   },
   {
    "duration": 11,
    "start_time": "2024-04-14T18:19:49.168Z"
   },
   {
    "duration": 24,
    "start_time": "2024-04-14T18:19:49.181Z"
   },
   {
    "duration": 8,
    "start_time": "2024-04-14T18:19:49.207Z"
   },
   {
    "duration": 15,
    "start_time": "2024-04-14T18:19:49.216Z"
   },
   {
    "duration": 5,
    "start_time": "2024-04-14T18:19:49.232Z"
   },
   {
    "duration": 13,
    "start_time": "2024-04-14T18:19:49.238Z"
   },
   {
    "duration": 5,
    "start_time": "2024-04-14T18:19:49.252Z"
   },
   {
    "duration": 24,
    "start_time": "2024-04-14T18:19:49.258Z"
   },
   {
    "duration": 19,
    "start_time": "2024-04-14T18:19:49.284Z"
   },
   {
    "duration": 6,
    "start_time": "2024-04-14T18:19:49.304Z"
   },
   {
    "duration": 31,
    "start_time": "2024-04-14T18:19:49.312Z"
   },
   {
    "duration": 227,
    "start_time": "2024-04-14T18:19:49.344Z"
   },
   {
    "duration": 205,
    "start_time": "2024-04-14T18:19:49.573Z"
   },
   {
    "duration": 169,
    "start_time": "2024-04-14T18:19:49.780Z"
   },
   {
    "duration": 191,
    "start_time": "2024-04-14T18:19:49.951Z"
   },
   {
    "duration": 4,
    "start_time": "2024-04-14T18:19:50.143Z"
   },
   {
    "duration": 12,
    "start_time": "2024-04-14T18:19:50.149Z"
   },
   {
    "duration": 17,
    "start_time": "2024-04-14T18:19:50.163Z"
   },
   {
    "duration": 209,
    "start_time": "2024-04-14T18:19:50.184Z"
   },
   {
    "duration": 405,
    "start_time": "2024-04-14T18:19:50.394Z"
   },
   {
    "duration": 3,
    "start_time": "2024-04-14T18:19:50.801Z"
   },
   {
    "duration": 17,
    "start_time": "2024-04-14T18:19:50.806Z"
   },
   {
    "duration": 57,
    "start_time": "2024-04-14T18:19:50.824Z"
   },
   {
    "duration": 864,
    "start_time": "2024-04-14T18:19:50.883Z"
   },
   {
    "duration": 209,
    "start_time": "2024-04-14T18:19:51.748Z"
   },
   {
    "duration": 191,
    "start_time": "2024-04-14T18:19:51.959Z"
   },
   {
    "duration": 325,
    "start_time": "2024-04-14T18:19:52.151Z"
   },
   {
    "duration": 275,
    "start_time": "2024-04-14T18:19:52.479Z"
   },
   {
    "duration": 1256,
    "start_time": "2024-04-14T18:20:00.611Z"
   },
   {
    "duration": 69,
    "start_time": "2024-04-14T18:20:01.869Z"
   },
   {
    "duration": 374,
    "start_time": "2024-04-14T18:20:01.939Z"
   },
   {
    "duration": 96,
    "start_time": "2024-04-14T18:20:02.315Z"
   },
   {
    "duration": 59,
    "start_time": "2024-04-14T18:20:02.414Z"
   },
   {
    "duration": 51,
    "start_time": "2024-04-14T18:20:02.475Z"
   },
   {
    "duration": 40,
    "start_time": "2024-04-14T18:20:02.528Z"
   },
   {
    "duration": 71,
    "start_time": "2024-04-14T18:20:02.570Z"
   },
   {
    "duration": 24,
    "start_time": "2024-04-14T18:20:02.643Z"
   },
   {
    "duration": 66,
    "start_time": "2024-04-14T18:20:02.669Z"
   },
   {
    "duration": 71,
    "start_time": "2024-04-14T18:20:02.736Z"
   },
   {
    "duration": 31,
    "start_time": "2024-04-14T18:20:02.809Z"
   },
   {
    "duration": 40,
    "start_time": "2024-04-14T18:20:02.842Z"
   },
   {
    "duration": 5,
    "start_time": "2024-04-14T18:20:02.885Z"
   },
   {
    "duration": 21,
    "start_time": "2024-04-14T18:20:02.892Z"
   },
   {
    "duration": 9,
    "start_time": "2024-04-14T18:20:02.915Z"
   },
   {
    "duration": 15,
    "start_time": "2024-04-14T18:20:02.926Z"
   },
   {
    "duration": 29,
    "start_time": "2024-04-14T18:20:02.942Z"
   },
   {
    "duration": 42,
    "start_time": "2024-04-14T18:20:02.972Z"
   },
   {
    "duration": 91,
    "start_time": "2024-04-14T18:20:03.016Z"
   },
   {
    "duration": 246,
    "start_time": "2024-04-14T18:20:03.109Z"
   },
   {
    "duration": 230,
    "start_time": "2024-04-14T18:20:03.357Z"
   },
   {
    "duration": 199,
    "start_time": "2024-04-14T18:20:03.589Z"
   },
   {
    "duration": 203,
    "start_time": "2024-04-14T18:20:03.790Z"
   },
   {
    "duration": 4,
    "start_time": "2024-04-14T18:20:03.995Z"
   },
   {
    "duration": 29,
    "start_time": "2024-04-14T18:20:04.001Z"
   },
   {
    "duration": 21,
    "start_time": "2024-04-14T18:20:04.031Z"
   },
   {
    "duration": 194,
    "start_time": "2024-04-14T18:20:04.054Z"
   },
   {
    "duration": 240,
    "start_time": "2024-04-14T18:20:04.250Z"
   },
   {
    "duration": 4,
    "start_time": "2024-04-14T18:20:04.491Z"
   },
   {
    "duration": 26,
    "start_time": "2024-04-14T18:20:04.497Z"
   },
   {
    "duration": 4,
    "start_time": "2024-04-14T18:20:04.525Z"
   },
   {
    "duration": 459,
    "start_time": "2024-04-14T18:20:04.531Z"
   },
   {
    "duration": 204,
    "start_time": "2024-04-14T18:20:04.991Z"
   },
   {
    "duration": 183,
    "start_time": "2024-04-14T18:20:05.197Z"
   },
   {
    "duration": 361,
    "start_time": "2024-04-14T18:20:05.382Z"
   },
   {
    "duration": 307,
    "start_time": "2024-04-14T18:20:05.744Z"
   },
   {
    "duration": 6084,
    "start_time": "2024-04-14T18:20:06.052Z"
   },
   {
    "duration": 427,
    "start_time": "2024-04-14T18:20:12.138Z"
   },
   {
    "duration": 282,
    "start_time": "2024-04-14T18:20:12.567Z"
   },
   {
    "duration": 624,
    "start_time": "2024-04-14T18:20:12.853Z"
   },
   {
    "duration": 738,
    "start_time": "2024-04-14T18:20:13.480Z"
   },
   {
    "duration": 1688,
    "start_time": "2024-04-14T18:27:28.833Z"
   },
   {
    "duration": 4,
    "start_time": "2024-04-14T18:27:43.482Z"
   },
   {
    "duration": 19,
    "start_time": "2024-04-14T18:27:51.078Z"
   },
   {
    "duration": 492,
    "start_time": "2024-04-14T18:29:15.018Z"
   },
   {
    "duration": 1564,
    "start_time": "2024-04-14T18:34:25.050Z"
   },
   {
    "duration": 1384,
    "start_time": "2024-04-14T18:34:41.693Z"
   },
   {
    "duration": 270,
    "start_time": "2024-04-14T18:35:12.986Z"
   },
   {
    "duration": 1459,
    "start_time": "2024-04-14T18:36:02.639Z"
   },
   {
    "duration": 1384,
    "start_time": "2024-04-14T18:36:37.510Z"
   },
   {
    "duration": 1288,
    "start_time": "2024-04-14T18:37:22.916Z"
   },
   {
    "duration": 1492,
    "start_time": "2024-04-14T18:37:54.154Z"
   },
   {
    "duration": 1345,
    "start_time": "2024-04-14T18:38:10.443Z"
   },
   {
    "duration": 1402,
    "start_time": "2024-04-14T18:38:20.437Z"
   },
   {
    "duration": 1309,
    "start_time": "2024-04-14T18:38:29.828Z"
   },
   {
    "duration": 1375,
    "start_time": "2024-04-14T18:38:40.248Z"
   },
   {
    "duration": 11518,
    "start_time": "2024-04-14T18:43:02.682Z"
   },
   {
    "duration": 411,
    "start_time": "2024-04-14T18:43:42.781Z"
   },
   {
    "duration": 1335,
    "start_time": "2024-04-14T18:44:06.611Z"
   },
   {
    "duration": 29514,
    "start_time": "2024-04-14T18:45:14.377Z"
   },
   {
    "duration": 1431,
    "start_time": "2024-04-14T18:49:41.309Z"
   },
   {
    "duration": 725,
    "start_time": "2024-04-14T20:12:23.528Z"
   },
   {
    "duration": 1292,
    "start_time": "2024-04-14T20:19:19.913Z"
   },
   {
    "duration": 29961,
    "start_time": "2024-04-14T20:22:04.895Z"
   },
   {
    "duration": 43,
    "start_time": "2024-04-14T23:05:00.222Z"
   },
   {
    "duration": 1166,
    "start_time": "2024-04-14T23:05:14.760Z"
   },
   {
    "duration": 0,
    "start_time": "2024-04-14T23:05:15.929Z"
   },
   {
    "duration": 0,
    "start_time": "2024-04-14T23:05:15.930Z"
   },
   {
    "duration": 0,
    "start_time": "2024-04-14T23:05:15.931Z"
   },
   {
    "duration": 0,
    "start_time": "2024-04-14T23:05:15.932Z"
   },
   {
    "duration": 0,
    "start_time": "2024-04-14T23:05:15.933Z"
   },
   {
    "duration": 0,
    "start_time": "2024-04-14T23:05:15.933Z"
   },
   {
    "duration": 0,
    "start_time": "2024-04-14T23:05:15.934Z"
   },
   {
    "duration": 0,
    "start_time": "2024-04-14T23:05:15.935Z"
   },
   {
    "duration": 0,
    "start_time": "2024-04-14T23:05:15.936Z"
   },
   {
    "duration": 0,
    "start_time": "2024-04-14T23:05:15.937Z"
   },
   {
    "duration": 0,
    "start_time": "2024-04-14T23:05:15.937Z"
   },
   {
    "duration": 0,
    "start_time": "2024-04-14T23:05:15.938Z"
   },
   {
    "duration": 0,
    "start_time": "2024-04-14T23:05:15.939Z"
   },
   {
    "duration": 0,
    "start_time": "2024-04-14T23:05:15.940Z"
   },
   {
    "duration": 0,
    "start_time": "2024-04-14T23:05:15.941Z"
   },
   {
    "duration": 0,
    "start_time": "2024-04-14T23:05:15.942Z"
   },
   {
    "duration": 0,
    "start_time": "2024-04-14T23:05:15.943Z"
   },
   {
    "duration": 0,
    "start_time": "2024-04-14T23:05:15.943Z"
   },
   {
    "duration": 0,
    "start_time": "2024-04-14T23:05:15.944Z"
   },
   {
    "duration": 0,
    "start_time": "2024-04-14T23:05:15.945Z"
   },
   {
    "duration": 0,
    "start_time": "2024-04-14T23:05:15.946Z"
   },
   {
    "duration": 0,
    "start_time": "2024-04-14T23:05:15.946Z"
   },
   {
    "duration": 0,
    "start_time": "2024-04-14T23:05:15.947Z"
   },
   {
    "duration": 0,
    "start_time": "2024-04-14T23:05:15.948Z"
   },
   {
    "duration": 0,
    "start_time": "2024-04-14T23:05:15.949Z"
   },
   {
    "duration": 0,
    "start_time": "2024-04-14T23:05:15.950Z"
   },
   {
    "duration": 0,
    "start_time": "2024-04-14T23:05:15.950Z"
   },
   {
    "duration": 0,
    "start_time": "2024-04-14T23:05:15.951Z"
   },
   {
    "duration": 0,
    "start_time": "2024-04-14T23:05:15.952Z"
   },
   {
    "duration": 0,
    "start_time": "2024-04-14T23:05:15.953Z"
   },
   {
    "duration": 0,
    "start_time": "2024-04-14T23:05:15.953Z"
   },
   {
    "duration": 0,
    "start_time": "2024-04-14T23:05:15.954Z"
   },
   {
    "duration": 0,
    "start_time": "2024-04-14T23:05:15.955Z"
   },
   {
    "duration": 0,
    "start_time": "2024-04-14T23:05:16.002Z"
   },
   {
    "duration": 0,
    "start_time": "2024-04-14T23:05:16.003Z"
   },
   {
    "duration": 0,
    "start_time": "2024-04-14T23:05:16.004Z"
   },
   {
    "duration": 0,
    "start_time": "2024-04-14T23:05:16.005Z"
   },
   {
    "duration": 0,
    "start_time": "2024-04-14T23:05:16.005Z"
   },
   {
    "duration": 0,
    "start_time": "2024-04-14T23:05:16.006Z"
   },
   {
    "duration": 0,
    "start_time": "2024-04-14T23:05:16.007Z"
   },
   {
    "duration": 0,
    "start_time": "2024-04-14T23:05:16.008Z"
   },
   {
    "duration": 0,
    "start_time": "2024-04-14T23:05:16.008Z"
   },
   {
    "duration": 0,
    "start_time": "2024-04-14T23:05:16.009Z"
   },
   {
    "duration": 0,
    "start_time": "2024-04-14T23:05:16.010Z"
   },
   {
    "duration": 0,
    "start_time": "2024-04-14T23:05:16.011Z"
   },
   {
    "duration": 0,
    "start_time": "2024-04-14T23:05:16.012Z"
   },
   {
    "duration": 0,
    "start_time": "2024-04-14T23:05:16.013Z"
   },
   {
    "duration": 0,
    "start_time": "2024-04-14T23:05:16.014Z"
   },
   {
    "duration": 1091,
    "start_time": "2024-04-14T23:06:21.512Z"
   },
   {
    "duration": 0,
    "start_time": "2024-04-14T23:06:22.605Z"
   },
   {
    "duration": 0,
    "start_time": "2024-04-14T23:06:22.606Z"
   },
   {
    "duration": 0,
    "start_time": "2024-04-14T23:06:22.606Z"
   },
   {
    "duration": 0,
    "start_time": "2024-04-14T23:06:22.607Z"
   },
   {
    "duration": 0,
    "start_time": "2024-04-14T23:06:22.608Z"
   },
   {
    "duration": 0,
    "start_time": "2024-04-14T23:06:22.609Z"
   },
   {
    "duration": 0,
    "start_time": "2024-04-14T23:06:22.610Z"
   },
   {
    "duration": 0,
    "start_time": "2024-04-14T23:06:22.611Z"
   },
   {
    "duration": 0,
    "start_time": "2024-04-14T23:06:22.612Z"
   },
   {
    "duration": 0,
    "start_time": "2024-04-14T23:06:22.612Z"
   },
   {
    "duration": 0,
    "start_time": "2024-04-14T23:06:22.613Z"
   },
   {
    "duration": 0,
    "start_time": "2024-04-14T23:06:22.614Z"
   },
   {
    "duration": 0,
    "start_time": "2024-04-14T23:06:22.615Z"
   },
   {
    "duration": 0,
    "start_time": "2024-04-14T23:06:22.615Z"
   },
   {
    "duration": 0,
    "start_time": "2024-04-14T23:06:22.616Z"
   },
   {
    "duration": 0,
    "start_time": "2024-04-14T23:06:22.617Z"
   },
   {
    "duration": 0,
    "start_time": "2024-04-14T23:06:22.617Z"
   },
   {
    "duration": 0,
    "start_time": "2024-04-14T23:06:22.618Z"
   },
   {
    "duration": 0,
    "start_time": "2024-04-14T23:06:22.619Z"
   },
   {
    "duration": 0,
    "start_time": "2024-04-14T23:06:22.620Z"
   },
   {
    "duration": 0,
    "start_time": "2024-04-14T23:06:22.621Z"
   },
   {
    "duration": 0,
    "start_time": "2024-04-14T23:06:22.621Z"
   },
   {
    "duration": 0,
    "start_time": "2024-04-14T23:06:22.622Z"
   },
   {
    "duration": 0,
    "start_time": "2024-04-14T23:06:22.623Z"
   },
   {
    "duration": 0,
    "start_time": "2024-04-14T23:06:22.623Z"
   },
   {
    "duration": 0,
    "start_time": "2024-04-14T23:06:22.624Z"
   },
   {
    "duration": 0,
    "start_time": "2024-04-14T23:06:22.625Z"
   },
   {
    "duration": 0,
    "start_time": "2024-04-14T23:06:22.626Z"
   },
   {
    "duration": 0,
    "start_time": "2024-04-14T23:06:22.626Z"
   },
   {
    "duration": 0,
    "start_time": "2024-04-14T23:06:22.627Z"
   },
   {
    "duration": 0,
    "start_time": "2024-04-14T23:06:22.628Z"
   },
   {
    "duration": 0,
    "start_time": "2024-04-14T23:06:22.628Z"
   },
   {
    "duration": 0,
    "start_time": "2024-04-14T23:06:22.629Z"
   },
   {
    "duration": 0,
    "start_time": "2024-04-14T23:06:22.630Z"
   },
   {
    "duration": 0,
    "start_time": "2024-04-14T23:06:22.630Z"
   },
   {
    "duration": 0,
    "start_time": "2024-04-14T23:06:22.631Z"
   },
   {
    "duration": 0,
    "start_time": "2024-04-14T23:06:22.632Z"
   },
   {
    "duration": 1,
    "start_time": "2024-04-14T23:06:22.632Z"
   },
   {
    "duration": 0,
    "start_time": "2024-04-14T23:06:22.633Z"
   },
   {
    "duration": 0,
    "start_time": "2024-04-14T23:06:22.634Z"
   },
   {
    "duration": 0,
    "start_time": "2024-04-14T23:06:22.634Z"
   },
   {
    "duration": 0,
    "start_time": "2024-04-14T23:06:22.635Z"
   },
   {
    "duration": 0,
    "start_time": "2024-04-14T23:06:22.636Z"
   },
   {
    "duration": 0,
    "start_time": "2024-04-14T23:06:22.637Z"
   },
   {
    "duration": 0,
    "start_time": "2024-04-14T23:06:22.638Z"
   },
   {
    "duration": 0,
    "start_time": "2024-04-14T23:06:22.639Z"
   },
   {
    "duration": 0,
    "start_time": "2024-04-14T23:06:22.639Z"
   },
   {
    "duration": 0,
    "start_time": "2024-04-14T23:06:22.640Z"
   },
   {
    "duration": 3243,
    "start_time": "2024-04-14T23:06:58.958Z"
   },
   {
    "duration": 51,
    "start_time": "2024-04-14T23:07:02.203Z"
   },
   {
    "duration": 2383,
    "start_time": "2024-04-14T23:07:06.581Z"
   },
   {
    "duration": 1014,
    "start_time": "2024-04-14T23:07:08.966Z"
   },
   {
    "duration": 156,
    "start_time": "2024-04-14T23:07:09.982Z"
   },
   {
    "duration": 15,
    "start_time": "2024-04-14T23:07:10.141Z"
   },
   {
    "duration": 9,
    "start_time": "2024-04-14T23:07:10.157Z"
   },
   {
    "duration": 2,
    "start_time": "2024-04-14T23:07:10.167Z"
   },
   {
    "duration": 5,
    "start_time": "2024-04-14T23:07:10.171Z"
   },
   {
    "duration": 15,
    "start_time": "2024-04-14T23:07:10.177Z"
   },
   {
    "duration": 15,
    "start_time": "2024-04-14T23:07:10.193Z"
   },
   {
    "duration": 3,
    "start_time": "2024-04-14T23:07:10.211Z"
   },
   {
    "duration": 8,
    "start_time": "2024-04-14T23:07:10.216Z"
   },
   {
    "duration": 9,
    "start_time": "2024-04-14T23:07:10.225Z"
   },
   {
    "duration": 6,
    "start_time": "2024-04-14T23:07:10.235Z"
   },
   {
    "duration": 12,
    "start_time": "2024-04-14T23:07:10.242Z"
   },
   {
    "duration": 5,
    "start_time": "2024-04-14T23:07:10.255Z"
   },
   {
    "duration": 41,
    "start_time": "2024-04-14T23:07:10.261Z"
   },
   {
    "duration": 4,
    "start_time": "2024-04-14T23:07:10.304Z"
   },
   {
    "duration": 7,
    "start_time": "2024-04-14T23:07:10.309Z"
   },
   {
    "duration": 14,
    "start_time": "2024-04-14T23:07:10.318Z"
   },
   {
    "duration": 20,
    "start_time": "2024-04-14T23:07:10.334Z"
   },
   {
    "duration": 25,
    "start_time": "2024-04-14T23:07:10.355Z"
   },
   {
    "duration": 189,
    "start_time": "2024-04-14T23:07:10.382Z"
   },
   {
    "duration": 160,
    "start_time": "2024-04-14T23:07:10.572Z"
   },
   {
    "duration": 143,
    "start_time": "2024-04-14T23:07:10.734Z"
   },
   {
    "duration": 154,
    "start_time": "2024-04-14T23:07:10.879Z"
   },
   {
    "duration": 4,
    "start_time": "2024-04-14T23:07:11.034Z"
   },
   {
    "duration": 10,
    "start_time": "2024-04-14T23:07:11.039Z"
   },
   {
    "duration": 4,
    "start_time": "2024-04-14T23:07:11.053Z"
   },
   {
    "duration": 159,
    "start_time": "2024-04-14T23:07:11.058Z"
   },
   {
    "duration": 165,
    "start_time": "2024-04-14T23:07:11.219Z"
   },
   {
    "duration": 3,
    "start_time": "2024-04-14T23:07:11.385Z"
   },
   {
    "duration": 14,
    "start_time": "2024-04-14T23:07:11.389Z"
   },
   {
    "duration": 25,
    "start_time": "2024-04-14T23:07:11.404Z"
   },
   {
    "duration": 330,
    "start_time": "2024-04-14T23:07:11.430Z"
   },
   {
    "duration": 156,
    "start_time": "2024-04-14T23:07:11.762Z"
   },
   {
    "duration": 146,
    "start_time": "2024-04-14T23:07:11.920Z"
   },
   {
    "duration": 265,
    "start_time": "2024-04-14T23:07:12.067Z"
   },
   {
    "duration": 224,
    "start_time": "2024-04-14T23:07:12.334Z"
   },
   {
    "duration": 4224,
    "start_time": "2024-04-14T23:07:12.560Z"
   },
   {
    "duration": 303,
    "start_time": "2024-04-14T23:07:16.786Z"
   },
   {
    "duration": 212,
    "start_time": "2024-04-14T23:07:17.090Z"
   },
   {
    "duration": 400,
    "start_time": "2024-04-14T23:07:17.303Z"
   },
   {
    "duration": 519,
    "start_time": "2024-04-14T23:07:17.704Z"
   },
   {
    "duration": 4,
    "start_time": "2024-04-14T23:07:18.225Z"
   },
   {
    "duration": 351,
    "start_time": "2024-04-14T23:07:18.230Z"
   },
   {
    "duration": 308,
    "start_time": "2024-04-14T23:07:18.582Z"
   },
   {
    "duration": 1132,
    "start_time": "2024-04-14T23:07:18.892Z"
   },
   {
    "duration": 20307,
    "start_time": "2024-04-14T23:07:20.026Z"
   },
   {
    "duration": 607,
    "start_time": "2024-04-14T23:07:40.335Z"
   },
   {
    "duration": 3824,
    "start_time": "2024-04-14T23:07:40.943Z"
   },
   {
    "duration": 20435,
    "start_time": "2024-04-14T23:26:22.754Z"
   },
   {
    "duration": 4,
    "start_time": "2024-04-14T23:27:16.329Z"
   },
   {
    "duration": 311,
    "start_time": "2024-04-14T23:27:25.936Z"
   },
   {
    "duration": 332,
    "start_time": "2024-04-14T23:27:26.690Z"
   },
   {
    "duration": 51,
    "start_time": "2024-04-14T23:58:03.652Z"
   },
   {
    "duration": 20,
    "start_time": "2024-04-15T00:03:00.027Z"
   },
   {
    "duration": 4,
    "start_time": "2024-04-15T00:11:19.156Z"
   },
   {
    "duration": 3,
    "start_time": "2024-04-15T00:11:48.338Z"
   },
   {
    "duration": 56,
    "start_time": "2024-04-15T00:12:20.966Z"
   },
   {
    "duration": 98,
    "start_time": "2024-04-15T00:13:25.426Z"
   },
   {
    "duration": 2,
    "start_time": "2024-04-15T00:13:30.971Z"
   },
   {
    "duration": 3,
    "start_time": "2024-04-15T00:13:31.491Z"
   },
   {
    "duration": 3,
    "start_time": "2024-04-15T00:26:54.027Z"
   },
   {
    "duration": 9,
    "start_time": "2024-04-15T00:26:56.354Z"
   },
   {
    "duration": 3,
    "start_time": "2024-04-15T00:27:15.533Z"
   },
   {
    "duration": 3,
    "start_time": "2024-04-15T00:27:18.012Z"
   },
   {
    "duration": 58,
    "start_time": "2024-04-15T10:55:33.364Z"
   },
   {
    "duration": 57,
    "start_time": "2024-04-15T10:55:54.774Z"
   },
   {
    "duration": 63,
    "start_time": "2024-04-15T10:55:59.357Z"
   },
   {
    "duration": 0,
    "start_time": "2024-04-15T10:55:59.424Z"
   },
   {
    "duration": 0,
    "start_time": "2024-04-15T10:55:59.426Z"
   },
   {
    "duration": 0,
    "start_time": "2024-04-15T10:55:59.428Z"
   },
   {
    "duration": 0,
    "start_time": "2024-04-15T10:55:59.429Z"
   },
   {
    "duration": 0,
    "start_time": "2024-04-15T10:55:59.430Z"
   },
   {
    "duration": 0,
    "start_time": "2024-04-15T10:55:59.432Z"
   },
   {
    "duration": 0,
    "start_time": "2024-04-15T10:55:59.433Z"
   },
   {
    "duration": 0,
    "start_time": "2024-04-15T10:55:59.435Z"
   },
   {
    "duration": 0,
    "start_time": "2024-04-15T10:55:59.436Z"
   },
   {
    "duration": 0,
    "start_time": "2024-04-15T10:55:59.437Z"
   },
   {
    "duration": 1,
    "start_time": "2024-04-15T10:55:59.438Z"
   },
   {
    "duration": 0,
    "start_time": "2024-04-15T10:55:59.440Z"
   },
   {
    "duration": 0,
    "start_time": "2024-04-15T10:55:59.441Z"
   },
   {
    "duration": 0,
    "start_time": "2024-04-15T10:55:59.442Z"
   },
   {
    "duration": 0,
    "start_time": "2024-04-15T10:55:59.443Z"
   },
   {
    "duration": 0,
    "start_time": "2024-04-15T10:55:59.444Z"
   },
   {
    "duration": 1,
    "start_time": "2024-04-15T10:55:59.445Z"
   },
   {
    "duration": 0,
    "start_time": "2024-04-15T10:55:59.446Z"
   },
   {
    "duration": 0,
    "start_time": "2024-04-15T10:55:59.448Z"
   },
   {
    "duration": 0,
    "start_time": "2024-04-15T10:55:59.449Z"
   },
   {
    "duration": 0,
    "start_time": "2024-04-15T10:55:59.450Z"
   },
   {
    "duration": 0,
    "start_time": "2024-04-15T10:55:59.451Z"
   },
   {
    "duration": 0,
    "start_time": "2024-04-15T10:55:59.452Z"
   },
   {
    "duration": 0,
    "start_time": "2024-04-15T10:55:59.453Z"
   },
   {
    "duration": 0,
    "start_time": "2024-04-15T10:55:59.455Z"
   },
   {
    "duration": 0,
    "start_time": "2024-04-15T10:55:59.456Z"
   },
   {
    "duration": 0,
    "start_time": "2024-04-15T10:55:59.457Z"
   },
   {
    "duration": 0,
    "start_time": "2024-04-15T10:55:59.458Z"
   },
   {
    "duration": 0,
    "start_time": "2024-04-15T10:55:59.459Z"
   },
   {
    "duration": 0,
    "start_time": "2024-04-15T10:55:59.460Z"
   },
   {
    "duration": 0,
    "start_time": "2024-04-15T10:55:59.515Z"
   },
   {
    "duration": 0,
    "start_time": "2024-04-15T10:55:59.516Z"
   },
   {
    "duration": 0,
    "start_time": "2024-04-15T10:55:59.517Z"
   },
   {
    "duration": 0,
    "start_time": "2024-04-15T10:55:59.518Z"
   },
   {
    "duration": 0,
    "start_time": "2024-04-15T10:55:59.519Z"
   },
   {
    "duration": 0,
    "start_time": "2024-04-15T10:55:59.520Z"
   },
   {
    "duration": 0,
    "start_time": "2024-04-15T10:55:59.521Z"
   },
   {
    "duration": 0,
    "start_time": "2024-04-15T10:55:59.522Z"
   },
   {
    "duration": 0,
    "start_time": "2024-04-15T10:55:59.523Z"
   },
   {
    "duration": 0,
    "start_time": "2024-04-15T10:55:59.524Z"
   },
   {
    "duration": 0,
    "start_time": "2024-04-15T10:55:59.525Z"
   },
   {
    "duration": 0,
    "start_time": "2024-04-15T10:55:59.526Z"
   },
   {
    "duration": 0,
    "start_time": "2024-04-15T10:55:59.527Z"
   },
   {
    "duration": 0,
    "start_time": "2024-04-15T10:55:59.528Z"
   },
   {
    "duration": 0,
    "start_time": "2024-04-15T10:55:59.529Z"
   },
   {
    "duration": 0,
    "start_time": "2024-04-15T10:55:59.530Z"
   },
   {
    "duration": 0,
    "start_time": "2024-04-15T10:55:59.531Z"
   },
   {
    "duration": 0,
    "start_time": "2024-04-15T10:55:59.532Z"
   },
   {
    "duration": 0,
    "start_time": "2024-04-15T10:55:59.533Z"
   },
   {
    "duration": 0,
    "start_time": "2024-04-15T10:55:59.534Z"
   },
   {
    "duration": 0,
    "start_time": "2024-04-15T10:55:59.535Z"
   },
   {
    "duration": 63,
    "start_time": "2024-04-15T10:56:21.169Z"
   },
   {
    "duration": 64,
    "start_time": "2024-04-15T10:56:35.524Z"
   },
   {
    "duration": 1557,
    "start_time": "2024-04-15T10:56:42.086Z"
   },
   {
    "duration": 57,
    "start_time": "2024-04-15T10:56:54.055Z"
   },
   {
    "duration": 58,
    "start_time": "2024-04-15T10:57:20.543Z"
   },
   {
    "duration": 0,
    "start_time": "2024-04-15T10:57:20.603Z"
   },
   {
    "duration": 0,
    "start_time": "2024-04-15T10:57:20.605Z"
   },
   {
    "duration": 0,
    "start_time": "2024-04-15T10:57:20.606Z"
   },
   {
    "duration": 0,
    "start_time": "2024-04-15T10:57:20.607Z"
   },
   {
    "duration": 0,
    "start_time": "2024-04-15T10:57:20.609Z"
   },
   {
    "duration": 0,
    "start_time": "2024-04-15T10:57:20.610Z"
   },
   {
    "duration": 0,
    "start_time": "2024-04-15T10:57:20.612Z"
   },
   {
    "duration": 0,
    "start_time": "2024-04-15T10:57:20.613Z"
   },
   {
    "duration": 0,
    "start_time": "2024-04-15T10:57:20.615Z"
   },
   {
    "duration": 0,
    "start_time": "2024-04-15T10:57:20.617Z"
   },
   {
    "duration": 0,
    "start_time": "2024-04-15T10:57:20.618Z"
   },
   {
    "duration": 0,
    "start_time": "2024-04-15T10:57:20.620Z"
   },
   {
    "duration": 0,
    "start_time": "2024-04-15T10:57:20.621Z"
   },
   {
    "duration": 0,
    "start_time": "2024-04-15T10:57:20.623Z"
   },
   {
    "duration": 1,
    "start_time": "2024-04-15T10:57:20.624Z"
   },
   {
    "duration": 0,
    "start_time": "2024-04-15T10:57:20.626Z"
   },
   {
    "duration": 0,
    "start_time": "2024-04-15T10:57:20.627Z"
   },
   {
    "duration": 0,
    "start_time": "2024-04-15T10:57:20.629Z"
   },
   {
    "duration": 0,
    "start_time": "2024-04-15T10:57:20.630Z"
   },
   {
    "duration": 0,
    "start_time": "2024-04-15T10:57:20.631Z"
   },
   {
    "duration": 0,
    "start_time": "2024-04-15T10:57:20.633Z"
   },
   {
    "duration": 1,
    "start_time": "2024-04-15T10:57:20.634Z"
   },
   {
    "duration": 0,
    "start_time": "2024-04-15T10:57:20.636Z"
   },
   {
    "duration": 0,
    "start_time": "2024-04-15T10:57:20.637Z"
   },
   {
    "duration": 0,
    "start_time": "2024-04-15T10:57:20.638Z"
   },
   {
    "duration": 0,
    "start_time": "2024-04-15T10:57:20.639Z"
   },
   {
    "duration": 0,
    "start_time": "2024-04-15T10:57:20.640Z"
   },
   {
    "duration": 0,
    "start_time": "2024-04-15T10:57:20.641Z"
   },
   {
    "duration": 0,
    "start_time": "2024-04-15T10:57:20.642Z"
   },
   {
    "duration": 0,
    "start_time": "2024-04-15T10:57:20.643Z"
   },
   {
    "duration": 0,
    "start_time": "2024-04-15T10:57:20.644Z"
   },
   {
    "duration": 0,
    "start_time": "2024-04-15T10:57:20.645Z"
   },
   {
    "duration": 0,
    "start_time": "2024-04-15T10:57:20.646Z"
   },
   {
    "duration": 0,
    "start_time": "2024-04-15T10:57:20.647Z"
   },
   {
    "duration": 0,
    "start_time": "2024-04-15T10:57:20.648Z"
   },
   {
    "duration": 0,
    "start_time": "2024-04-15T10:57:20.650Z"
   },
   {
    "duration": 0,
    "start_time": "2024-04-15T10:57:20.651Z"
   },
   {
    "duration": 0,
    "start_time": "2024-04-15T10:57:20.652Z"
   },
   {
    "duration": 0,
    "start_time": "2024-04-15T10:57:20.653Z"
   },
   {
    "duration": 0,
    "start_time": "2024-04-15T10:57:20.653Z"
   },
   {
    "duration": 103,
    "start_time": "2024-04-15T10:57:20.717Z"
   },
   {
    "duration": 0,
    "start_time": "2024-04-15T10:57:20.822Z"
   },
   {
    "duration": 0,
    "start_time": "2024-04-15T10:57:20.823Z"
   },
   {
    "duration": 0,
    "start_time": "2024-04-15T10:57:20.824Z"
   },
   {
    "duration": 0,
    "start_time": "2024-04-15T10:57:20.826Z"
   },
   {
    "duration": 0,
    "start_time": "2024-04-15T10:57:20.827Z"
   },
   {
    "duration": 0,
    "start_time": "2024-04-15T10:57:20.828Z"
   },
   {
    "duration": 0,
    "start_time": "2024-04-15T10:57:20.830Z"
   },
   {
    "duration": 0,
    "start_time": "2024-04-15T10:57:20.831Z"
   },
   {
    "duration": 0,
    "start_time": "2024-04-15T10:57:20.833Z"
   },
   {
    "duration": 0,
    "start_time": "2024-04-15T10:57:20.835Z"
   },
   {
    "duration": 3456,
    "start_time": "2024-04-15T10:57:32.562Z"
   },
   {
    "duration": 1235,
    "start_time": "2024-04-15T10:57:39.254Z"
   },
   {
    "duration": 84,
    "start_time": "2024-04-15T10:57:40.491Z"
   },
   {
    "duration": 19,
    "start_time": "2024-04-15T10:57:40.577Z"
   },
   {
    "duration": 13,
    "start_time": "2024-04-15T10:57:40.674Z"
   },
   {
    "duration": 3,
    "start_time": "2024-04-15T10:57:41.364Z"
   },
   {
    "duration": 4,
    "start_time": "2024-04-15T10:57:41.519Z"
   },
   {
    "duration": 13,
    "start_time": "2024-04-15T10:57:41.696Z"
   },
   {
    "duration": 11,
    "start_time": "2024-04-15T10:57:42.029Z"
   },
   {
    "duration": 5,
    "start_time": "2024-04-15T10:57:42.381Z"
   },
   {
    "duration": 7,
    "start_time": "2024-04-15T10:57:42.677Z"
   },
   {
    "duration": 12,
    "start_time": "2024-04-15T10:57:43.001Z"
   },
   {
    "duration": 9,
    "start_time": "2024-04-15T10:57:43.331Z"
   },
   {
    "duration": 13,
    "start_time": "2024-04-15T10:57:43.658Z"
   },
   {
    "duration": 5,
    "start_time": "2024-04-15T10:57:43.822Z"
   },
   {
    "duration": 10,
    "start_time": "2024-04-15T10:57:44.533Z"
   },
   {
    "duration": 5,
    "start_time": "2024-04-15T10:57:45.205Z"
   },
   {
    "duration": 7,
    "start_time": "2024-04-15T10:57:45.357Z"
   },
   {
    "duration": 16,
    "start_time": "2024-04-15T10:57:45.724Z"
   },
   {
    "duration": 7,
    "start_time": "2024-04-15T10:57:46.071Z"
   },
   {
    "duration": 28,
    "start_time": "2024-04-15T10:57:46.734Z"
   },
   {
    "duration": 217,
    "start_time": "2024-04-15T10:57:46.941Z"
   },
   {
    "duration": 200,
    "start_time": "2024-04-15T10:57:47.248Z"
   },
   {
    "duration": 173,
    "start_time": "2024-04-15T10:57:47.590Z"
   },
   {
    "duration": 189,
    "start_time": "2024-04-15T10:57:47.907Z"
   },
   {
    "duration": 4,
    "start_time": "2024-04-15T10:57:48.098Z"
   },
   {
    "duration": 7,
    "start_time": "2024-04-15T10:57:48.252Z"
   },
   {
    "duration": 4,
    "start_time": "2024-04-15T10:57:48.387Z"
   },
   {
    "duration": 181,
    "start_time": "2024-04-15T10:57:48.914Z"
   },
   {
    "duration": 193,
    "start_time": "2024-04-15T10:57:49.254Z"
   },
   {
    "duration": 4,
    "start_time": "2024-04-15T10:57:50.068Z"
   },
   {
    "duration": 4,
    "start_time": "2024-04-15T10:57:50.257Z"
   },
   {
    "duration": 4,
    "start_time": "2024-04-15T10:57:50.428Z"
   },
   {
    "duration": 429,
    "start_time": "2024-04-15T10:57:51.062Z"
   },
   {
    "duration": 192,
    "start_time": "2024-04-15T10:57:51.494Z"
   },
   {
    "duration": 175,
    "start_time": "2024-04-15T10:57:51.702Z"
   },
   {
    "duration": 341,
    "start_time": "2024-04-15T10:57:52.022Z"
   },
   {
    "duration": 299,
    "start_time": "2024-04-15T10:57:52.365Z"
   },
   {
    "duration": 6148,
    "start_time": "2024-04-15T10:57:52.711Z"
   },
   {
    "duration": 391,
    "start_time": "2024-04-15T10:57:58.861Z"
   },
   {
    "duration": 273,
    "start_time": "2024-04-15T10:57:59.253Z"
   },
   {
    "duration": 601,
    "start_time": "2024-04-15T10:57:59.528Z"
   },
   {
    "duration": 723,
    "start_time": "2024-04-15T10:58:00.130Z"
   },
   {
    "duration": 4,
    "start_time": "2024-04-15T10:58:11.719Z"
   },
   {
    "duration": 482,
    "start_time": "2024-04-15T10:58:12.127Z"
   },
   {
    "duration": 457,
    "start_time": "2024-04-15T10:58:12.854Z"
   },
   {
    "duration": 1557,
    "start_time": "2024-04-15T10:58:13.446Z"
   },
   {
    "duration": 30657,
    "start_time": "2024-04-15T10:58:15.005Z"
   },
   {
    "duration": 736,
    "start_time": "2024-04-15T10:58:45.664Z"
   },
   {
    "duration": 26,
    "start_time": "2024-04-15T10:59:01.761Z"
   },
   {
    "duration": 58,
    "start_time": "2024-04-15T10:59:03.590Z"
   },
   {
    "duration": 62,
    "start_time": "2024-04-15T10:59:37.665Z"
   },
   {
    "duration": 53,
    "start_time": "2024-04-15T10:59:56.456Z"
   },
   {
    "duration": 65,
    "start_time": "2024-04-15T11:00:19.516Z"
   },
   {
    "duration": 69,
    "start_time": "2024-04-15T11:00:47.946Z"
   },
   {
    "duration": 9,
    "start_time": "2024-04-15T11:02:21.242Z"
   },
   {
    "duration": 786,
    "start_time": "2024-04-15T11:05:21.295Z"
   },
   {
    "duration": 787,
    "start_time": "2024-04-15T11:05:44.495Z"
   },
   {
    "duration": 751,
    "start_time": "2024-04-15T11:05:52.753Z"
   },
   {
    "duration": 757,
    "start_time": "2024-04-15T11:06:00.658Z"
   },
   {
    "duration": 55,
    "start_time": "2024-04-15T11:11:18.855Z"
   },
   {
    "duration": 7,
    "start_time": "2024-04-15T11:11:32.423Z"
   },
   {
    "duration": 30,
    "start_time": "2024-04-15T11:11:42.886Z"
   },
   {
    "duration": 10,
    "start_time": "2024-04-15T11:12:03.197Z"
   },
   {
    "duration": 11,
    "start_time": "2024-04-15T11:12:34.087Z"
   },
   {
    "duration": 10,
    "start_time": "2024-04-15T11:12:56.738Z"
   },
   {
    "duration": 9,
    "start_time": "2024-04-15T11:13:16.987Z"
   },
   {
    "duration": 13,
    "start_time": "2024-04-15T11:14:01.892Z"
   },
   {
    "duration": 10,
    "start_time": "2024-04-15T11:14:36.855Z"
   },
   {
    "duration": 9,
    "start_time": "2024-04-15T11:14:57.999Z"
   },
   {
    "duration": 10,
    "start_time": "2024-04-15T11:15:11.755Z"
   },
   {
    "duration": 10,
    "start_time": "2024-04-15T11:15:22.070Z"
   },
   {
    "duration": 10,
    "start_time": "2024-04-15T11:15:46.666Z"
   },
   {
    "duration": 11,
    "start_time": "2024-04-15T11:16:27.658Z"
   },
   {
    "duration": 11,
    "start_time": "2024-04-15T11:16:55.952Z"
   },
   {
    "duration": 11,
    "start_time": "2024-04-15T11:16:59.101Z"
   },
   {
    "duration": 10,
    "start_time": "2024-04-15T11:18:10.535Z"
   },
   {
    "duration": 10,
    "start_time": "2024-04-15T11:18:11.001Z"
   },
   {
    "duration": 11,
    "start_time": "2024-04-15T11:26:38.265Z"
   },
   {
    "duration": 9,
    "start_time": "2024-04-15T11:26:51.176Z"
   },
   {
    "duration": 10,
    "start_time": "2024-04-15T11:27:04.061Z"
   },
   {
    "duration": 10,
    "start_time": "2024-04-15T11:27:21.081Z"
   },
   {
    "duration": 11,
    "start_time": "2024-04-15T11:27:36.139Z"
   },
   {
    "duration": 9,
    "start_time": "2024-04-15T11:27:49.923Z"
   },
   {
    "duration": 9,
    "start_time": "2024-04-15T11:28:00.355Z"
   },
   {
    "duration": 10,
    "start_time": "2024-04-15T11:28:12.594Z"
   },
   {
    "duration": 10,
    "start_time": "2024-04-15T11:28:22.406Z"
   },
   {
    "duration": 10,
    "start_time": "2024-04-15T11:28:36.702Z"
   },
   {
    "duration": 10,
    "start_time": "2024-04-15T11:29:15.145Z"
   },
   {
    "duration": 10,
    "start_time": "2024-04-15T11:29:36.886Z"
   },
   {
    "duration": 13,
    "start_time": "2024-04-15T11:29:50.280Z"
   },
   {
    "duration": 9,
    "start_time": "2024-04-15T11:30:03.662Z"
   },
   {
    "duration": 9,
    "start_time": "2024-04-15T11:30:35.572Z"
   },
   {
    "duration": 9,
    "start_time": "2024-04-15T11:33:17.246Z"
   },
   {
    "duration": 9,
    "start_time": "2024-04-15T11:33:31.131Z"
   },
   {
    "duration": 11,
    "start_time": "2024-04-15T11:33:51.126Z"
   },
   {
    "duration": 12,
    "start_time": "2024-04-15T11:35:04.406Z"
   },
   {
    "duration": 10,
    "start_time": "2024-04-15T11:37:45.180Z"
   },
   {
    "duration": 9,
    "start_time": "2024-04-15T11:37:59.851Z"
   },
   {
    "duration": 10,
    "start_time": "2024-04-15T11:38:10.308Z"
   },
   {
    "duration": 9,
    "start_time": "2024-04-15T11:38:23.475Z"
   },
   {
    "duration": 11,
    "start_time": "2024-04-15T11:38:38.837Z"
   },
   {
    "duration": 10,
    "start_time": "2024-04-15T11:39:05.473Z"
   },
   {
    "duration": 10,
    "start_time": "2024-04-15T11:40:28.486Z"
   },
   {
    "duration": 9,
    "start_time": "2024-04-15T11:40:48.504Z"
   },
   {
    "duration": 11,
    "start_time": "2024-04-15T11:41:03.738Z"
   },
   {
    "duration": 11,
    "start_time": "2024-04-15T11:41:23.321Z"
   },
   {
    "duration": 11,
    "start_time": "2024-04-15T11:41:39.458Z"
   },
   {
    "duration": 14,
    "start_time": "2024-04-15T11:41:54.016Z"
   },
   {
    "duration": 11,
    "start_time": "2024-04-15T11:42:07.029Z"
   },
   {
    "duration": 11,
    "start_time": "2024-04-15T11:42:21.674Z"
   },
   {
    "duration": 10,
    "start_time": "2024-04-15T11:42:43.883Z"
   },
   {
    "duration": 11,
    "start_time": "2024-04-15T11:42:57.884Z"
   },
   {
    "duration": 10,
    "start_time": "2024-04-15T11:43:03.563Z"
   },
   {
    "duration": 10,
    "start_time": "2024-04-15T11:43:16.683Z"
   },
   {
    "duration": 11,
    "start_time": "2024-04-15T11:43:27.290Z"
   },
   {
    "duration": 11,
    "start_time": "2024-04-15T11:43:38.820Z"
   },
   {
    "duration": 10,
    "start_time": "2024-04-15T11:43:49.268Z"
   },
   {
    "duration": 9,
    "start_time": "2024-04-15T11:44:01.371Z"
   },
   {
    "duration": 11,
    "start_time": "2024-04-15T11:44:21.023Z"
   },
   {
    "duration": 12,
    "start_time": "2024-04-15T11:44:31.740Z"
   },
   {
    "duration": 9,
    "start_time": "2024-04-15T11:44:44.514Z"
   },
   {
    "duration": 10,
    "start_time": "2024-04-15T11:44:59.757Z"
   },
   {
    "duration": 10,
    "start_time": "2024-04-15T11:45:18.054Z"
   },
   {
    "duration": 9,
    "start_time": "2024-04-15T11:45:24.023Z"
   },
   {
    "duration": 10,
    "start_time": "2024-04-15T11:45:33.795Z"
   },
   {
    "duration": 10,
    "start_time": "2024-04-15T11:46:39.555Z"
   },
   {
    "duration": 10,
    "start_time": "2024-04-15T11:47:00.099Z"
   },
   {
    "duration": 10,
    "start_time": "2024-04-15T11:47:22.151Z"
   },
   {
    "duration": 10,
    "start_time": "2024-04-15T11:47:45.245Z"
   },
   {
    "duration": 10,
    "start_time": "2024-04-15T11:48:07.160Z"
   },
   {
    "duration": 11,
    "start_time": "2024-04-15T12:55:31.060Z"
   },
   {
    "duration": 10,
    "start_time": "2024-04-15T12:57:14.208Z"
   },
   {
    "duration": 11,
    "start_time": "2024-04-15T12:57:44.296Z"
   },
   {
    "duration": 10,
    "start_time": "2024-04-15T12:58:14.454Z"
   },
   {
    "duration": 32,
    "start_time": "2024-04-15T13:00:12.207Z"
   },
   {
    "duration": 609,
    "start_time": "2024-04-15T13:00:27.120Z"
   },
   {
    "duration": 11,
    "start_time": "2024-04-15T13:01:35.035Z"
   },
   {
    "duration": 30,
    "start_time": "2024-04-15T13:01:41.049Z"
   },
   {
    "duration": 9,
    "start_time": "2024-04-15T13:01:41.917Z"
   },
   {
    "duration": 22,
    "start_time": "2024-04-15T13:01:51.101Z"
   },
   {
    "duration": 29,
    "start_time": "2024-04-15T13:02:03.765Z"
   },
   {
    "duration": 14,
    "start_time": "2024-04-15T13:02:13.647Z"
   },
   {
    "duration": 10,
    "start_time": "2024-04-15T13:08:03.823Z"
   },
   {
    "duration": 33,
    "start_time": "2024-04-15T13:08:13.486Z"
   },
   {
    "duration": 9,
    "start_time": "2024-04-15T13:08:18.617Z"
   },
   {
    "duration": 13,
    "start_time": "2024-04-15T13:08:32.687Z"
   },
   {
    "duration": 11,
    "start_time": "2024-04-15T13:09:27.510Z"
   },
   {
    "duration": 10,
    "start_time": "2024-04-15T13:09:34.397Z"
   },
   {
    "duration": 12,
    "start_time": "2024-04-15T13:09:48.896Z"
   },
   {
    "duration": 10,
    "start_time": "2024-04-15T13:10:07.102Z"
   },
   {
    "duration": 9,
    "start_time": "2024-04-15T13:12:11.713Z"
   },
   {
    "duration": 11,
    "start_time": "2024-04-15T13:12:46.199Z"
   },
   {
    "duration": 10,
    "start_time": "2024-04-15T13:13:04.789Z"
   },
   {
    "duration": 8,
    "start_time": "2024-04-15T13:14:22.465Z"
   },
   {
    "duration": 9,
    "start_time": "2024-04-15T13:14:28.023Z"
   },
   {
    "duration": 10,
    "start_time": "2024-04-15T13:16:20.794Z"
   },
   {
    "duration": 10,
    "start_time": "2024-04-15T13:16:27.894Z"
   },
   {
    "duration": 10,
    "start_time": "2024-04-15T13:16:45.157Z"
   },
   {
    "duration": 10,
    "start_time": "2024-04-15T13:16:58.137Z"
   },
   {
    "duration": 10,
    "start_time": "2024-04-15T13:17:14.131Z"
   },
   {
    "duration": 14,
    "start_time": "2024-04-15T13:28:44.182Z"
   },
   {
    "duration": 11,
    "start_time": "2024-04-15T13:28:57.425Z"
   },
   {
    "duration": 10,
    "start_time": "2024-04-15T13:30:03.037Z"
   },
   {
    "duration": 11,
    "start_time": "2024-04-15T13:30:10.298Z"
   },
   {
    "duration": 10,
    "start_time": "2024-04-15T13:30:23.175Z"
   },
   {
    "duration": 9,
    "start_time": "2024-04-15T13:30:23.535Z"
   },
   {
    "duration": 36,
    "start_time": "2024-04-15T13:32:59.275Z"
   },
   {
    "duration": 10,
    "start_time": "2024-04-15T13:33:04.961Z"
   },
   {
    "duration": 11,
    "start_time": "2024-04-15T13:34:13.597Z"
   },
   {
    "duration": 43,
    "start_time": "2024-04-15T13:34:25.837Z"
   },
   {
    "duration": 10,
    "start_time": "2024-04-15T13:36:08.745Z"
   },
   {
    "duration": 11,
    "start_time": "2024-04-15T13:36:31.097Z"
   },
   {
    "duration": 11,
    "start_time": "2024-04-15T13:36:54.584Z"
   },
   {
    "duration": 11,
    "start_time": "2024-04-15T13:37:09.355Z"
   },
   {
    "duration": 10,
    "start_time": "2024-04-15T13:37:54.008Z"
   },
   {
    "duration": 11,
    "start_time": "2024-04-15T13:38:00.724Z"
   },
   {
    "duration": 11,
    "start_time": "2024-04-15T13:38:31.703Z"
   },
   {
    "duration": 11,
    "start_time": "2024-04-15T13:38:40.900Z"
   },
   {
    "duration": 11,
    "start_time": "2024-04-15T13:38:41.347Z"
   },
   {
    "duration": 10,
    "start_time": "2024-04-15T13:39:57.163Z"
   },
   {
    "duration": 10,
    "start_time": "2024-04-15T13:40:00.615Z"
   },
   {
    "duration": 11,
    "start_time": "2024-04-15T13:40:38.898Z"
   },
   {
    "duration": 11,
    "start_time": "2024-04-15T13:40:39.444Z"
   },
   {
    "duration": 9,
    "start_time": "2024-04-15T13:41:50.462Z"
   },
   {
    "duration": 10,
    "start_time": "2024-04-15T13:41:56.462Z"
   },
   {
    "duration": 9,
    "start_time": "2024-04-15T13:42:24.424Z"
   },
   {
    "duration": 10,
    "start_time": "2024-04-15T13:43:15.612Z"
   },
   {
    "duration": 12,
    "start_time": "2024-04-15T13:43:33.643Z"
   },
   {
    "duration": 10,
    "start_time": "2024-04-15T13:44:31.993Z"
   },
   {
    "duration": 10,
    "start_time": "2024-04-15T13:45:00.599Z"
   },
   {
    "duration": 11,
    "start_time": "2024-04-15T13:45:08.242Z"
   },
   {
    "duration": 11,
    "start_time": "2024-04-15T13:45:23.873Z"
   },
   {
    "duration": 10,
    "start_time": "2024-04-15T13:53:10.603Z"
   },
   {
    "duration": 9,
    "start_time": "2024-04-15T13:53:18.863Z"
   },
   {
    "duration": 3,
    "start_time": "2024-04-15T14:05:59.404Z"
   },
   {
    "duration": 14,
    "start_time": "2024-04-15T14:16:38.800Z"
   },
   {
    "duration": 76,
    "start_time": "2024-04-15T14:17:21.277Z"
   },
   {
    "duration": 17,
    "start_time": "2024-04-15T14:17:29.655Z"
   },
   {
    "duration": 14,
    "start_time": "2024-04-15T14:19:09.010Z"
   },
   {
    "duration": 9,
    "start_time": "2024-04-15T14:23:29.825Z"
   },
   {
    "duration": 11,
    "start_time": "2024-04-15T14:23:55.369Z"
   },
   {
    "duration": 58,
    "start_time": "2024-04-15T14:24:16.899Z"
   },
   {
    "duration": 12,
    "start_time": "2024-04-15T14:24:39.372Z"
   },
   {
    "duration": 10,
    "start_time": "2024-04-15T14:24:41.816Z"
   },
   {
    "duration": 11,
    "start_time": "2024-04-15T14:24:55.959Z"
   },
   {
    "duration": 3414,
    "start_time": "2024-04-15T17:13:41.552Z"
   },
   {
    "duration": 1221,
    "start_time": "2024-04-15T17:13:44.969Z"
   },
   {
    "duration": 99,
    "start_time": "2024-04-15T17:13:46.194Z"
   },
   {
    "duration": 19,
    "start_time": "2024-04-15T17:13:46.295Z"
   },
   {
    "duration": 13,
    "start_time": "2024-04-15T17:13:46.315Z"
   },
   {
    "duration": 5,
    "start_time": "2024-04-15T17:13:46.330Z"
   },
   {
    "duration": 5,
    "start_time": "2024-04-15T17:13:46.337Z"
   },
   {
    "duration": 15,
    "start_time": "2024-04-15T17:13:46.343Z"
   },
   {
    "duration": 16,
    "start_time": "2024-04-15T17:13:46.360Z"
   },
   {
    "duration": 5,
    "start_time": "2024-04-15T17:13:46.378Z"
   },
   {
    "duration": 35,
    "start_time": "2024-04-15T17:13:46.384Z"
   },
   {
    "duration": 13,
    "start_time": "2024-04-15T17:13:46.420Z"
   },
   {
    "duration": 6,
    "start_time": "2024-04-15T17:13:46.435Z"
   },
   {
    "duration": 22,
    "start_time": "2024-04-15T17:13:46.443Z"
   },
   {
    "duration": 5,
    "start_time": "2024-04-15T17:13:46.466Z"
   },
   {
    "duration": 9,
    "start_time": "2024-04-15T17:13:46.473Z"
   },
   {
    "duration": 32,
    "start_time": "2024-04-15T17:13:46.483Z"
   },
   {
    "duration": 13,
    "start_time": "2024-04-15T17:13:46.516Z"
   },
   {
    "duration": 22,
    "start_time": "2024-04-15T17:13:46.531Z"
   },
   {
    "duration": 24,
    "start_time": "2024-04-15T17:13:46.555Z"
   },
   {
    "duration": 37,
    "start_time": "2024-04-15T17:13:46.581Z"
   },
   {
    "duration": 220,
    "start_time": "2024-04-15T17:13:46.620Z"
   },
   {
    "duration": 230,
    "start_time": "2024-04-15T17:13:46.842Z"
   },
   {
    "duration": 183,
    "start_time": "2024-04-15T17:13:47.074Z"
   },
   {
    "duration": 196,
    "start_time": "2024-04-15T17:13:47.259Z"
   },
   {
    "duration": 4,
    "start_time": "2024-04-15T17:13:47.456Z"
   },
   {
    "duration": 20,
    "start_time": "2024-04-15T17:13:47.465Z"
   },
   {
    "duration": 7,
    "start_time": "2024-04-15T17:13:47.486Z"
   },
   {
    "duration": 196,
    "start_time": "2024-04-15T17:13:47.494Z"
   },
   {
    "duration": 207,
    "start_time": "2024-04-15T17:13:47.692Z"
   },
   {
    "duration": 4,
    "start_time": "2024-04-15T17:13:47.901Z"
   },
   {
    "duration": 8,
    "start_time": "2024-04-15T17:13:47.914Z"
   },
   {
    "duration": 7,
    "start_time": "2024-04-15T17:13:47.923Z"
   },
   {
    "duration": 455,
    "start_time": "2024-04-15T17:13:47.932Z"
   },
   {
    "duration": 204,
    "start_time": "2024-04-15T17:13:48.388Z"
   },
   {
    "duration": 251,
    "start_time": "2024-04-15T17:13:48.594Z"
   },
   {
    "duration": 429,
    "start_time": "2024-04-15T17:13:48.847Z"
   },
   {
    "duration": 286,
    "start_time": "2024-04-15T17:13:49.315Z"
   },
   {
    "duration": 5926,
    "start_time": "2024-04-15T17:13:49.602Z"
   },
   {
    "duration": 444,
    "start_time": "2024-04-15T17:13:55.530Z"
   },
   {
    "duration": 270,
    "start_time": "2024-04-15T17:13:55.975Z"
   },
   {
    "duration": 592,
    "start_time": "2024-04-15T17:13:56.247Z"
   },
   {
    "duration": 755,
    "start_time": "2024-04-15T17:13:56.841Z"
   },
   {
    "duration": 5,
    "start_time": "2024-04-15T17:13:57.598Z"
   },
   {
    "duration": 480,
    "start_time": "2024-04-15T17:13:57.605Z"
   },
   {
    "duration": 435,
    "start_time": "2024-04-15T17:13:58.087Z"
   },
   {
    "duration": 1564,
    "start_time": "2024-04-15T17:13:58.523Z"
   },
   {
    "duration": 30328,
    "start_time": "2024-04-15T17:14:00.089Z"
   },
   {
    "duration": 767,
    "start_time": "2024-04-15T17:14:30.419Z"
   },
   {
    "duration": 36,
    "start_time": "2024-04-15T17:14:31.187Z"
   },
   {
    "duration": 69,
    "start_time": "2024-04-15T17:14:31.225Z"
   },
   {
    "duration": 81,
    "start_time": "2024-04-15T17:14:31.296Z"
   },
   {
    "duration": 52,
    "start_time": "2024-04-15T17:14:31.379Z"
   },
   {
    "duration": 50,
    "start_time": "2024-04-15T17:14:31.433Z"
   },
   {
    "duration": 153,
    "start_time": "2024-04-15T17:14:31.485Z"
   },
   {
    "duration": 23,
    "start_time": "2024-04-15T17:14:31.640Z"
   },
   {
    "duration": 36,
    "start_time": "2024-04-15T17:14:31.665Z"
   },
   {
    "duration": 3051,
    "start_time": "2024-04-16T17:09:20.320Z"
   },
   {
    "duration": 1253,
    "start_time": "2024-04-16T17:09:23.373Z"
   },
   {
    "duration": 113,
    "start_time": "2024-04-16T17:09:24.627Z"
   },
   {
    "duration": 16,
    "start_time": "2024-04-16T17:09:24.742Z"
   },
   {
    "duration": 23,
    "start_time": "2024-04-16T17:09:24.759Z"
   },
   {
    "duration": 9,
    "start_time": "2024-04-16T17:09:24.784Z"
   },
   {
    "duration": 10,
    "start_time": "2024-04-16T17:09:24.795Z"
   },
   {
    "duration": 14,
    "start_time": "2024-04-16T17:09:24.806Z"
   },
   {
    "duration": 32,
    "start_time": "2024-04-16T17:09:24.821Z"
   },
   {
    "duration": 3,
    "start_time": "2024-04-16T17:09:24.855Z"
   },
   {
    "duration": 5,
    "start_time": "2024-04-16T17:09:24.860Z"
   },
   {
    "duration": 12,
    "start_time": "2024-04-16T17:09:24.867Z"
   },
   {
    "duration": 15,
    "start_time": "2024-04-16T17:09:24.881Z"
   },
   {
    "duration": 12,
    "start_time": "2024-04-16T17:09:24.897Z"
   },
   {
    "duration": 5,
    "start_time": "2024-04-16T17:09:24.910Z"
   },
   {
    "duration": 17,
    "start_time": "2024-04-16T17:09:24.916Z"
   },
   {
    "duration": 4,
    "start_time": "2024-04-16T17:09:24.935Z"
   },
   {
    "duration": 7,
    "start_time": "2024-04-16T17:09:24.941Z"
   },
   {
    "duration": 16,
    "start_time": "2024-04-16T17:09:24.950Z"
   },
   {
    "duration": 21,
    "start_time": "2024-04-16T17:09:24.967Z"
   },
   {
    "duration": 22,
    "start_time": "2024-04-16T17:09:24.989Z"
   },
   {
    "duration": 188,
    "start_time": "2024-04-16T17:09:25.012Z"
   },
   {
    "duration": 220,
    "start_time": "2024-04-16T17:09:25.202Z"
   },
   {
    "duration": 145,
    "start_time": "2024-04-16T17:09:25.423Z"
   },
   {
    "duration": 163,
    "start_time": "2024-04-16T17:09:25.570Z"
   },
   {
    "duration": 4,
    "start_time": "2024-04-16T17:09:25.734Z"
   },
   {
    "duration": 6,
    "start_time": "2024-04-16T17:09:25.739Z"
   },
   {
    "duration": 4,
    "start_time": "2024-04-16T17:09:25.748Z"
   },
   {
    "duration": 166,
    "start_time": "2024-04-16T17:09:25.753Z"
   },
   {
    "duration": 168,
    "start_time": "2024-04-16T17:09:25.921Z"
   },
   {
    "duration": 3,
    "start_time": "2024-04-16T17:09:26.091Z"
   },
   {
    "duration": 6,
    "start_time": "2024-04-16T17:09:26.095Z"
   },
   {
    "duration": 4,
    "start_time": "2024-04-16T17:09:26.102Z"
   },
   {
    "duration": 300,
    "start_time": "2024-04-16T17:09:26.107Z"
   },
   {
    "duration": 159,
    "start_time": "2024-04-16T17:09:26.408Z"
   },
   {
    "duration": 158,
    "start_time": "2024-04-16T17:09:26.569Z"
   },
   {
    "duration": 282,
    "start_time": "2024-04-16T17:09:26.728Z"
   },
   {
    "duration": 294,
    "start_time": "2024-04-16T17:09:27.012Z"
   },
   {
    "duration": 4315,
    "start_time": "2024-04-16T17:09:27.307Z"
   },
   {
    "duration": 297,
    "start_time": "2024-04-16T17:09:31.624Z"
   },
   {
    "duration": 212,
    "start_time": "2024-04-16T17:09:31.923Z"
   },
   {
    "duration": 223,
    "start_time": "2024-04-16T17:09:32.136Z"
   },
   {
    "duration": 545,
    "start_time": "2024-04-16T17:09:32.360Z"
   },
   {
    "duration": 4,
    "start_time": "2024-04-16T17:09:32.906Z"
   },
   {
    "duration": 11695,
    "start_time": "2024-04-16T17:09:32.911Z"
   },
   {
    "duration": 1095,
    "start_time": "2024-04-16T17:09:44.608Z"
   },
   {
    "duration": 1357,
    "start_time": "2024-04-16T17:09:45.705Z"
   },
   {
    "duration": 100337,
    "start_time": "2024-04-16T17:09:47.063Z"
   },
   {
    "duration": 1437,
    "start_time": "2024-04-16T17:11:27.401Z"
   },
   {
    "duration": 25,
    "start_time": "2024-04-16T17:11:28.839Z"
   },
   {
    "duration": 20,
    "start_time": "2024-04-16T17:11:28.865Z"
   },
   {
    "duration": 9,
    "start_time": "2024-04-16T17:11:28.886Z"
   },
   {
    "duration": 8,
    "start_time": "2024-04-16T17:11:28.896Z"
   },
   {
    "duration": 7,
    "start_time": "2024-04-16T17:11:28.905Z"
   },
   {
    "duration": 7,
    "start_time": "2024-04-16T17:11:28.913Z"
   },
   {
    "duration": 8,
    "start_time": "2024-04-16T17:11:28.922Z"
   },
   {
    "duration": 11,
    "start_time": "2024-04-16T17:11:28.931Z"
   }
  ],
  "kernelspec": {
   "display_name": "Python 3 (ipykernel)",
   "language": "python",
   "name": "python3"
  },
  "language_info": {
   "codemirror_mode": {
    "name": "ipython",
    "version": 3
   },
   "file_extension": ".py",
   "mimetype": "text/x-python",
   "name": "python",
   "nbconvert_exporter": "python",
   "pygments_lexer": "ipython3",
   "version": "3.9.19"
  },
  "toc": {
   "base_numbering": 1,
   "nav_menu": {},
   "number_sections": true,
   "sideBar": true,
   "skip_h1_title": true,
   "title_cell": "Содержание",
   "title_sidebar": "Contents",
   "toc_cell": true,
   "toc_position": {
    "height": "calc(100% - 180px)",
    "left": "10px",
    "top": "150px",
    "width": "306.225px"
   },
   "toc_section_display": true,
   "toc_window_display": true
  }
 },
 "nbformat": 4,
 "nbformat_minor": 2
}
