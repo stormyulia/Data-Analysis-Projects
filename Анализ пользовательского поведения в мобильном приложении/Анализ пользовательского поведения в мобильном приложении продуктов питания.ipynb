{
 "cells": [
  {
   "cell_type": "markdown",
   "metadata": {},
   "source": [
    "# Анализ пользовательского поведения в мобильном приложении продуктов питания"
   ]
  },
  {
   "cell_type": "markdown",
   "metadata": {
    "toc": true
   },
   "source": [
    "<h1>Содержание<span class=\"tocSkip\"></span></h1>\n",
    "<div class=\"toc\"><ul class=\"toc-item\"><li><span><a href=\"#Загрузка-данных\" data-toc-modified-id=\"Загрузка-данных-1\"><span class=\"toc-item-num\">1&nbsp;&nbsp;</span>Загрузка данных</a></span></li><li><span><a href=\"#Предобработка-данных\" data-toc-modified-id=\"Предобработка-данных-2\"><span class=\"toc-item-num\">2&nbsp;&nbsp;</span>Предобработка данных</a></span></li><li><span><a href=\"#Исследовательский-анализ-данных\" data-toc-modified-id=\"Исследовательский-анализ-данных-3\"><span class=\"toc-item-num\">3&nbsp;&nbsp;</span>Исследовательский анализ данных</a></span><ul class=\"toc-item\"><li><span><a href=\"#Сколько-всего-событий?\" data-toc-modified-id=\"Сколько-всего-событий?-3.1\"><span class=\"toc-item-num\">3.1&nbsp;&nbsp;</span>Сколько всего событий?</a></span></li><li><span><a href=\"#Сколько-всего-пользователей?\" data-toc-modified-id=\"Сколько-всего-пользователей?-3.2\"><span class=\"toc-item-num\">3.2&nbsp;&nbsp;</span>Сколько всего пользователей?</a></span></li><li><span><a href=\"#Сколько-в-среднем-событий-приходится-на-пользователя?\" data-toc-modified-id=\"Сколько-в-среднем-событий-приходится-на-пользователя?-3.3\"><span class=\"toc-item-num\">3.3&nbsp;&nbsp;</span>Сколько в среднем событий приходится на пользователя?</a></span></li><li><span><a href=\"#Данными-за-какой-период-располагаем?\" data-toc-modified-id=\"Данными-за-какой-период-располагаем?-3.4\"><span class=\"toc-item-num\">3.4&nbsp;&nbsp;</span>Данными за какой период располагаем?</a></span></li><li><span><a href=\"#Много-ли-событий-и-пользователей-потеряли,-отбросив-старые-данные?\" data-toc-modified-id=\"Много-ли-событий-и-пользователей-потеряли,-отбросив-старые-данные?-3.5\"><span class=\"toc-item-num\">3.5&nbsp;&nbsp;</span>Много ли событий и пользователей потеряли, отбросив старые данные?</a></span></li><li><span><a href=\"#Вывод:\" data-toc-modified-id=\"Вывод:-3.6\"><span class=\"toc-item-num\">3.6&nbsp;&nbsp;</span>Вывод:</a></span></li></ul></li><li><span><a href=\"#Изучаем-воронку-событий\" data-toc-modified-id=\"Изучаем-воронку-событий-4\"><span class=\"toc-item-num\">4&nbsp;&nbsp;</span>Изучаем воронку событий</a></span><ul class=\"toc-item\"><li><span><a href=\"#Какие-события-есть-в-логах,-как-часто-они-встречаются?\" data-toc-modified-id=\"Какие-события-есть-в-логах,-как-часто-они-встречаются?-4.1\"><span class=\"toc-item-num\">4.1&nbsp;&nbsp;</span>Какие события есть в логах, как часто они встречаются?</a></span></li><li><span><a href=\"#Cчитаем,-сколько-пользователей-совершали-каждое-из-событий.-Доля-пользователей,-которые-хоть-раз-совершали-событие\" data-toc-modified-id=\"Cчитаем,-сколько-пользователей-совершали-каждое-из-событий.-Доля-пользователей,-которые-хоть-раз-совершали-событие-4.2\"><span class=\"toc-item-num\">4.2&nbsp;&nbsp;</span>Cчитаем, сколько пользователей совершали каждое из событий. Доля пользователей, которые хоть раз совершали событие</a></span></li><li><span><a href=\"#Порядок-событий-в-воронке\" data-toc-modified-id=\"Порядок-событий-в-воронке-4.3\"><span class=\"toc-item-num\">4.3&nbsp;&nbsp;</span>Порядок событий в воронке</a></span></li><li><span><a href=\"#Cчитаем,-какая-доля-пользователей-проходит-на-следующий-шаг-воронки\" data-toc-modified-id=\"Cчитаем,-какая-доля-пользователей-проходит-на-следующий-шаг-воронки-4.4\"><span class=\"toc-item-num\">4.4&nbsp;&nbsp;</span>Cчитаем, какая доля пользователей проходит на следующий шаг воронки</a></span></li><li><span><a href=\"#На-каком-шаге-теряем-больше-всего-пользователей?\" data-toc-modified-id=\"На-каком-шаге-теряем-больше-всего-пользователей?-4.5\"><span class=\"toc-item-num\">4.5&nbsp;&nbsp;</span>На каком шаге теряем больше всего пользователей?</a></span></li><li><span><a href=\"#Какая-доля-пользователей-доходит-от-первого-события-до-оплаты?\" data-toc-modified-id=\"Какая-доля-пользователей-доходит-от-первого-события-до-оплаты?-4.6\"><span class=\"toc-item-num\">4.6&nbsp;&nbsp;</span>Какая доля пользователей доходит от первого события до оплаты?</a></span></li><li><span><a href=\"#Вывод:\" data-toc-modified-id=\"Вывод:-4.7\"><span class=\"toc-item-num\">4.7&nbsp;&nbsp;</span>Вывод:</a></span></li></ul></li><li><span><a href=\"#Изучаем-результаты-эксперимента\" data-toc-modified-id=\"Изучаем-результаты-эксперимента-5\"><span class=\"toc-item-num\">5&nbsp;&nbsp;</span>Изучаем результаты эксперимента</a></span><ul class=\"toc-item\"><li><span><a href=\"#Сколько-пользователей-в-каждой-экспериментальной-группе?\" data-toc-modified-id=\"Сколько-пользователей-в-каждой-экспериментальной-группе?-5.1\"><span class=\"toc-item-num\">5.1&nbsp;&nbsp;</span>Сколько пользователей в каждой экспериментальной группе?</a></span></li><li><span><a href=\"#Подготовка-данных-к-тестам\" data-toc-modified-id=\"Подготовка-данных-к-тестам-5.2\"><span class=\"toc-item-num\">5.2&nbsp;&nbsp;</span>Подготовка данных к тестам</a></span></li><li><span><a href=\"#AA-тест.-Проверка-контрольных-групп-246-и-247\" data-toc-modified-id=\"AA-тест.-Проверка-контрольных-групп-246-и-247-5.3\"><span class=\"toc-item-num\">5.3&nbsp;&nbsp;</span>AA-тест. Проверка контрольных групп 246 и 247</a></span></li><li><span><a href=\"#AB-тест.-Проверка-контрольных-групп-246-и-248\" data-toc-modified-id=\"AB-тест.-Проверка-контрольных-групп-246-и-248-5.4\"><span class=\"toc-item-num\">5.4&nbsp;&nbsp;</span>AB-тест. Проверка контрольных групп 246 и 248</a></span></li><li><span><a href=\"#AB-тест.-Проверка-контрольных-групп-247-и-248\" data-toc-modified-id=\"AB-тест.-Проверка-контрольных-групп-247-и-248-5.5\"><span class=\"toc-item-num\">5.5&nbsp;&nbsp;</span>AB-тест. Проверка контрольных групп 247 и 248</a></span></li><li><span><a href=\"#AAB-тест.-Проверка-объединенных-контрольных-групп-249-и-группы-248\" data-toc-modified-id=\"AAB-тест.-Проверка-объединенных-контрольных-групп-249-и-группы-248-5.6\"><span class=\"toc-item-num\">5.6&nbsp;&nbsp;</span>AAB-тест. Проверка объединенных контрольных групп 249 и группы 248</a></span></li></ul></li><li><span><a href=\"#Общий-вывод:\" data-toc-modified-id=\"Общий-вывод:-6\"><span class=\"toc-item-num\">6&nbsp;&nbsp;</span>Общий вывод:</a></span></li></ul></div>"
   ]
  },
  {
   "cell_type": "markdown",
   "metadata": {},
   "source": [
    "<div style=\"border:solid green 2px; padding: 20px\">\n",
    "\n",
    "\n",
    "**Цель исследования:** В стартапе, который продает продукты питания,  команда дизайна предлагает изменить шрифты в приложении. Необходимо исследовать поведение пользователей мобильного приложения и результаты A/A/B-эксперимента, чтобы принять решение, целесообразно ли проводить изменения в дизайне приложения.\n",
    "\n",
    "**Задачи:**\n",
    "1. Подготовить данные;\n",
    "2. Изучить воронку продаж;\n",
    "3. Исследовать результаты A/A/B-эксперимента, выяснить, какой шрифт лучше.\n",
    "\n",
    "**Ход исследования:**\n",
    "1. Загрузка данных;\n",
    "2. Предобработка данных;\n",
    "3. Исследовательский анализ данных;\n",
    "   * Сколько всего событий?\n",
    "   * Сколько всего пользователей?\n",
    "   * Сколько в среднем событий приходися на пользователя?\n",
    "   * Данными за какой период располагаем?\n",
    "   * Много ли событий и пользователей потеряли, отбросив данные?\n",
    "   * Вывод;\n",
    "4. Изучаем воронку событий:\n",
    "   * Какие события есть в логах, как часто они встречаются?\n",
    "   * Cчитаем, сколько пользователей совершали каждое из событий. Доля пользователей, которые хоть раз совершали событие;\n",
    "   * Порядок событий в воронке;\n",
    "   * Cчитаем, какая доля пользователей проходит на следующий шаг воронки;\n",
    "   * На каком шаге теряем больше всего пользователей?\n",
    "   * Какая доля пользователей доходит от первого события до оплаты?\n",
    "   * Вывод;\n",
    "5. Изучаем результаты эксперимента:\n",
    "   * Сколько пользователей в каждой экспериментальной группе?\n",
    "   * Подготовка данных к тестам;\n",
    "   * AA-тест. Проверка контрольных групп 246 и 247;\n",
    "   * AB-тест. Проверка контрольных групп 246 и 248;\n",
    "   * AB-тест. Проверка контрольных групп 246 и 248;\n",
    "   * AAB-тест. Проверка объединенных контрольных групп 249 и группы 248;\n",
    "\n",
    "6. Общий вывод.\n",
    "\n",
    "**Структура данных:**\n",
    "* event\t- название события;\n",
    "* user_id - идентификатор пользователя;\n",
    "* event_time - время события;\n",
    "* group - группа эксперимента."
   ]
  },
  {
   "cell_type": "markdown",
   "metadata": {},
   "source": [
    "## Загрузка данных"
   ]
  },
  {
   "cell_type": "code",
   "execution_count": 1,
   "metadata": {},
   "outputs": [],
   "source": [
    "import pandas as pd\n",
    "import numpy as np\n",
    "from datetime import datetime, timedelta\n",
    "from matplotlib import pyplot as plt\n",
    "import seaborn as sns\n",
    "from scipy import stats as st\n",
    "import math as mth\n",
    "\n",
    "# импортируем библиотеки, необходимые для работы в данном проекте"
   ]
  },
  {
   "cell_type": "code",
   "execution_count": 2,
   "metadata": {},
   "outputs": [],
   "source": [
    "data = pd.read_csv('/datasets/logs_exp.csv', delimiter='\\t')\n",
    "\n",
    "# загружаем данные в переменную"
   ]
  },
  {
   "cell_type": "markdown",
   "metadata": {},
   "source": [
    "## Предобработка данных"
   ]
  },
  {
   "cell_type": "code",
   "execution_count": 3,
   "metadata": {},
   "outputs": [
    {
     "data": {
      "text/html": [
       "<div>\n",
       "<style scoped>\n",
       "    .dataframe tbody tr th:only-of-type {\n",
       "        vertical-align: middle;\n",
       "    }\n",
       "\n",
       "    .dataframe tbody tr th {\n",
       "        vertical-align: top;\n",
       "    }\n",
       "\n",
       "    .dataframe thead th {\n",
       "        text-align: right;\n",
       "    }\n",
       "</style>\n",
       "<table border=\"1\" class=\"dataframe\">\n",
       "  <thead>\n",
       "    <tr style=\"text-align: right;\">\n",
       "      <th></th>\n",
       "      <th>EventName</th>\n",
       "      <th>DeviceIDHash</th>\n",
       "      <th>EventTimestamp</th>\n",
       "      <th>ExpId</th>\n",
       "    </tr>\n",
       "  </thead>\n",
       "  <tbody>\n",
       "    <tr>\n",
       "      <th>0</th>\n",
       "      <td>MainScreenAppear</td>\n",
       "      <td>4575588528974610257</td>\n",
       "      <td>1564029816</td>\n",
       "      <td>246</td>\n",
       "    </tr>\n",
       "    <tr>\n",
       "      <th>1</th>\n",
       "      <td>MainScreenAppear</td>\n",
       "      <td>7416695313311560658</td>\n",
       "      <td>1564053102</td>\n",
       "      <td>246</td>\n",
       "    </tr>\n",
       "    <tr>\n",
       "      <th>2</th>\n",
       "      <td>PaymentScreenSuccessful</td>\n",
       "      <td>3518123091307005509</td>\n",
       "      <td>1564054127</td>\n",
       "      <td>248</td>\n",
       "    </tr>\n",
       "    <tr>\n",
       "      <th>3</th>\n",
       "      <td>CartScreenAppear</td>\n",
       "      <td>3518123091307005509</td>\n",
       "      <td>1564054127</td>\n",
       "      <td>248</td>\n",
       "    </tr>\n",
       "    <tr>\n",
       "      <th>4</th>\n",
       "      <td>PaymentScreenSuccessful</td>\n",
       "      <td>6217807653094995999</td>\n",
       "      <td>1564055322</td>\n",
       "      <td>248</td>\n",
       "    </tr>\n",
       "  </tbody>\n",
       "</table>\n",
       "</div>"
      ],
      "text/plain": [
       "                 EventName         DeviceIDHash  EventTimestamp  ExpId\n",
       "0         MainScreenAppear  4575588528974610257      1564029816    246\n",
       "1         MainScreenAppear  7416695313311560658      1564053102    246\n",
       "2  PaymentScreenSuccessful  3518123091307005509      1564054127    248\n",
       "3         CartScreenAppear  3518123091307005509      1564054127    248\n",
       "4  PaymentScreenSuccessful  6217807653094995999      1564055322    248"
      ]
     },
     "metadata": {},
     "output_type": "display_data"
    }
   ],
   "source": [
    "pd.options.display.max_colwidth = 100\n",
    "display(data.head())\n",
    "\n",
    "# изучаем данные из файла"
   ]
  },
  {
   "cell_type": "code",
   "execution_count": 4,
   "metadata": {},
   "outputs": [
    {
     "name": "stdout",
     "output_type": "stream",
     "text": [
      "<class 'pandas.core.frame.DataFrame'>\n",
      "RangeIndex: 244126 entries, 0 to 244125\n",
      "Data columns (total 4 columns):\n",
      " #   Column          Non-Null Count   Dtype \n",
      "---  ------          --------------   ----- \n",
      " 0   EventName       244126 non-null  object\n",
      " 1   DeviceIDHash    244126 non-null  int64 \n",
      " 2   EventTimestamp  244126 non-null  int64 \n",
      " 3   ExpId           244126 non-null  int64 \n",
      "dtypes: int64(3), object(1)\n",
      "memory usage: 7.5+ MB\n"
     ]
    }
   ],
   "source": [
    "data.info()\n",
    "\n",
    "# изучаем информацию о таблице и типах данных в ней"
   ]
  },
  {
   "cell_type": "code",
   "execution_count": 5,
   "metadata": {},
   "outputs": [],
   "source": [
    "data = data.rename(columns={'EventName':'event', 'DeviceIDHash':'user_id', 'EventTimestamp':'event_time', 'ExpId':'group'})\n",
    "\n",
    "# переименовываем столбца для удобства в дальнейшей работе"
   ]
  },
  {
   "cell_type": "code",
   "execution_count": 6,
   "metadata": {},
   "outputs": [
    {
     "data": {
      "text/html": [
       "<div>\n",
       "<style scoped>\n",
       "    .dataframe tbody tr th:only-of-type {\n",
       "        vertical-align: middle;\n",
       "    }\n",
       "\n",
       "    .dataframe tbody tr th {\n",
       "        vertical-align: top;\n",
       "    }\n",
       "\n",
       "    .dataframe thead th {\n",
       "        text-align: right;\n",
       "    }\n",
       "</style>\n",
       "<table border=\"1\" class=\"dataframe\">\n",
       "  <thead>\n",
       "    <tr style=\"text-align: right;\">\n",
       "      <th></th>\n",
       "      <th>event</th>\n",
       "      <th>user_id</th>\n",
       "      <th>event_time</th>\n",
       "      <th>group</th>\n",
       "    </tr>\n",
       "  </thead>\n",
       "  <tbody>\n",
       "    <tr>\n",
       "      <th>0</th>\n",
       "      <td>MainScreenAppear</td>\n",
       "      <td>4575588528974610257</td>\n",
       "      <td>1564029816</td>\n",
       "      <td>246</td>\n",
       "    </tr>\n",
       "    <tr>\n",
       "      <th>1</th>\n",
       "      <td>MainScreenAppear</td>\n",
       "      <td>7416695313311560658</td>\n",
       "      <td>1564053102</td>\n",
       "      <td>246</td>\n",
       "    </tr>\n",
       "    <tr>\n",
       "      <th>2</th>\n",
       "      <td>PaymentScreenSuccessful</td>\n",
       "      <td>3518123091307005509</td>\n",
       "      <td>1564054127</td>\n",
       "      <td>248</td>\n",
       "    </tr>\n",
       "    <tr>\n",
       "      <th>3</th>\n",
       "      <td>CartScreenAppear</td>\n",
       "      <td>3518123091307005509</td>\n",
       "      <td>1564054127</td>\n",
       "      <td>248</td>\n",
       "    </tr>\n",
       "    <tr>\n",
       "      <th>4</th>\n",
       "      <td>PaymentScreenSuccessful</td>\n",
       "      <td>6217807653094995999</td>\n",
       "      <td>1564055322</td>\n",
       "      <td>248</td>\n",
       "    </tr>\n",
       "  </tbody>\n",
       "</table>\n",
       "</div>"
      ],
      "text/plain": [
       "                     event              user_id  event_time  group\n",
       "0         MainScreenAppear  4575588528974610257  1564029816    246\n",
       "1         MainScreenAppear  7416695313311560658  1564053102    246\n",
       "2  PaymentScreenSuccessful  3518123091307005509  1564054127    248\n",
       "3         CartScreenAppear  3518123091307005509  1564054127    248\n",
       "4  PaymentScreenSuccessful  6217807653094995999  1564055322    248"
      ]
     },
     "metadata": {},
     "output_type": "display_data"
    }
   ],
   "source": [
    "display(data.head())\n",
    "\n",
    "# проверяем, как прошло переименование"
   ]
  },
  {
   "cell_type": "code",
   "execution_count": 7,
   "metadata": {},
   "outputs": [],
   "source": [
    "data['event_time']=pd.to_datetime(data['event_time'], unit = 's')\n",
    "\n",
    "# приводим столбец со временем события - event_time, к типу времени datetime "
   ]
  },
  {
   "cell_type": "code",
   "execution_count": 8,
   "metadata": {
    "scrolled": true
   },
   "outputs": [
    {
     "name": "stdout",
     "output_type": "stream",
     "text": [
      "<class 'pandas.core.frame.DataFrame'>\n",
      "RangeIndex: 244126 entries, 0 to 244125\n",
      "Data columns (total 4 columns):\n",
      " #   Column      Non-Null Count   Dtype         \n",
      "---  ------      --------------   -----         \n",
      " 0   event       244126 non-null  object        \n",
      " 1   user_id     244126 non-null  int64         \n",
      " 2   event_time  244126 non-null  datetime64[ns]\n",
      " 3   group       244126 non-null  int64         \n",
      "dtypes: datetime64[ns](1), int64(2), object(1)\n",
      "memory usage: 7.5+ MB\n"
     ]
    }
   ],
   "source": [
    "data.info()\n",
    "\n",
    "# проверяем, как прошли изменения"
   ]
  },
  {
   "cell_type": "code",
   "execution_count": 9,
   "metadata": {},
   "outputs": [
    {
     "data": {
      "text/plain": [
       "event         0\n",
       "user_id       0\n",
       "event_time    0\n",
       "group         0\n",
       "dtype: int64"
      ]
     },
     "execution_count": 9,
     "metadata": {},
     "output_type": "execute_result"
    }
   ],
   "source": [
    "data.isna().sum()\n",
    "\n",
    "# проверяем данные на пропуски, пропусков не обнаружено"
   ]
  },
  {
   "cell_type": "code",
   "execution_count": 10,
   "metadata": {
    "scrolled": true
   },
   "outputs": [
    {
     "data": {
      "text/plain": [
       "413"
      ]
     },
     "execution_count": 10,
     "metadata": {},
     "output_type": "execute_result"
    }
   ],
   "source": [
    "data.duplicated().sum()\n",
    "\n",
    "# проверяем данные на дубликаты"
   ]
  },
  {
   "cell_type": "code",
   "execution_count": 11,
   "metadata": {},
   "outputs": [],
   "source": [
    "data = data.drop_duplicates()\n",
    "\n",
    "# дубликаты составляют ~ 0,002% от общего объема данных, избавимся от них"
   ]
  },
  {
   "cell_type": "code",
   "execution_count": 12,
   "metadata": {},
   "outputs": [
    {
     "data": {
      "text/plain": [
       "0"
      ]
     },
     "execution_count": 12,
     "metadata": {},
     "output_type": "execute_result"
    }
   ],
   "source": [
    "data.duplicated().sum()\n",
    "\n",
    "# проверяем результаты удаления дубликатов, дубликатов не осталось"
   ]
  },
  {
   "cell_type": "code",
   "execution_count": 13,
   "metadata": {},
   "outputs": [],
   "source": [
    "data['date'] = data.event_time.dt.date\n",
    "\n",
    "# добавляем столбец с датой на основе данных из event_time"
   ]
  },
  {
   "cell_type": "code",
   "execution_count": 14,
   "metadata": {},
   "outputs": [
    {
     "data": {
      "text/html": [
       "<div>\n",
       "<style scoped>\n",
       "    .dataframe tbody tr th:only-of-type {\n",
       "        vertical-align: middle;\n",
       "    }\n",
       "\n",
       "    .dataframe tbody tr th {\n",
       "        vertical-align: top;\n",
       "    }\n",
       "\n",
       "    .dataframe thead th {\n",
       "        text-align: right;\n",
       "    }\n",
       "</style>\n",
       "<table border=\"1\" class=\"dataframe\">\n",
       "  <thead>\n",
       "    <tr style=\"text-align: right;\">\n",
       "      <th></th>\n",
       "      <th>event</th>\n",
       "      <th>user_id</th>\n",
       "      <th>event_time</th>\n",
       "      <th>group</th>\n",
       "      <th>date</th>\n",
       "    </tr>\n",
       "  </thead>\n",
       "  <tbody>\n",
       "    <tr>\n",
       "      <th>0</th>\n",
       "      <td>MainScreenAppear</td>\n",
       "      <td>4575588528974610257</td>\n",
       "      <td>2019-07-25 04:43:36</td>\n",
       "      <td>246</td>\n",
       "      <td>2019-07-25</td>\n",
       "    </tr>\n",
       "    <tr>\n",
       "      <th>1</th>\n",
       "      <td>MainScreenAppear</td>\n",
       "      <td>7416695313311560658</td>\n",
       "      <td>2019-07-25 11:11:42</td>\n",
       "      <td>246</td>\n",
       "      <td>2019-07-25</td>\n",
       "    </tr>\n",
       "    <tr>\n",
       "      <th>2</th>\n",
       "      <td>PaymentScreenSuccessful</td>\n",
       "      <td>3518123091307005509</td>\n",
       "      <td>2019-07-25 11:28:47</td>\n",
       "      <td>248</td>\n",
       "      <td>2019-07-25</td>\n",
       "    </tr>\n",
       "    <tr>\n",
       "      <th>3</th>\n",
       "      <td>CartScreenAppear</td>\n",
       "      <td>3518123091307005509</td>\n",
       "      <td>2019-07-25 11:28:47</td>\n",
       "      <td>248</td>\n",
       "      <td>2019-07-25</td>\n",
       "    </tr>\n",
       "    <tr>\n",
       "      <th>4</th>\n",
       "      <td>PaymentScreenSuccessful</td>\n",
       "      <td>6217807653094995999</td>\n",
       "      <td>2019-07-25 11:48:42</td>\n",
       "      <td>248</td>\n",
       "      <td>2019-07-25</td>\n",
       "    </tr>\n",
       "  </tbody>\n",
       "</table>\n",
       "</div>"
      ],
      "text/plain": [
       "                     event              user_id          event_time  group  \\\n",
       "0         MainScreenAppear  4575588528974610257 2019-07-25 04:43:36    246   \n",
       "1         MainScreenAppear  7416695313311560658 2019-07-25 11:11:42    246   \n",
       "2  PaymentScreenSuccessful  3518123091307005509 2019-07-25 11:28:47    248   \n",
       "3         CartScreenAppear  3518123091307005509 2019-07-25 11:28:47    248   \n",
       "4  PaymentScreenSuccessful  6217807653094995999 2019-07-25 11:48:42    248   \n",
       "\n",
       "         date  \n",
       "0  2019-07-25  \n",
       "1  2019-07-25  \n",
       "2  2019-07-25  \n",
       "3  2019-07-25  \n",
       "4  2019-07-25  "
      ]
     },
     "metadata": {},
     "output_type": "display_data"
    }
   ],
   "source": [
    "display(data.head())\n",
    "\n",
    "# провеоряем резульаты изменений"
   ]
  },
  {
   "cell_type": "code",
   "execution_count": 15,
   "metadata": {},
   "outputs": [
    {
     "data": {
      "text/plain": [
       "group    0\n",
       "dtype: int64"
      ]
     },
     "metadata": {},
     "output_type": "display_data"
    }
   ],
   "source": [
    "display(data.groupby('user_id').agg({'group' : 'nunique'}).query('group > 1').count())\n",
    "\n",
    "# проверяем, есть ли попадание пользователей сразу в несколько групп"
   ]
  },
  {
   "cell_type": "markdown",
   "metadata": {},
   "source": [
    "**Вывод:**\n",
    "* Загрузили данные в переменную, изучили информацию о таблице;\n",
    "* Изменили название столбцов на более удобные в работе;\n",
    "* Изменили тип данных в столце время события на формат времени;\n",
    "* Проверили таблицу на пропуски, пропусков найдено не было;\n",
    "* Проверили таблицу на дубликаты, было обнаружено 413 дубликатов, что составляет ~0,002% от общего количества строк, было принято решение их удалить;\n",
    "* Добавили столбец с датой для удобства\n",
    "* Пересечения пользователей по группам отсутствуют, ошибок при логировании и распределении пользователй по группам нет."
   ]
  },
  {
   "cell_type": "markdown",
   "metadata": {},
   "source": [
    "## Исследовательский анализ данных"
   ]
  },
  {
   "cell_type": "markdown",
   "metadata": {},
   "source": [
    "### Сколько всего событий?"
   ]
  },
  {
   "cell_type": "code",
   "execution_count": 16,
   "metadata": {},
   "outputs": [
    {
     "name": "stdout",
     "output_type": "stream",
     "text": [
      "Всего событий в логе:  243713\n"
     ]
    }
   ],
   "source": [
    "event_count = data['event'].count()\n",
    "print('Всего событий в логе: ', event_count)\n",
    "\n",
    "# считаем количесвто событий в логе"
   ]
  },
  {
   "cell_type": "markdown",
   "metadata": {},
   "source": [
    "### Сколько всего пользователей?"
   ]
  },
  {
   "cell_type": "code",
   "execution_count": 17,
   "metadata": {},
   "outputs": [
    {
     "name": "stdout",
     "output_type": "stream",
     "text": [
      "Всего пользователей в логе:  7551\n"
     ]
    }
   ],
   "source": [
    "users_count = data.agg({'user_id': 'nunique'}).sum()\n",
    "print('Всего пользователей в логе: ', users_count)\n",
    "\n",
    "# считаем количество уникальных пользователей"
   ]
  },
  {
   "cell_type": "markdown",
   "metadata": {},
   "source": [
    "### Сколько в среднем событий приходится на пользователя?"
   ]
  },
  {
   "cell_type": "code",
   "execution_count": 18,
   "metadata": {},
   "outputs": [
    {
     "name": "stdout",
     "output_type": "stream",
     "text": [
      "В среднем событий на пользователя приходится:  32\n"
     ]
    }
   ],
   "source": [
    "event_mean = event_count / users_count\n",
    "print('В среднем событий на пользователя приходится: ', round(event_mean))\n",
    "\n",
    "# считаем, сколько в среднем событий приходится на пользователя"
   ]
  },
  {
   "cell_type": "markdown",
   "metadata": {},
   "source": [
    "### Данными за какой период располагаем? "
   ]
  },
  {
   "cell_type": "code",
   "execution_count": 19,
   "metadata": {},
   "outputs": [
    {
     "name": "stdout",
     "output_type": "stream",
     "text": [
      "Дата начала исследования  2019-07-25\n"
     ]
    }
   ],
   "source": [
    "date_min = data['date'].min()\n",
    "print('Дата начала исследования ', date_min)"
   ]
  },
  {
   "cell_type": "code",
   "execution_count": 20,
   "metadata": {},
   "outputs": [
    {
     "name": "stdout",
     "output_type": "stream",
     "text": [
      "Дата окончания исследования  2019-08-07\n"
     ]
    }
   ],
   "source": [
    "date_max = data['date'].max()\n",
    "print('Дата окончания исследования ', date_max)"
   ]
  },
  {
   "cell_type": "code",
   "execution_count": 21,
   "metadata": {},
   "outputs": [],
   "source": [
    "data_pivot = data.pivot_table(\n",
    "    index='date', \n",
    "    columns='group', \n",
    "    values='event', \n",
    "    aggfunc='count')\n",
    "\n",
    "# строим сводную таблицу по количеству событий в зависимости от времени в разрезе групп"
   ]
  },
  {
   "cell_type": "code",
   "execution_count": 22,
   "metadata": {},
   "outputs": [
    {
     "data": {
      "image/png": "[encoded data removed]",
      "text/plain": [
       "<Figure size 720x360 with 1 Axes>"
      ]
     },
     "metadata": {
      "needs_background": "light"
     },
     "output_type": "display_data"
    }
   ],
   "source": [
    "data_pivot.plot(kind='bar', figsize=(10, 5), grid=True)\n",
    "\n",
    "\n",
    "plt.show()\n",
    "\n",
    "# строим столбчатую диаграмму по количеству событий в зависимости от времени в разрезе групп"
   ]
  },
  {
   "cell_type": "markdown",
   "metadata": {},
   "source": [
    "Судя по столбчатой диаграмме мы не можем быть уверены, что у нас есть данные за весь период. Технически в логи новых дней по некоторым пользователям могут «доезжать» события из прошлого — это исказило наши данные. На самом деле мы располагаем данным за период с 2019-08-01 по 2019-08-07, отбросим данные до 2019-08-01."
   ]
  },
  {
   "cell_type": "code",
   "execution_count": 23,
   "metadata": {},
   "outputs": [
    {
     "data": {
      "text/html": [
       "<div>\n",
       "<style scoped>\n",
       "    .dataframe tbody tr th:only-of-type {\n",
       "        vertical-align: middle;\n",
       "    }\n",
       "\n",
       "    .dataframe tbody tr th {\n",
       "        vertical-align: top;\n",
       "    }\n",
       "\n",
       "    .dataframe thead th {\n",
       "        text-align: right;\n",
       "    }\n",
       "</style>\n",
       "<table border=\"1\" class=\"dataframe\">\n",
       "  <thead>\n",
       "    <tr style=\"text-align: right;\">\n",
       "      <th></th>\n",
       "      <th>event</th>\n",
       "      <th>user_id</th>\n",
       "      <th>event_time</th>\n",
       "      <th>group</th>\n",
       "      <th>date</th>\n",
       "    </tr>\n",
       "  </thead>\n",
       "  <tbody>\n",
       "    <tr>\n",
       "      <th>2828</th>\n",
       "      <td>Tutorial</td>\n",
       "      <td>3737462046622621720</td>\n",
       "      <td>2019-08-01 00:07:28</td>\n",
       "      <td>246</td>\n",
       "      <td>2019-08-01</td>\n",
       "    </tr>\n",
       "    <tr>\n",
       "      <th>2829</th>\n",
       "      <td>MainScreenAppear</td>\n",
       "      <td>3737462046622621720</td>\n",
       "      <td>2019-08-01 00:08:00</td>\n",
       "      <td>246</td>\n",
       "      <td>2019-08-01</td>\n",
       "    </tr>\n",
       "    <tr>\n",
       "      <th>2830</th>\n",
       "      <td>MainScreenAppear</td>\n",
       "      <td>3737462046622621720</td>\n",
       "      <td>2019-08-01 00:08:55</td>\n",
       "      <td>246</td>\n",
       "      <td>2019-08-01</td>\n",
       "    </tr>\n",
       "    <tr>\n",
       "      <th>2831</th>\n",
       "      <td>OffersScreenAppear</td>\n",
       "      <td>3737462046622621720</td>\n",
       "      <td>2019-08-01 00:08:58</td>\n",
       "      <td>246</td>\n",
       "      <td>2019-08-01</td>\n",
       "    </tr>\n",
       "    <tr>\n",
       "      <th>2832</th>\n",
       "      <td>MainScreenAppear</td>\n",
       "      <td>1433840883824088890</td>\n",
       "      <td>2019-08-01 00:08:59</td>\n",
       "      <td>247</td>\n",
       "      <td>2019-08-01</td>\n",
       "    </tr>\n",
       "  </tbody>\n",
       "</table>\n",
       "</div>"
      ],
      "text/plain": [
       "                   event              user_id          event_time  group  \\\n",
       "2828            Tutorial  3737462046622621720 2019-08-01 00:07:28    246   \n",
       "2829    MainScreenAppear  3737462046622621720 2019-08-01 00:08:00    246   \n",
       "2830    MainScreenAppear  3737462046622621720 2019-08-01 00:08:55    246   \n",
       "2831  OffersScreenAppear  3737462046622621720 2019-08-01 00:08:58    246   \n",
       "2832    MainScreenAppear  1433840883824088890 2019-08-01 00:08:59    247   \n",
       "\n",
       "            date  \n",
       "2828  2019-08-01  \n",
       "2829  2019-08-01  \n",
       "2830  2019-08-01  \n",
       "2831  2019-08-01  \n",
       "2832  2019-08-01  "
      ]
     },
     "metadata": {},
     "output_type": "display_data"
    }
   ],
   "source": [
    "real_period = pd.to_datetime('2019-08-01', format = '%Y-%m-%d')\n",
    "data = data[data['date'] >= real_period]\n",
    "\n",
    "display(data.head())\n",
    "\n",
    "# отбрасываем данные за период до 2019-08-31"
   ]
  },
  {
   "cell_type": "markdown",
   "metadata": {},
   "source": [
    "### Много ли событий и пользователей потеряли, отбросив старые данные?"
   ]
  },
  {
   "cell_type": "code",
   "execution_count": 24,
   "metadata": {},
   "outputs": [
    {
     "name": "stdout",
     "output_type": "stream",
     "text": [
      "Всего событий в логе:  240887\n"
     ]
    }
   ],
   "source": [
    "event_count_after = data['event'].count()\n",
    "print('Всего событий в логе: ', event_count_after)\n",
    "\n",
    "# считаем количесвто событий в логе после среза по актуальному периоду"
   ]
  },
  {
   "cell_type": "code",
   "execution_count": 25,
   "metadata": {},
   "outputs": [
    {
     "name": "stdout",
     "output_type": "stream",
     "text": [
      "Всего пользователей в логе:  7534\n"
     ]
    }
   ],
   "source": [
    "users_count_after = data.agg({'user_id': 'nunique'}).sum()\n",
    "print('Всего пользователей в логе: ', users_count_after)\n",
    "\n",
    "# считаем количество уникальных пользователей после среза по актуальному периоду"
   ]
  },
  {
   "cell_type": "code",
   "execution_count": 26,
   "metadata": {},
   "outputs": [
    {
     "name": "stdout",
     "output_type": "stream",
     "text": [
      "Отсеяли событий после фильтрации 2826 , что равно 1.16 % от общего числа событий.\n"
     ]
    }
   ],
   "source": [
    "print('Отсеяли событий после фильтрации', \\\n",
    "      event_count - event_count_after, ', что равно', \\\n",
    "      round(((event_count - event_count_after) / event_count) * 100, 3), '% от общего числа событий.')\n",
    "\n",
    "# считаем, какой количество событий мы потеряли при фильтрации"
   ]
  },
  {
   "cell_type": "code",
   "execution_count": 27,
   "metadata": {},
   "outputs": [
    {
     "name": "stdout",
     "output_type": "stream",
     "text": [
      "Отсеяли уникальных пользователей после фильтрации 17 , что равно 0.225 % от общего числа уникальных пользователей.\n"
     ]
    }
   ],
   "source": [
    "print('Отсеяли уникальных пользователей после фильтрации', \\\n",
    "      users_count - users_count_after, ', что равно', \\\n",
    "      round(((users_count - users_count_after) / users_count) * 100, 3), '% от общего числа уникальных пользователей.')\n",
    "\n",
    "# считаем, какой количество уникальных пользователей мы потеряли при фильтрации"
   ]
  },
  {
   "cell_type": "markdown",
   "metadata": {},
   "source": [
    "* Было событий в логе 243 713, стало 240 881, мы отсеяли 2826 событий, что равно 1,16% от общего числа событий. Эта цифра находится в пределах 5%, что допустимо для получения более качественных данных.\n",
    "* Было уникальных пользователей 7 551, стало 7 534, мы потеряли 17 пользователей, что составляет 0,225% от их изначального количества, что так же находится впределах нормы."
   ]
  },
  {
   "cell_type": "code",
   "execution_count": 28,
   "metadata": {},
   "outputs": [
    {
     "data": {
      "text/html": [
       "<div>\n",
       "<style scoped>\n",
       "    .dataframe tbody tr th:only-of-type {\n",
       "        vertical-align: middle;\n",
       "    }\n",
       "\n",
       "    .dataframe tbody tr th {\n",
       "        vertical-align: top;\n",
       "    }\n",
       "\n",
       "    .dataframe thead th {\n",
       "        text-align: right;\n",
       "    }\n",
       "</style>\n",
       "<table border=\"1\" class=\"dataframe\">\n",
       "  <thead>\n",
       "    <tr style=\"text-align: right;\">\n",
       "      <th></th>\n",
       "      <th>group</th>\n",
       "      <th>user_id</th>\n",
       "    </tr>\n",
       "  </thead>\n",
       "  <tbody>\n",
       "    <tr>\n",
       "      <th>0</th>\n",
       "      <td>246</td>\n",
       "      <td>2484</td>\n",
       "    </tr>\n",
       "    <tr>\n",
       "      <th>1</th>\n",
       "      <td>247</td>\n",
       "      <td>2513</td>\n",
       "    </tr>\n",
       "    <tr>\n",
       "      <th>2</th>\n",
       "      <td>248</td>\n",
       "      <td>2537</td>\n",
       "    </tr>\n",
       "  </tbody>\n",
       "</table>\n",
       "</div>"
      ],
      "text/plain": [
       "   group  user_id\n",
       "0    246     2484\n",
       "1    247     2513\n",
       "2    248     2537"
      ]
     },
     "metadata": {},
     "output_type": "display_data"
    }
   ],
   "source": [
    "display(data.groupby('group').agg({'user_id': 'nunique'}).reset_index())\n",
    "\n",
    "# проверяем, что после фильтрации данных у нас есть пользователи из всех трёх экспериментальных групп"
   ]
  },
  {
   "cell_type": "markdown",
   "metadata": {},
   "source": [
    "### Вывод:\n",
    "1. Судя по столбчатой диаграмме мы не можем быть уверены, что у нас есть данные за весь период. Технически в логи новых дней по некоторым пользователям могут «доезжать» события из прошлого — это исказило наши данные. На самом деле мы располагаем данным за период с 2019-08-01 по 2019-08-07.\n",
    "2. В среднем на пользователя приходится 32 события.\n",
    "3. Было событий в логе 243 713, стало 240 881, мы отсеяли ~ 1,16% от общего числа событий, что находится в пределах 5% и допустимо для получения более качественных данных.\n",
    "4. Было уникальных пользователей 7 551, стало 7 534, мы потеряли 17 пользователей, что составляет 0,225% от их изначального количества, что так же находится впределах нормы.\n",
    "5. После фильтрации данных у нас остались пользователи из всех трёх экспериментальных групп."
   ]
  },
  {
   "cell_type": "markdown",
   "metadata": {},
   "source": [
    "## Изучаем воронку событий"
   ]
  },
  {
   "cell_type": "markdown",
   "metadata": {},
   "source": [
    "### Какие события есть в логах, как часто они встречаются?"
   ]
  },
  {
   "cell_type": "code",
   "execution_count": 29,
   "metadata": {},
   "outputs": [
    {
     "data": {
      "text/html": [
       "<div>\n",
       "<style scoped>\n",
       "    .dataframe tbody tr th:only-of-type {\n",
       "        vertical-align: middle;\n",
       "    }\n",
       "\n",
       "    .dataframe tbody tr th {\n",
       "        vertical-align: top;\n",
       "    }\n",
       "\n",
       "    .dataframe thead th {\n",
       "        text-align: right;\n",
       "    }\n",
       "</style>\n",
       "<table border=\"1\" class=\"dataframe\">\n",
       "  <thead>\n",
       "    <tr style=\"text-align: right;\">\n",
       "      <th></th>\n",
       "      <th>event</th>\n",
       "    </tr>\n",
       "  </thead>\n",
       "  <tbody>\n",
       "    <tr>\n",
       "      <th>MainScreenAppear</th>\n",
       "      <td>117328</td>\n",
       "    </tr>\n",
       "    <tr>\n",
       "      <th>OffersScreenAppear</th>\n",
       "      <td>46333</td>\n",
       "    </tr>\n",
       "    <tr>\n",
       "      <th>CartScreenAppear</th>\n",
       "      <td>42303</td>\n",
       "    </tr>\n",
       "    <tr>\n",
       "      <th>PaymentScreenSuccessful</th>\n",
       "      <td>33918</td>\n",
       "    </tr>\n",
       "    <tr>\n",
       "      <th>Tutorial</th>\n",
       "      <td>1005</td>\n",
       "    </tr>\n",
       "  </tbody>\n",
       "</table>\n",
       "</div>"
      ],
      "text/plain": [
       "                          event\n",
       "MainScreenAppear         117328\n",
       "OffersScreenAppear        46333\n",
       "CartScreenAppear          42303\n",
       "PaymentScreenSuccessful   33918\n",
       "Tutorial                   1005"
      ]
     },
     "metadata": {},
     "output_type": "display_data"
    }
   ],
   "source": [
    "display(data['event'].value_counts().to_frame())\n",
    "\n",
    "# изучаем, какие события есть в логах и как часто они встречаются"
   ]
  },
  {
   "cell_type": "markdown",
   "metadata": {},
   "source": [
    "### Cчитаем, сколько пользователей совершали каждое из событий. Доля пользователей, которые хоть раз совершали событие"
   ]
  },
  {
   "cell_type": "code",
   "execution_count": 30,
   "metadata": {},
   "outputs": [
    {
     "data": {
      "text/html": [
       "<div>\n",
       "<style scoped>\n",
       "    .dataframe tbody tr th:only-of-type {\n",
       "        vertical-align: middle;\n",
       "    }\n",
       "\n",
       "    .dataframe tbody tr th {\n",
       "        vertical-align: top;\n",
       "    }\n",
       "\n",
       "    .dataframe thead th {\n",
       "        text-align: right;\n",
       "    }\n",
       "</style>\n",
       "<table border=\"1\" class=\"dataframe\">\n",
       "  <thead>\n",
       "    <tr style=\"text-align: right;\">\n",
       "      <th></th>\n",
       "      <th>event</th>\n",
       "      <th>events_cnt</th>\n",
       "      <th>users</th>\n",
       "    </tr>\n",
       "  </thead>\n",
       "  <tbody>\n",
       "    <tr>\n",
       "      <th>0</th>\n",
       "      <td>MainScreenAppear</td>\n",
       "      <td>117328</td>\n",
       "      <td>7419</td>\n",
       "    </tr>\n",
       "    <tr>\n",
       "      <th>1</th>\n",
       "      <td>OffersScreenAppear</td>\n",
       "      <td>46333</td>\n",
       "      <td>4593</td>\n",
       "    </tr>\n",
       "    <tr>\n",
       "      <th>2</th>\n",
       "      <td>CartScreenAppear</td>\n",
       "      <td>42303</td>\n",
       "      <td>3734</td>\n",
       "    </tr>\n",
       "    <tr>\n",
       "      <th>3</th>\n",
       "      <td>PaymentScreenSuccessful</td>\n",
       "      <td>33918</td>\n",
       "      <td>3539</td>\n",
       "    </tr>\n",
       "    <tr>\n",
       "      <th>4</th>\n",
       "      <td>Tutorial</td>\n",
       "      <td>1005</td>\n",
       "      <td>840</td>\n",
       "    </tr>\n",
       "  </tbody>\n",
       "</table>\n",
       "</div>"
      ],
      "text/plain": [
       "                     event  events_cnt  users\n",
       "0         MainScreenAppear      117328   7419\n",
       "1       OffersScreenAppear       46333   4593\n",
       "2         CartScreenAppear       42303   3734\n",
       "3  PaymentScreenSuccessful       33918   3539\n",
       "4                 Tutorial        1005    840"
      ]
     },
     "metadata": {},
     "output_type": "display_data"
    }
   ],
   "source": [
    "events_per_user = data.groupby('event') \\\n",
    "                      .agg({'event':'count', 'user_id':'nunique'}) \\\n",
    "                      .sort_values(by='user_id', ascending=False)\n",
    "\n",
    "events_per_user.columns = ['events_cnt', 'users']\n",
    "events_per_user = events_per_user.reset_index()\n",
    "\n",
    "display(events_per_user)\n",
    "\n",
    "# считем общее количество событий по пользователям\n",
    "# считаем, сколько пользователей совершали каждое из этих событий"
   ]
  },
  {
   "cell_type": "code",
   "execution_count": 31,
   "metadata": {},
   "outputs": [],
   "source": [
    "users_total = data['user_id'].nunique()\n",
    "\n",
    "# считаем общее количество уникальных пользователей"
   ]
  },
  {
   "cell_type": "code",
   "execution_count": 32,
   "metadata": {},
   "outputs": [
    {
     "data": {
      "text/html": [
       "<div>\n",
       "<style scoped>\n",
       "    .dataframe tbody tr th:only-of-type {\n",
       "        vertical-align: middle;\n",
       "    }\n",
       "\n",
       "    .dataframe tbody tr th {\n",
       "        vertical-align: top;\n",
       "    }\n",
       "\n",
       "    .dataframe thead th {\n",
       "        text-align: right;\n",
       "    }\n",
       "</style>\n",
       "<table border=\"1\" class=\"dataframe\">\n",
       "  <thead>\n",
       "    <tr style=\"text-align: right;\">\n",
       "      <th></th>\n",
       "      <th>event</th>\n",
       "      <th>events_cnt</th>\n",
       "      <th>users</th>\n",
       "      <th>%</th>\n",
       "    </tr>\n",
       "  </thead>\n",
       "  <tbody>\n",
       "    <tr>\n",
       "      <th>0</th>\n",
       "      <td>MainScreenAppear</td>\n",
       "      <td>117328</td>\n",
       "      <td>7419</td>\n",
       "      <td>98.47</td>\n",
       "    </tr>\n",
       "    <tr>\n",
       "      <th>1</th>\n",
       "      <td>OffersScreenAppear</td>\n",
       "      <td>46333</td>\n",
       "      <td>4593</td>\n",
       "      <td>60.96</td>\n",
       "    </tr>\n",
       "    <tr>\n",
       "      <th>2</th>\n",
       "      <td>CartScreenAppear</td>\n",
       "      <td>42303</td>\n",
       "      <td>3734</td>\n",
       "      <td>49.56</td>\n",
       "    </tr>\n",
       "    <tr>\n",
       "      <th>3</th>\n",
       "      <td>PaymentScreenSuccessful</td>\n",
       "      <td>33918</td>\n",
       "      <td>3539</td>\n",
       "      <td>46.97</td>\n",
       "    </tr>\n",
       "    <tr>\n",
       "      <th>4</th>\n",
       "      <td>Tutorial</td>\n",
       "      <td>1005</td>\n",
       "      <td>840</td>\n",
       "      <td>11.15</td>\n",
       "    </tr>\n",
       "  </tbody>\n",
       "</table>\n",
       "</div>"
      ],
      "text/plain": [
       "                     event  events_cnt  users      %\n",
       "0         MainScreenAppear      117328   7419  98.47\n",
       "1       OffersScreenAppear       46333   4593  60.96\n",
       "2         CartScreenAppear       42303   3734  49.56\n",
       "3  PaymentScreenSuccessful       33918   3539  46.97\n",
       "4                 Tutorial        1005    840  11.15"
      ]
     },
     "metadata": {},
     "output_type": "display_data"
    }
   ],
   "source": [
    "events_per_user['%'] = round((events_per_user['users'] / users_total * 100), 2)\n",
    "\n",
    "display(events_per_user)\n",
    "\n",
    "# считаем долю уникальных пользователей, которые хоть раз совершали событие"
   ]
  },
  {
   "cell_type": "markdown",
   "metadata": {},
   "source": [
    "### Порядок событий в воронке"
   ]
  },
  {
   "cell_type": "markdown",
   "metadata": {},
   "source": [
    "Предположительно, события происходят в том порядке, в котором они определены подсчетом, самое большое количество событий в начале воронки и наименьшее количесвто событий в конце воронки:\n",
    "1. Главная страница - 117 328 событий;\n",
    "2. Переход на страницу с товарами - 46 333 событий;\n",
    "3. Переход в корзину - \t42 303 событий;\n",
    "4. Страница с оплатой - 33 918 событий;\n",
    "\n",
    "Отдельно выделим пункт обучение (tutorial) - 1005 событий, обычно он предлагается пользователям один раз после регистрации, чтобы помочь адаптироваться в незнакомом интерфейсе. Как правило, пользователь может пропустить этот этап, поэтому не будем учитывать это событие при расчете воронки."
   ]
  },
  {
   "cell_type": "code",
   "execution_count": 33,
   "metadata": {},
   "outputs": [
    {
     "data": {
      "text/html": [
       "<div>\n",
       "<style scoped>\n",
       "    .dataframe tbody tr th:only-of-type {\n",
       "        vertical-align: middle;\n",
       "    }\n",
       "\n",
       "    .dataframe tbody tr th {\n",
       "        vertical-align: top;\n",
       "    }\n",
       "\n",
       "    .dataframe thead th {\n",
       "        text-align: right;\n",
       "    }\n",
       "</style>\n",
       "<table border=\"1\" class=\"dataframe\">\n",
       "  <thead>\n",
       "    <tr style=\"text-align: right;\">\n",
       "      <th></th>\n",
       "      <th>event</th>\n",
       "      <th>events_cnt</th>\n",
       "      <th>users</th>\n",
       "      <th>%</th>\n",
       "    </tr>\n",
       "  </thead>\n",
       "  <tbody>\n",
       "    <tr>\n",
       "      <th>0</th>\n",
       "      <td>MainScreenAppear</td>\n",
       "      <td>117328</td>\n",
       "      <td>7419</td>\n",
       "      <td>98.47</td>\n",
       "    </tr>\n",
       "    <tr>\n",
       "      <th>1</th>\n",
       "      <td>OffersScreenAppear</td>\n",
       "      <td>46333</td>\n",
       "      <td>4593</td>\n",
       "      <td>60.96</td>\n",
       "    </tr>\n",
       "    <tr>\n",
       "      <th>2</th>\n",
       "      <td>CartScreenAppear</td>\n",
       "      <td>42303</td>\n",
       "      <td>3734</td>\n",
       "      <td>49.56</td>\n",
       "    </tr>\n",
       "    <tr>\n",
       "      <th>3</th>\n",
       "      <td>PaymentScreenSuccessful</td>\n",
       "      <td>33918</td>\n",
       "      <td>3539</td>\n",
       "      <td>46.97</td>\n",
       "    </tr>\n",
       "  </tbody>\n",
       "</table>\n",
       "</div>"
      ],
      "text/plain": [
       "                     event  events_cnt  users      %\n",
       "0         MainScreenAppear      117328   7419  98.47\n",
       "1       OffersScreenAppear       46333   4593  60.96\n",
       "2         CartScreenAppear       42303   3734  49.56\n",
       "3  PaymentScreenSuccessful       33918   3539  46.97"
      ]
     },
     "metadata": {},
     "output_type": "display_data"
    }
   ],
   "source": [
    "events_per_user = events_per_user[events_per_user['event'] != 'Tutorial']\n",
    "events_per_user = events_per_user.sort_values(by='users', ascending=False)\n",
    "display(events_per_user)\n",
    "\n",
    "# удаляем из воронки событие Tutorial"
   ]
  },
  {
   "cell_type": "markdown",
   "metadata": {},
   "source": [
    "### Cчитаем, какая доля пользователей проходит на следующий шаг воронки"
   ]
  },
  {
   "cell_type": "code",
   "execution_count": 34,
   "metadata": {},
   "outputs": [
    {
     "data": {
      "text/html": [
       "<div>\n",
       "<style scoped>\n",
       "    .dataframe tbody tr th:only-of-type {\n",
       "        vertical-align: middle;\n",
       "    }\n",
       "\n",
       "    .dataframe tbody tr th {\n",
       "        vertical-align: top;\n",
       "    }\n",
       "\n",
       "    .dataframe thead th {\n",
       "        text-align: right;\n",
       "    }\n",
       "</style>\n",
       "<table border=\"1\" class=\"dataframe\">\n",
       "  <thead>\n",
       "    <tr style=\"text-align: right;\">\n",
       "      <th></th>\n",
       "      <th>event</th>\n",
       "      <th>events_cnt</th>\n",
       "      <th>users</th>\n",
       "      <th>%</th>\n",
       "      <th>conversion</th>\n",
       "    </tr>\n",
       "  </thead>\n",
       "  <tbody>\n",
       "    <tr>\n",
       "      <th>0</th>\n",
       "      <td>MainScreenAppear</td>\n",
       "      <td>117328</td>\n",
       "      <td>7419</td>\n",
       "      <td>98.47</td>\n",
       "      <td>100.00</td>\n",
       "    </tr>\n",
       "    <tr>\n",
       "      <th>1</th>\n",
       "      <td>OffersScreenAppear</td>\n",
       "      <td>46333</td>\n",
       "      <td>4593</td>\n",
       "      <td>60.96</td>\n",
       "      <td>61.91</td>\n",
       "    </tr>\n",
       "    <tr>\n",
       "      <th>2</th>\n",
       "      <td>CartScreenAppear</td>\n",
       "      <td>42303</td>\n",
       "      <td>3734</td>\n",
       "      <td>49.56</td>\n",
       "      <td>81.30</td>\n",
       "    </tr>\n",
       "    <tr>\n",
       "      <th>3</th>\n",
       "      <td>PaymentScreenSuccessful</td>\n",
       "      <td>33918</td>\n",
       "      <td>3539</td>\n",
       "      <td>46.97</td>\n",
       "      <td>94.78</td>\n",
       "    </tr>\n",
       "  </tbody>\n",
       "</table>\n",
       "</div>"
      ],
      "text/plain": [
       "                     event  events_cnt  users      %  conversion\n",
       "0         MainScreenAppear      117328   7419  98.47      100.00\n",
       "1       OffersScreenAppear       46333   4593  60.96       61.91\n",
       "2         CartScreenAppear       42303   3734  49.56       81.30\n",
       "3  PaymentScreenSuccessful       33918   3539  46.97       94.78"
      ]
     },
     "metadata": {},
     "output_type": "display_data"
    }
   ],
   "source": [
    "events_per_user['shift'] = events_per_user['users'].shift()\n",
    "events_per_user['conversion'] = round(events_per_user['users']/events_per_user['shift']*100, 2)\n",
    "events_per_user.drop(columns=['shift'], axis=1, inplace=True)\n",
    "events_per_user['conversion']=events_per_user['conversion'].fillna(100)\n",
    "\n",
    "display(events_per_user)"
   ]
  },
  {
   "cell_type": "markdown",
   "metadata": {},
   "source": [
    "### На каком шаге теряем больше всего пользователей?"
   ]
  },
  {
   "cell_type": "markdown",
   "metadata": {},
   "source": [
    "Больше всего пользователей теряем на первом шаге. Во второй шаг переходит только 61.91% пользователей, то есть 38.09% пользователей не переходят дальше главного экрана в приложении."
   ]
  },
  {
   "cell_type": "markdown",
   "metadata": {},
   "source": [
    "### Какая доля пользователей доходит от первого события до оплаты?"
   ]
  },
  {
   "cell_type": "code",
   "execution_count": 35,
   "metadata": {},
   "outputs": [
    {
     "data": {
      "text/html": [
       "<div>\n",
       "<style scoped>\n",
       "    .dataframe tbody tr th:only-of-type {\n",
       "        vertical-align: middle;\n",
       "    }\n",
       "\n",
       "    .dataframe tbody tr th {\n",
       "        vertical-align: top;\n",
       "    }\n",
       "\n",
       "    .dataframe thead th {\n",
       "        text-align: right;\n",
       "    }\n",
       "</style>\n",
       "<table border=\"1\" class=\"dataframe\">\n",
       "  <thead>\n",
       "    <tr style=\"text-align: right;\">\n",
       "      <th></th>\n",
       "      <th>index</th>\n",
       "      <th>event</th>\n",
       "      <th>events_cnt</th>\n",
       "      <th>users</th>\n",
       "      <th>%</th>\n",
       "      <th>conversion</th>\n",
       "    </tr>\n",
       "  </thead>\n",
       "  <tbody>\n",
       "    <tr>\n",
       "      <th>0</th>\n",
       "      <td>0</td>\n",
       "      <td>MainScreenAppear</td>\n",
       "      <td>117328</td>\n",
       "      <td>7419</td>\n",
       "      <td>98.47</td>\n",
       "      <td>100.00</td>\n",
       "    </tr>\n",
       "    <tr>\n",
       "      <th>1</th>\n",
       "      <td>1</td>\n",
       "      <td>OffersScreenAppear</td>\n",
       "      <td>46333</td>\n",
       "      <td>4593</td>\n",
       "      <td>60.96</td>\n",
       "      <td>61.91</td>\n",
       "    </tr>\n",
       "    <tr>\n",
       "      <th>2</th>\n",
       "      <td>2</td>\n",
       "      <td>CartScreenAppear</td>\n",
       "      <td>42303</td>\n",
       "      <td>3734</td>\n",
       "      <td>49.56</td>\n",
       "      <td>81.30</td>\n",
       "    </tr>\n",
       "    <tr>\n",
       "      <th>3</th>\n",
       "      <td>3</td>\n",
       "      <td>PaymentScreenSuccessful</td>\n",
       "      <td>33918</td>\n",
       "      <td>3539</td>\n",
       "      <td>46.97</td>\n",
       "      <td>94.78</td>\n",
       "    </tr>\n",
       "  </tbody>\n",
       "</table>\n",
       "</div>"
      ],
      "text/plain": [
       "   index                    event  events_cnt  users      %  conversion\n",
       "0      0         MainScreenAppear      117328   7419  98.47      100.00\n",
       "1      1       OffersScreenAppear       46333   4593  60.96       61.91\n",
       "2      2         CartScreenAppear       42303   3734  49.56       81.30\n",
       "3      3  PaymentScreenSuccessful       33918   3539  46.97       94.78"
      ]
     },
     "metadata": {},
     "output_type": "display_data"
    }
   ],
   "source": [
    "display(events_per_user.reset_index())"
   ]
  },
  {
   "cell_type": "code",
   "execution_count": 36,
   "metadata": {},
   "outputs": [
    {
     "name": "stdout",
     "output_type": "stream",
     "text": [
      "До оплаты доходит 48.0 % пользователей\n"
     ]
    }
   ],
   "source": [
    "print('До оплаты доходит', \\\n",
    "      round(events_per_user['users'].iloc[3]/events_per_user['users'].iloc[0], 2)*100, '% пользователей')"
   ]
  },
  {
   "cell_type": "markdown",
   "metadata": {},
   "source": [
    "### Вывод:\n",
    "\n",
    "1. Предположительно, события происходят в том порядке, в котором они определены подсчетом, самое большое количество событий в начале воронки и наименьшее количесвто событий в конце воронки:\n",
    "\n",
    "* Главная страница - 117 328 событий;\n",
    "* Переход на страницу с товарами - 46 333 событий;\n",
    "* Переход в корзину - 42 303 событий;\n",
    "* Страница с оплатой - 33 918 событий;\n",
    "\n",
    "Отдельно выделим пункт обучение (tutorial) - 1005 событий, обычно он предлагается пользователям один раз после регистрации, чтобы помочь адаптироваться в незнакомом интерфейсе. Как правило, пользователь может пропустить этот этап, поэтому не будем учитывать это событие при расчете воронки.\n",
    "\n",
    "2. Конверсия пользователей на следующий шаг воронки:\n",
    "\n",
    "* Главная страница - 100%;\n",
    "* Переход на страницу с товарами - 61,91%;\n",
    "* Переход в корзину - 81,3%;\n",
    "* Страница с оплатой - 94,78%;\n",
    "\n",
    "3. Больше всего пользователей теряем на первом шаге. Во второй шаг переходит только 61.91% пользователей, то есть 38.09% пользователей не переходят дальше главного экрана в приложении.\n",
    "\n",
    "\n",
    "4. Конверсия пользователей от первого события к оплате составляет 48%.\n",
    "\n",
    "**Рекомендации:**\n",
    "Поработать над конверсией на первом этапе воронки. С главного экрана на карточку товара переходит только 61,92% пользователей, здесь есть точки роста. Стоит рассмотреть, какие изменения можно провести на главном экране приложения, чтобы ещё больше пользователей переходили на следующий этап воронки. Возможно, у пользователей возникают сложности с интерфейсом, рекомендуем провести UX-исследование, сделав акцент на первом этапе воронки."
   ]
  },
  {
   "cell_type": "markdown",
   "metadata": {},
   "source": [
    "## Изучаем результаты эксперимента"
   ]
  },
  {
   "cell_type": "markdown",
   "metadata": {},
   "source": [
    "### Сколько пользователей в каждой экспериментальной группе?"
   ]
  },
  {
   "cell_type": "code",
   "execution_count": 37,
   "metadata": {},
   "outputs": [
    {
     "data": {
      "text/html": [
       "<div>\n",
       "<style scoped>\n",
       "    .dataframe tbody tr th:only-of-type {\n",
       "        vertical-align: middle;\n",
       "    }\n",
       "\n",
       "    .dataframe tbody tr th {\n",
       "        vertical-align: top;\n",
       "    }\n",
       "\n",
       "    .dataframe thead th {\n",
       "        text-align: right;\n",
       "    }\n",
       "</style>\n",
       "<table border=\"1\" class=\"dataframe\">\n",
       "  <thead>\n",
       "    <tr style=\"text-align: right;\">\n",
       "      <th></th>\n",
       "      <th>group</th>\n",
       "      <th>user_id</th>\n",
       "    </tr>\n",
       "  </thead>\n",
       "  <tbody>\n",
       "    <tr>\n",
       "      <th>0</th>\n",
       "      <td>246</td>\n",
       "      <td>2484</td>\n",
       "    </tr>\n",
       "    <tr>\n",
       "      <th>1</th>\n",
       "      <td>247</td>\n",
       "      <td>2513</td>\n",
       "    </tr>\n",
       "    <tr>\n",
       "      <th>2</th>\n",
       "      <td>248</td>\n",
       "      <td>2537</td>\n",
       "    </tr>\n",
       "  </tbody>\n",
       "</table>\n",
       "</div>"
      ],
      "text/plain": [
       "   group  user_id\n",
       "0    246     2484\n",
       "1    247     2513\n",
       "2    248     2537"
      ]
     },
     "metadata": {},
     "output_type": "display_data"
    }
   ],
   "source": [
    "display(data.groupby('group').agg({'user_id': 'nunique'}).reset_index())\n",
    "\n",
    "# считаем, сколько пользователй в каждом экспериментальнои группе"
   ]
  },
  {
   "cell_type": "markdown",
   "metadata": {},
   "source": [
    "### Подготовка данных к тестам"
   ]
  },
  {
   "cell_type": "code",
   "execution_count": 38,
   "metadata": {},
   "outputs": [
    {
     "data": {
      "text/html": [
       "<div>\n",
       "<style scoped>\n",
       "    .dataframe tbody tr th:only-of-type {\n",
       "        vertical-align: middle;\n",
       "    }\n",
       "\n",
       "    .dataframe tbody tr th {\n",
       "        vertical-align: top;\n",
       "    }\n",
       "\n",
       "    .dataframe thead th {\n",
       "        text-align: right;\n",
       "    }\n",
       "</style>\n",
       "<table border=\"1\" class=\"dataframe\">\n",
       "  <thead>\n",
       "    <tr style=\"text-align: right;\">\n",
       "      <th>event</th>\n",
       "      <th>group</th>\n",
       "      <th>CartScreenAppear</th>\n",
       "      <th>MainScreenAppear</th>\n",
       "      <th>OffersScreenAppear</th>\n",
       "      <th>PaymentScreenSuccessful</th>\n",
       "    </tr>\n",
       "  </thead>\n",
       "  <tbody>\n",
       "    <tr>\n",
       "      <th>0</th>\n",
       "      <td>246</td>\n",
       "      <td>1266</td>\n",
       "      <td>2450</td>\n",
       "      <td>1542</td>\n",
       "      <td>1200</td>\n",
       "    </tr>\n",
       "    <tr>\n",
       "      <th>1</th>\n",
       "      <td>247</td>\n",
       "      <td>1238</td>\n",
       "      <td>2476</td>\n",
       "      <td>1520</td>\n",
       "      <td>1158</td>\n",
       "    </tr>\n",
       "    <tr>\n",
       "      <th>2</th>\n",
       "      <td>248</td>\n",
       "      <td>1230</td>\n",
       "      <td>2493</td>\n",
       "      <td>1531</td>\n",
       "      <td>1181</td>\n",
       "    </tr>\n",
       "  </tbody>\n",
       "</table>\n",
       "</div>"
      ],
      "text/plain": [
       "event  group  CartScreenAppear  MainScreenAppear  OffersScreenAppear  \\\n",
       "0        246              1266              2450                1542   \n",
       "1        247              1238              2476                1520   \n",
       "2        248              1230              2493                1531   \n",
       "\n",
       "event  PaymentScreenSuccessful  \n",
       "0                         1200  \n",
       "1                         1158  \n",
       "2                         1181  "
      ]
     },
     "metadata": {},
     "output_type": "display_data"
    }
   ],
   "source": [
    "data_events = data.pivot_table(index = 'group', \n",
    "                            columns = 'event',\n",
    "                            values = 'user_id',\n",
    "                            aggfunc = 'nunique').reset_index()\n",
    "del data_events['Tutorial']\n",
    "display(data_events)\n",
    "\n",
    "# создаем сводную таблицу по событиям в каждой группе\n",
    "# удаляем колонку с Tutorial, так как мы исключили это событие из воронки"
   ]
  },
  {
   "cell_type": "code",
   "execution_count": 39,
   "metadata": {},
   "outputs": [
    {
     "data": {
      "text/html": [
       "<div>\n",
       "<style scoped>\n",
       "    .dataframe tbody tr th:only-of-type {\n",
       "        vertical-align: middle;\n",
       "    }\n",
       "\n",
       "    .dataframe tbody tr th {\n",
       "        vertical-align: top;\n",
       "    }\n",
       "\n",
       "    .dataframe thead th {\n",
       "        text-align: right;\n",
       "    }\n",
       "</style>\n",
       "<table border=\"1\" class=\"dataframe\">\n",
       "  <thead>\n",
       "    <tr style=\"text-align: right;\">\n",
       "      <th>event</th>\n",
       "      <th>CartScreenAppear</th>\n",
       "      <th>MainScreenAppear</th>\n",
       "      <th>OffersScreenAppear</th>\n",
       "      <th>PaymentScreenSuccessful</th>\n",
       "      <th>users_amt</th>\n",
       "    </tr>\n",
       "    <tr>\n",
       "      <th>group</th>\n",
       "      <th></th>\n",
       "      <th></th>\n",
       "      <th></th>\n",
       "      <th></th>\n",
       "      <th></th>\n",
       "    </tr>\n",
       "  </thead>\n",
       "  <tbody>\n",
       "    <tr>\n",
       "      <th>246</th>\n",
       "      <td>1266</td>\n",
       "      <td>2450</td>\n",
       "      <td>1542</td>\n",
       "      <td>1200</td>\n",
       "      <td>2484</td>\n",
       "    </tr>\n",
       "    <tr>\n",
       "      <th>247</th>\n",
       "      <td>1238</td>\n",
       "      <td>2476</td>\n",
       "      <td>1520</td>\n",
       "      <td>1158</td>\n",
       "      <td>2513</td>\n",
       "    </tr>\n",
       "    <tr>\n",
       "      <th>248</th>\n",
       "      <td>1230</td>\n",
       "      <td>2493</td>\n",
       "      <td>1531</td>\n",
       "      <td>1181</td>\n",
       "      <td>2537</td>\n",
       "    </tr>\n",
       "  </tbody>\n",
       "</table>\n",
       "</div>"
      ],
      "text/plain": [
       "event  CartScreenAppear  MainScreenAppear  OffersScreenAppear  \\\n",
       "group                                                           \n",
       "246                1266              2450                1542   \n",
       "247                1238              2476                1520   \n",
       "248                1230              2493                1531   \n",
       "\n",
       "event  PaymentScreenSuccessful  users_amt  \n",
       "group                                      \n",
       "246                       1200       2484  \n",
       "247                       1158       2513  \n",
       "248                       1181       2537  "
      ]
     },
     "metadata": {},
     "output_type": "display_data"
    }
   ],
   "source": [
    "users_amt = data.groupby('group')['user_id'].nunique()\n",
    "data_events['users_amt'] = data_events['group'].apply(lambda x: users_amt.loc[x])\n",
    "data_events = data_events.set_index('group')\n",
    "display(data_events)\n",
    "\n",
    "# добавляем новую колонку, где считаем общее количество уникальных пользователй в группе"
   ]
  },
  {
   "cell_type": "code",
   "execution_count": 40,
   "metadata": {},
   "outputs": [],
   "source": [
    "# Напишем функцию для проверки гипотез\n",
    "def z_test (success, trials, alpha):\n",
    "    # пропорция успехов в первой группе:\n",
    "    p1 = success[0] / trials[0]\n",
    "    # пропорция успехов во второй группе:\n",
    "    p2 = success[1] / trials[1]\n",
    "    # пропорция успехов в комбинированном датасете:\n",
    "    p_combined = (success[0] + success[1]) / (trials[0] + trials[1])\n",
    "    # разница пропорций в датасетах\n",
    "    difference = p1 - p2\n",
    " \n",
    "    z_value = difference / mth.sqrt(p_combined *(1-p_combined) * (1/trials[0] + 1/trials[1]))\n",
    "    \n",
    "    distr = st.norm(0, 1) \n",
    "    \n",
    "    p_value = (1 - distr.cdf(abs(z_value))) * 2\n",
    "    \n",
    "    print('p-значение: ', p_value)\n",
    "    \n",
    "    if (p_value < alpha):\n",
    "        print(\"Отвергаем нулевую гипотезу: между долями есть значимая разница\")\n",
    "        print('')\n",
    "    else:\n",
    "        print(\"Не получилось отвергнуть нулевую гипотезу, нет оснований считать доли разными\")\n",
    "        print('')"
   ]
  },
  {
   "cell_type": "code",
   "execution_count": 41,
   "metadata": {},
   "outputs": [],
   "source": [
    "def automation (group1, group2, alpha):\n",
    "    alpha_test = alpha\n",
    "    count_users = ([data_events['users_amt'][group1], data_events['users_amt'][group2]])\n",
    "    count_MainScreenAppear = ([data_events['MainScreenAppear'][group1], data_events['MainScreenAppear'][group2]])\n",
    "    count_OffersScreenAppear = ([data_events['OffersScreenAppear'][group1], data_events['OffersScreenAppear'][group2]])\n",
    "    count_CartScreenAppear = ([data_events['CartScreenAppear'][group1], data_events['CartScreenAppear'][group2]])\n",
    "    count_PaymentScreenSuccessful = ([data_events['PaymentScreenSuccessful'][group1], data_events['PaymentScreenSuccessful'][group2]])\n",
    "    \n",
    "    print('Результаты теста по долям count_users и count_MainScreenAppear для групп')\n",
    "    z_test(count_MainScreenAppear, count_users, alpha_test)\n",
    "    \n",
    "    print('Результаты теста по долям count_OffersScreenAppear и count_users для групп')\n",
    "    z_test(count_OffersScreenAppear, count_users, alpha_test)\n",
    "    \n",
    "    print('Результаты теста по долям count_users и count_CartScreenAppear для групп')\n",
    "    z_test(count_CartScreenAppear, count_users, alpha_test)\n",
    "    \n",
    "    print('Результаты теста по долям count_PaymentScreenSuccessful и count_users для групп')\n",
    "    z_test(count_PaymentScreenSuccessful, count_users, alpha_test)"
   ]
  },
  {
   "cell_type": "markdown",
   "metadata": {},
   "source": [
    "### AA-тест. Проверка контрольных групп 246 и 247\n",
    "* Нулевая гиптеза: Доли в двух выборках равны\n",
    "* Альтернративная гипотеза: Доли в двух выборках не равны"
   ]
  },
  {
   "cell_type": "markdown",
   "metadata": {},
   "source": [
    "**Перед тестом:**\n",
    "* на результаты не влияют аномалии и выбросы в генеральной совокупности;\n",
    "* инструмент «деления» трафика работает безошибочно;\n",
    "* данные отправляются в системы аналитики корректно.\n",
    "\n",
    "1. Так как у нас 16 гипотез и 3 группы для теста, **обозначим уровень статистической значимости 0,05**. Мы сразу понизили уровень статистической значимости для большей строгости проверки при проведение тестов.\n",
    "\n",
    "\n",
    "2. **Критерии успешного A/A-теста:** \n",
    "* Количество пользователей в различных группах различается не более, чем на 1%;\n",
    "* Для всех групп фиксируют и отправляют в системы аналитики данные об одном и том же;\n",
    "* Различие ключевых метрик по группам не превышает 1% и не имеет статистической значимости;\n",
    "* Попавший в одну из групп посетитель остаётся в этой группе до конца теста.\n",
    "\n",
    "3. Мы проводим проверку гипотез о равенстве долей, используя z-критерий."
   ]
  },
  {
   "cell_type": "code",
   "execution_count": 42,
   "metadata": {},
   "outputs": [
    {
     "name": "stdout",
     "output_type": "stream",
     "text": [
      "Результаты теста по долям count_users и count_MainScreenAppear для групп\n",
      "p-значение:  0.7570597232046099\n",
      "Не получилось отвергнуть нулевую гипотезу, нет оснований считать доли разными\n",
      "\n",
      "Результаты теста по долям count_OffersScreenAppear и count_users для групп\n",
      "p-значение:  0.2480954578522181\n",
      "Не получилось отвергнуть нулевую гипотезу, нет оснований считать доли разными\n",
      "\n",
      "Результаты теста по долям count_users и count_CartScreenAppear для групп\n",
      "p-значение:  0.22883372237997213\n",
      "Не получилось отвергнуть нулевую гипотезу, нет оснований считать доли разными\n",
      "\n",
      "Результаты теста по долям count_PaymentScreenSuccessful и count_users для групп\n",
      "p-значение:  0.11456679313141849\n",
      "Не получилось отвергнуть нулевую гипотезу, нет оснований считать доли разными\n",
      "\n"
     ]
    }
   ],
   "source": [
    "automation (246, 247, 0.05)\n",
    "\n",
    "# делаем проверку контрольных групп А/A (246 и 247)"
   ]
  },
  {
   "cell_type": "markdown",
   "metadata": {},
   "source": [
    "**Вывод:** \n",
    "\n",
    "На основе проверки гипотез о равенстве долей, нет оснований считать контрольные выборки групп 246 и 247 разными, это означает, что контрольные группы выбраны верно.\n",
    "Самым популярным событием стал показ главного экрана приложения, этот этап является первым в нашей воронке продаж."
   ]
  },
  {
   "cell_type": "markdown",
   "metadata": {},
   "source": [
    "### AB-тест. Проверка контрольных групп 246 и 248\n",
    "* Нулевая гиптеза: Доли в двух выборках равны\n",
    "* Альтернративная гипотеза: Доли в двух выборках не равны"
   ]
  },
  {
   "cell_type": "code",
   "execution_count": 43,
   "metadata": {},
   "outputs": [
    {
     "name": "stdout",
     "output_type": "stream",
     "text": [
      "Результаты теста по долям count_users и count_MainScreenAppear для групп\n",
      "p-значение:  0.2949721933554552\n",
      "Не получилось отвергнуть нулевую гипотезу, нет оснований считать доли разными\n",
      "\n",
      "Результаты теста по долям count_OffersScreenAppear и count_users для групп\n",
      "p-значение:  0.20836205402738917\n",
      "Не получилось отвергнуть нулевую гипотезу, нет оснований считать доли разными\n",
      "\n",
      "Результаты теста по долям count_users и count_CartScreenAppear для групп\n",
      "p-значение:  0.07842923237520116\n",
      "Не получилось отвергнуть нулевую гипотезу, нет оснований считать доли разными\n",
      "\n",
      "Результаты теста по долям count_PaymentScreenSuccessful и count_users для групп\n",
      "p-значение:  0.2122553275697796\n",
      "Не получилось отвергнуть нулевую гипотезу, нет оснований считать доли разными\n",
      "\n"
     ]
    }
   ],
   "source": [
    "automation (246, 248, 0.05)\n",
    "\n",
    "# Сделаем проверку групп А1/B (246 и 248)"
   ]
  },
  {
   "cell_type": "markdown",
   "metadata": {},
   "source": [
    "**Вывод:** \n",
    "\n",
    "После проверки гипотез о равенстве долей, нет оснований считать контрольные выборки групп 246 и 248 разными."
   ]
  },
  {
   "cell_type": "markdown",
   "metadata": {},
   "source": [
    "### AB-тест. Проверка контрольных групп 247 и 248\n",
    "* Нулевая гиптеза: Доли в двух выборках равны\n",
    "* Альтернративная гипотеза: Доли в двух выборках не равны"
   ]
  },
  {
   "cell_type": "code",
   "execution_count": 44,
   "metadata": {},
   "outputs": [
    {
     "name": "stdout",
     "output_type": "stream",
     "text": [
      "Результаты теста по долям count_users и count_MainScreenAppear для групп\n",
      "p-значение:  0.4587053616621515\n",
      "Не получилось отвергнуть нулевую гипотезу, нет оснований считать доли разными\n",
      "\n",
      "Результаты теста по долям count_OffersScreenAppear и count_users для групп\n",
      "p-значение:  0.9197817830592261\n",
      "Не получилось отвергнуть нулевую гипотезу, нет оснований считать доли разными\n",
      "\n",
      "Результаты теста по долям count_users и count_CartScreenAppear для групп\n",
      "p-значение:  0.5786197879539783\n",
      "Не получилось отвергнуть нулевую гипотезу, нет оснований считать доли разными\n",
      "\n",
      "Результаты теста по долям count_PaymentScreenSuccessful и count_users для групп\n",
      "p-значение:  0.7373415053803964\n",
      "Не получилось отвергнуть нулевую гипотезу, нет оснований считать доли разными\n",
      "\n"
     ]
    }
   ],
   "source": [
    "automation (247, 248, 0.05)\n",
    "\n",
    "# Сделаем проверку групп А2/B (247 и 248)"
   ]
  },
  {
   "cell_type": "markdown",
   "metadata": {},
   "source": [
    "**Вывод:** \n",
    "\n",
    "После проверки гипотез о равенстве долей на группах 247 и 248 у нас нет оснований считать эти группы разными."
   ]
  },
  {
   "cell_type": "markdown",
   "metadata": {},
   "source": [
    "### AAB-тест. Проверка объединенных контрольных групп 249 и группы 248\n",
    "* Нулевая гиптеза: Доли в двух выборках равны\n",
    "* Альтернративная гипотеза: Доли в двух выборках не равны"
   ]
  },
  {
   "cell_type": "code",
   "execution_count": 45,
   "metadata": {},
   "outputs": [
    {
     "data": {
      "text/html": [
       "<div>\n",
       "<style scoped>\n",
       "    .dataframe tbody tr th:only-of-type {\n",
       "        vertical-align: middle;\n",
       "    }\n",
       "\n",
       "    .dataframe tbody tr th {\n",
       "        vertical-align: top;\n",
       "    }\n",
       "\n",
       "    .dataframe thead th {\n",
       "        text-align: right;\n",
       "    }\n",
       "</style>\n",
       "<table border=\"1\" class=\"dataframe\">\n",
       "  <thead>\n",
       "    <tr style=\"text-align: right;\">\n",
       "      <th>event</th>\n",
       "      <th>CartScreenAppear</th>\n",
       "      <th>MainScreenAppear</th>\n",
       "      <th>OffersScreenAppear</th>\n",
       "      <th>PaymentScreenSuccessful</th>\n",
       "      <th>users_amt</th>\n",
       "    </tr>\n",
       "    <tr>\n",
       "      <th>group</th>\n",
       "      <th></th>\n",
       "      <th></th>\n",
       "      <th></th>\n",
       "      <th></th>\n",
       "      <th></th>\n",
       "    </tr>\n",
       "  </thead>\n",
       "  <tbody>\n",
       "    <tr>\n",
       "      <th>246</th>\n",
       "      <td>1266</td>\n",
       "      <td>2450</td>\n",
       "      <td>1542</td>\n",
       "      <td>1200</td>\n",
       "      <td>2484</td>\n",
       "    </tr>\n",
       "    <tr>\n",
       "      <th>247</th>\n",
       "      <td>1238</td>\n",
       "      <td>2476</td>\n",
       "      <td>1520</td>\n",
       "      <td>1158</td>\n",
       "      <td>2513</td>\n",
       "    </tr>\n",
       "    <tr>\n",
       "      <th>248</th>\n",
       "      <td>1230</td>\n",
       "      <td>2493</td>\n",
       "      <td>1531</td>\n",
       "      <td>1181</td>\n",
       "      <td>2537</td>\n",
       "    </tr>\n",
       "    <tr>\n",
       "      <th>249</th>\n",
       "      <td>2504</td>\n",
       "      <td>4926</td>\n",
       "      <td>3062</td>\n",
       "      <td>2358</td>\n",
       "      <td>4997</td>\n",
       "    </tr>\n",
       "  </tbody>\n",
       "</table>\n",
       "</div>"
      ],
      "text/plain": [
       "event  CartScreenAppear  MainScreenAppear  OffersScreenAppear  \\\n",
       "group                                                           \n",
       "246                1266              2450                1542   \n",
       "247                1238              2476                1520   \n",
       "248                1230              2493                1531   \n",
       "249                2504              4926                3062   \n",
       "\n",
       "event  PaymentScreenSuccessful  users_amt  \n",
       "group                                      \n",
       "246                       1200       2484  \n",
       "247                       1158       2513  \n",
       "248                       1181       2537  \n",
       "249                       2358       4997  "
      ]
     },
     "metadata": {},
     "output_type": "display_data"
    }
   ],
   "source": [
    "data_events.loc[249] = [data_events['CartScreenAppear'][246]+data_events['CartScreenAppear'][247] ,\n",
    "                        data_events['MainScreenAppear'][246]+data_events['MainScreenAppear'][247],\n",
    "                        data_events['OffersScreenAppear'][246]+data_events['OffersScreenAppear'][247],\n",
    "                        data_events['PaymentScreenSuccessful'][246]+data_events['PaymentScreenSuccessful'][247],\n",
    "                        data_events['users_amt'][246]+data_events['users_amt'][247]]\n",
    "display(data_events)\n",
    "\n",
    "# добавляем ещё одну группу, где объединяем контрольные группы 246 и 247"
   ]
  },
  {
   "cell_type": "code",
   "execution_count": 46,
   "metadata": {},
   "outputs": [
    {
     "name": "stdout",
     "output_type": "stream",
     "text": [
      "Результаты теста по долям count_users и count_MainScreenAppear для групп\n",
      "p-значение:  0.29424526837179577\n",
      "Не получилось отвергнуть нулевую гипотезу, нет оснований считать доли разными\n",
      "\n",
      "Результаты теста по долям count_OffersScreenAppear и count_users для групп\n",
      "p-значение:  0.43425549655188256\n",
      "Не получилось отвергнуть нулевую гипотезу, нет оснований считать доли разными\n",
      "\n",
      "Результаты теста по долям count_users и count_CartScreenAppear для групп\n",
      "p-значение:  0.18175875284404386\n",
      "Не получилось отвергнуть нулевую гипотезу, нет оснований считать доли разными\n",
      "\n",
      "Результаты теста по долям count_PaymentScreenSuccessful и count_users для групп\n",
      "p-значение:  0.6004294282308704\n",
      "Не получилось отвергнуть нулевую гипотезу, нет оснований считать доли разными\n",
      "\n"
     ]
    }
   ],
   "source": [
    "automation (249, 248, 0.05)\n",
    "\n",
    "# Сделаем проверку групп АA/B (249 и 248)"
   ]
  },
  {
   "cell_type": "markdown",
   "metadata": {},
   "source": [
    "**Вывод:** \n",
    "\n",
    "При проверке гипотезы о равенстве долей между объединенной контрольной группой 249 и группой 248, есть основания считать группы разными на первых трех этапах воронки. На этапе успешной оплаты нет основания считать группы разными. \n",
    "\n",
    "Так как у нас было 16 гипотез, уровень статистической значимости мы сразу понизили до 0.05.\n",
    "\n",
    "Так как на последнем этапе оплаты у нас нет оснований считать группы разными, значит, изменения в шрифтах не отолкнули покупателей. Тест можно считать успешным."
   ]
  },
  {
   "cell_type": "markdown",
   "metadata": {},
   "source": [
    "## Общий вывод:"
   ]
  },
  {
   "cell_type": "markdown",
   "metadata": {},
   "source": [
    "**1. Загрузка и предобработка данных:**\n",
    "* Загрузили данные в переменную, изучили информацию о таблице;\n",
    "* Изменили название столбцов на более удобные в работе;\n",
    "* Изменили тип данных в столце время события на формат времени;\n",
    "* Проверили таблицу на пропуски, пропусков найдено не было;\n",
    "* Проверили таблицу на дубликаты, было обнаружено 413 дубликатов, что составляет ~0,002% от общего количества строк, было принято решение их удалить;\n",
    "* Добавили столбец с датой для удобства;\n",
    "* Пересечения пользователей по группам отсутствуют, ошибок при логировании и распределении пользователй по группам нет.\n",
    "\n",
    "\n",
    "**2. Исследовательский анализ данных:**\n",
    "* Судя по столбчатой диаграмме мы не можем быть уверены, что у нас есть данные за весь период. Технически в логи новых дней по некоторым пользователям могут «доезжать» события из прошлого — это исказило наши данные. На самом деле мы располагаем данным за период с 2019-08-01 по 2019-08-07.\n",
    "* В среднем на пользователя приходится 32 события.\n",
    "* Было событий в логе 243 713, стало 240 881, мы отсеяли ~ 1,16% от общего числа событий, что находится в пределах 5% и допустимо для получения более качественных данных.\n",
    "* Было уникальных пользователей 7 551, стало 7 534, мы потеряли 17 пользователей, что составляет 0,225% от их изначального количества, что так же находится впределах нормы.\n",
    "* После фильтрации данных у нас остались пользователи из всех трёх экспериментальных групп.\n",
    "\n",
    "\n",
    "**3. Воронка событий:**\n",
    "\n",
    "1) Предположительно, события происходят в том порядке, в котором они определены подсчетом, самое большое количество событий в начале воронки и наименьшее количесвто событий в конце воронки:\n",
    "\n",
    "- Главная страница - 117 328 событий;\n",
    "- Переход на страницу с товарами - 46 333 событий;\n",
    "- Переход в корзину - 42 303 событий;\n",
    "- Страница с оплатой - 33 918 событий;\n",
    "\n",
    "2) Отдельно выделим пункт обучение (tutorial) - 1005 событий, обычно он предлагается пользователям один раз после регистрации, чтобы помочь адаптироваться в незнакомом интерфейсе. Как правило, пользователь может пропустить этот этап, поэтому не будем учитывать это событие при расчете воронки.\n",
    "\n",
    "3) Конверсия пользователей на следующий шаг воронки:\n",
    "- Главная страница - 100%;\n",
    "- Переход на страницу с товарами - 61,91%;\n",
    "- Переход в корзину - 81,3%;\n",
    "- Страница с оплатой - 94,78%;\n",
    "\n",
    "4) Больше всего пользователей теряем на первом шаге. Во второй шаг переходит только 61.91% пользователей, то есть 38.09% пользователей не переходят дальше главного экрана в приложении.\n",
    "\n",
    "5) Конверсия пользователей от первого события к оплате составляет 48%.\n",
    "\n",
    "**4. Изучаем результаты эксперимента:**\n",
    "\n",
    "1) Так как у нас было 16 гипотез, требования строже, уровень статистической значимости мы сразу понизили до 0.05.\n",
    "\n",
    "2) Резульаты тестов:\n",
    "\n",
    "* AA-тест: Нет оснований считать контрольные выборки групп 246 и 247 разными, это означает, что контрольные группы выбраны верно. Самым популярным событием стал показ главного экрана приложения, этот этап является первым в нашей воронке продаж;\n",
    "* AB-тест: Нет основания считать группы 246 и 248 разными;\n",
    "* AB-тест: Нет основания считать группы 247 и 248 разными;\n",
    "* AAB-тест: Есть основания считать группы 249(объединенные контрольные группы) и 248 разными на первых трех этапах воронки. На этапе успешной оплаты, который является решающим, нет основания считать группы разными. \n",
    "\n",
    "3) Так как на последнем этапе оплаты у нас нет оснований считать группы разными, значит, изменения в шрифтах не отолкнули покупателей и можно вносить изменения в дизайн приложения. Тест можно считать успешным."
   ]
  }
 ],
 "metadata": {
  "ExecuteTimeLog": [
   {
    "duration": 49,
    "start_time": "2024-03-02T10:57:06.722Z"
   },
   {
    "duration": 886,
    "start_time": "2024-03-02T10:57:13.374Z"
   },
   {
    "duration": 883,
    "start_time": "2024-03-02T10:57:14.262Z"
   },
   {
    "duration": 12,
    "start_time": "2024-03-02T10:57:30.142Z"
   },
   {
    "duration": 453,
    "start_time": "2024-03-02T10:58:08.177Z"
   },
   {
    "duration": 344,
    "start_time": "2024-03-02T10:58:39.991Z"
   },
   {
    "duration": 7,
    "start_time": "2024-03-02T10:58:41.934Z"
   },
   {
    "duration": 6,
    "start_time": "2024-03-02T10:59:22.290Z"
   },
   {
    "duration": 345,
    "start_time": "2024-03-02T10:59:38.991Z"
   },
   {
    "duration": 7,
    "start_time": "2024-03-02T10:59:39.364Z"
   },
   {
    "duration": 371,
    "start_time": "2024-03-02T11:03:28.262Z"
   },
   {
    "duration": 7,
    "start_time": "2024-03-02T11:03:28.654Z"
   },
   {
    "duration": 697,
    "start_time": "2024-03-02T11:03:40.161Z"
   },
   {
    "duration": 370,
    "start_time": "2024-03-02T11:03:40.860Z"
   },
   {
    "duration": 15,
    "start_time": "2024-03-02T11:03:41.232Z"
   },
   {
    "duration": 22,
    "start_time": "2024-03-02T11:06:34.969Z"
   },
   {
    "duration": 338,
    "start_time": "2024-03-02T11:08:00.581Z"
   },
   {
    "duration": 7,
    "start_time": "2024-03-02T11:09:07.222Z"
   },
   {
    "duration": 21,
    "start_time": "2024-03-02T11:09:53.060Z"
   },
   {
    "duration": 76,
    "start_time": "2024-03-02T11:10:32.062Z"
   },
   {
    "duration": 181,
    "start_time": "2024-03-02T11:12:34.792Z"
   },
   {
    "duration": 8,
    "start_time": "2024-03-02T11:12:36.223Z"
   },
   {
    "duration": 8,
    "start_time": "2024-03-02T11:13:02.975Z"
   },
   {
    "duration": 25,
    "start_time": "2024-03-02T11:13:33.911Z"
   },
   {
    "duration": 22,
    "start_time": "2024-03-02T11:14:09.288Z"
   },
   {
    "duration": 8,
    "start_time": "2024-03-02T11:21:29.261Z"
   },
   {
    "duration": 9,
    "start_time": "2024-03-02T11:21:43.871Z"
   },
   {
    "duration": 43,
    "start_time": "2024-03-02T11:24:35.496Z"
   },
   {
    "duration": 23,
    "start_time": "2024-03-02T11:24:45.064Z"
   },
   {
    "duration": 24,
    "start_time": "2024-03-02T11:25:41.443Z"
   },
   {
    "duration": 20,
    "start_time": "2024-03-02T11:32:40.755Z"
   },
   {
    "duration": 63,
    "start_time": "2024-03-02T11:33:23.117Z"
   },
   {
    "duration": 25,
    "start_time": "2024-03-02T11:45:12.093Z"
   },
   {
    "duration": 7,
    "start_time": "2024-03-02T11:46:37.952Z"
   },
   {
    "duration": 70,
    "start_time": "2024-03-02T11:46:49.003Z"
   },
   {
    "duration": 74,
    "start_time": "2024-03-02T11:47:03.502Z"
   },
   {
    "duration": 61,
    "start_time": "2024-03-02T11:47:30.964Z"
   },
   {
    "duration": 760,
    "start_time": "2024-03-02T11:50:19.873Z"
   },
   {
    "duration": 211,
    "start_time": "2024-03-02T11:50:20.634Z"
   },
   {
    "duration": 12,
    "start_time": "2024-03-02T11:50:20.846Z"
   },
   {
    "duration": 42,
    "start_time": "2024-03-02T11:50:20.860Z"
   },
   {
    "duration": 11,
    "start_time": "2024-03-02T11:50:20.904Z"
   },
   {
    "duration": 7,
    "start_time": "2024-03-02T11:50:20.917Z"
   },
   {
    "duration": 68,
    "start_time": "2024-03-02T11:50:20.925Z"
   },
   {
    "duration": 31,
    "start_time": "2024-03-02T11:50:20.996Z"
   },
   {
    "duration": 17,
    "start_time": "2024-03-02T11:50:21.028Z"
   },
   {
    "duration": 94,
    "start_time": "2024-03-02T11:50:21.047Z"
   },
   {
    "duration": 82,
    "start_time": "2024-03-02T11:50:21.143Z"
   },
   {
    "duration": 73,
    "start_time": "2024-03-02T11:50:21.226Z"
   },
   {
    "duration": 16,
    "start_time": "2024-03-02T11:56:24.515Z"
   },
   {
    "duration": 23,
    "start_time": "2024-03-02T11:56:25.133Z"
   },
   {
    "duration": 40,
    "start_time": "2024-03-02T11:56:26.382Z"
   },
   {
    "duration": 67,
    "start_time": "2024-03-02T11:56:27.072Z"
   },
   {
    "duration": 18,
    "start_time": "2024-03-02T11:56:39.991Z"
   },
   {
    "duration": 774,
    "start_time": "2024-03-02T11:57:05.579Z"
   },
   {
    "duration": 230,
    "start_time": "2024-03-02T11:57:06.355Z"
   },
   {
    "duration": 26,
    "start_time": "2024-03-02T11:57:06.590Z"
   },
   {
    "duration": 35,
    "start_time": "2024-03-02T11:57:06.619Z"
   },
   {
    "duration": 7,
    "start_time": "2024-03-02T11:57:06.656Z"
   },
   {
    "duration": 7,
    "start_time": "2024-03-02T11:57:06.665Z"
   },
   {
    "duration": 39,
    "start_time": "2024-03-02T11:57:06.674Z"
   },
   {
    "duration": 23,
    "start_time": "2024-03-02T11:57:06.715Z"
   },
   {
    "duration": 17,
    "start_time": "2024-03-02T11:57:06.740Z"
   },
   {
    "duration": 99,
    "start_time": "2024-03-02T11:57:06.759Z"
   },
   {
    "duration": 88,
    "start_time": "2024-03-02T11:57:06.859Z"
   },
   {
    "duration": 72,
    "start_time": "2024-03-02T11:57:06.948Z"
   },
   {
    "duration": 9,
    "start_time": "2024-03-02T11:57:07.021Z"
   },
   {
    "duration": 106,
    "start_time": "2024-03-02T11:59:43.214Z"
   },
   {
    "duration": 9,
    "start_time": "2024-03-02T12:00:06.070Z"
   },
   {
    "duration": 102,
    "start_time": "2024-03-02T12:01:52.439Z"
   },
   {
    "duration": 91,
    "start_time": "2024-03-02T12:11:21.687Z"
   },
   {
    "duration": 15,
    "start_time": "2024-03-02T12:11:34.069Z"
   },
   {
    "duration": 22,
    "start_time": "2024-03-02T12:11:53.459Z"
   },
   {
    "duration": 29,
    "start_time": "2024-03-02T12:14:51.412Z"
   },
   {
    "duration": 15,
    "start_time": "2024-03-02T12:15:40.756Z"
   },
   {
    "duration": 17,
    "start_time": "2024-03-02T12:16:29.241Z"
   },
   {
    "duration": 15,
    "start_time": "2024-03-02T12:17:48.559Z"
   },
   {
    "duration": 14,
    "start_time": "2024-03-02T12:17:54.140Z"
   },
   {
    "duration": 4,
    "start_time": "2024-03-02T12:19:23.678Z"
   },
   {
    "duration": 15,
    "start_time": "2024-03-02T12:19:31.949Z"
   },
   {
    "duration": 4,
    "start_time": "2024-03-02T12:19:37.230Z"
   },
   {
    "duration": 3,
    "start_time": "2024-03-02T12:21:19.938Z"
   },
   {
    "duration": 9,
    "start_time": "2024-03-02T12:21:58.718Z"
   },
   {
    "duration": 6,
    "start_time": "2024-03-02T12:22:41.238Z"
   },
   {
    "duration": 8,
    "start_time": "2024-03-02T12:23:01.409Z"
   },
   {
    "duration": 5,
    "start_time": "2024-03-02T12:23:48.179Z"
   },
   {
    "duration": 9,
    "start_time": "2024-03-02T12:24:14.660Z"
   },
   {
    "duration": 7,
    "start_time": "2024-03-02T12:24:41.126Z"
   },
   {
    "duration": 8,
    "start_time": "2024-03-02T12:24:47.621Z"
   },
   {
    "duration": 8,
    "start_time": "2024-03-02T12:25:29.379Z"
   },
   {
    "duration": 3,
    "start_time": "2024-03-02T12:25:44.788Z"
   },
   {
    "duration": 3,
    "start_time": "2024-03-02T12:26:07.339Z"
   },
   {
    "duration": 3,
    "start_time": "2024-03-02T12:26:32.398Z"
   },
   {
    "duration": 3,
    "start_time": "2024-03-02T12:28:35.389Z"
   },
   {
    "duration": 18,
    "start_time": "2024-03-02T12:28:53.690Z"
   },
   {
    "duration": 18,
    "start_time": "2024-03-02T12:29:40.809Z"
   },
   {
    "duration": 18,
    "start_time": "2024-03-02T12:30:07.847Z"
   },
   {
    "duration": 30,
    "start_time": "2024-03-02T12:34:10.329Z"
   },
   {
    "duration": 156,
    "start_time": "2024-03-02T12:34:25.019Z"
   },
   {
    "duration": 338,
    "start_time": "2024-03-02T12:39:48.150Z"
   },
   {
    "duration": 449,
    "start_time": "2024-03-02T12:40:35.130Z"
   },
   {
    "duration": 411,
    "start_time": "2024-03-02T12:40:42.939Z"
   },
   {
    "duration": 395,
    "start_time": "2024-03-02T12:41:23.371Z"
   },
   {
    "duration": 52,
    "start_time": "2024-03-02T12:46:04.760Z"
   },
   {
    "duration": 53,
    "start_time": "2024-03-02T12:46:42.151Z"
   },
   {
    "duration": 259,
    "start_time": "2024-03-02T12:48:21.550Z"
   },
   {
    "duration": 571,
    "start_time": "2024-03-02T12:50:48.672Z"
   },
   {
    "duration": 272,
    "start_time": "2024-03-02T12:51:31.290Z"
   },
   {
    "duration": 39,
    "start_time": "2024-03-02T12:51:51.629Z"
   },
   {
    "duration": 9,
    "start_time": "2024-03-02T12:51:59.911Z"
   },
   {
    "duration": 264,
    "start_time": "2024-03-02T12:52:25.850Z"
   },
   {
    "duration": 17,
    "start_time": "2024-03-02T12:52:46.940Z"
   },
   {
    "duration": 11,
    "start_time": "2024-03-02T12:53:56.510Z"
   },
   {
    "duration": 271,
    "start_time": "2024-03-02T12:56:33.631Z"
   },
   {
    "duration": 269,
    "start_time": "2024-03-02T12:56:51.090Z"
   },
   {
    "duration": 284,
    "start_time": "2024-03-02T12:57:53.751Z"
   },
   {
    "duration": 359,
    "start_time": "2024-03-02T12:59:16.131Z"
   },
   {
    "duration": 1167,
    "start_time": "2024-03-02T13:33:33.546Z"
   },
   {
    "duration": 173,
    "start_time": "2024-03-02T13:33:34.715Z"
   },
   {
    "duration": 10,
    "start_time": "2024-03-02T13:33:34.890Z"
   },
   {
    "duration": 23,
    "start_time": "2024-03-02T13:33:34.902Z"
   },
   {
    "duration": 8,
    "start_time": "2024-03-02T13:33:34.926Z"
   },
   {
    "duration": 8,
    "start_time": "2024-03-02T13:33:34.935Z"
   },
   {
    "duration": 18,
    "start_time": "2024-03-02T13:33:34.944Z"
   },
   {
    "duration": 43,
    "start_time": "2024-03-02T13:33:34.963Z"
   },
   {
    "duration": 16,
    "start_time": "2024-03-02T13:33:35.008Z"
   },
   {
    "duration": 78,
    "start_time": "2024-03-02T13:33:35.026Z"
   },
   {
    "duration": 62,
    "start_time": "2024-03-02T13:33:35.106Z"
   },
   {
    "duration": 66,
    "start_time": "2024-03-02T13:33:35.170Z"
   },
   {
    "duration": 93,
    "start_time": "2024-03-02T13:33:35.238Z"
   },
   {
    "duration": 25,
    "start_time": "2024-03-02T13:33:35.333Z"
   },
   {
    "duration": 33,
    "start_time": "2024-03-02T13:33:35.360Z"
   },
   {
    "duration": 8,
    "start_time": "2024-03-02T13:33:35.395Z"
   },
   {
    "duration": 13,
    "start_time": "2024-03-02T13:33:35.404Z"
   },
   {
    "duration": 28,
    "start_time": "2024-03-02T13:33:35.418Z"
   },
   {
    "duration": 33,
    "start_time": "2024-03-02T13:33:35.447Z"
   },
   {
    "duration": 62,
    "start_time": "2024-03-02T13:33:35.482Z"
   },
   {
    "duration": 1204,
    "start_time": "2024-03-02T13:37:55.487Z"
   },
   {
    "duration": 721,
    "start_time": "2024-03-02T13:37:56.693Z"
   },
   {
    "duration": 11,
    "start_time": "2024-03-02T13:37:57.416Z"
   },
   {
    "duration": 26,
    "start_time": "2024-03-02T13:37:57.428Z"
   },
   {
    "duration": 7,
    "start_time": "2024-03-02T13:37:57.455Z"
   },
   {
    "duration": 11,
    "start_time": "2024-03-02T13:37:57.464Z"
   },
   {
    "duration": 29,
    "start_time": "2024-03-02T13:37:57.476Z"
   },
   {
    "duration": 21,
    "start_time": "2024-03-02T13:37:57.506Z"
   },
   {
    "duration": 17,
    "start_time": "2024-03-02T13:37:57.528Z"
   },
   {
    "duration": 69,
    "start_time": "2024-03-02T13:37:57.546Z"
   },
   {
    "duration": 59,
    "start_time": "2024-03-02T13:37:57.616Z"
   },
   {
    "duration": 62,
    "start_time": "2024-03-02T13:37:57.677Z"
   },
   {
    "duration": 78,
    "start_time": "2024-03-02T13:37:57.740Z"
   },
   {
    "duration": 14,
    "start_time": "2024-03-02T13:37:57.820Z"
   },
   {
    "duration": 17,
    "start_time": "2024-03-02T13:37:57.835Z"
   },
   {
    "duration": 11,
    "start_time": "2024-03-02T13:37:57.853Z"
   },
   {
    "duration": 4,
    "start_time": "2024-03-02T13:37:57.865Z"
   },
   {
    "duration": 38,
    "start_time": "2024-03-02T13:37:57.870Z"
   },
   {
    "duration": 29,
    "start_time": "2024-03-02T13:37:57.910Z"
   },
   {
    "duration": 72,
    "start_time": "2024-03-02T13:37:57.941Z"
   },
   {
    "duration": 7,
    "start_time": "2024-03-02T13:37:58.014Z"
   },
   {
    "duration": 294,
    "start_time": "2024-03-02T13:37:58.022Z"
   },
   {
    "duration": 105,
    "start_time": "2024-03-02T13:43:09.679Z"
   },
   {
    "duration": 57,
    "start_time": "2024-03-02T13:43:19.488Z"
   },
   {
    "duration": 407,
    "start_time": "2024-03-02T13:46:07.465Z"
   },
   {
    "duration": 99,
    "start_time": "2024-03-02T13:46:43.319Z"
   },
   {
    "duration": 71,
    "start_time": "2024-03-02T13:46:56.878Z"
   },
   {
    "duration": 61,
    "start_time": "2024-03-02T13:47:38.228Z"
   },
   {
    "duration": 417,
    "start_time": "2024-03-02T13:48:01.008Z"
   },
   {
    "duration": 469,
    "start_time": "2024-03-02T13:50:04.126Z"
   },
   {
    "duration": 43,
    "start_time": "2024-03-02T13:53:05.309Z"
   },
   {
    "duration": 38,
    "start_time": "2024-03-02T13:54:37.145Z"
   },
   {
    "duration": 44,
    "start_time": "2024-03-02T13:57:26.516Z"
   },
   {
    "duration": 15,
    "start_time": "2024-03-02T13:57:39.729Z"
   },
   {
    "duration": 1196,
    "start_time": "2024-03-02T13:57:56.524Z"
   },
   {
    "duration": 189,
    "start_time": "2024-03-02T13:57:57.722Z"
   },
   {
    "duration": 12,
    "start_time": "2024-03-02T13:57:57.912Z"
   },
   {
    "duration": 24,
    "start_time": "2024-03-02T13:57:57.925Z"
   },
   {
    "duration": 7,
    "start_time": "2024-03-02T13:57:57.951Z"
   },
   {
    "duration": 29,
    "start_time": "2024-03-02T13:57:57.960Z"
   },
   {
    "duration": 17,
    "start_time": "2024-03-02T13:57:57.991Z"
   },
   {
    "duration": 22,
    "start_time": "2024-03-02T13:57:58.010Z"
   },
   {
    "duration": 17,
    "start_time": "2024-03-02T13:57:58.034Z"
   },
   {
    "duration": 91,
    "start_time": "2024-03-02T13:57:58.053Z"
   },
   {
    "duration": 76,
    "start_time": "2024-03-02T13:57:58.146Z"
   },
   {
    "duration": 64,
    "start_time": "2024-03-02T13:57:58.224Z"
   },
   {
    "duration": 76,
    "start_time": "2024-03-02T13:57:58.290Z"
   },
   {
    "duration": 25,
    "start_time": "2024-03-02T13:57:58.369Z"
   },
   {
    "duration": 17,
    "start_time": "2024-03-02T13:57:58.395Z"
   },
   {
    "duration": 8,
    "start_time": "2024-03-02T13:57:58.414Z"
   },
   {
    "duration": 4,
    "start_time": "2024-03-02T13:57:58.424Z"
   },
   {
    "duration": 20,
    "start_time": "2024-03-02T13:57:58.429Z"
   },
   {
    "duration": 45,
    "start_time": "2024-03-02T13:57:58.451Z"
   },
   {
    "duration": 77,
    "start_time": "2024-03-02T13:57:58.498Z"
   },
   {
    "duration": 340,
    "start_time": "2024-03-02T13:57:58.576Z"
   },
   {
    "duration": 36,
    "start_time": "2024-03-02T13:57:58.918Z"
   },
   {
    "duration": 33,
    "start_time": "2024-03-02T13:57:58.955Z"
   },
   {
    "duration": 9,
    "start_time": "2024-03-02T13:59:18.705Z"
   },
   {
    "duration": 14,
    "start_time": "2024-03-02T13:59:37.315Z"
   },
   {
    "duration": 8,
    "start_time": "2024-03-02T13:59:39.377Z"
   },
   {
    "duration": 8,
    "start_time": "2024-03-02T14:00:31.686Z"
   },
   {
    "duration": 32,
    "start_time": "2024-03-02T14:28:50.213Z"
   },
   {
    "duration": 98,
    "start_time": "2024-03-02T14:29:24.733Z"
   },
   {
    "duration": 31,
    "start_time": "2024-03-02T14:29:36.213Z"
   },
   {
    "duration": 32,
    "start_time": "2024-03-02T14:30:15.685Z"
   },
   {
    "duration": 35,
    "start_time": "2024-03-02T14:31:04.227Z"
   },
   {
    "duration": 2,
    "start_time": "2024-03-02T14:43:12.247Z"
   },
   {
    "duration": 97,
    "start_time": "2024-03-02T14:44:13.360Z"
   },
   {
    "duration": 50,
    "start_time": "2024-03-02T14:45:06.255Z"
   },
   {
    "duration": 52,
    "start_time": "2024-03-02T14:45:12.325Z"
   },
   {
    "duration": 32,
    "start_time": "2024-03-02T14:46:11.882Z"
   },
   {
    "duration": 50,
    "start_time": "2024-03-02T14:46:31.279Z"
   },
   {
    "duration": 64,
    "start_time": "2024-03-02T14:46:42.305Z"
   },
   {
    "duration": 50,
    "start_time": "2024-03-02T14:47:08.023Z"
   },
   {
    "duration": 67,
    "start_time": "2024-03-02T14:47:19.672Z"
   },
   {
    "duration": 54,
    "start_time": "2024-03-02T14:47:28.223Z"
   },
   {
    "duration": 138,
    "start_time": "2024-03-02T14:48:42.847Z"
   },
   {
    "duration": 26,
    "start_time": "2024-03-02T14:48:57.534Z"
   },
   {
    "duration": 28,
    "start_time": "2024-03-02T14:49:22.597Z"
   },
   {
    "duration": 27,
    "start_time": "2024-03-02T14:50:18.245Z"
   },
   {
    "duration": 76,
    "start_time": "2024-03-02T14:56:23.555Z"
   },
   {
    "duration": 32,
    "start_time": "2024-03-02T14:56:34.463Z"
   },
   {
    "duration": 25,
    "start_time": "2024-03-02T14:57:51.931Z"
   },
   {
    "duration": 29,
    "start_time": "2024-03-02T15:03:01.723Z"
   },
   {
    "duration": 24,
    "start_time": "2024-03-02T15:05:50.201Z"
   },
   {
    "duration": 55,
    "start_time": "2024-03-02T15:07:38.071Z"
   },
   {
    "duration": 53,
    "start_time": "2024-03-02T15:07:53.412Z"
   },
   {
    "duration": 54,
    "start_time": "2024-03-02T15:08:02.880Z"
   },
   {
    "duration": 125,
    "start_time": "2024-03-02T15:11:58.191Z"
   },
   {
    "duration": 7,
    "start_time": "2024-03-02T15:12:15.990Z"
   },
   {
    "duration": 17,
    "start_time": "2024-03-02T15:12:26.553Z"
   },
   {
    "duration": 28,
    "start_time": "2024-03-02T15:16:30.899Z"
   },
   {
    "duration": 58,
    "start_time": "2024-03-02T15:16:51.842Z"
   },
   {
    "duration": 24,
    "start_time": "2024-03-02T15:20:59.392Z"
   },
   {
    "duration": 28,
    "start_time": "2024-03-02T15:21:12.770Z"
   },
   {
    "duration": 25,
    "start_time": "2024-03-02T15:21:20.100Z"
   },
   {
    "duration": 26,
    "start_time": "2024-03-02T15:21:24.960Z"
   },
   {
    "duration": 91,
    "start_time": "2024-03-02T15:22:05.383Z"
   },
   {
    "duration": 37,
    "start_time": "2024-03-02T15:22:16.701Z"
   },
   {
    "duration": 60,
    "start_time": "2024-03-02T15:23:18.459Z"
   },
   {
    "duration": 23,
    "start_time": "2024-03-02T15:24:10.371Z"
   },
   {
    "duration": 28,
    "start_time": "2024-03-02T15:24:18.841Z"
   },
   {
    "duration": 59,
    "start_time": "2024-03-02T15:24:28.321Z"
   },
   {
    "duration": 27,
    "start_time": "2024-03-02T15:24:28.791Z"
   },
   {
    "duration": 34,
    "start_time": "2024-03-02T15:26:45.250Z"
   },
   {
    "duration": 27,
    "start_time": "2024-03-02T15:28:23.321Z"
   },
   {
    "duration": 9,
    "start_time": "2024-03-02T15:29:28.218Z"
   },
   {
    "duration": 8,
    "start_time": "2024-03-02T15:29:45.019Z"
   },
   {
    "duration": 8,
    "start_time": "2024-03-02T15:30:09.771Z"
   },
   {
    "duration": 9,
    "start_time": "2024-03-02T15:30:50.259Z"
   },
   {
    "duration": 10,
    "start_time": "2024-03-02T15:31:03.141Z"
   },
   {
    "duration": 29,
    "start_time": "2024-03-02T15:36:25.599Z"
   },
   {
    "duration": 59,
    "start_time": "2024-03-02T15:36:26.217Z"
   },
   {
    "duration": 61,
    "start_time": "2024-03-02T15:36:31.155Z"
   },
   {
    "duration": 28,
    "start_time": "2024-03-02T15:44:45.501Z"
   },
   {
    "duration": 26,
    "start_time": "2024-03-02T15:44:54.941Z"
   },
   {
    "duration": 10,
    "start_time": "2024-03-02T15:45:39.841Z"
   },
   {
    "duration": 9,
    "start_time": "2024-03-02T15:45:45.403Z"
   },
   {
    "duration": 28,
    "start_time": "2024-03-02T15:46:03.639Z"
   },
   {
    "duration": 30,
    "start_time": "2024-03-02T15:46:17.586Z"
   },
   {
    "duration": 30,
    "start_time": "2024-03-02T15:47:15.432Z"
   },
   {
    "duration": 27,
    "start_time": "2024-03-02T15:47:17.111Z"
   },
   {
    "duration": 42,
    "start_time": "2024-03-02T15:47:26.821Z"
   },
   {
    "duration": 57,
    "start_time": "2024-03-02T15:47:29.504Z"
   },
   {
    "duration": 10,
    "start_time": "2024-03-02T15:47:46.914Z"
   },
   {
    "duration": 10,
    "start_time": "2024-03-02T15:47:58.493Z"
   },
   {
    "duration": 10,
    "start_time": "2024-03-02T15:48:19.472Z"
   },
   {
    "duration": 11,
    "start_time": "2024-03-02T16:05:51.051Z"
   },
   {
    "duration": 11,
    "start_time": "2024-03-02T16:08:59.592Z"
   },
   {
    "duration": 9,
    "start_time": "2024-03-02T16:09:10.954Z"
   },
   {
    "duration": 1217,
    "start_time": "2024-03-02T16:09:31.620Z"
   },
   {
    "duration": 193,
    "start_time": "2024-03-02T16:09:32.839Z"
   },
   {
    "duration": 12,
    "start_time": "2024-03-02T16:09:33.034Z"
   },
   {
    "duration": 41,
    "start_time": "2024-03-02T16:09:33.048Z"
   },
   {
    "duration": 8,
    "start_time": "2024-03-02T16:09:33.092Z"
   },
   {
    "duration": 35,
    "start_time": "2024-03-02T16:09:33.102Z"
   },
   {
    "duration": 23,
    "start_time": "2024-03-02T16:09:33.138Z"
   },
   {
    "duration": 30,
    "start_time": "2024-03-02T16:09:33.163Z"
   },
   {
    "duration": 23,
    "start_time": "2024-03-02T16:09:33.194Z"
   },
   {
    "duration": 97,
    "start_time": "2024-03-02T16:09:33.219Z"
   },
   {
    "duration": 77,
    "start_time": "2024-03-02T16:09:33.318Z"
   },
   {
    "duration": 59,
    "start_time": "2024-03-02T16:09:33.397Z"
   },
   {
    "duration": 90,
    "start_time": "2024-03-02T16:09:33.458Z"
   },
   {
    "duration": 26,
    "start_time": "2024-03-02T16:09:33.552Z"
   },
   {
    "duration": 45,
    "start_time": "2024-03-02T16:09:33.580Z"
   },
   {
    "duration": 51,
    "start_time": "2024-03-02T16:09:33.627Z"
   },
   {
    "duration": 24,
    "start_time": "2024-03-02T16:09:33.680Z"
   },
   {
    "duration": 21,
    "start_time": "2024-03-02T16:09:33.706Z"
   },
   {
    "duration": 24,
    "start_time": "2024-03-02T16:09:33.729Z"
   },
   {
    "duration": 63,
    "start_time": "2024-03-02T16:09:33.756Z"
   },
   {
    "duration": 325,
    "start_time": "2024-03-02T16:09:33.821Z"
   },
   {
    "duration": 44,
    "start_time": "2024-03-02T16:09:34.147Z"
   },
   {
    "duration": 15,
    "start_time": "2024-03-02T16:09:34.193Z"
   },
   {
    "duration": 10,
    "start_time": "2024-03-02T16:09:34.209Z"
   },
   {
    "duration": 35,
    "start_time": "2024-03-02T16:09:34.221Z"
   },
   {
    "duration": 50,
    "start_time": "2024-03-02T16:09:34.257Z"
   },
   {
    "duration": 32,
    "start_time": "2024-03-02T16:09:34.309Z"
   },
   {
    "duration": 82,
    "start_time": "2024-03-02T16:09:34.343Z"
   },
   {
    "duration": 12,
    "start_time": "2024-03-02T16:09:34.427Z"
   },
   {
    "duration": 114,
    "start_time": "2024-03-02T16:11:34.272Z"
   },
   {
    "duration": 4,
    "start_time": "2024-03-02T16:14:31.952Z"
   },
   {
    "duration": 10,
    "start_time": "2024-03-02T16:14:40.544Z"
   },
   {
    "duration": 16,
    "start_time": "2024-03-02T16:19:19.570Z"
   },
   {
    "duration": 10,
    "start_time": "2024-03-02T16:20:39.632Z"
   },
   {
    "duration": 1226,
    "start_time": "2024-03-02T16:20:51.551Z"
   },
   {
    "duration": 187,
    "start_time": "2024-03-02T16:20:52.779Z"
   },
   {
    "duration": 13,
    "start_time": "2024-03-02T16:20:52.967Z"
   },
   {
    "duration": 33,
    "start_time": "2024-03-02T16:20:52.981Z"
   },
   {
    "duration": 7,
    "start_time": "2024-03-02T16:20:53.017Z"
   },
   {
    "duration": 8,
    "start_time": "2024-03-02T16:20:53.026Z"
   },
   {
    "duration": 13,
    "start_time": "2024-03-02T16:20:53.036Z"
   },
   {
    "duration": 47,
    "start_time": "2024-03-02T16:20:53.051Z"
   },
   {
    "duration": 17,
    "start_time": "2024-03-02T16:20:53.100Z"
   },
   {
    "duration": 77,
    "start_time": "2024-03-02T16:20:53.119Z"
   },
   {
    "duration": 70,
    "start_time": "2024-03-02T16:20:53.198Z"
   },
   {
    "duration": 73,
    "start_time": "2024-03-02T16:20:53.269Z"
   },
   {
    "duration": 90,
    "start_time": "2024-03-02T16:20:53.344Z"
   },
   {
    "duration": 13,
    "start_time": "2024-03-02T16:20:53.437Z"
   },
   {
    "duration": 31,
    "start_time": "2024-03-02T16:20:53.452Z"
   },
   {
    "duration": 10,
    "start_time": "2024-03-02T16:20:53.485Z"
   },
   {
    "duration": 3,
    "start_time": "2024-03-02T16:20:53.497Z"
   },
   {
    "duration": 21,
    "start_time": "2024-03-02T16:20:53.502Z"
   },
   {
    "duration": 21,
    "start_time": "2024-03-02T16:20:53.525Z"
   },
   {
    "duration": 79,
    "start_time": "2024-03-02T16:20:53.548Z"
   },
   {
    "duration": 340,
    "start_time": "2024-03-02T16:20:53.629Z"
   },
   {
    "duration": 45,
    "start_time": "2024-03-02T16:20:53.971Z"
   },
   {
    "duration": 16,
    "start_time": "2024-03-02T16:20:54.018Z"
   },
   {
    "duration": 20,
    "start_time": "2024-03-02T16:20:54.035Z"
   },
   {
    "duration": 52,
    "start_time": "2024-03-02T16:20:54.057Z"
   },
   {
    "duration": 28,
    "start_time": "2024-03-02T16:20:54.111Z"
   },
   {
    "duration": 40,
    "start_time": "2024-03-02T16:20:54.141Z"
   },
   {
    "duration": 55,
    "start_time": "2024-03-02T16:20:54.186Z"
   },
   {
    "duration": 10,
    "start_time": "2024-03-02T16:20:54.242Z"
   },
   {
    "duration": 14,
    "start_time": "2024-03-02T16:20:54.253Z"
   },
   {
    "duration": 30,
    "start_time": "2024-03-02T16:20:54.268Z"
   },
   {
    "duration": 102,
    "start_time": "2024-03-02T16:30:59.563Z"
   },
   {
    "duration": 126,
    "start_time": "2024-03-02T16:31:54.167Z"
   },
   {
    "duration": 12,
    "start_time": "2024-03-02T16:32:24.117Z"
   },
   {
    "duration": 13,
    "start_time": "2024-03-02T16:32:38.218Z"
   },
   {
    "duration": 123,
    "start_time": "2024-03-02T16:36:45.381Z"
   },
   {
    "duration": 11,
    "start_time": "2024-03-02T16:36:52.947Z"
   },
   {
    "duration": 20,
    "start_time": "2024-03-02T16:37:51.505Z"
   },
   {
    "duration": 14,
    "start_time": "2024-03-02T16:38:08.373Z"
   },
   {
    "duration": 14,
    "start_time": "2024-03-02T16:38:14.606Z"
   },
   {
    "duration": 49,
    "start_time": "2024-03-03T11:08:16.026Z"
   },
   {
    "duration": 1489,
    "start_time": "2024-03-03T11:08:23.784Z"
   },
   {
    "duration": 748,
    "start_time": "2024-03-03T11:08:25.275Z"
   },
   {
    "duration": 13,
    "start_time": "2024-03-03T11:08:26.025Z"
   },
   {
    "duration": 42,
    "start_time": "2024-03-03T11:08:26.040Z"
   },
   {
    "duration": 30,
    "start_time": "2024-03-03T11:08:26.085Z"
   },
   {
    "duration": 55,
    "start_time": "2024-03-03T11:08:26.119Z"
   },
   {
    "duration": 29,
    "start_time": "2024-03-03T11:08:26.176Z"
   },
   {
    "duration": 28,
    "start_time": "2024-03-03T11:08:26.208Z"
   },
   {
    "duration": 33,
    "start_time": "2024-03-03T11:08:26.237Z"
   },
   {
    "duration": 74,
    "start_time": "2024-03-03T11:08:26.272Z"
   },
   {
    "duration": 67,
    "start_time": "2024-03-03T11:08:26.348Z"
   },
   {
    "duration": 55,
    "start_time": "2024-03-03T11:08:26.418Z"
   },
   {
    "duration": 89,
    "start_time": "2024-03-03T11:08:26.475Z"
   },
   {
    "duration": 41,
    "start_time": "2024-03-03T11:08:26.567Z"
   },
   {
    "duration": 18,
    "start_time": "2024-03-03T11:08:26.610Z"
   },
   {
    "duration": 24,
    "start_time": "2024-03-03T11:08:26.629Z"
   },
   {
    "duration": 17,
    "start_time": "2024-03-03T11:08:26.654Z"
   },
   {
    "duration": 51,
    "start_time": "2024-03-03T11:08:26.673Z"
   },
   {
    "duration": 40,
    "start_time": "2024-03-03T11:08:26.726Z"
   },
   {
    "duration": 77,
    "start_time": "2024-03-03T11:08:26.768Z"
   },
   {
    "duration": 330,
    "start_time": "2024-03-03T11:08:26.847Z"
   },
   {
    "duration": 40,
    "start_time": "2024-03-03T11:08:27.179Z"
   },
   {
    "duration": 16,
    "start_time": "2024-03-03T11:08:27.222Z"
   },
   {
    "duration": 16,
    "start_time": "2024-03-03T11:08:27.240Z"
   },
   {
    "duration": 60,
    "start_time": "2024-03-03T11:08:27.258Z"
   },
   {
    "duration": 35,
    "start_time": "2024-03-03T11:08:27.320Z"
   },
   {
    "duration": 51,
    "start_time": "2024-03-03T11:08:27.357Z"
   },
   {
    "duration": 67,
    "start_time": "2024-03-03T11:08:27.411Z"
   },
   {
    "duration": 21,
    "start_time": "2024-03-03T11:08:27.480Z"
   },
   {
    "duration": 2426,
    "start_time": "2024-03-03T11:08:27.503Z"
   },
   {
    "duration": 0,
    "start_time": "2024-03-03T11:08:29.931Z"
   },
   {
    "duration": 1167,
    "start_time": "2024-03-03T11:10:30.023Z"
   },
   {
    "duration": 177,
    "start_time": "2024-03-03T11:10:31.192Z"
   },
   {
    "duration": 11,
    "start_time": "2024-03-03T11:10:31.371Z"
   },
   {
    "duration": 105,
    "start_time": "2024-03-03T11:10:31.383Z"
   },
   {
    "duration": 19,
    "start_time": "2024-03-03T11:10:31.490Z"
   },
   {
    "duration": 30,
    "start_time": "2024-03-03T11:10:31.510Z"
   },
   {
    "duration": 54,
    "start_time": "2024-03-03T11:10:31.542Z"
   },
   {
    "duration": 41,
    "start_time": "2024-03-03T11:10:31.598Z"
   },
   {
    "duration": 54,
    "start_time": "2024-03-03T11:10:31.641Z"
   },
   {
    "duration": 124,
    "start_time": "2024-03-03T11:10:31.699Z"
   },
   {
    "duration": 59,
    "start_time": "2024-03-03T11:10:31.825Z"
   },
   {
    "duration": 61,
    "start_time": "2024-03-03T11:10:31.886Z"
   },
   {
    "duration": 81,
    "start_time": "2024-03-03T11:10:31.948Z"
   },
   {
    "duration": 141,
    "start_time": "2024-03-03T11:10:32.030Z"
   },
   {
    "duration": 151,
    "start_time": "2024-03-03T11:10:32.173Z"
   },
   {
    "duration": 159,
    "start_time": "2024-03-03T11:10:32.326Z"
   },
   {
    "duration": 58,
    "start_time": "2024-03-03T11:10:32.487Z"
   },
   {
    "duration": 131,
    "start_time": "2024-03-03T11:10:32.546Z"
   },
   {
    "duration": 177,
    "start_time": "2024-03-03T11:10:32.679Z"
   },
   {
    "duration": 178,
    "start_time": "2024-03-03T11:10:32.858Z"
   },
   {
    "duration": 285,
    "start_time": "2024-03-03T11:10:33.038Z"
   },
   {
    "duration": 32,
    "start_time": "2024-03-03T11:10:33.324Z"
   },
   {
    "duration": 19,
    "start_time": "2024-03-03T11:10:33.358Z"
   },
   {
    "duration": 55,
    "start_time": "2024-03-03T11:10:33.379Z"
   },
   {
    "duration": 60,
    "start_time": "2024-03-03T11:10:33.435Z"
   },
   {
    "duration": 26,
    "start_time": "2024-03-03T11:10:33.496Z"
   },
   {
    "duration": 56,
    "start_time": "2024-03-03T11:10:33.524Z"
   },
   {
    "duration": 98,
    "start_time": "2024-03-03T11:10:33.582Z"
   },
   {
    "duration": 9,
    "start_time": "2024-03-03T11:10:33.682Z"
   },
   {
    "duration": 1905,
    "start_time": "2024-03-03T11:10:33.692Z"
   },
   {
    "duration": 0,
    "start_time": "2024-03-03T11:10:35.598Z"
   },
   {
    "duration": 56,
    "start_time": "2024-03-03T11:12:00.560Z"
   },
   {
    "duration": 10,
    "start_time": "2024-03-03T11:12:09.320Z"
   },
   {
    "duration": 9,
    "start_time": "2024-03-03T11:12:19.273Z"
   },
   {
    "duration": 12,
    "start_time": "2024-03-03T11:12:25.838Z"
   },
   {
    "duration": 9,
    "start_time": "2024-03-03T11:18:14.446Z"
   },
   {
    "duration": 4,
    "start_time": "2024-03-03T11:21:15.276Z"
   },
   {
    "duration": 3,
    "start_time": "2024-03-03T11:21:21.827Z"
   },
   {
    "duration": 4,
    "start_time": "2024-03-03T11:21:35.056Z"
   },
   {
    "duration": 5,
    "start_time": "2024-03-03T11:21:42.841Z"
   },
   {
    "duration": 3,
    "start_time": "2024-03-03T11:21:48.755Z"
   },
   {
    "duration": 3,
    "start_time": "2024-03-03T11:22:17.359Z"
   },
   {
    "duration": 34,
    "start_time": "2024-03-03T11:38:29.694Z"
   },
   {
    "duration": 32,
    "start_time": "2024-03-03T11:39:45.067Z"
   },
   {
    "duration": 71,
    "start_time": "2024-03-03T12:17:03.220Z"
   },
   {
    "duration": 9,
    "start_time": "2024-03-03T12:21:48.778Z"
   },
   {
    "duration": 73,
    "start_time": "2024-03-03T12:21:57.450Z"
   },
   {
    "duration": 12,
    "start_time": "2024-03-03T12:21:58.012Z"
   },
   {
    "duration": 36,
    "start_time": "2024-03-03T12:23:27.660Z"
   },
   {
    "duration": 1563,
    "start_time": "2024-03-03T12:23:39.546Z"
   },
   {
    "duration": 1598,
    "start_time": "2024-03-03T12:24:00.559Z"
   },
   {
    "duration": 1210,
    "start_time": "2024-03-03T12:24:12.230Z"
   },
   {
    "duration": 191,
    "start_time": "2024-03-03T12:24:13.442Z"
   },
   {
    "duration": 11,
    "start_time": "2024-03-03T12:24:13.635Z"
   },
   {
    "duration": 39,
    "start_time": "2024-03-03T12:24:13.648Z"
   },
   {
    "duration": 7,
    "start_time": "2024-03-03T12:24:13.689Z"
   },
   {
    "duration": 9,
    "start_time": "2024-03-03T12:24:13.697Z"
   },
   {
    "duration": 18,
    "start_time": "2024-03-03T12:24:13.708Z"
   },
   {
    "duration": 21,
    "start_time": "2024-03-03T12:24:13.728Z"
   },
   {
    "duration": 40,
    "start_time": "2024-03-03T12:24:13.751Z"
   },
   {
    "duration": 80,
    "start_time": "2024-03-03T12:24:13.793Z"
   },
   {
    "duration": 85,
    "start_time": "2024-03-03T12:24:13.874Z"
   },
   {
    "duration": 72,
    "start_time": "2024-03-03T12:24:13.961Z"
   },
   {
    "duration": 87,
    "start_time": "2024-03-03T12:24:14.035Z"
   },
   {
    "duration": 12,
    "start_time": "2024-03-03T12:24:14.125Z"
   },
   {
    "duration": 38,
    "start_time": "2024-03-03T12:24:14.139Z"
   },
   {
    "duration": 17,
    "start_time": "2024-03-03T12:24:14.179Z"
   },
   {
    "duration": 5,
    "start_time": "2024-03-03T12:24:14.199Z"
   },
   {
    "duration": 28,
    "start_time": "2024-03-03T12:24:14.206Z"
   },
   {
    "duration": 34,
    "start_time": "2024-03-03T12:24:14.236Z"
   },
   {
    "duration": 70,
    "start_time": "2024-03-03T12:24:14.272Z"
   },
   {
    "duration": 318,
    "start_time": "2024-03-03T12:24:14.344Z"
   },
   {
    "duration": 39,
    "start_time": "2024-03-03T12:24:14.664Z"
   },
   {
    "duration": 28,
    "start_time": "2024-03-03T12:24:14.704Z"
   },
   {
    "duration": 10,
    "start_time": "2024-03-03T12:24:14.733Z"
   },
   {
    "duration": 35,
    "start_time": "2024-03-03T12:24:14.744Z"
   },
   {
    "duration": 37,
    "start_time": "2024-03-03T12:24:14.781Z"
   },
   {
    "duration": 31,
    "start_time": "2024-03-03T12:24:14.820Z"
   },
   {
    "duration": 76,
    "start_time": "2024-03-03T12:24:14.855Z"
   },
   {
    "duration": 13,
    "start_time": "2024-03-03T12:24:14.933Z"
   },
   {
    "duration": 19,
    "start_time": "2024-03-03T12:24:14.948Z"
   },
   {
    "duration": 34,
    "start_time": "2024-03-03T12:24:14.969Z"
   },
   {
    "duration": 63,
    "start_time": "2024-03-03T12:24:15.005Z"
   },
   {
    "duration": 20,
    "start_time": "2024-03-03T12:24:15.070Z"
   },
   {
    "duration": 147,
    "start_time": "2024-03-03T12:24:15.092Z"
   },
   {
    "duration": 133,
    "start_time": "2024-03-03T12:24:15.240Z"
   },
   {
    "duration": 36,
    "start_time": "2024-03-03T12:24:15.374Z"
   },
   {
    "duration": 1627,
    "start_time": "2024-03-03T12:25:04.060Z"
   },
   {
    "duration": 1563,
    "start_time": "2024-03-03T12:25:27.434Z"
   },
   {
    "duration": 1233,
    "start_time": "2024-03-03T12:26:30.671Z"
   },
   {
    "duration": 180,
    "start_time": "2024-03-03T12:26:31.906Z"
   },
   {
    "duration": 13,
    "start_time": "2024-03-03T12:26:32.088Z"
   },
   {
    "duration": 60,
    "start_time": "2024-03-03T12:26:32.103Z"
   },
   {
    "duration": 19,
    "start_time": "2024-03-03T12:26:32.165Z"
   },
   {
    "duration": 43,
    "start_time": "2024-03-03T12:26:32.185Z"
   },
   {
    "duration": 38,
    "start_time": "2024-03-03T12:26:32.230Z"
   },
   {
    "duration": 22,
    "start_time": "2024-03-03T12:26:32.270Z"
   },
   {
    "duration": 26,
    "start_time": "2024-03-03T12:26:32.294Z"
   },
   {
    "duration": 91,
    "start_time": "2024-03-03T12:26:32.322Z"
   },
   {
    "duration": 63,
    "start_time": "2024-03-03T12:26:32.415Z"
   },
   {
    "duration": 71,
    "start_time": "2024-03-03T12:26:32.480Z"
   },
   {
    "duration": 81,
    "start_time": "2024-03-03T12:26:32.552Z"
   },
   {
    "duration": 55,
    "start_time": "2024-03-03T12:26:32.635Z"
   },
   {
    "duration": 85,
    "start_time": "2024-03-03T12:26:32.692Z"
   },
   {
    "duration": 52,
    "start_time": "2024-03-03T12:26:32.778Z"
   },
   {
    "duration": 101,
    "start_time": "2024-03-03T12:26:32.832Z"
   },
   {
    "duration": 332,
    "start_time": "2024-03-03T12:26:32.935Z"
   },
   {
    "duration": 30,
    "start_time": "2024-03-03T12:26:33.269Z"
   },
   {
    "duration": 89,
    "start_time": "2024-03-03T12:26:33.301Z"
   },
   {
    "duration": 299,
    "start_time": "2024-03-03T12:26:33.392Z"
   },
   {
    "duration": 36,
    "start_time": "2024-03-03T12:26:33.693Z"
   },
   {
    "duration": 50,
    "start_time": "2024-03-03T12:26:33.730Z"
   },
   {
    "duration": 22,
    "start_time": "2024-03-03T12:26:33.781Z"
   },
   {
    "duration": 58,
    "start_time": "2024-03-03T12:26:33.805Z"
   },
   {
    "duration": 27,
    "start_time": "2024-03-03T12:26:33.864Z"
   },
   {
    "duration": 50,
    "start_time": "2024-03-03T12:26:33.893Z"
   },
   {
    "duration": 55,
    "start_time": "2024-03-03T12:26:33.947Z"
   },
   {
    "duration": 9,
    "start_time": "2024-03-03T12:26:34.004Z"
   },
   {
    "duration": 36,
    "start_time": "2024-03-03T12:26:34.014Z"
   },
   {
    "duration": 33,
    "start_time": "2024-03-03T12:26:34.051Z"
   },
   {
    "duration": 16,
    "start_time": "2024-03-03T12:26:34.086Z"
   },
   {
    "duration": 33,
    "start_time": "2024-03-03T12:26:34.103Z"
   },
   {
    "duration": 49,
    "start_time": "2024-03-03T12:26:34.138Z"
   },
   {
    "duration": 72,
    "start_time": "2024-03-03T12:26:34.189Z"
   },
   {
    "duration": 45,
    "start_time": "2024-03-03T12:26:34.263Z"
   },
   {
    "duration": 70,
    "start_time": "2024-03-03T12:50:58.829Z"
   },
   {
    "duration": 34,
    "start_time": "2024-03-03T12:51:01.215Z"
   },
   {
    "duration": 1093,
    "start_time": "2024-03-03T12:54:23.601Z"
   },
   {
    "duration": 172,
    "start_time": "2024-03-03T12:54:24.695Z"
   },
   {
    "duration": 11,
    "start_time": "2024-03-03T12:54:24.869Z"
   },
   {
    "duration": 36,
    "start_time": "2024-03-03T12:54:24.881Z"
   },
   {
    "duration": 12,
    "start_time": "2024-03-03T12:54:24.919Z"
   },
   {
    "duration": 17,
    "start_time": "2024-03-03T12:54:24.933Z"
   },
   {
    "duration": 38,
    "start_time": "2024-03-03T12:54:24.951Z"
   },
   {
    "duration": 34,
    "start_time": "2024-03-03T12:54:24.991Z"
   },
   {
    "duration": 32,
    "start_time": "2024-03-03T12:54:25.027Z"
   },
   {
    "duration": 88,
    "start_time": "2024-03-03T12:54:25.060Z"
   },
   {
    "duration": 60,
    "start_time": "2024-03-03T12:54:25.150Z"
   },
   {
    "duration": 56,
    "start_time": "2024-03-03T12:54:25.211Z"
   },
   {
    "duration": 83,
    "start_time": "2024-03-03T12:54:25.269Z"
   },
   {
    "duration": 28,
    "start_time": "2024-03-03T12:54:25.354Z"
   },
   {
    "duration": 32,
    "start_time": "2024-03-03T12:54:25.384Z"
   },
   {
    "duration": 31,
    "start_time": "2024-03-03T12:54:25.418Z"
   },
   {
    "duration": 23,
    "start_time": "2024-03-03T12:54:25.451Z"
   },
   {
    "duration": 34,
    "start_time": "2024-03-03T12:54:25.476Z"
   },
   {
    "duration": 40,
    "start_time": "2024-03-03T12:54:25.511Z"
   },
   {
    "duration": 66,
    "start_time": "2024-03-03T12:54:25.553Z"
   },
   {
    "duration": 294,
    "start_time": "2024-03-03T12:54:25.620Z"
   },
   {
    "duration": 36,
    "start_time": "2024-03-03T12:54:25.916Z"
   },
   {
    "duration": 20,
    "start_time": "2024-03-03T12:54:25.954Z"
   },
   {
    "duration": 26,
    "start_time": "2024-03-03T12:54:25.976Z"
   },
   {
    "duration": 39,
    "start_time": "2024-03-03T12:54:26.004Z"
   },
   {
    "duration": 28,
    "start_time": "2024-03-03T12:54:26.045Z"
   },
   {
    "duration": 46,
    "start_time": "2024-03-03T12:54:26.074Z"
   },
   {
    "duration": 65,
    "start_time": "2024-03-03T12:54:26.122Z"
   },
   {
    "duration": 10,
    "start_time": "2024-03-03T12:54:26.189Z"
   },
   {
    "duration": 19,
    "start_time": "2024-03-03T12:54:26.201Z"
   },
   {
    "duration": 29,
    "start_time": "2024-03-03T12:54:26.221Z"
   },
   {
    "duration": 27,
    "start_time": "2024-03-03T12:54:26.252Z"
   },
   {
    "duration": 49,
    "start_time": "2024-03-03T12:54:26.281Z"
   },
   {
    "duration": 62,
    "start_time": "2024-03-03T12:54:26.331Z"
   },
   {
    "duration": 68,
    "start_time": "2024-03-03T12:54:26.395Z"
   },
   {
    "duration": 52,
    "start_time": "2024-03-03T12:54:26.465Z"
   },
   {
    "duration": 1486,
    "start_time": "2024-03-03T18:46:45.104Z"
   },
   {
    "duration": 546,
    "start_time": "2024-03-03T18:46:46.592Z"
   },
   {
    "duration": 13,
    "start_time": "2024-03-03T18:46:47.140Z"
   },
   {
    "duration": 26,
    "start_time": "2024-03-03T18:46:47.155Z"
   },
   {
    "duration": 8,
    "start_time": "2024-03-03T18:46:47.183Z"
   },
   {
    "duration": 31,
    "start_time": "2024-03-03T18:46:47.193Z"
   },
   {
    "duration": 21,
    "start_time": "2024-03-03T18:46:47.226Z"
   },
   {
    "duration": 32,
    "start_time": "2024-03-03T18:46:47.249Z"
   },
   {
    "duration": 41,
    "start_time": "2024-03-03T18:46:47.283Z"
   },
   {
    "duration": 72,
    "start_time": "2024-03-03T18:46:47.327Z"
   },
   {
    "duration": 70,
    "start_time": "2024-03-03T18:46:47.422Z"
   },
   {
    "duration": 82,
    "start_time": "2024-03-03T18:46:47.494Z"
   },
   {
    "duration": 86,
    "start_time": "2024-03-03T18:46:47.578Z"
   },
   {
    "duration": 14,
    "start_time": "2024-03-03T18:46:47.665Z"
   },
   {
    "duration": 21,
    "start_time": "2024-03-03T18:46:47.680Z"
   },
   {
    "duration": 25,
    "start_time": "2024-03-03T18:46:47.703Z"
   },
   {
    "duration": 4,
    "start_time": "2024-03-03T18:46:47.730Z"
   },
   {
    "duration": 20,
    "start_time": "2024-03-03T18:46:47.736Z"
   },
   {
    "duration": 20,
    "start_time": "2024-03-03T18:46:47.757Z"
   },
   {
    "duration": 91,
    "start_time": "2024-03-03T18:46:47.779Z"
   },
   {
    "duration": 328,
    "start_time": "2024-03-03T18:46:47.871Z"
   },
   {
    "duration": 38,
    "start_time": "2024-03-03T18:46:48.201Z"
   },
   {
    "duration": 15,
    "start_time": "2024-03-03T18:46:48.241Z"
   },
   {
    "duration": 12,
    "start_time": "2024-03-03T18:46:48.257Z"
   },
   {
    "duration": 78,
    "start_time": "2024-03-03T18:46:48.271Z"
   },
   {
    "duration": 29,
    "start_time": "2024-03-03T18:46:48.350Z"
   },
   {
    "duration": 27,
    "start_time": "2024-03-03T18:46:48.381Z"
   },
   {
    "duration": 66,
    "start_time": "2024-03-03T18:46:48.429Z"
   },
   {
    "duration": 11,
    "start_time": "2024-03-03T18:46:48.497Z"
   },
   {
    "duration": 11,
    "start_time": "2024-03-03T18:46:48.524Z"
   },
   {
    "duration": 18,
    "start_time": "2024-03-03T18:46:48.538Z"
   },
   {
    "duration": 11,
    "start_time": "2024-03-03T18:46:48.558Z"
   },
   {
    "duration": 6,
    "start_time": "2024-03-03T18:46:48.571Z"
   },
   {
    "duration": 76,
    "start_time": "2024-03-03T18:46:48.578Z"
   },
   {
    "duration": 94,
    "start_time": "2024-03-03T18:46:48.656Z"
   },
   {
    "duration": 39,
    "start_time": "2024-03-03T18:46:48.752Z"
   },
   {
    "duration": 1243,
    "start_time": "2024-03-03T18:47:20.453Z"
   },
   {
    "duration": 1260,
    "start_time": "2024-03-03T18:47:28.016Z"
   },
   {
    "duration": 1279,
    "start_time": "2024-03-03T18:47:39.507Z"
   },
   {
    "duration": 198,
    "start_time": "2024-03-03T18:47:40.791Z"
   },
   {
    "duration": 17,
    "start_time": "2024-03-03T18:47:40.991Z"
   },
   {
    "duration": 49,
    "start_time": "2024-03-03T18:47:41.011Z"
   },
   {
    "duration": 8,
    "start_time": "2024-03-03T18:47:41.062Z"
   },
   {
    "duration": 8,
    "start_time": "2024-03-03T18:47:41.071Z"
   },
   {
    "duration": 15,
    "start_time": "2024-03-03T18:47:41.080Z"
   },
   {
    "duration": 24,
    "start_time": "2024-03-03T18:47:41.122Z"
   },
   {
    "duration": 19,
    "start_time": "2024-03-03T18:47:41.147Z"
   },
   {
    "duration": 101,
    "start_time": "2024-03-03T18:47:41.168Z"
   },
   {
    "duration": 86,
    "start_time": "2024-03-03T18:47:41.271Z"
   },
   {
    "duration": 71,
    "start_time": "2024-03-03T18:47:41.359Z"
   },
   {
    "duration": 103,
    "start_time": "2024-03-03T18:47:41.432Z"
   },
   {
    "duration": 11,
    "start_time": "2024-03-03T18:47:41.537Z"
   },
   {
    "duration": 27,
    "start_time": "2024-03-03T18:47:41.550Z"
   },
   {
    "duration": 10,
    "start_time": "2024-03-03T18:47:41.580Z"
   },
   {
    "duration": 33,
    "start_time": "2024-03-03T18:47:41.592Z"
   },
   {
    "duration": 32,
    "start_time": "2024-03-03T18:47:41.627Z"
   },
   {
    "duration": 26,
    "start_time": "2024-03-03T18:47:41.661Z"
   },
   {
    "duration": 80,
    "start_time": "2024-03-03T18:47:41.688Z"
   },
   {
    "duration": 339,
    "start_time": "2024-03-03T18:47:41.772Z"
   },
   {
    "duration": 42,
    "start_time": "2024-03-03T18:47:42.113Z"
   },
   {
    "duration": 15,
    "start_time": "2024-03-03T18:47:42.157Z"
   },
   {
    "duration": 12,
    "start_time": "2024-03-03T18:47:42.174Z"
   },
   {
    "duration": 62,
    "start_time": "2024-03-03T18:47:42.187Z"
   },
   {
    "duration": 29,
    "start_time": "2024-03-03T18:47:42.250Z"
   },
   {
    "duration": 43,
    "start_time": "2024-03-03T18:47:42.280Z"
   },
   {
    "duration": 60,
    "start_time": "2024-03-03T18:47:42.327Z"
   },
   {
    "duration": 11,
    "start_time": "2024-03-03T18:47:42.389Z"
   },
   {
    "duration": 10,
    "start_time": "2024-03-03T18:47:42.423Z"
   },
   {
    "duration": 14,
    "start_time": "2024-03-03T18:47:42.435Z"
   },
   {
    "duration": 13,
    "start_time": "2024-03-03T18:47:42.450Z"
   },
   {
    "duration": 5,
    "start_time": "2024-03-03T18:47:42.465Z"
   },
   {
    "duration": 68,
    "start_time": "2024-03-03T18:47:42.472Z"
   },
   {
    "duration": 90,
    "start_time": "2024-03-03T18:47:42.542Z"
   },
   {
    "duration": 39,
    "start_time": "2024-03-03T18:47:42.634Z"
   },
   {
    "duration": 8,
    "start_time": "2024-03-03T19:11:15.819Z"
   },
   {
    "duration": 8,
    "start_time": "2024-03-03T19:11:18.371Z"
   },
   {
    "duration": 8,
    "start_time": "2024-03-03T19:13:08.589Z"
   },
   {
    "duration": 1288,
    "start_time": "2024-03-03T19:22:29.195Z"
   },
   {
    "duration": 1280,
    "start_time": "2024-03-03T19:25:00.094Z"
   },
   {
    "duration": 202,
    "start_time": "2024-03-03T19:25:01.376Z"
   },
   {
    "duration": 12,
    "start_time": "2024-03-03T19:25:01.580Z"
   },
   {
    "duration": 364,
    "start_time": "2024-03-03T19:25:01.594Z"
   },
   {
    "duration": 94,
    "start_time": "2024-03-03T19:25:01.960Z"
   },
   {
    "duration": 111,
    "start_time": "2024-03-03T19:25:02.056Z"
   },
   {
    "duration": 50,
    "start_time": "2024-03-03T19:25:02.168Z"
   },
   {
    "duration": 68,
    "start_time": "2024-03-03T19:25:02.220Z"
   },
   {
    "duration": 62,
    "start_time": "2024-03-03T19:25:02.289Z"
   },
   {
    "duration": 101,
    "start_time": "2024-03-03T19:25:02.354Z"
   },
   {
    "duration": 75,
    "start_time": "2024-03-03T19:25:02.456Z"
   },
   {
    "duration": 59,
    "start_time": "2024-03-03T19:25:02.533Z"
   },
   {
    "duration": 188,
    "start_time": "2024-03-03T19:25:02.594Z"
   },
   {
    "duration": 44,
    "start_time": "2024-03-03T19:25:02.784Z"
   },
   {
    "duration": 336,
    "start_time": "2024-03-03T19:25:02.830Z"
   },
   {
    "duration": 699,
    "start_time": "2024-03-03T19:25:03.168Z"
   },
   {
    "duration": 702,
    "start_time": "2024-03-03T19:25:03.868Z"
   },
   {
    "duration": 107,
    "start_time": "2024-03-03T19:25:04.572Z"
   },
   {
    "duration": 38,
    "start_time": "2024-03-03T19:25:04.681Z"
   },
   {
    "duration": 82,
    "start_time": "2024-03-03T19:25:04.721Z"
   },
   {
    "duration": 324,
    "start_time": "2024-03-03T19:25:04.805Z"
   },
   {
    "duration": 37,
    "start_time": "2024-03-03T19:25:05.131Z"
   },
   {
    "duration": 14,
    "start_time": "2024-03-03T19:25:05.170Z"
   },
   {
    "duration": 39,
    "start_time": "2024-03-03T19:25:05.186Z"
   },
   {
    "duration": 44,
    "start_time": "2024-03-03T19:25:05.227Z"
   },
   {
    "duration": 29,
    "start_time": "2024-03-03T19:25:05.272Z"
   },
   {
    "duration": 36,
    "start_time": "2024-03-03T19:25:05.302Z"
   },
   {
    "duration": 83,
    "start_time": "2024-03-03T19:25:05.341Z"
   },
   {
    "duration": 10,
    "start_time": "2024-03-03T19:25:05.425Z"
   },
   {
    "duration": 24,
    "start_time": "2024-03-03T19:25:05.437Z"
   },
   {
    "duration": 22,
    "start_time": "2024-03-03T19:25:05.462Z"
   },
   {
    "duration": 21,
    "start_time": "2024-03-03T19:25:05.485Z"
   },
   {
    "duration": 17,
    "start_time": "2024-03-03T19:25:05.508Z"
   },
   {
    "duration": 43,
    "start_time": "2024-03-03T19:25:05.527Z"
   },
   {
    "duration": 86,
    "start_time": "2024-03-03T19:25:05.572Z"
   },
   {
    "duration": 37,
    "start_time": "2024-03-03T19:25:05.659Z"
   },
   {
    "duration": 5,
    "start_time": "2024-03-03T19:25:05.698Z"
   },
   {
    "duration": 80,
    "start_time": "2024-03-03T19:25:05.704Z"
   },
   {
    "duration": 1245,
    "start_time": "2024-03-03T19:25:05.786Z"
   },
   {
    "duration": 1108,
    "start_time": "2024-03-03T19:26:50.959Z"
   },
   {
    "duration": 5,
    "start_time": "2024-03-03T19:30:56.034Z"
   },
   {
    "duration": 6,
    "start_time": "2024-03-03T19:30:56.578Z"
   },
   {
    "duration": 1191,
    "start_time": "2024-03-03T19:31:15.771Z"
   },
   {
    "duration": 12,
    "start_time": "2024-03-03T19:35:40.388Z"
   },
   {
    "duration": 10,
    "start_time": "2024-03-03T19:36:42.710Z"
   },
   {
    "duration": 4,
    "start_time": "2024-03-03T19:48:12.157Z"
   },
   {
    "duration": 16,
    "start_time": "2024-03-03T19:48:54.902Z"
   },
   {
    "duration": 1211,
    "start_time": "2024-03-03T19:50:08.751Z"
   },
   {
    "duration": 17,
    "start_time": "2024-03-03T19:50:38.779Z"
   },
   {
    "duration": 1219,
    "start_time": "2024-03-03T19:52:18.831Z"
   },
   {
    "duration": 190,
    "start_time": "2024-03-03T19:52:20.052Z"
   },
   {
    "duration": 12,
    "start_time": "2024-03-03T19:52:20.244Z"
   },
   {
    "duration": 29,
    "start_time": "2024-03-03T19:52:20.257Z"
   },
   {
    "duration": 7,
    "start_time": "2024-03-03T19:52:20.288Z"
   },
   {
    "duration": 37,
    "start_time": "2024-03-03T19:52:20.296Z"
   },
   {
    "duration": 16,
    "start_time": "2024-03-03T19:52:20.335Z"
   },
   {
    "duration": 21,
    "start_time": "2024-03-03T19:52:20.353Z"
   },
   {
    "duration": 17,
    "start_time": "2024-03-03T19:52:20.376Z"
   },
   {
    "duration": 85,
    "start_time": "2024-03-03T19:52:20.396Z"
   },
   {
    "duration": 73,
    "start_time": "2024-03-03T19:52:20.482Z"
   },
   {
    "duration": 70,
    "start_time": "2024-03-03T19:52:20.557Z"
   },
   {
    "duration": 81,
    "start_time": "2024-03-03T19:52:20.628Z"
   },
   {
    "duration": 18,
    "start_time": "2024-03-03T19:52:20.711Z"
   },
   {
    "duration": 39,
    "start_time": "2024-03-03T19:52:20.730Z"
   },
   {
    "duration": 15,
    "start_time": "2024-03-03T19:52:20.770Z"
   },
   {
    "duration": 4,
    "start_time": "2024-03-03T19:52:20.787Z"
   },
   {
    "duration": 43,
    "start_time": "2024-03-03T19:52:20.793Z"
   },
   {
    "duration": 43,
    "start_time": "2024-03-03T19:52:20.838Z"
   },
   {
    "duration": 114,
    "start_time": "2024-03-03T19:52:20.883Z"
   },
   {
    "duration": 313,
    "start_time": "2024-03-03T19:52:20.999Z"
   },
   {
    "duration": 37,
    "start_time": "2024-03-03T19:52:21.314Z"
   },
   {
    "duration": 16,
    "start_time": "2024-03-03T19:52:21.353Z"
   },
   {
    "duration": 26,
    "start_time": "2024-03-03T19:52:21.371Z"
   },
   {
    "duration": 45,
    "start_time": "2024-03-03T19:52:21.399Z"
   },
   {
    "duration": 31,
    "start_time": "2024-03-03T19:52:21.445Z"
   },
   {
    "duration": 56,
    "start_time": "2024-03-03T19:52:21.478Z"
   },
   {
    "duration": 57,
    "start_time": "2024-03-03T19:52:21.539Z"
   },
   {
    "duration": 11,
    "start_time": "2024-03-03T19:52:21.598Z"
   },
   {
    "duration": 12,
    "start_time": "2024-03-03T19:52:21.624Z"
   },
   {
    "duration": 16,
    "start_time": "2024-03-03T19:52:21.638Z"
   },
   {
    "duration": 14,
    "start_time": "2024-03-03T19:52:21.656Z"
   },
   {
    "duration": 18,
    "start_time": "2024-03-03T19:52:21.672Z"
   },
   {
    "duration": 47,
    "start_time": "2024-03-03T19:52:21.692Z"
   },
   {
    "duration": 91,
    "start_time": "2024-03-03T19:52:21.741Z"
   },
   {
    "duration": 38,
    "start_time": "2024-03-03T19:52:21.834Z"
   },
   {
    "duration": 11,
    "start_time": "2024-03-03T19:52:21.874Z"
   },
   {
    "duration": 26,
    "start_time": "2024-03-03T19:52:21.886Z"
   },
   {
    "duration": 117,
    "start_time": "2024-03-03T19:52:21.914Z"
   },
   {
    "duration": 4,
    "start_time": "2024-03-03T19:54:00.919Z"
   },
   {
    "duration": 33,
    "start_time": "2024-03-03T19:54:01.206Z"
   },
   {
    "duration": 5,
    "start_time": "2024-03-03T19:54:52.039Z"
   },
   {
    "duration": 5,
    "start_time": "2024-03-03T19:55:56.307Z"
   },
   {
    "duration": 1124,
    "start_time": "2024-03-03T19:56:19.481Z"
   },
   {
    "duration": 10,
    "start_time": "2024-03-03T20:01:41.269Z"
   },
   {
    "duration": 9,
    "start_time": "2024-03-03T20:05:51.943Z"
   },
   {
    "duration": 11,
    "start_time": "2024-03-03T20:07:15.020Z"
   },
   {
    "duration": 25,
    "start_time": "2024-03-03T20:09:51.064Z"
   },
   {
    "duration": 1277,
    "start_time": "2024-03-03T20:10:13.102Z"
   },
   {
    "duration": 189,
    "start_time": "2024-03-03T20:10:14.381Z"
   },
   {
    "duration": 11,
    "start_time": "2024-03-03T20:10:14.571Z"
   },
   {
    "duration": 38,
    "start_time": "2024-03-03T20:10:14.584Z"
   },
   {
    "duration": 8,
    "start_time": "2024-03-03T20:10:14.624Z"
   },
   {
    "duration": 10,
    "start_time": "2024-03-03T20:10:14.633Z"
   },
   {
    "duration": 15,
    "start_time": "2024-03-03T20:10:14.645Z"
   },
   {
    "duration": 22,
    "start_time": "2024-03-03T20:10:14.661Z"
   },
   {
    "duration": 39,
    "start_time": "2024-03-03T20:10:14.685Z"
   },
   {
    "duration": 66,
    "start_time": "2024-03-03T20:10:14.727Z"
   },
   {
    "duration": 84,
    "start_time": "2024-03-03T20:10:14.795Z"
   },
   {
    "duration": 73,
    "start_time": "2024-03-03T20:10:14.881Z"
   },
   {
    "duration": 85,
    "start_time": "2024-03-03T20:10:14.955Z"
   },
   {
    "duration": 31,
    "start_time": "2024-03-03T20:10:15.041Z"
   },
   {
    "duration": 45,
    "start_time": "2024-03-03T20:10:15.074Z"
   },
   {
    "duration": 59,
    "start_time": "2024-03-03T20:10:15.121Z"
   },
   {
    "duration": 41,
    "start_time": "2024-03-03T20:10:15.182Z"
   },
   {
    "duration": 70,
    "start_time": "2024-03-03T20:10:15.225Z"
   },
   {
    "duration": 61,
    "start_time": "2024-03-03T20:10:15.297Z"
   },
   {
    "duration": 187,
    "start_time": "2024-03-03T20:10:15.360Z"
   },
   {
    "duration": 397,
    "start_time": "2024-03-03T20:10:15.549Z"
   },
   {
    "duration": 37,
    "start_time": "2024-03-03T20:10:15.947Z"
   },
   {
    "duration": 47,
    "start_time": "2024-03-03T20:10:15.985Z"
   },
   {
    "duration": 55,
    "start_time": "2024-03-03T20:10:16.033Z"
   },
   {
    "duration": 75,
    "start_time": "2024-03-03T20:10:16.089Z"
   },
   {
    "duration": 28,
    "start_time": "2024-03-03T20:10:16.165Z"
   },
   {
    "duration": 78,
    "start_time": "2024-03-03T20:10:16.194Z"
   },
   {
    "duration": 158,
    "start_time": "2024-03-03T20:10:16.276Z"
   },
   {
    "duration": 9,
    "start_time": "2024-03-03T20:10:16.435Z"
   },
   {
    "duration": 57,
    "start_time": "2024-03-03T20:10:16.446Z"
   },
   {
    "duration": 49,
    "start_time": "2024-03-03T20:10:16.505Z"
   },
   {
    "duration": 33,
    "start_time": "2024-03-03T20:10:16.556Z"
   },
   {
    "duration": 26,
    "start_time": "2024-03-03T20:10:16.591Z"
   },
   {
    "duration": 48,
    "start_time": "2024-03-03T20:10:16.618Z"
   },
   {
    "duration": 75,
    "start_time": "2024-03-03T20:10:16.668Z"
   },
   {
    "duration": 36,
    "start_time": "2024-03-03T20:10:16.744Z"
   },
   {
    "duration": 11,
    "start_time": "2024-03-03T20:10:16.781Z"
   },
   {
    "duration": 27,
    "start_time": "2024-03-03T20:10:16.794Z"
   },
   {
    "duration": 14,
    "start_time": "2024-03-03T20:10:16.822Z"
   },
   {
    "duration": 32,
    "start_time": "2024-03-03T20:10:16.838Z"
   },
   {
    "duration": 3,
    "start_time": "2024-03-03T20:10:16.872Z"
   },
   {
    "duration": 22,
    "start_time": "2024-03-03T20:10:16.877Z"
   },
   {
    "duration": 24,
    "start_time": "2024-03-03T20:10:16.900Z"
   },
   {
    "duration": 2,
    "start_time": "2024-03-03T20:13:43.072Z"
   },
   {
    "duration": 5,
    "start_time": "2024-03-03T20:15:46.344Z"
   },
   {
    "duration": 5,
    "start_time": "2024-03-03T20:15:46.995Z"
   },
   {
    "duration": 11,
    "start_time": "2024-03-03T20:15:49.526Z"
   },
   {
    "duration": 82,
    "start_time": "2024-03-03T20:18:22.889Z"
   },
   {
    "duration": 9,
    "start_time": "2024-03-03T20:20:16.259Z"
   },
   {
    "duration": 1264,
    "start_time": "2024-03-03T20:25:05.064Z"
   },
   {
    "duration": 13,
    "start_time": "2024-03-03T20:28:37.782Z"
   },
   {
    "duration": 1279,
    "start_time": "2024-03-03T20:30:42.505Z"
   },
   {
    "duration": 186,
    "start_time": "2024-03-03T20:30:43.786Z"
   },
   {
    "duration": 12,
    "start_time": "2024-03-03T20:30:43.974Z"
   },
   {
    "duration": 35,
    "start_time": "2024-03-03T20:30:43.988Z"
   },
   {
    "duration": 8,
    "start_time": "2024-03-03T20:30:44.025Z"
   },
   {
    "duration": 14,
    "start_time": "2024-03-03T20:30:44.035Z"
   },
   {
    "duration": 15,
    "start_time": "2024-03-03T20:30:44.050Z"
   },
   {
    "duration": 23,
    "start_time": "2024-03-03T20:30:44.067Z"
   },
   {
    "duration": 40,
    "start_time": "2024-03-03T20:30:44.092Z"
   },
   {
    "duration": 63,
    "start_time": "2024-03-03T20:30:44.134Z"
   },
   {
    "duration": 77,
    "start_time": "2024-03-03T20:30:44.198Z"
   },
   {
    "duration": 67,
    "start_time": "2024-03-03T20:30:44.277Z"
   },
   {
    "duration": 81,
    "start_time": "2024-03-03T20:30:44.346Z"
   },
   {
    "duration": 9,
    "start_time": "2024-03-03T20:30:44.430Z"
   },
   {
    "duration": 31,
    "start_time": "2024-03-03T20:30:44.440Z"
   },
   {
    "duration": 23,
    "start_time": "2024-03-03T20:30:44.473Z"
   },
   {
    "duration": 4,
    "start_time": "2024-03-03T20:30:44.498Z"
   },
   {
    "duration": 23,
    "start_time": "2024-03-03T20:30:44.504Z"
   },
   {
    "duration": 34,
    "start_time": "2024-03-03T20:30:44.529Z"
   },
   {
    "duration": 72,
    "start_time": "2024-03-03T20:30:44.564Z"
   },
   {
    "duration": 324,
    "start_time": "2024-03-03T20:30:44.638Z"
   },
   {
    "duration": 37,
    "start_time": "2024-03-03T20:30:44.964Z"
   },
   {
    "duration": 89,
    "start_time": "2024-03-03T20:30:45.003Z"
   },
   {
    "duration": 141,
    "start_time": "2024-03-03T20:30:45.094Z"
   },
   {
    "duration": 36,
    "start_time": "2024-03-03T20:30:45.237Z"
   },
   {
    "duration": 29,
    "start_time": "2024-03-03T20:30:45.275Z"
   },
   {
    "duration": 49,
    "start_time": "2024-03-03T20:30:45.306Z"
   },
   {
    "duration": 68,
    "start_time": "2024-03-03T20:30:45.357Z"
   },
   {
    "duration": 10,
    "start_time": "2024-03-03T20:30:45.427Z"
   },
   {
    "duration": 15,
    "start_time": "2024-03-03T20:30:45.439Z"
   },
   {
    "duration": 26,
    "start_time": "2024-03-03T20:30:45.455Z"
   },
   {
    "duration": 57,
    "start_time": "2024-03-03T20:30:45.482Z"
   },
   {
    "duration": 46,
    "start_time": "2024-03-03T20:30:45.541Z"
   },
   {
    "duration": 55,
    "start_time": "2024-03-03T20:30:45.589Z"
   },
   {
    "duration": 82,
    "start_time": "2024-03-03T20:30:45.646Z"
   },
   {
    "duration": 36,
    "start_time": "2024-03-03T20:30:45.729Z"
   },
   {
    "duration": 13,
    "start_time": "2024-03-03T20:30:45.767Z"
   },
   {
    "duration": 15,
    "start_time": "2024-03-03T20:30:45.781Z"
   },
   {
    "duration": 16,
    "start_time": "2024-03-03T20:30:45.798Z"
   },
   {
    "duration": 28,
    "start_time": "2024-03-03T20:30:45.815Z"
   },
   {
    "duration": 9,
    "start_time": "2024-03-03T20:30:45.846Z"
   },
   {
    "duration": 9,
    "start_time": "2024-03-03T20:30:45.857Z"
   },
   {
    "duration": 1216,
    "start_time": "2024-03-03T20:30:45.868Z"
   },
   {
    "duration": 76,
    "start_time": "2024-03-03T20:32:18.257Z"
   },
   {
    "duration": 1087,
    "start_time": "2024-03-03T20:32:41.517Z"
   },
   {
    "duration": 1101,
    "start_time": "2024-03-03T20:33:36.874Z"
   },
   {
    "duration": 1163,
    "start_time": "2024-03-03T20:33:51.377Z"
   },
   {
    "duration": 1221,
    "start_time": "2024-03-03T20:35:28.938Z"
   },
   {
    "duration": 186,
    "start_time": "2024-03-03T20:35:30.161Z"
   },
   {
    "duration": 12,
    "start_time": "2024-03-03T20:35:30.348Z"
   },
   {
    "duration": 89,
    "start_time": "2024-03-03T20:35:30.362Z"
   },
   {
    "duration": 140,
    "start_time": "2024-03-03T20:35:30.453Z"
   },
   {
    "duration": 146,
    "start_time": "2024-03-03T20:35:30.595Z"
   },
   {
    "duration": 63,
    "start_time": "2024-03-03T20:35:30.743Z"
   },
   {
    "duration": 75,
    "start_time": "2024-03-03T20:35:30.808Z"
   },
   {
    "duration": 51,
    "start_time": "2024-03-03T20:35:30.884Z"
   },
   {
    "duration": 107,
    "start_time": "2024-03-03T20:35:30.936Z"
   },
   {
    "duration": 91,
    "start_time": "2024-03-03T20:35:31.045Z"
   },
   {
    "duration": 64,
    "start_time": "2024-03-03T20:35:31.137Z"
   },
   {
    "duration": 102,
    "start_time": "2024-03-03T20:35:31.203Z"
   },
   {
    "duration": 69,
    "start_time": "2024-03-03T20:35:31.308Z"
   },
   {
    "duration": 56,
    "start_time": "2024-03-03T20:35:31.379Z"
   },
   {
    "duration": 47,
    "start_time": "2024-03-03T20:35:31.436Z"
   },
   {
    "duration": 56,
    "start_time": "2024-03-03T20:35:31.485Z"
   },
   {
    "duration": 101,
    "start_time": "2024-03-03T20:35:31.543Z"
   },
   {
    "duration": 60,
    "start_time": "2024-03-03T20:35:31.646Z"
   },
   {
    "duration": 94,
    "start_time": "2024-03-03T20:35:31.708Z"
   },
   {
    "duration": 313,
    "start_time": "2024-03-03T20:35:31.805Z"
   },
   {
    "duration": 37,
    "start_time": "2024-03-03T20:35:32.120Z"
   },
   {
    "duration": 13,
    "start_time": "2024-03-03T20:35:32.159Z"
   },
   {
    "duration": 21,
    "start_time": "2024-03-03T20:35:32.173Z"
   },
   {
    "duration": 103,
    "start_time": "2024-03-03T20:35:32.195Z"
   },
   {
    "duration": 126,
    "start_time": "2024-03-03T20:35:32.300Z"
   },
   {
    "duration": 48,
    "start_time": "2024-03-03T20:35:32.428Z"
   },
   {
    "duration": 62,
    "start_time": "2024-03-03T20:35:32.478Z"
   },
   {
    "duration": 10,
    "start_time": "2024-03-03T20:35:32.541Z"
   },
   {
    "duration": 52,
    "start_time": "2024-03-03T20:35:32.553Z"
   },
   {
    "duration": 54,
    "start_time": "2024-03-03T20:35:32.607Z"
   },
   {
    "duration": 41,
    "start_time": "2024-03-03T20:35:32.663Z"
   },
   {
    "duration": 43,
    "start_time": "2024-03-03T20:35:32.705Z"
   },
   {
    "duration": 94,
    "start_time": "2024-03-03T20:35:32.750Z"
   },
   {
    "duration": 79,
    "start_time": "2024-03-03T20:35:32.845Z"
   },
   {
    "duration": 36,
    "start_time": "2024-03-03T20:35:32.925Z"
   },
   {
    "duration": 11,
    "start_time": "2024-03-03T20:35:32.963Z"
   },
   {
    "duration": 18,
    "start_time": "2024-03-03T20:35:32.975Z"
   },
   {
    "duration": 19,
    "start_time": "2024-03-03T20:35:32.994Z"
   },
   {
    "duration": 47,
    "start_time": "2024-03-03T20:35:33.015Z"
   },
   {
    "duration": 20,
    "start_time": "2024-03-03T20:35:33.066Z"
   },
   {
    "duration": 23,
    "start_time": "2024-03-03T20:35:33.088Z"
   },
   {
    "duration": 1183,
    "start_time": "2024-03-03T20:35:33.114Z"
   },
   {
    "duration": 5,
    "start_time": "2024-03-03T20:37:54.385Z"
   },
   {
    "duration": 6,
    "start_time": "2024-03-03T20:37:55.013Z"
   },
   {
    "duration": 8,
    "start_time": "2024-03-03T20:37:56.967Z"
   },
   {
    "duration": 9,
    "start_time": "2024-03-03T20:38:01.340Z"
   },
   {
    "duration": 9,
    "start_time": "2024-03-03T20:38:06.162Z"
   },
   {
    "duration": 1137,
    "start_time": "2024-03-03T20:38:43.549Z"
   },
   {
    "duration": 1160,
    "start_time": "2024-03-03T20:39:11.869Z"
   },
   {
    "duration": 1275,
    "start_time": "2024-03-03T20:39:34.293Z"
   },
   {
    "duration": 188,
    "start_time": "2024-03-03T20:39:35.570Z"
   },
   {
    "duration": 11,
    "start_time": "2024-03-03T20:39:35.759Z"
   },
   {
    "duration": 24,
    "start_time": "2024-03-03T20:39:35.771Z"
   },
   {
    "duration": 25,
    "start_time": "2024-03-03T20:39:35.798Z"
   },
   {
    "duration": 7,
    "start_time": "2024-03-03T20:39:35.825Z"
   },
   {
    "duration": 26,
    "start_time": "2024-03-03T20:39:35.834Z"
   },
   {
    "duration": 22,
    "start_time": "2024-03-03T20:39:35.862Z"
   },
   {
    "duration": 17,
    "start_time": "2024-03-03T20:39:35.886Z"
   },
   {
    "duration": 87,
    "start_time": "2024-03-03T20:39:35.904Z"
   },
   {
    "duration": 80,
    "start_time": "2024-03-03T20:39:35.993Z"
   },
   {
    "duration": 69,
    "start_time": "2024-03-03T20:39:36.074Z"
   },
   {
    "duration": 86,
    "start_time": "2024-03-03T20:39:36.144Z"
   },
   {
    "duration": 9,
    "start_time": "2024-03-03T20:39:36.234Z"
   },
   {
    "duration": 28,
    "start_time": "2024-03-03T20:39:36.244Z"
   },
   {
    "duration": 25,
    "start_time": "2024-03-03T20:39:36.274Z"
   },
   {
    "duration": 16,
    "start_time": "2024-03-03T20:39:36.301Z"
   },
   {
    "duration": 58,
    "start_time": "2024-03-03T20:39:36.318Z"
   },
   {
    "duration": 27,
    "start_time": "2024-03-03T20:39:36.378Z"
   },
   {
    "duration": 63,
    "start_time": "2024-03-03T20:39:36.407Z"
   },
   {
    "duration": 317,
    "start_time": "2024-03-03T20:39:36.472Z"
   },
   {
    "duration": 44,
    "start_time": "2024-03-03T20:39:36.791Z"
   },
   {
    "duration": 13,
    "start_time": "2024-03-03T20:39:36.837Z"
   },
   {
    "duration": 10,
    "start_time": "2024-03-03T20:39:36.852Z"
   },
   {
    "duration": 34,
    "start_time": "2024-03-03T20:39:36.864Z"
   },
   {
    "duration": 46,
    "start_time": "2024-03-03T20:39:36.900Z"
   },
   {
    "duration": 30,
    "start_time": "2024-03-03T20:39:36.948Z"
   },
   {
    "duration": 76,
    "start_time": "2024-03-03T20:39:36.979Z"
   },
   {
    "duration": 10,
    "start_time": "2024-03-03T20:39:37.056Z"
   },
   {
    "duration": 13,
    "start_time": "2024-03-03T20:39:37.068Z"
   },
   {
    "duration": 21,
    "start_time": "2024-03-03T20:39:37.082Z"
   },
   {
    "duration": 44,
    "start_time": "2024-03-03T20:39:37.104Z"
   },
   {
    "duration": 9,
    "start_time": "2024-03-03T20:39:37.150Z"
   },
   {
    "duration": 37,
    "start_time": "2024-03-03T20:39:37.161Z"
   },
   {
    "duration": 76,
    "start_time": "2024-03-03T20:39:37.200Z"
   },
   {
    "duration": 36,
    "start_time": "2024-03-03T20:39:37.278Z"
   },
   {
    "duration": 6,
    "start_time": "2024-03-03T20:39:37.323Z"
   },
   {
    "duration": 36,
    "start_time": "2024-03-03T20:39:37.330Z"
   },
   {
    "duration": 16,
    "start_time": "2024-03-03T20:39:37.368Z"
   },
   {
    "duration": 9,
    "start_time": "2024-03-03T20:39:37.386Z"
   },
   {
    "duration": 9,
    "start_time": "2024-03-03T20:39:37.400Z"
   },
   {
    "duration": 1304,
    "start_time": "2024-03-03T20:39:37.411Z"
   },
   {
    "duration": 0,
    "start_time": "2024-03-03T20:39:38.717Z"
   },
   {
    "duration": 835,
    "start_time": "2024-03-03T20:41:19.074Z"
   },
   {
    "duration": 969,
    "start_time": "2024-03-03T20:41:36.280Z"
   },
   {
    "duration": 1098,
    "start_time": "2024-03-03T20:42:02.437Z"
   },
   {
    "duration": 1172,
    "start_time": "2024-03-03T20:42:36.845Z"
   },
   {
    "duration": 12,
    "start_time": "2024-03-03T20:42:48.722Z"
   },
   {
    "duration": 10,
    "start_time": "2024-03-03T20:43:20.757Z"
   },
   {
    "duration": 1148,
    "start_time": "2024-03-03T20:44:58.946Z"
   },
   {
    "duration": 1125,
    "start_time": "2024-03-03T20:45:12.262Z"
   },
   {
    "duration": 11,
    "start_time": "2024-03-03T20:45:42.353Z"
   },
   {
    "duration": 9,
    "start_time": "2024-03-03T20:45:51.693Z"
   },
   {
    "duration": 1081,
    "start_time": "2024-03-03T20:45:55.939Z"
   },
   {
    "duration": 8,
    "start_time": "2024-03-03T20:46:55.997Z"
   },
   {
    "duration": 1125,
    "start_time": "2024-03-03T20:46:58.649Z"
   },
   {
    "duration": 12,
    "start_time": "2024-03-03T20:47:22.082Z"
   },
   {
    "duration": 11,
    "start_time": "2024-03-03T20:47:28.526Z"
   },
   {
    "duration": 10,
    "start_time": "2024-03-03T20:47:34.399Z"
   },
   {
    "duration": 74,
    "start_time": "2024-03-03T21:14:46.624Z"
   },
   {
    "duration": 10,
    "start_time": "2024-03-03T21:15:13.879Z"
   },
   {
    "duration": 74,
    "start_time": "2024-03-03T21:15:45.728Z"
   },
   {
    "duration": 10,
    "start_time": "2024-03-03T21:16:13.178Z"
   },
   {
    "duration": 9,
    "start_time": "2024-03-03T21:16:23.898Z"
   },
   {
    "duration": 9,
    "start_time": "2024-03-03T21:16:31.744Z"
   },
   {
    "duration": 74,
    "start_time": "2024-03-03T21:17:19.241Z"
   },
   {
    "duration": 12,
    "start_time": "2024-03-03T21:17:49.570Z"
   },
   {
    "duration": 90,
    "start_time": "2024-03-03T21:18:16.059Z"
   },
   {
    "duration": 10,
    "start_time": "2024-03-03T21:18:47.938Z"
   },
   {
    "duration": 10,
    "start_time": "2024-03-03T21:20:26.766Z"
   },
   {
    "duration": 9,
    "start_time": "2024-03-03T21:20:36.698Z"
   },
   {
    "duration": 12,
    "start_time": "2024-03-03T21:22:00.275Z"
   },
   {
    "duration": 9,
    "start_time": "2024-03-03T21:23:23.265Z"
   },
   {
    "duration": 1131,
    "start_time": "2024-03-04T06:38:39.265Z"
   },
   {
    "duration": 538,
    "start_time": "2024-03-04T06:38:40.397Z"
   },
   {
    "duration": 11,
    "start_time": "2024-03-04T06:38:40.938Z"
   },
   {
    "duration": 74,
    "start_time": "2024-03-04T06:38:40.951Z"
   },
   {
    "duration": 33,
    "start_time": "2024-03-04T06:38:41.027Z"
   },
   {
    "duration": 100,
    "start_time": "2024-03-04T06:38:41.062Z"
   },
   {
    "duration": 52,
    "start_time": "2024-03-04T06:38:41.164Z"
   },
   {
    "duration": 53,
    "start_time": "2024-03-04T06:38:41.217Z"
   },
   {
    "duration": 64,
    "start_time": "2024-03-04T06:38:41.272Z"
   },
   {
    "duration": 88,
    "start_time": "2024-03-04T06:38:41.339Z"
   },
   {
    "duration": 58,
    "start_time": "2024-03-04T06:38:41.429Z"
   },
   {
    "duration": 52,
    "start_time": "2024-03-04T06:38:41.489Z"
   },
   {
    "duration": 87,
    "start_time": "2024-03-04T06:38:41.543Z"
   },
   {
    "duration": 46,
    "start_time": "2024-03-04T06:38:41.632Z"
   },
   {
    "duration": 34,
    "start_time": "2024-03-04T06:38:41.680Z"
   },
   {
    "duration": 35,
    "start_time": "2024-03-04T06:38:41.715Z"
   },
   {
    "duration": 29,
    "start_time": "2024-03-04T06:38:41.752Z"
   },
   {
    "duration": 59,
    "start_time": "2024-03-04T06:38:41.782Z"
   },
   {
    "duration": 43,
    "start_time": "2024-03-04T06:38:41.842Z"
   },
   {
    "duration": 85,
    "start_time": "2024-03-04T06:38:41.887Z"
   },
   {
    "duration": 291,
    "start_time": "2024-03-04T06:38:41.974Z"
   },
   {
    "duration": 33,
    "start_time": "2024-03-04T06:38:42.267Z"
   },
   {
    "duration": 35,
    "start_time": "2024-03-04T06:38:42.302Z"
   },
   {
    "duration": 43,
    "start_time": "2024-03-04T06:38:42.339Z"
   },
   {
    "duration": 48,
    "start_time": "2024-03-04T06:38:42.384Z"
   },
   {
    "duration": 32,
    "start_time": "2024-03-04T06:38:42.433Z"
   },
   {
    "duration": 56,
    "start_time": "2024-03-04T06:38:42.466Z"
   },
   {
    "duration": 56,
    "start_time": "2024-03-04T06:38:42.525Z"
   },
   {
    "duration": 8,
    "start_time": "2024-03-04T06:38:42.583Z"
   },
   {
    "duration": 32,
    "start_time": "2024-03-04T06:38:42.593Z"
   },
   {
    "duration": 47,
    "start_time": "2024-03-04T06:38:42.627Z"
   },
   {
    "duration": 50,
    "start_time": "2024-03-04T06:38:42.675Z"
   },
   {
    "duration": 29,
    "start_time": "2024-03-04T06:38:42.726Z"
   },
   {
    "duration": 67,
    "start_time": "2024-03-04T06:38:42.757Z"
   },
   {
    "duration": 98,
    "start_time": "2024-03-04T06:38:42.826Z"
   },
   {
    "duration": 31,
    "start_time": "2024-03-04T06:38:42.925Z"
   },
   {
    "duration": 20,
    "start_time": "2024-03-04T06:38:42.958Z"
   },
   {
    "duration": 49,
    "start_time": "2024-03-04T06:38:42.980Z"
   },
   {
    "duration": 54,
    "start_time": "2024-03-04T06:38:43.031Z"
   },
   {
    "duration": 30,
    "start_time": "2024-03-04T06:38:43.086Z"
   },
   {
    "duration": 36,
    "start_time": "2024-03-04T06:38:43.118Z"
   },
   {
    "duration": 33,
    "start_time": "2024-03-04T06:38:43.156Z"
   },
   {
    "duration": 56,
    "start_time": "2024-03-04T06:38:43.190Z"
   },
   {
    "duration": 1200,
    "start_time": "2024-03-04T06:52:48.459Z"
   },
   {
    "duration": 173,
    "start_time": "2024-03-04T06:52:49.661Z"
   },
   {
    "duration": 10,
    "start_time": "2024-03-04T06:52:49.836Z"
   },
   {
    "duration": 83,
    "start_time": "2024-03-04T06:52:49.848Z"
   },
   {
    "duration": 7,
    "start_time": "2024-03-04T06:52:49.932Z"
   },
   {
    "duration": 13,
    "start_time": "2024-03-04T06:52:49.941Z"
   },
   {
    "duration": 25,
    "start_time": "2024-03-04T06:52:49.956Z"
   },
   {
    "duration": 20,
    "start_time": "2024-03-04T06:52:49.983Z"
   },
   {
    "duration": 17,
    "start_time": "2024-03-04T06:52:50.004Z"
   },
   {
    "duration": 114,
    "start_time": "2024-03-04T06:52:50.023Z"
   },
   {
    "duration": 60,
    "start_time": "2024-03-04T06:52:50.138Z"
   },
   {
    "duration": 52,
    "start_time": "2024-03-04T06:52:50.200Z"
   },
   {
    "duration": 75,
    "start_time": "2024-03-04T06:52:50.254Z"
   },
   {
    "duration": 37,
    "start_time": "2024-03-04T06:52:50.331Z"
   },
   {
    "duration": 32,
    "start_time": "2024-03-04T06:52:50.370Z"
   },
   {
    "duration": 32,
    "start_time": "2024-03-04T06:52:50.404Z"
   },
   {
    "duration": 16,
    "start_time": "2024-03-04T06:52:50.437Z"
   },
   {
    "duration": 38,
    "start_time": "2024-03-04T06:52:50.455Z"
   },
   {
    "duration": 84,
    "start_time": "2024-03-04T06:52:50.495Z"
   },
   {
    "duration": 69,
    "start_time": "2024-03-04T06:52:50.580Z"
   },
   {
    "duration": 291,
    "start_time": "2024-03-04T06:52:50.651Z"
   },
   {
    "duration": 36,
    "start_time": "2024-03-04T06:52:50.944Z"
   },
   {
    "duration": 12,
    "start_time": "2024-03-04T06:52:50.982Z"
   },
   {
    "duration": 25,
    "start_time": "2024-03-04T06:52:50.996Z"
   },
   {
    "duration": 34,
    "start_time": "2024-03-04T06:52:51.023Z"
   },
   {
    "duration": 26,
    "start_time": "2024-03-04T06:52:51.066Z"
   },
   {
    "duration": 50,
    "start_time": "2024-03-04T06:52:51.094Z"
   },
   {
    "duration": 51,
    "start_time": "2024-03-04T06:52:51.147Z"
   },
   {
    "duration": 9,
    "start_time": "2024-03-04T06:52:51.199Z"
   },
   {
    "duration": 31,
    "start_time": "2024-03-04T06:52:51.210Z"
   },
   {
    "duration": 15,
    "start_time": "2024-03-04T06:52:51.243Z"
   },
   {
    "duration": 13,
    "start_time": "2024-03-04T06:52:51.260Z"
   },
   {
    "duration": 26,
    "start_time": "2024-03-04T06:52:51.275Z"
   },
   {
    "duration": 37,
    "start_time": "2024-03-04T06:52:51.303Z"
   },
   {
    "duration": 67,
    "start_time": "2024-03-04T06:52:51.341Z"
   },
   {
    "duration": 32,
    "start_time": "2024-03-04T06:52:51.409Z"
   },
   {
    "duration": 4,
    "start_time": "2024-03-04T06:52:51.443Z"
   },
   {
    "duration": 43,
    "start_time": "2024-03-04T06:52:51.448Z"
   },
   {
    "duration": 22,
    "start_time": "2024-03-04T06:52:51.492Z"
   },
   {
    "duration": 22,
    "start_time": "2024-03-04T06:52:51.515Z"
   },
   {
    "duration": 17,
    "start_time": "2024-03-04T06:52:51.538Z"
   },
   {
    "duration": 12,
    "start_time": "2024-03-04T06:52:51.556Z"
   },
   {
    "duration": 29,
    "start_time": "2024-03-04T06:52:51.570Z"
   },
   {
    "duration": 40,
    "start_time": "2024-03-04T10:19:37.341Z"
   },
   {
    "duration": 1288,
    "start_time": "2024-03-04T10:19:51.135Z"
   },
   {
    "duration": 460,
    "start_time": "2024-03-04T10:19:52.425Z"
   },
   {
    "duration": 10,
    "start_time": "2024-03-04T10:19:52.886Z"
   },
   {
    "duration": 21,
    "start_time": "2024-03-04T10:19:52.898Z"
   },
   {
    "duration": 7,
    "start_time": "2024-03-04T10:19:52.921Z"
   },
   {
    "duration": 11,
    "start_time": "2024-03-04T10:19:52.930Z"
   },
   {
    "duration": 24,
    "start_time": "2024-03-04T10:19:52.942Z"
   },
   {
    "duration": 22,
    "start_time": "2024-03-04T10:19:52.968Z"
   },
   {
    "duration": 13,
    "start_time": "2024-03-04T10:19:52.992Z"
   },
   {
    "duration": 63,
    "start_time": "2024-03-04T10:19:53.009Z"
   },
   {
    "duration": 56,
    "start_time": "2024-03-04T10:19:53.073Z"
   },
   {
    "duration": 64,
    "start_time": "2024-03-04T10:19:53.130Z"
   },
   {
    "duration": 52,
    "start_time": "2024-03-04T10:19:53.195Z"
   },
   {
    "duration": 19,
    "start_time": "2024-03-04T10:19:53.248Z"
   },
   {
    "duration": 56,
    "start_time": "2024-03-04T10:19:53.268Z"
   },
   {
    "duration": 9,
    "start_time": "2024-03-04T10:19:53.326Z"
   },
   {
    "duration": 11,
    "start_time": "2024-03-04T10:19:53.336Z"
   },
   {
    "duration": 6,
    "start_time": "2024-03-04T10:19:53.349Z"
   },
   {
    "duration": 20,
    "start_time": "2024-03-04T10:19:53.356Z"
   },
   {
    "duration": 20,
    "start_time": "2024-03-04T10:19:53.378Z"
   },
   {
    "duration": 56,
    "start_time": "2024-03-04T10:19:53.399Z"
   },
   {
    "duration": 249,
    "start_time": "2024-03-04T10:19:53.456Z"
   },
   {
    "duration": 29,
    "start_time": "2024-03-04T10:19:53.707Z"
   },
   {
    "duration": 9,
    "start_time": "2024-03-04T10:19:53.737Z"
   },
   {
    "duration": 20,
    "start_time": "2024-03-04T10:19:53.758Z"
   },
   {
    "duration": 35,
    "start_time": "2024-03-04T10:19:53.779Z"
   },
   {
    "duration": 18,
    "start_time": "2024-03-04T10:19:53.815Z"
   },
   {
    "duration": 25,
    "start_time": "2024-03-04T10:19:53.837Z"
   },
   {
    "duration": 60,
    "start_time": "2024-03-04T10:19:53.863Z"
   },
   {
    "duration": 8,
    "start_time": "2024-03-04T10:19:53.924Z"
   },
   {
    "duration": 14,
    "start_time": "2024-03-04T10:19:53.933Z"
   },
   {
    "duration": 11,
    "start_time": "2024-03-04T10:19:53.948Z"
   },
   {
    "duration": 15,
    "start_time": "2024-03-04T10:19:53.961Z"
   },
   {
    "duration": 16,
    "start_time": "2024-03-04T10:19:53.978Z"
   },
   {
    "duration": 36,
    "start_time": "2024-03-04T10:19:53.995Z"
   },
   {
    "duration": 63,
    "start_time": "2024-03-04T10:19:54.033Z"
   },
   {
    "duration": 28,
    "start_time": "2024-03-04T10:19:54.098Z"
   },
   {
    "duration": 3,
    "start_time": "2024-03-04T10:19:54.128Z"
   },
   {
    "duration": 28,
    "start_time": "2024-03-04T10:19:54.133Z"
   },
   {
    "duration": 24,
    "start_time": "2024-03-04T10:19:54.163Z"
   },
   {
    "duration": 10,
    "start_time": "2024-03-04T10:19:54.188Z"
   },
   {
    "duration": 13,
    "start_time": "2024-03-04T10:19:54.199Z"
   },
   {
    "duration": 16,
    "start_time": "2024-03-04T10:19:54.213Z"
   },
   {
    "duration": 15,
    "start_time": "2024-03-04T10:19:54.230Z"
   },
   {
    "duration": 34,
    "start_time": "2024-03-04T10:20:27.893Z"
   },
   {
    "duration": 35,
    "start_time": "2024-03-04T10:21:37.760Z"
   },
   {
    "duration": 30,
    "start_time": "2024-03-04T10:21:52.255Z"
   },
   {
    "duration": 34,
    "start_time": "2024-03-04T10:22:44.584Z"
   },
   {
    "duration": 38,
    "start_time": "2024-03-04T10:23:30.937Z"
   },
   {
    "duration": 35,
    "start_time": "2024-03-04T10:24:58.000Z"
   },
   {
    "duration": 91,
    "start_time": "2024-03-04T11:01:32.042Z"
   },
   {
    "duration": 1042,
    "start_time": "2024-03-04T11:01:43.380Z"
   },
   {
    "duration": 139,
    "start_time": "2024-03-04T11:01:44.424Z"
   },
   {
    "duration": 9,
    "start_time": "2024-03-04T11:01:44.565Z"
   },
   {
    "duration": 17,
    "start_time": "2024-03-04T11:01:44.575Z"
   },
   {
    "duration": 6,
    "start_time": "2024-03-04T11:01:44.593Z"
   },
   {
    "duration": 6,
    "start_time": "2024-03-04T11:01:44.600Z"
   },
   {
    "duration": 15,
    "start_time": "2024-03-04T11:01:44.607Z"
   },
   {
    "duration": 38,
    "start_time": "2024-03-04T11:01:44.623Z"
   },
   {
    "duration": 11,
    "start_time": "2024-03-04T11:01:44.663Z"
   },
   {
    "duration": 55,
    "start_time": "2024-03-04T11:01:44.675Z"
   },
   {
    "duration": 70,
    "start_time": "2024-03-04T11:01:44.731Z"
   },
   {
    "duration": 55,
    "start_time": "2024-03-04T11:01:44.802Z"
   },
   {
    "duration": 55,
    "start_time": "2024-03-04T11:01:44.858Z"
   },
   {
    "duration": 11,
    "start_time": "2024-03-04T11:01:44.915Z"
   },
   {
    "duration": 45,
    "start_time": "2024-03-04T11:01:44.927Z"
   },
   {
    "duration": 10,
    "start_time": "2024-03-04T11:01:44.973Z"
   },
   {
    "duration": 14,
    "start_time": "2024-03-04T11:01:44.984Z"
   },
   {
    "duration": 38,
    "start_time": "2024-03-04T11:01:44.999Z"
   },
   {
    "duration": 49,
    "start_time": "2024-03-04T11:01:45.039Z"
   },
   {
    "duration": 71,
    "start_time": "2024-03-04T11:01:45.089Z"
   },
   {
    "duration": 127,
    "start_time": "2024-03-04T11:01:45.161Z"
   },
   {
    "duration": 236,
    "start_time": "2024-03-04T11:01:45.289Z"
   },
   {
    "duration": 33,
    "start_time": "2024-03-04T11:01:45.527Z"
   },
   {
    "duration": 119,
    "start_time": "2024-03-04T11:01:45.561Z"
   },
   {
    "duration": 102,
    "start_time": "2024-03-04T11:01:45.681Z"
   },
   {
    "duration": 126,
    "start_time": "2024-03-04T11:01:45.784Z"
   },
   {
    "duration": 0,
    "start_time": "2024-03-04T11:01:45.911Z"
   },
   {
    "duration": 0,
    "start_time": "2024-03-04T11:01:45.912Z"
   },
   {
    "duration": 0,
    "start_time": "2024-03-04T11:01:45.913Z"
   },
   {
    "duration": 0,
    "start_time": "2024-03-04T11:01:45.914Z"
   },
   {
    "duration": 0,
    "start_time": "2024-03-04T11:01:45.915Z"
   },
   {
    "duration": 0,
    "start_time": "2024-03-04T11:01:45.916Z"
   },
   {
    "duration": 0,
    "start_time": "2024-03-04T11:01:45.917Z"
   },
   {
    "duration": 0,
    "start_time": "2024-03-04T11:01:45.918Z"
   },
   {
    "duration": 0,
    "start_time": "2024-03-04T11:01:45.919Z"
   },
   {
    "duration": 0,
    "start_time": "2024-03-04T11:01:45.920Z"
   },
   {
    "duration": 0,
    "start_time": "2024-03-04T11:01:45.920Z"
   },
   {
    "duration": 0,
    "start_time": "2024-03-04T11:01:45.921Z"
   },
   {
    "duration": 0,
    "start_time": "2024-03-04T11:01:45.922Z"
   },
   {
    "duration": 0,
    "start_time": "2024-03-04T11:01:45.924Z"
   },
   {
    "duration": 0,
    "start_time": "2024-03-04T11:01:45.924Z"
   },
   {
    "duration": 0,
    "start_time": "2024-03-04T11:01:45.925Z"
   },
   {
    "duration": 0,
    "start_time": "2024-03-04T11:01:45.926Z"
   },
   {
    "duration": 0,
    "start_time": "2024-03-04T11:01:45.927Z"
   },
   {
    "duration": 0,
    "start_time": "2024-03-04T11:01:45.928Z"
   },
   {
    "duration": 3,
    "start_time": "2024-03-04T11:02:12.903Z"
   },
   {
    "duration": 3,
    "start_time": "2024-03-04T11:03:55.713Z"
   },
   {
    "duration": 3,
    "start_time": "2024-03-04T11:04:46.592Z"
   },
   {
    "duration": 3,
    "start_time": "2024-03-04T11:05:28.504Z"
   },
   {
    "duration": 3,
    "start_time": "2024-03-04T11:07:59.017Z"
   },
   {
    "duration": 3,
    "start_time": "2024-03-04T11:08:47.109Z"
   },
   {
    "duration": 3,
    "start_time": "2024-03-04T11:10:44.034Z"
   },
   {
    "duration": 3,
    "start_time": "2024-03-04T11:10:45.413Z"
   },
   {
    "duration": 3,
    "start_time": "2024-03-04T11:11:43.949Z"
   },
   {
    "duration": 72,
    "start_time": "2024-03-04T11:12:43.083Z"
   },
   {
    "duration": 4,
    "start_time": "2024-03-04T11:13:01.677Z"
   },
   {
    "duration": 3,
    "start_time": "2024-03-04T11:13:28.890Z"
   },
   {
    "duration": 4,
    "start_time": "2024-03-04T11:13:35.663Z"
   },
   {
    "duration": 4,
    "start_time": "2024-03-04T11:14:36.335Z"
   },
   {
    "duration": 1007,
    "start_time": "2024-03-04T11:23:32.986Z"
   },
   {
    "duration": 141,
    "start_time": "2024-03-04T11:23:33.994Z"
   },
   {
    "duration": 10,
    "start_time": "2024-03-04T11:23:34.137Z"
   },
   {
    "duration": 19,
    "start_time": "2024-03-04T11:23:34.156Z"
   },
   {
    "duration": 7,
    "start_time": "2024-03-04T11:23:34.176Z"
   },
   {
    "duration": 25,
    "start_time": "2024-03-04T11:23:34.184Z"
   },
   {
    "duration": 19,
    "start_time": "2024-03-04T11:23:34.210Z"
   },
   {
    "duration": 16,
    "start_time": "2024-03-04T11:23:34.230Z"
   },
   {
    "duration": 15,
    "start_time": "2024-03-04T11:23:34.247Z"
   },
   {
    "duration": 58,
    "start_time": "2024-03-04T11:23:34.264Z"
   },
   {
    "duration": 68,
    "start_time": "2024-03-04T11:23:34.324Z"
   },
   {
    "duration": 48,
    "start_time": "2024-03-04T11:23:34.393Z"
   },
   {
    "duration": 61,
    "start_time": "2024-03-04T11:23:34.443Z"
   },
   {
    "duration": 8,
    "start_time": "2024-03-04T11:23:34.506Z"
   },
   {
    "duration": 46,
    "start_time": "2024-03-04T11:23:34.515Z"
   },
   {
    "duration": 9,
    "start_time": "2024-03-04T11:23:34.563Z"
   },
   {
    "duration": 15,
    "start_time": "2024-03-04T11:23:34.574Z"
   },
   {
    "duration": 6,
    "start_time": "2024-03-04T11:23:34.590Z"
   },
   {
    "duration": 15,
    "start_time": "2024-03-04T11:23:34.598Z"
   },
   {
    "duration": 13,
    "start_time": "2024-03-04T11:23:34.615Z"
   },
   {
    "duration": 65,
    "start_time": "2024-03-04T11:23:34.630Z"
   },
   {
    "duration": 260,
    "start_time": "2024-03-04T11:23:34.697Z"
   },
   {
    "duration": 31,
    "start_time": "2024-03-04T11:23:34.958Z"
   },
   {
    "duration": 10,
    "start_time": "2024-03-04T11:23:34.990Z"
   },
   {
    "duration": 30,
    "start_time": "2024-03-04T11:23:35.001Z"
   },
   {
    "duration": 3,
    "start_time": "2024-03-04T11:23:35.033Z"
   },
   {
    "duration": 4,
    "start_time": "2024-03-04T11:23:35.037Z"
   },
   {
    "duration": 39,
    "start_time": "2024-03-04T11:23:35.044Z"
   },
   {
    "duration": 20,
    "start_time": "2024-03-04T11:23:35.084Z"
   },
   {
    "duration": 30,
    "start_time": "2024-03-04T11:23:35.105Z"
   },
   {
    "duration": 52,
    "start_time": "2024-03-04T11:23:35.136Z"
   },
   {
    "duration": 8,
    "start_time": "2024-03-04T11:23:35.189Z"
   },
   {
    "duration": 8,
    "start_time": "2024-03-04T11:23:35.199Z"
   },
   {
    "duration": 12,
    "start_time": "2024-03-04T11:23:35.208Z"
   },
   {
    "duration": 19,
    "start_time": "2024-03-04T11:23:35.221Z"
   },
   {
    "duration": 7,
    "start_time": "2024-03-04T11:23:35.241Z"
   },
   {
    "duration": 29,
    "start_time": "2024-03-04T11:23:35.256Z"
   },
   {
    "duration": 73,
    "start_time": "2024-03-04T11:23:35.286Z"
   },
   {
    "duration": 30,
    "start_time": "2024-03-04T11:23:35.360Z"
   },
   {
    "duration": 4,
    "start_time": "2024-03-04T11:23:35.392Z"
   },
   {
    "duration": 6,
    "start_time": "2024-03-04T11:23:35.397Z"
   },
   {
    "duration": 11,
    "start_time": "2024-03-04T11:23:35.404Z"
   },
   {
    "duration": 11,
    "start_time": "2024-03-04T11:23:35.416Z"
   },
   {
    "duration": 30,
    "start_time": "2024-03-04T11:23:35.428Z"
   },
   {
    "duration": 8,
    "start_time": "2024-03-04T11:23:35.460Z"
   },
   {
    "duration": 19,
    "start_time": "2024-03-04T11:23:35.470Z"
   },
   {
    "duration": 54,
    "start_time": "2024-03-04T11:24:35.022Z"
   },
   {
    "duration": 23,
    "start_time": "2024-03-04T11:24:54.640Z"
   },
   {
    "duration": 47,
    "start_time": "2024-03-04T11:28:55.148Z"
   },
   {
    "duration": 49,
    "start_time": "2024-03-04T11:28:55.790Z"
   },
   {
    "duration": 8,
    "start_time": "2024-03-04T11:28:56.464Z"
   },
   {
    "duration": 24,
    "start_time": "2024-03-04T11:29:49.389Z"
   },
   {
    "duration": 50,
    "start_time": "2024-03-04T11:30:40.486Z"
   },
   {
    "duration": 8,
    "start_time": "2024-03-04T11:30:41.316Z"
   },
   {
    "duration": 29,
    "start_time": "2024-03-04T11:33:40.271Z"
   },
   {
    "duration": 9,
    "start_time": "2024-03-04T11:33:40.825Z"
   },
   {
    "duration": 23,
    "start_time": "2024-03-04T11:33:47.464Z"
   },
   {
    "duration": 25,
    "start_time": "2024-03-04T11:33:47.834Z"
   },
   {
    "duration": 8,
    "start_time": "2024-03-04T11:33:48.365Z"
   },
   {
    "duration": 8,
    "start_time": "2024-03-04T11:34:03.606Z"
   },
   {
    "duration": 48,
    "start_time": "2024-03-04T11:34:28.044Z"
   },
   {
    "duration": 9,
    "start_time": "2024-03-04T11:34:30.199Z"
   },
   {
    "duration": 992,
    "start_time": "2024-03-04T11:36:32.214Z"
   },
   {
    "duration": 134,
    "start_time": "2024-03-04T11:36:33.208Z"
   },
   {
    "duration": 9,
    "start_time": "2024-03-04T11:36:33.344Z"
   },
   {
    "duration": 18,
    "start_time": "2024-03-04T11:36:33.354Z"
   },
   {
    "duration": 10,
    "start_time": "2024-03-04T11:36:33.373Z"
   },
   {
    "duration": 7,
    "start_time": "2024-03-04T11:36:33.384Z"
   },
   {
    "duration": 11,
    "start_time": "2024-03-04T11:36:33.392Z"
   },
   {
    "duration": 15,
    "start_time": "2024-03-04T11:36:33.404Z"
   },
   {
    "duration": 12,
    "start_time": "2024-03-04T11:36:33.420Z"
   },
   {
    "duration": 73,
    "start_time": "2024-03-04T11:36:33.434Z"
   },
   {
    "duration": 61,
    "start_time": "2024-03-04T11:36:33.508Z"
   },
   {
    "duration": 47,
    "start_time": "2024-03-04T11:36:33.570Z"
   },
   {
    "duration": 59,
    "start_time": "2024-03-04T11:36:33.618Z"
   },
   {
    "duration": 17,
    "start_time": "2024-03-04T11:36:33.679Z"
   },
   {
    "duration": 41,
    "start_time": "2024-03-04T11:36:33.697Z"
   },
   {
    "duration": 9,
    "start_time": "2024-03-04T11:36:33.740Z"
   },
   {
    "duration": 13,
    "start_time": "2024-03-04T11:36:33.750Z"
   },
   {
    "duration": 8,
    "start_time": "2024-03-04T11:36:33.764Z"
   },
   {
    "duration": 25,
    "start_time": "2024-03-04T11:36:33.773Z"
   },
   {
    "duration": 17,
    "start_time": "2024-03-04T11:36:33.799Z"
   },
   {
    "duration": 52,
    "start_time": "2024-03-04T11:36:33.817Z"
   },
   {
    "duration": 242,
    "start_time": "2024-03-04T11:36:33.871Z"
   },
   {
    "duration": 27,
    "start_time": "2024-03-04T11:36:34.115Z"
   },
   {
    "duration": 28,
    "start_time": "2024-03-04T11:36:34.143Z"
   },
   {
    "duration": 8,
    "start_time": "2024-03-04T11:36:34.172Z"
   },
   {
    "duration": 15,
    "start_time": "2024-03-04T11:36:34.181Z"
   },
   {
    "duration": 9,
    "start_time": "2024-03-04T11:36:34.197Z"
   },
   {
    "duration": 30,
    "start_time": "2024-03-04T11:36:34.209Z"
   },
   {
    "duration": 21,
    "start_time": "2024-03-04T11:36:34.240Z"
   },
   {
    "duration": 54,
    "start_time": "2024-03-04T11:36:34.262Z"
   },
   {
    "duration": 107,
    "start_time": "2024-03-04T11:36:34.317Z"
   },
   {
    "duration": 0,
    "start_time": "2024-03-04T11:36:34.425Z"
   },
   {
    "duration": 0,
    "start_time": "2024-03-04T11:36:34.426Z"
   },
   {
    "duration": 0,
    "start_time": "2024-03-04T11:36:34.426Z"
   },
   {
    "duration": 0,
    "start_time": "2024-03-04T11:36:34.427Z"
   },
   {
    "duration": 0,
    "start_time": "2024-03-04T11:36:34.428Z"
   },
   {
    "duration": 0,
    "start_time": "2024-03-04T11:36:34.429Z"
   },
   {
    "duration": 0,
    "start_time": "2024-03-04T11:36:34.430Z"
   },
   {
    "duration": 0,
    "start_time": "2024-03-04T11:36:34.431Z"
   },
   {
    "duration": 0,
    "start_time": "2024-03-04T11:36:34.432Z"
   },
   {
    "duration": 0,
    "start_time": "2024-03-04T11:36:34.433Z"
   },
   {
    "duration": 0,
    "start_time": "2024-03-04T11:36:34.434Z"
   },
   {
    "duration": 0,
    "start_time": "2024-03-04T11:36:34.434Z"
   },
   {
    "duration": 0,
    "start_time": "2024-03-04T11:36:34.435Z"
   },
   {
    "duration": 7,
    "start_time": "2024-03-04T11:36:57.621Z"
   },
   {
    "duration": 5,
    "start_time": "2024-03-04T11:39:45.322Z"
   },
   {
    "duration": 8,
    "start_time": "2024-03-04T11:39:45.827Z"
   },
   {
    "duration": 4,
    "start_time": "2024-03-04T11:39:58.481Z"
   },
   {
    "duration": 8,
    "start_time": "2024-03-04T11:40:11.675Z"
   },
   {
    "duration": 57,
    "start_time": "2024-03-04T11:41:29.020Z"
   },
   {
    "duration": 8,
    "start_time": "2024-03-04T11:42:01.438Z"
   },
   {
    "duration": 6,
    "start_time": "2024-03-04T11:42:06.906Z"
   },
   {
    "duration": 7,
    "start_time": "2024-03-04T11:42:07.198Z"
   },
   {
    "duration": 8,
    "start_time": "2024-03-04T11:42:29.958Z"
   },
   {
    "duration": 5,
    "start_time": "2024-03-04T11:47:18.925Z"
   },
   {
    "duration": 7,
    "start_time": "2024-03-04T11:47:19.162Z"
   },
   {
    "duration": 79,
    "start_time": "2024-03-04T11:48:19.163Z"
   },
   {
    "duration": 10,
    "start_time": "2024-03-04T11:48:32.325Z"
   },
   {
    "duration": 8,
    "start_time": "2024-03-04T11:49:25.169Z"
   },
   {
    "duration": 1219,
    "start_time": "2024-03-04T11:49:39.751Z"
   },
   {
    "duration": 12,
    "start_time": "2024-03-04T11:50:04.064Z"
   },
   {
    "duration": 7,
    "start_time": "2024-03-04T11:50:21.672Z"
   },
   {
    "duration": 4,
    "start_time": "2024-03-04T11:50:46.516Z"
   },
   {
    "duration": 8,
    "start_time": "2024-03-04T11:51:04.518Z"
   },
   {
    "duration": 4,
    "start_time": "2024-03-04T11:51:05.026Z"
   },
   {
    "duration": 59,
    "start_time": "2024-03-04T11:52:08.560Z"
   },
   {
    "duration": 55,
    "start_time": "2024-03-04T11:52:17.239Z"
   },
   {
    "duration": 1064,
    "start_time": "2024-03-04T19:56:11.947Z"
   },
   {
    "duration": 166,
    "start_time": "2024-03-04T19:56:13.013Z"
   },
   {
    "duration": 12,
    "start_time": "2024-03-04T19:56:13.181Z"
   },
   {
    "duration": 32,
    "start_time": "2024-03-04T19:56:13.195Z"
   },
   {
    "duration": 7,
    "start_time": "2024-03-04T19:56:13.228Z"
   },
   {
    "duration": 26,
    "start_time": "2024-03-04T19:56:13.236Z"
   },
   {
    "duration": 15,
    "start_time": "2024-03-04T19:56:13.264Z"
   },
   {
    "duration": 35,
    "start_time": "2024-03-04T19:56:13.280Z"
   },
   {
    "duration": 20,
    "start_time": "2024-03-04T19:56:13.317Z"
   },
   {
    "duration": 86,
    "start_time": "2024-03-04T19:56:13.340Z"
   },
   {
    "duration": 67,
    "start_time": "2024-03-04T19:56:13.428Z"
   },
   {
    "duration": 49,
    "start_time": "2024-03-04T19:56:13.496Z"
   },
   {
    "duration": 78,
    "start_time": "2024-03-04T19:56:13.547Z"
   },
   {
    "duration": 29,
    "start_time": "2024-03-04T19:56:13.627Z"
   },
   {
    "duration": 42,
    "start_time": "2024-03-04T19:56:13.658Z"
   },
   {
    "duration": 13,
    "start_time": "2024-03-04T19:56:13.701Z"
   },
   {
    "duration": 20,
    "start_time": "2024-03-04T19:56:13.715Z"
   },
   {
    "duration": 47,
    "start_time": "2024-03-04T19:56:13.736Z"
   },
   {
    "duration": 45,
    "start_time": "2024-03-04T19:56:13.784Z"
   },
   {
    "duration": 80,
    "start_time": "2024-03-04T19:56:13.831Z"
   },
   {
    "duration": 97,
    "start_time": "2024-03-04T19:56:13.914Z"
   },
   {
    "duration": 271,
    "start_time": "2024-03-04T19:56:14.013Z"
   },
   {
    "duration": 35,
    "start_time": "2024-03-04T19:56:14.285Z"
   },
   {
    "duration": 22,
    "start_time": "2024-03-04T19:56:14.322Z"
   },
   {
    "duration": 46,
    "start_time": "2024-03-04T19:56:14.345Z"
   },
   {
    "duration": 11,
    "start_time": "2024-03-04T19:56:14.393Z"
   },
   {
    "duration": 34,
    "start_time": "2024-03-04T19:56:14.406Z"
   },
   {
    "duration": 52,
    "start_time": "2024-03-04T19:56:14.443Z"
   },
   {
    "duration": 26,
    "start_time": "2024-03-04T19:56:14.497Z"
   },
   {
    "duration": 94,
    "start_time": "2024-03-04T19:56:14.524Z"
   },
   {
    "duration": 5,
    "start_time": "2024-03-04T19:56:14.620Z"
   },
   {
    "duration": 39,
    "start_time": "2024-03-04T19:56:14.626Z"
   },
   {
    "duration": 56,
    "start_time": "2024-03-04T19:56:14.666Z"
   },
   {
    "duration": 30,
    "start_time": "2024-03-04T19:56:14.723Z"
   },
   {
    "duration": 12,
    "start_time": "2024-03-04T19:56:14.754Z"
   },
   {
    "duration": 33,
    "start_time": "2024-03-04T19:56:14.767Z"
   },
   {
    "duration": 48,
    "start_time": "2024-03-04T19:56:14.802Z"
   },
   {
    "duration": 72,
    "start_time": "2024-03-04T19:56:14.851Z"
   },
   {
    "duration": 34,
    "start_time": "2024-03-04T19:56:14.924Z"
   },
   {
    "duration": 8,
    "start_time": "2024-03-04T19:56:14.960Z"
   },
   {
    "duration": 26,
    "start_time": "2024-03-04T19:56:14.969Z"
   },
   {
    "duration": 102,
    "start_time": "2024-03-04T19:56:14.997Z"
   },
   {
    "duration": 148,
    "start_time": "2024-03-04T19:56:15.100Z"
   },
   {
    "duration": 242,
    "start_time": "2024-03-04T19:56:15.249Z"
   },
   {
    "duration": 135,
    "start_time": "2024-03-04T19:56:15.492Z"
   },
   {
    "duration": 101,
    "start_time": "2024-03-04T19:56:15.628Z"
   },
   {
    "duration": 1137,
    "start_time": "2024-03-04T20:09:16.719Z"
   },
   {
    "duration": 199,
    "start_time": "2024-03-04T20:09:17.858Z"
   },
   {
    "duration": 10,
    "start_time": "2024-03-04T20:09:18.058Z"
   },
   {
    "duration": 62,
    "start_time": "2024-03-04T20:09:18.070Z"
   },
   {
    "duration": 20,
    "start_time": "2024-03-04T20:09:18.135Z"
   },
   {
    "duration": 15,
    "start_time": "2024-03-04T20:09:18.157Z"
   },
   {
    "duration": 34,
    "start_time": "2024-03-04T20:09:18.174Z"
   },
   {
    "duration": 36,
    "start_time": "2024-03-04T20:09:18.212Z"
   },
   {
    "duration": 33,
    "start_time": "2024-03-04T20:09:18.250Z"
   },
   {
    "duration": 74,
    "start_time": "2024-03-04T20:09:18.285Z"
   },
   {
    "duration": 63,
    "start_time": "2024-03-04T20:09:18.361Z"
   },
   {
    "duration": 55,
    "start_time": "2024-03-04T20:09:18.426Z"
   },
   {
    "duration": 90,
    "start_time": "2024-03-04T20:09:18.482Z"
   },
   {
    "duration": 20,
    "start_time": "2024-03-04T20:09:18.575Z"
   },
   {
    "duration": 63,
    "start_time": "2024-03-04T20:09:18.600Z"
   },
   {
    "duration": 13,
    "start_time": "2024-03-04T20:09:18.665Z"
   },
   {
    "duration": 32,
    "start_time": "2024-03-04T20:09:18.679Z"
   },
   {
    "duration": 5,
    "start_time": "2024-03-04T20:09:18.712Z"
   },
   {
    "duration": 23,
    "start_time": "2024-03-04T20:09:18.718Z"
   },
   {
    "duration": 20,
    "start_time": "2024-03-04T20:09:18.743Z"
   },
   {
    "duration": 74,
    "start_time": "2024-03-04T20:09:18.765Z"
   },
   {
    "duration": 302,
    "start_time": "2024-03-04T20:09:18.840Z"
   },
   {
    "duration": 32,
    "start_time": "2024-03-04T20:09:19.144Z"
   },
   {
    "duration": 32,
    "start_time": "2024-03-04T20:09:19.177Z"
   },
   {
    "duration": 7,
    "start_time": "2024-03-04T20:09:19.211Z"
   },
   {
    "duration": 21,
    "start_time": "2024-03-04T20:09:19.219Z"
   },
   {
    "duration": 9,
    "start_time": "2024-03-04T20:09:19.242Z"
   },
   {
    "duration": 61,
    "start_time": "2024-03-04T20:09:19.253Z"
   },
   {
    "duration": 26,
    "start_time": "2024-03-04T20:09:19.316Z"
   },
   {
    "duration": 76,
    "start_time": "2024-03-04T20:09:19.343Z"
   },
   {
    "duration": 6,
    "start_time": "2024-03-04T20:09:19.421Z"
   },
   {
    "duration": 12,
    "start_time": "2024-03-04T20:09:19.428Z"
   },
   {
    "duration": 11,
    "start_time": "2024-03-04T20:09:19.442Z"
   },
   {
    "duration": 46,
    "start_time": "2024-03-04T20:09:19.455Z"
   },
   {
    "duration": 11,
    "start_time": "2024-03-04T20:09:19.508Z"
   },
   {
    "duration": 14,
    "start_time": "2024-03-04T20:09:19.520Z"
   },
   {
    "duration": 36,
    "start_time": "2024-03-04T20:09:19.536Z"
   },
   {
    "duration": 72,
    "start_time": "2024-03-04T20:09:19.573Z"
   },
   {
    "duration": 34,
    "start_time": "2024-03-04T20:09:19.646Z"
   },
   {
    "duration": 16,
    "start_time": "2024-03-04T20:09:19.682Z"
   },
   {
    "duration": 21,
    "start_time": "2024-03-04T20:09:19.704Z"
   },
   {
    "duration": 20,
    "start_time": "2024-03-04T20:09:19.726Z"
   },
   {
    "duration": 7,
    "start_time": "2024-03-04T20:09:19.747Z"
   },
   {
    "duration": 10,
    "start_time": "2024-03-04T20:09:19.756Z"
   },
   {
    "duration": 16,
    "start_time": "2024-03-04T20:09:19.767Z"
   },
   {
    "duration": 22,
    "start_time": "2024-03-04T20:09:19.784Z"
   },
   {
    "duration": 1134,
    "start_time": "2024-03-04T20:11:35.668Z"
   },
   {
    "duration": 178,
    "start_time": "2024-03-04T20:11:36.804Z"
   },
   {
    "duration": 10,
    "start_time": "2024-03-04T20:11:36.984Z"
   },
   {
    "duration": 25,
    "start_time": "2024-03-04T20:11:37.001Z"
   },
   {
    "duration": 6,
    "start_time": "2024-03-04T20:11:37.029Z"
   },
   {
    "duration": 19,
    "start_time": "2024-03-04T20:11:37.036Z"
   },
   {
    "duration": 33,
    "start_time": "2024-03-04T20:11:37.057Z"
   },
   {
    "duration": 29,
    "start_time": "2024-03-04T20:11:37.091Z"
   },
   {
    "duration": 19,
    "start_time": "2024-03-04T20:11:37.121Z"
   },
   {
    "duration": 76,
    "start_time": "2024-03-04T20:11:37.141Z"
   },
   {
    "duration": 61,
    "start_time": "2024-03-04T20:11:37.218Z"
   },
   {
    "duration": 65,
    "start_time": "2024-03-04T20:11:37.281Z"
   },
   {
    "duration": 99,
    "start_time": "2024-03-04T20:11:37.347Z"
   },
   {
    "duration": 20,
    "start_time": "2024-03-04T20:11:37.449Z"
   },
   {
    "duration": 61,
    "start_time": "2024-03-04T20:11:37.471Z"
   },
   {
    "duration": 12,
    "start_time": "2024-03-04T20:11:37.534Z"
   },
   {
    "duration": 17,
    "start_time": "2024-03-04T20:11:37.547Z"
   },
   {
    "duration": 42,
    "start_time": "2024-03-04T20:11:37.566Z"
   },
   {
    "duration": 28,
    "start_time": "2024-03-04T20:11:37.609Z"
   },
   {
    "duration": 37,
    "start_time": "2024-03-04T20:11:37.639Z"
   },
   {
    "duration": 66,
    "start_time": "2024-03-04T20:11:37.678Z"
   },
   {
    "duration": 281,
    "start_time": "2024-03-04T20:11:37.745Z"
   },
   {
    "duration": 31,
    "start_time": "2024-03-04T20:11:38.028Z"
   },
   {
    "duration": 56,
    "start_time": "2024-03-04T20:11:38.061Z"
   },
   {
    "duration": 21,
    "start_time": "2024-03-04T20:11:38.118Z"
   },
   {
    "duration": 4,
    "start_time": "2024-03-04T20:11:38.141Z"
   },
   {
    "duration": 10,
    "start_time": "2024-03-04T20:11:38.146Z"
   },
   {
    "duration": 38,
    "start_time": "2024-03-04T20:11:38.157Z"
   },
   {
    "duration": 30,
    "start_time": "2024-03-04T20:11:38.197Z"
   },
   {
    "duration": 79,
    "start_time": "2024-03-04T20:11:38.228Z"
   },
   {
    "duration": 5,
    "start_time": "2024-03-04T20:11:38.309Z"
   },
   {
    "duration": 18,
    "start_time": "2024-03-04T20:11:38.315Z"
   },
   {
    "duration": 11,
    "start_time": "2024-03-04T20:11:38.335Z"
   },
   {
    "duration": 17,
    "start_time": "2024-03-04T20:11:38.347Z"
   },
   {
    "duration": 13,
    "start_time": "2024-03-04T20:11:38.365Z"
   },
   {
    "duration": 17,
    "start_time": "2024-03-04T20:11:38.380Z"
   },
   {
    "duration": 36,
    "start_time": "2024-03-04T20:11:38.399Z"
   },
   {
    "duration": 83,
    "start_time": "2024-03-04T20:11:38.437Z"
   },
   {
    "duration": 33,
    "start_time": "2024-03-04T20:11:38.521Z"
   },
   {
    "duration": 4,
    "start_time": "2024-03-04T20:11:38.555Z"
   },
   {
    "duration": 28,
    "start_time": "2024-03-04T20:11:38.562Z"
   },
   {
    "duration": 52,
    "start_time": "2024-03-04T20:11:38.591Z"
   },
   {
    "duration": 15,
    "start_time": "2024-03-04T20:11:38.644Z"
   },
   {
    "duration": 44,
    "start_time": "2024-03-04T20:11:38.660Z"
   },
   {
    "duration": 14,
    "start_time": "2024-03-04T20:11:38.706Z"
   },
   {
    "duration": 36,
    "start_time": "2024-03-04T20:11:38.721Z"
   },
   {
    "duration": 42,
    "start_time": "2024-03-04T20:16:43.645Z"
   },
   {
    "duration": 1202,
    "start_time": "2024-03-04T20:16:50.060Z"
   },
   {
    "duration": 453,
    "start_time": "2024-03-04T20:16:51.265Z"
   },
   {
    "duration": 9,
    "start_time": "2024-03-04T20:16:51.720Z"
   },
   {
    "duration": 30,
    "start_time": "2024-03-04T20:16:51.730Z"
   },
   {
    "duration": 7,
    "start_time": "2024-03-04T20:16:51.761Z"
   },
   {
    "duration": 11,
    "start_time": "2024-03-04T20:16:51.770Z"
   },
   {
    "duration": 14,
    "start_time": "2024-03-04T20:16:51.782Z"
   },
   {
    "duration": 18,
    "start_time": "2024-03-04T20:16:51.798Z"
   },
   {
    "duration": 25,
    "start_time": "2024-03-04T20:16:51.818Z"
   },
   {
    "duration": 63,
    "start_time": "2024-03-04T20:16:51.845Z"
   },
   {
    "duration": 56,
    "start_time": "2024-03-04T20:16:51.909Z"
   },
   {
    "duration": 55,
    "start_time": "2024-03-04T20:16:51.966Z"
   },
   {
    "duration": 51,
    "start_time": "2024-03-04T20:16:52.023Z"
   },
   {
    "duration": 16,
    "start_time": "2024-03-04T20:16:52.075Z"
   },
   {
    "duration": 39,
    "start_time": "2024-03-04T20:16:52.093Z"
   },
   {
    "duration": 10,
    "start_time": "2024-03-04T20:16:52.133Z"
   },
   {
    "duration": 13,
    "start_time": "2024-03-04T20:16:52.144Z"
   },
   {
    "duration": 8,
    "start_time": "2024-03-04T20:16:52.158Z"
   },
   {
    "duration": 30,
    "start_time": "2024-03-04T20:16:52.168Z"
   },
   {
    "duration": 30,
    "start_time": "2024-03-04T20:16:52.199Z"
   },
   {
    "duration": 66,
    "start_time": "2024-03-04T20:16:52.230Z"
   },
   {
    "duration": 252,
    "start_time": "2024-03-04T20:16:52.297Z"
   },
   {
    "duration": 30,
    "start_time": "2024-03-04T20:16:52.551Z"
   },
   {
    "duration": 20,
    "start_time": "2024-03-04T20:16:52.582Z"
   },
   {
    "duration": 6,
    "start_time": "2024-03-04T20:16:52.604Z"
   },
   {
    "duration": 13,
    "start_time": "2024-03-04T20:16:52.611Z"
   },
   {
    "duration": 12,
    "start_time": "2024-03-04T20:16:52.625Z"
   },
   {
    "duration": 39,
    "start_time": "2024-03-04T20:16:52.640Z"
   },
   {
    "duration": 19,
    "start_time": "2024-03-04T20:16:52.680Z"
   },
   {
    "duration": 55,
    "start_time": "2024-03-04T20:16:52.701Z"
   },
   {
    "duration": 5,
    "start_time": "2024-03-04T20:16:52.757Z"
   },
   {
    "duration": 8,
    "start_time": "2024-03-04T20:16:52.763Z"
   },
   {
    "duration": 9,
    "start_time": "2024-03-04T20:16:52.772Z"
   },
   {
    "duration": 27,
    "start_time": "2024-03-04T20:16:52.782Z"
   },
   {
    "duration": 31,
    "start_time": "2024-03-04T20:16:52.810Z"
   },
   {
    "duration": 19,
    "start_time": "2024-03-04T20:16:52.842Z"
   },
   {
    "duration": 48,
    "start_time": "2024-03-04T20:16:52.862Z"
   },
   {
    "duration": 61,
    "start_time": "2024-03-04T20:16:52.911Z"
   },
   {
    "duration": 41,
    "start_time": "2024-03-04T20:16:52.973Z"
   },
   {
    "duration": 4,
    "start_time": "2024-03-04T20:16:53.015Z"
   },
   {
    "duration": 50,
    "start_time": "2024-03-04T20:16:53.020Z"
   },
   {
    "duration": 21,
    "start_time": "2024-03-04T20:16:53.071Z"
   },
   {
    "duration": 21,
    "start_time": "2024-03-04T20:16:53.094Z"
   },
   {
    "duration": 8,
    "start_time": "2024-03-04T20:16:53.116Z"
   },
   {
    "duration": 20,
    "start_time": "2024-03-04T20:16:53.125Z"
   },
   {
    "duration": 16,
    "start_time": "2024-03-04T20:16:53.146Z"
   },
   {
    "duration": 3,
    "start_time": "2024-03-04T20:18:35.051Z"
   },
   {
    "duration": 1191,
    "start_time": "2024-03-05T13:06:02.293Z"
   },
   {
    "duration": 734,
    "start_time": "2024-03-05T13:06:03.486Z"
   },
   {
    "duration": 10,
    "start_time": "2024-03-05T13:06:04.222Z"
   },
   {
    "duration": 48,
    "start_time": "2024-03-05T13:06:04.234Z"
   },
   {
    "duration": 7,
    "start_time": "2024-03-05T13:06:04.284Z"
   },
   {
    "duration": 14,
    "start_time": "2024-03-05T13:06:04.292Z"
   },
   {
    "duration": 29,
    "start_time": "2024-03-05T13:06:04.307Z"
   },
   {
    "duration": 31,
    "start_time": "2024-03-05T13:06:04.338Z"
   },
   {
    "duration": 24,
    "start_time": "2024-03-05T13:06:04.371Z"
   },
   {
    "duration": 109,
    "start_time": "2024-03-05T13:06:04.398Z"
   },
   {
    "duration": 66,
    "start_time": "2024-03-05T13:06:04.509Z"
   },
   {
    "duration": 56,
    "start_time": "2024-03-05T13:06:04.577Z"
   },
   {
    "duration": 83,
    "start_time": "2024-03-05T13:06:04.635Z"
   },
   {
    "duration": 27,
    "start_time": "2024-03-05T13:06:04.720Z"
   },
   {
    "duration": 54,
    "start_time": "2024-03-05T13:06:04.749Z"
   },
   {
    "duration": 14,
    "start_time": "2024-03-05T13:06:04.804Z"
   },
   {
    "duration": 36,
    "start_time": "2024-03-05T13:06:04.819Z"
   },
   {
    "duration": 7,
    "start_time": "2024-03-05T13:06:04.856Z"
   },
   {
    "duration": 38,
    "start_time": "2024-03-05T13:06:04.864Z"
   },
   {
    "duration": 25,
    "start_time": "2024-03-05T13:06:04.903Z"
   },
   {
    "duration": 63,
    "start_time": "2024-03-05T13:06:04.929Z"
   },
   {
    "duration": 300,
    "start_time": "2024-03-05T13:06:04.994Z"
   },
   {
    "duration": 34,
    "start_time": "2024-03-05T13:06:05.295Z"
   },
   {
    "duration": 14,
    "start_time": "2024-03-05T13:06:05.331Z"
   },
   {
    "duration": 28,
    "start_time": "2024-03-05T13:06:05.346Z"
   },
   {
    "duration": 4,
    "start_time": "2024-03-05T13:06:05.375Z"
   },
   {
    "duration": 6,
    "start_time": "2024-03-05T13:06:05.381Z"
   },
   {
    "duration": 38,
    "start_time": "2024-03-05T13:06:05.391Z"
   },
   {
    "duration": 41,
    "start_time": "2024-03-05T13:06:05.431Z"
   },
   {
    "duration": 85,
    "start_time": "2024-03-05T13:06:05.474Z"
   },
   {
    "duration": 6,
    "start_time": "2024-03-05T13:06:05.570Z"
   },
   {
    "duration": 9,
    "start_time": "2024-03-05T13:06:05.577Z"
   },
   {
    "duration": 10,
    "start_time": "2024-03-05T13:06:05.587Z"
   },
   {
    "duration": 16,
    "start_time": "2024-03-05T13:06:05.599Z"
   },
   {
    "duration": 14,
    "start_time": "2024-03-05T13:06:05.617Z"
   },
   {
    "duration": 29,
    "start_time": "2024-03-05T13:06:05.632Z"
   },
   {
    "duration": 38,
    "start_time": "2024-03-05T13:06:05.663Z"
   },
   {
    "duration": 87,
    "start_time": "2024-03-05T13:06:05.702Z"
   },
   {
    "duration": 37,
    "start_time": "2024-03-05T13:06:05.791Z"
   },
   {
    "duration": 5,
    "start_time": "2024-03-05T13:06:05.830Z"
   },
   {
    "duration": 15,
    "start_time": "2024-03-05T13:06:05.837Z"
   },
   {
    "duration": 26,
    "start_time": "2024-03-05T13:06:05.854Z"
   },
   {
    "duration": 9,
    "start_time": "2024-03-05T13:06:05.881Z"
   },
   {
    "duration": 8,
    "start_time": "2024-03-05T13:06:05.892Z"
   },
   {
    "duration": 17,
    "start_time": "2024-03-05T13:06:05.902Z"
   },
   {
    "duration": 12,
    "start_time": "2024-03-05T13:06:05.920Z"
   },
   {
    "duration": 1153,
    "start_time": "2024-03-05T13:12:44.837Z"
   },
   {
    "duration": 179,
    "start_time": "2024-03-05T13:12:45.992Z"
   },
   {
    "duration": 11,
    "start_time": "2024-03-05T13:12:46.173Z"
   },
   {
    "duration": 22,
    "start_time": "2024-03-05T13:12:46.185Z"
   },
   {
    "duration": 16,
    "start_time": "2024-03-05T13:12:46.209Z"
   },
   {
    "duration": 15,
    "start_time": "2024-03-05T13:12:46.227Z"
   },
   {
    "duration": 32,
    "start_time": "2024-03-05T13:12:46.243Z"
   },
   {
    "duration": 26,
    "start_time": "2024-03-05T13:12:46.277Z"
   },
   {
    "duration": 21,
    "start_time": "2024-03-05T13:12:46.305Z"
   },
   {
    "duration": 79,
    "start_time": "2024-03-05T13:12:46.328Z"
   },
   {
    "duration": 63,
    "start_time": "2024-03-05T13:12:46.409Z"
   },
   {
    "duration": 56,
    "start_time": "2024-03-05T13:12:46.474Z"
   },
   {
    "duration": 89,
    "start_time": "2024-03-05T13:12:46.532Z"
   },
   {
    "duration": 23,
    "start_time": "2024-03-05T13:12:46.622Z"
   },
   {
    "duration": 45,
    "start_time": "2024-03-05T13:12:46.646Z"
   },
   {
    "duration": 14,
    "start_time": "2024-03-05T13:12:46.692Z"
   },
   {
    "duration": 15,
    "start_time": "2024-03-05T13:12:46.708Z"
   },
   {
    "duration": 4,
    "start_time": "2024-03-05T13:12:46.724Z"
   },
   {
    "duration": 22,
    "start_time": "2024-03-05T13:12:46.729Z"
   },
   {
    "duration": 47,
    "start_time": "2024-03-05T13:12:46.770Z"
   },
   {
    "duration": 66,
    "start_time": "2024-03-05T13:12:46.819Z"
   },
   {
    "duration": 310,
    "start_time": "2024-03-05T13:12:46.886Z"
   },
   {
    "duration": 37,
    "start_time": "2024-03-05T13:12:47.198Z"
   },
   {
    "duration": 14,
    "start_time": "2024-03-05T13:12:47.236Z"
   },
   {
    "duration": 33,
    "start_time": "2024-03-05T13:12:47.251Z"
   },
   {
    "duration": 4,
    "start_time": "2024-03-05T13:12:47.285Z"
   },
   {
    "duration": 9,
    "start_time": "2024-03-05T13:12:47.290Z"
   },
   {
    "duration": 37,
    "start_time": "2024-03-05T13:12:47.302Z"
   },
   {
    "duration": 37,
    "start_time": "2024-03-05T13:12:47.340Z"
   },
   {
    "duration": 69,
    "start_time": "2024-03-05T13:12:47.379Z"
   },
   {
    "duration": 20,
    "start_time": "2024-03-05T13:12:47.449Z"
   },
   {
    "duration": 10,
    "start_time": "2024-03-05T13:12:47.471Z"
   },
   {
    "duration": 14,
    "start_time": "2024-03-05T13:12:47.482Z"
   },
   {
    "duration": 14,
    "start_time": "2024-03-05T13:12:47.497Z"
   },
   {
    "duration": 24,
    "start_time": "2024-03-05T13:12:47.512Z"
   },
   {
    "duration": 15,
    "start_time": "2024-03-05T13:12:47.537Z"
   },
   {
    "duration": 50,
    "start_time": "2024-03-05T13:12:47.554Z"
   },
   {
    "duration": 76,
    "start_time": "2024-03-05T13:12:47.605Z"
   },
   {
    "duration": 34,
    "start_time": "2024-03-05T13:12:47.682Z"
   },
   {
    "duration": 5,
    "start_time": "2024-03-05T13:12:47.718Z"
   },
   {
    "duration": 26,
    "start_time": "2024-03-05T13:12:47.724Z"
   },
   {
    "duration": 21,
    "start_time": "2024-03-05T13:12:47.751Z"
   },
   {
    "duration": 19,
    "start_time": "2024-03-05T13:12:47.774Z"
   },
   {
    "duration": 8,
    "start_time": "2024-03-05T13:12:47.795Z"
   },
   {
    "duration": 12,
    "start_time": "2024-03-05T13:12:47.804Z"
   },
   {
    "duration": 25,
    "start_time": "2024-03-05T13:12:47.817Z"
   }
  ],
  "kernelspec": {
   "display_name": "Python 3 (ipykernel)",
   "language": "python",
   "name": "python3"
  },
  "language_info": {
   "codemirror_mode": {
    "name": "ipython",
    "version": 3
   },
   "file_extension": ".py",
   "mimetype": "text/x-python",
   "name": "python",
   "nbconvert_exporter": "python",
   "pygments_lexer": "ipython3",
   "version": "3.11.7"
  },
  "toc": {
   "base_numbering": 1,
   "nav_menu": {},
   "number_sections": true,
   "sideBar": true,
   "skip_h1_title": true,
   "title_cell": "Содержание",
   "title_sidebar": "Contents",
   "toc_cell": true,
   "toc_position": {
    "height": "calc(100% - 180px)",
    "left": "10px",
    "top": "150px",
    "width": "279.263px"
   },
   "toc_section_display": true,
   "toc_window_display": true
  }
 },
 "nbformat": 4,
 "nbformat_minor": 2
}
